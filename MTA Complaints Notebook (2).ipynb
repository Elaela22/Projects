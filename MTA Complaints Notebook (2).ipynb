{
 "cells": [
  {
   "cell_type": "markdown",
   "id": "a8706b06",
   "metadata": {},
   "source": [
    "Import libraries and read in the turnstiles dataset, using SQLalchemy."
   ]
  },
  {
   "cell_type": "code",
   "execution_count": 15,
   "id": "5a925add",
   "metadata": {},
   "outputs": [
    {
     "name": "stdout",
     "output_type": "stream",
     "text": [
      "['mta_data']\n"
     ]
    }
   ],
   "source": [
    "from sqlalchemy import create_engine\n",
    "from sqlalchemy import inspect\n",
    "import pandas as pd\n",
    "import datetime\n",
    "import numpy as np\n",
    "import matplotlib.pyplot as plt\n",
    "import plotly.graph_objs as go\n",
    "%matplotlib inline\n",
    "\n",
    "engine = create_engine(\"sqlite:////Users/emmaalexander/Desktop/NBM_EDA_Student/mta_data.db\")\n",
    "insp = inspect(engine)\n",
    "print(insp.get_table_names())"
   ]
  },
  {
   "cell_type": "code",
   "execution_count": 75,
   "id": "3fb5a670",
   "metadata": {},
   "outputs": [
    {
     "name": "stdout",
     "output_type": "stream",
     "text": [
      "<class 'pandas.core.frame.DataFrame'>\n",
      "RangeIndex: 2676233 entries, 0 to 2676232\n",
      "Data columns (total 11 columns):\n",
      " #   Column    Dtype \n",
      "---  ------    ----- \n",
      " 0   C/A       object\n",
      " 1   UNIT      object\n",
      " 2   SCP       object\n",
      " 3   STATION   object\n",
      " 4   LINENAME  object\n",
      " 5   DIVISION  object\n",
      " 6   DATE      object\n",
      " 7   TIME      object\n",
      " 8   DESC      object\n",
      " 9   ENTRIES   int64 \n",
      " 10  EXITS     int64 \n",
      "dtypes: int64(2), object(9)\n",
      "memory usage: 224.6+ MB\n"
     ]
    }
   ],
   "source": [
    "turnstiles_df = pd.read_sql('SELECT * FROM mta_data WHERE DATE BETWEEN \"09/01/2019\" AND \"11/30/2019\" AND STATION IS NOT NULL', engine)\n",
    "turnstiles_df.info()"
   ]
  },
  {
   "cell_type": "markdown",
   "id": "2ea7eda8",
   "metadata": {},
   "source": [
    "Let's see what the average entry numbers are for each station per day in September, to get a sense of the data. (It's not going to be accurate, yet, because the entry data is cumulative - we'll deal with that later using pandas.)"
   ]
  },
  {
   "cell_type": "code",
   "execution_count": 331,
   "id": "06fd58c5",
   "metadata": {},
   "outputs": [
    {
     "data": {
      "text/html": [
       "<div>\n",
       "<style scoped>\n",
       "    .dataframe tbody tr th:only-of-type {\n",
       "        vertical-align: middle;\n",
       "    }\n",
       "\n",
       "    .dataframe tbody tr th {\n",
       "        vertical-align: top;\n",
       "    }\n",
       "\n",
       "    .dataframe thead th {\n",
       "        text-align: right;\n",
       "    }\n",
       "</style>\n",
       "<table border=\"1\" class=\"dataframe\">\n",
       "  <thead>\n",
       "    <tr style=\"text-align: right;\">\n",
       "      <th></th>\n",
       "      <th>STATION</th>\n",
       "      <th>DAILY AVERAGE</th>\n",
       "    </tr>\n",
       "  </thead>\n",
       "  <tbody>\n",
       "    <tr>\n",
       "      <th>0</th>\n",
       "      <td>183 ST</td>\n",
       "      <td>6.907415e+09</td>\n",
       "    </tr>\n",
       "    <tr>\n",
       "      <th>1</th>\n",
       "      <td>BAYCHESTER AV</td>\n",
       "      <td>4.145346e+09</td>\n",
       "    </tr>\n",
       "    <tr>\n",
       "      <th>2</th>\n",
       "      <td>225 ST</td>\n",
       "      <td>3.922964e+09</td>\n",
       "    </tr>\n",
       "    <tr>\n",
       "      <th>3</th>\n",
       "      <td>104 ST</td>\n",
       "      <td>3.238861e+09</td>\n",
       "    </tr>\n",
       "    <tr>\n",
       "      <th>4</th>\n",
       "      <td>3 AV 138 ST</td>\n",
       "      <td>3.089804e+09</td>\n",
       "    </tr>\n",
       "    <tr>\n",
       "      <th>5</th>\n",
       "      <td>182-183 STS</td>\n",
       "      <td>2.981947e+09</td>\n",
       "    </tr>\n",
       "    <tr>\n",
       "      <th>6</th>\n",
       "      <td>190 ST</td>\n",
       "      <td>2.907726e+09</td>\n",
       "    </tr>\n",
       "    <tr>\n",
       "      <th>7</th>\n",
       "      <td>HIGH ST</td>\n",
       "      <td>2.752835e+09</td>\n",
       "    </tr>\n",
       "    <tr>\n",
       "      <th>8</th>\n",
       "      <td>EASTCHSTER/DYRE</td>\n",
       "      <td>2.533665e+09</td>\n",
       "    </tr>\n",
       "    <tr>\n",
       "      <th>9</th>\n",
       "      <td>138/GRAND CONC</td>\n",
       "      <td>1.999901e+09</td>\n",
       "    </tr>\n",
       "  </tbody>\n",
       "</table>\n",
       "</div>"
      ],
      "text/plain": [
       "           STATION  DAILY AVERAGE\n",
       "0           183 ST   6.907415e+09\n",
       "1    BAYCHESTER AV   4.145346e+09\n",
       "2           225 ST   3.922964e+09\n",
       "3           104 ST   3.238861e+09\n",
       "4      3 AV 138 ST   3.089804e+09\n",
       "5      182-183 STS   2.981947e+09\n",
       "6           190 ST   2.907726e+09\n",
       "7          HIGH ST   2.752835e+09\n",
       "8  EASTCHSTER/DYRE   2.533665e+09\n",
       "9   138/GRAND CONC   1.999901e+09"
      ]
     },
     "execution_count": 331,
     "metadata": {},
     "output_type": "execute_result"
    }
   ],
   "source": [
    "average_traffic = pd.read_sql('SELECT STATION, AVG(SUM) AS \"DAILY AVERAGE\" FROM (SELECT *, SUM(ENTRIES) AS \"SUM\" FROM mta_data GROUP BY STATION,\"C/A\",UNIT, SCP,DATE HAVING DATE BETWEEN \"09/01/2019\" AND \"09/30/2019\")GROUP BY STATION ORDER BY AVG(ENTRIES) DESC', engine)\n",
    "average_traffic.head(10)"
   ]
  },
  {
   "cell_type": "markdown",
   "id": "f3f24375",
   "metadata": {},
   "source": [
    "Clean up column names."
   ]
  },
  {
   "cell_type": "code",
   "execution_count": 78,
   "id": "ba24dda6",
   "metadata": {},
   "outputs": [
    {
     "data": {
      "text/html": [
       "<div>\n",
       "<style scoped>\n",
       "    .dataframe tbody tr th:only-of-type {\n",
       "        vertical-align: middle;\n",
       "    }\n",
       "\n",
       "    .dataframe tbody tr th {\n",
       "        vertical-align: top;\n",
       "    }\n",
       "\n",
       "    .dataframe thead th {\n",
       "        text-align: right;\n",
       "    }\n",
       "</style>\n",
       "<table border=\"1\" class=\"dataframe\">\n",
       "  <thead>\n",
       "    <tr style=\"text-align: right;\">\n",
       "      <th></th>\n",
       "      <th>c_a</th>\n",
       "      <th>unit</th>\n",
       "      <th>scp</th>\n",
       "      <th>station</th>\n",
       "      <th>linename</th>\n",
       "      <th>division</th>\n",
       "      <th>date</th>\n",
       "      <th>time</th>\n",
       "      <th>desc</th>\n",
       "      <th>entries</th>\n",
       "      <th>exits</th>\n",
       "    </tr>\n",
       "  </thead>\n",
       "  <tbody>\n",
       "    <tr>\n",
       "      <th>0</th>\n",
       "      <td>A002</td>\n",
       "      <td>R051</td>\n",
       "      <td>02-00-00</td>\n",
       "      <td>59 ST</td>\n",
       "      <td>NQR456W</td>\n",
       "      <td>BMT</td>\n",
       "      <td>11/30/2019</td>\n",
       "      <td>03:00:00</td>\n",
       "      <td>REGULAR</td>\n",
       "      <td>7290785</td>\n",
       "      <td>2470635</td>\n",
       "    </tr>\n",
       "    <tr>\n",
       "      <th>1</th>\n",
       "      <td>A002</td>\n",
       "      <td>R051</td>\n",
       "      <td>02-00-00</td>\n",
       "      <td>59 ST</td>\n",
       "      <td>NQR456W</td>\n",
       "      <td>BMT</td>\n",
       "      <td>11/30/2019</td>\n",
       "      <td>07:00:00</td>\n",
       "      <td>REGULAR</td>\n",
       "      <td>7290795</td>\n",
       "      <td>2470652</td>\n",
       "    </tr>\n",
       "    <tr>\n",
       "      <th>2</th>\n",
       "      <td>A002</td>\n",
       "      <td>R051</td>\n",
       "      <td>02-00-00</td>\n",
       "      <td>59 ST</td>\n",
       "      <td>NQR456W</td>\n",
       "      <td>BMT</td>\n",
       "      <td>11/30/2019</td>\n",
       "      <td>11:00:00</td>\n",
       "      <td>REGULAR</td>\n",
       "      <td>7290860</td>\n",
       "      <td>2470733</td>\n",
       "    </tr>\n",
       "    <tr>\n",
       "      <th>3</th>\n",
       "      <td>A002</td>\n",
       "      <td>R051</td>\n",
       "      <td>02-00-00</td>\n",
       "      <td>59 ST</td>\n",
       "      <td>NQR456W</td>\n",
       "      <td>BMT</td>\n",
       "      <td>11/30/2019</td>\n",
       "      <td>15:00:00</td>\n",
       "      <td>REGULAR</td>\n",
       "      <td>7291051</td>\n",
       "      <td>2470808</td>\n",
       "    </tr>\n",
       "    <tr>\n",
       "      <th>4</th>\n",
       "      <td>A002</td>\n",
       "      <td>R051</td>\n",
       "      <td>02-00-00</td>\n",
       "      <td>59 ST</td>\n",
       "      <td>NQR456W</td>\n",
       "      <td>BMT</td>\n",
       "      <td>11/30/2019</td>\n",
       "      <td>19:00:00</td>\n",
       "      <td>REGULAR</td>\n",
       "      <td>7291396</td>\n",
       "      <td>2470862</td>\n",
       "    </tr>\n",
       "    <tr>\n",
       "      <th>...</th>\n",
       "      <td>...</td>\n",
       "      <td>...</td>\n",
       "      <td>...</td>\n",
       "      <td>...</td>\n",
       "      <td>...</td>\n",
       "      <td>...</td>\n",
       "      <td>...</td>\n",
       "      <td>...</td>\n",
       "      <td>...</td>\n",
       "      <td>...</td>\n",
       "      <td>...</td>\n",
       "    </tr>\n",
       "    <tr>\n",
       "      <th>2676228</th>\n",
       "      <td>TRAM2</td>\n",
       "      <td>R469</td>\n",
       "      <td>00-05-01</td>\n",
       "      <td>RIT-ROOSEVELT</td>\n",
       "      <td>R</td>\n",
       "      <td>RIT</td>\n",
       "      <td>09/06/2019</td>\n",
       "      <td>05:00:00</td>\n",
       "      <td>REGULAR</td>\n",
       "      <td>5554</td>\n",
       "      <td>420</td>\n",
       "    </tr>\n",
       "    <tr>\n",
       "      <th>2676229</th>\n",
       "      <td>TRAM2</td>\n",
       "      <td>R469</td>\n",
       "      <td>00-05-01</td>\n",
       "      <td>RIT-ROOSEVELT</td>\n",
       "      <td>R</td>\n",
       "      <td>RIT</td>\n",
       "      <td>09/06/2019</td>\n",
       "      <td>09:00:00</td>\n",
       "      <td>REGULAR</td>\n",
       "      <td>5554</td>\n",
       "      <td>420</td>\n",
       "    </tr>\n",
       "    <tr>\n",
       "      <th>2676230</th>\n",
       "      <td>TRAM2</td>\n",
       "      <td>R469</td>\n",
       "      <td>00-05-01</td>\n",
       "      <td>RIT-ROOSEVELT</td>\n",
       "      <td>R</td>\n",
       "      <td>RIT</td>\n",
       "      <td>09/06/2019</td>\n",
       "      <td>13:00:00</td>\n",
       "      <td>REGULAR</td>\n",
       "      <td>5554</td>\n",
       "      <td>420</td>\n",
       "    </tr>\n",
       "    <tr>\n",
       "      <th>2676231</th>\n",
       "      <td>TRAM2</td>\n",
       "      <td>R469</td>\n",
       "      <td>00-05-01</td>\n",
       "      <td>RIT-ROOSEVELT</td>\n",
       "      <td>R</td>\n",
       "      <td>RIT</td>\n",
       "      <td>09/06/2019</td>\n",
       "      <td>17:00:00</td>\n",
       "      <td>REGULAR</td>\n",
       "      <td>5554</td>\n",
       "      <td>420</td>\n",
       "    </tr>\n",
       "    <tr>\n",
       "      <th>2676232</th>\n",
       "      <td>TRAM2</td>\n",
       "      <td>R469</td>\n",
       "      <td>00-05-01</td>\n",
       "      <td>RIT-ROOSEVELT</td>\n",
       "      <td>R</td>\n",
       "      <td>RIT</td>\n",
       "      <td>09/06/2019</td>\n",
       "      <td>21:00:00</td>\n",
       "      <td>REGULAR</td>\n",
       "      <td>5554</td>\n",
       "      <td>420</td>\n",
       "    </tr>\n",
       "  </tbody>\n",
       "</table>\n",
       "<p>2676233 rows × 11 columns</p>\n",
       "</div>"
      ],
      "text/plain": [
       "           c_a  unit       scp        station linename division        date  \\\n",
       "0         A002  R051  02-00-00          59 ST  NQR456W      BMT  11/30/2019   \n",
       "1         A002  R051  02-00-00          59 ST  NQR456W      BMT  11/30/2019   \n",
       "2         A002  R051  02-00-00          59 ST  NQR456W      BMT  11/30/2019   \n",
       "3         A002  R051  02-00-00          59 ST  NQR456W      BMT  11/30/2019   \n",
       "4         A002  R051  02-00-00          59 ST  NQR456W      BMT  11/30/2019   \n",
       "...        ...   ...       ...            ...      ...      ...         ...   \n",
       "2676228  TRAM2  R469  00-05-01  RIT-ROOSEVELT        R      RIT  09/06/2019   \n",
       "2676229  TRAM2  R469  00-05-01  RIT-ROOSEVELT        R      RIT  09/06/2019   \n",
       "2676230  TRAM2  R469  00-05-01  RIT-ROOSEVELT        R      RIT  09/06/2019   \n",
       "2676231  TRAM2  R469  00-05-01  RIT-ROOSEVELT        R      RIT  09/06/2019   \n",
       "2676232  TRAM2  R469  00-05-01  RIT-ROOSEVELT        R      RIT  09/06/2019   \n",
       "\n",
       "             time     desc  entries    exits  \n",
       "0        03:00:00  REGULAR  7290785  2470635  \n",
       "1        07:00:00  REGULAR  7290795  2470652  \n",
       "2        11:00:00  REGULAR  7290860  2470733  \n",
       "3        15:00:00  REGULAR  7291051  2470808  \n",
       "4        19:00:00  REGULAR  7291396  2470862  \n",
       "...           ...      ...      ...      ...  \n",
       "2676228  05:00:00  REGULAR     5554      420  \n",
       "2676229  09:00:00  REGULAR     5554      420  \n",
       "2676230  13:00:00  REGULAR     5554      420  \n",
       "2676231  17:00:00  REGULAR     5554      420  \n",
       "2676232  21:00:00  REGULAR     5554      420  \n",
       "\n",
       "[2676233 rows x 11 columns]"
      ]
     },
     "execution_count": 78,
     "metadata": {},
     "output_type": "execute_result"
    }
   ],
   "source": [
    "turnstiles_df.columns = turnstiles_df.columns.str.replace(\" \",\"\")\n",
    "turnstiles_df.columns = turnstiles_df.columns.str.replace(\"/\",\"_\")\n",
    "turnstiles_df.columns = turnstiles_df.columns.str.lower()\n",
    "turnstiles_df"
   ]
  },
  {
   "cell_type": "markdown",
   "id": "6963237d",
   "metadata": {},
   "source": [
    "Standardize the station column as much as possible, for future merging with complaints dataset."
   ]
  },
  {
   "cell_type": "code",
   "execution_count": 80,
   "id": "f27176b3",
   "metadata": {},
   "outputs": [],
   "source": [
    "turnstiles_df['station'] = turnstiles_df['station'].str.replace('AVENUE','AV', regex=False)\n",
    "turnstiles_df['station'] = turnstiles_df['station'].str.replace('AVE','AV', regex=False)\n",
    "turnstiles_df['station'] = turnstiles_df['station'].str.replace('.','', regex=False)\n",
    "turnstiles_df['station'] = turnstiles_df['station'].str.replace(' ROAD',' RD', regex=False)"
   ]
  },
  {
   "cell_type": "markdown",
   "id": "b93ab6f7",
   "metadata": {},
   "source": [
    "Convert \"date\" column to datetime dtype."
   ]
  },
  {
   "cell_type": "code",
   "execution_count": 81,
   "id": "9d83ae8a",
   "metadata": {},
   "outputs": [
    {
     "name": "stdout",
     "output_type": "stream",
     "text": [
      "<class 'pandas.core.frame.DataFrame'>\n",
      "RangeIndex: 2676233 entries, 0 to 2676232\n",
      "Data columns (total 11 columns):\n",
      " #   Column    Dtype         \n",
      "---  ------    -----         \n",
      " 0   c_a       object        \n",
      " 1   unit      object        \n",
      " 2   scp       object        \n",
      " 3   station   object        \n",
      " 4   linename  object        \n",
      " 5   division  object        \n",
      " 6   date      datetime64[ns]\n",
      " 7   time      object        \n",
      " 8   desc      object        \n",
      " 9   entries   int64         \n",
      " 10  exits     int64         \n",
      "dtypes: datetime64[ns](1), int64(2), object(8)\n",
      "memory usage: 224.6+ MB\n"
     ]
    }
   ],
   "source": [
    "turnstiles_df['date'] = pd.to_datetime(turnstiles_df['date'])\n",
    "turnstiles_df.info()"
   ]
  },
  {
   "cell_type": "markdown",
   "id": "d9150811",
   "metadata": {},
   "source": [
    "Taking a look at all the unique station names in the turnstiles dataset, since we'll need to merge this with the stations in the complaints dataset."
   ]
  },
  {
   "cell_type": "code",
   "execution_count": 82,
   "id": "eadcec9c",
   "metadata": {},
   "outputs": [
    {
     "data": {
      "text/plain": [
       "array(['1 AV', '103 ST', '103 ST-CORONA', '104 ST', '110 ST', '111 ST',\n",
       "       '116 ST', '116 ST-COLUMBIA', '121 ST', '125 ST', '135 ST',\n",
       "       '137 ST CITY COL', '138/GRAND CONC', '14 ST', '14 ST-UNION SQ',\n",
       "       '145 ST', '149/GRAND CONC', '14TH STREET', '15 ST-PROSPECT',\n",
       "       '155 ST', '157 ST', '161/YANKEE STAD', '163 ST-AMSTERDM', '167 ST',\n",
       "       '168 ST', '169 ST', '170 ST', '174 ST', '174-175 STS', '175 ST',\n",
       "       '176 ST', '18 AV', '18 ST', '181 ST', '182-183 STS', '183 ST',\n",
       "       '190 ST', '191 ST', '2 AV', '20 AV', '207 ST', '21 ST',\n",
       "       '21 ST-QNSBRIDGE', '215 ST', '219 ST', '225 ST', '23 ST', '231 ST',\n",
       "       '233 ST', '238 ST', '25 AV', '25 ST', '28 ST', '3 AV',\n",
       "       '3 AV 138 ST', '3 AV-149 ST', '30 AV', '33 ST', '33 ST-RAWSON ST',\n",
       "       '34 ST-HERALD SQ', '34 ST-HUDSON YD', '34 ST-PENN STA', '36 AV',\n",
       "       '36 ST', '39 AV', '4 AV-9 ST', '40 ST LOWERY ST',\n",
       "       '42 ST-BRYANT PK', '42 ST-PORT AUTH', '45 ST', '46 ST',\n",
       "       '46 ST BLISS ST', '47-50 STS ROCK', '49 ST', '4AV-9 ST', '5 AV',\n",
       "       '5 AV/53 ST', '5 AV/59 ST', '50 ST', '51 ST', '52 ST', '53 ST',\n",
       "       '55 ST', '57 ST', '57 ST-7 AV', '59 ST', '59 ST COLUMBUS', '6 AV',\n",
       "       '61 ST WOODSIDE', '63 DR-REGO PARK', '65 ST', '66 ST-LINCOLN',\n",
       "       '67 AV', '68ST-HUNTER CO', '69 ST', '7 AV', '71 ST', '72 ST',\n",
       "       '72 ST-2 AV', '74 ST-BROADWAY', '75 AV', '75 ST-ELDERTS', '77 ST',\n",
       "       '79 ST', '8 AV', '8 ST-NYU', '80 ST', '81 ST-MUSEUM',\n",
       "       '82 ST-JACKSON H', '85 ST-FOREST PK', '86 ST', '86 ST-2 AV',\n",
       "       '88 ST', '9 AV', '90 ST-ELMHURST', '96 ST', '96 ST-2 AV',\n",
       "       '9TH STREET', 'ALABAMA AV', 'ALLERTON AV', 'AQUEDUCT NCOND',\n",
       "       'AQUEDUCT RACETR', 'ASTOR PL', 'ASTORIA DITMARS', 'ATL AV-BARCLAY',\n",
       "       'ATLANTIC AV', 'AV H', 'AV I', 'AV J', 'AV M', 'AV N', 'AV P',\n",
       "       'AV U', 'AV X', \"B'WAY-LAFAYETTE\", 'BAY 50 ST', 'BAY PKWY',\n",
       "       'BAY RIDGE AV', 'BAY RIDGE-95 ST', 'BAYCHESTER AV', 'BEACH 105 ST',\n",
       "       'BEACH 25 ST', 'BEACH 36 ST', 'BEACH 44 ST', 'BEACH 60 ST',\n",
       "       'BEACH 67 ST', 'BEACH 90 ST', 'BEACH 98 ST', 'BEDFORD AV',\n",
       "       'BEDFORD PK BLVD', 'BEDFORD-NOSTRAN', 'BERGEN ST', 'BEVERLEY RD',\n",
       "       'BEVERLY RD', 'BLEECKER ST', 'BOROUGH HALL', 'BOTANIC GARDEN',\n",
       "       'BOWERY', 'BOWLING GREEN', 'BRIARWOOD', 'BRIGHTON BEACH',\n",
       "       'BROAD CHANNEL', 'BROAD ST', 'BROADWAY', 'BROADWAY JCT',\n",
       "       'BRONX PARK EAST', 'BROOK AV', 'BROOKLYN BRIDGE', 'BUHRE AV',\n",
       "       'BURKE AV', 'BURNSIDE AV', 'BUSHWICK AV', 'CANAL ST',\n",
       "       'CANARSIE-ROCKAW', 'CARROLL ST', 'CASTLE HILL AV',\n",
       "       'CATHEDRAL PKWY', 'CENTRAL AV', 'CENTRAL PK N110', 'CHAMBERS ST',\n",
       "       'CHAUNCEY ST', 'CHRISTOPHER ST', 'CHURCH AV', 'CITY / BUS',\n",
       "       'CITY HALL', 'CLARK ST', 'CLASSON AV', 'CLEVELAND ST',\n",
       "       'CLINTON-WASH AV', 'CONEY IS-STILLW', 'CORTELYOU RD',\n",
       "       'CORTLANDT ST', 'COURT SQ', 'COURT SQ-23 ST', 'CRESCENT ST',\n",
       "       'CROWN HTS-UTICA', 'CYPRESS AV', 'CYPRESS HILLS', 'DEKALB AV',\n",
       "       'DELANCEY/ESSEX', 'DITMAS AV', 'DYCKMAN ST', \"E 143/ST MARY'S\",\n",
       "       'E 149 ST', 'E 180 ST', 'EAST 105 ST', 'EAST BROADWAY',\n",
       "       'EASTCHSTER/DYRE', 'EASTN PKWY-MUSM', 'ELDER AV', 'ELMHURST AV',\n",
       "       'EUCLID AV', 'EXCHANGE PLACE', 'FAR ROCKAWAY', 'FLATBUSH AV-BC',\n",
       "       'FLUSHING AV', 'FLUSHING-MAIN', 'FORDHAM RD', 'FOREST AV',\n",
       "       'FOREST HILLS 71', 'FRANKLIN AV', 'FRANKLIN ST', 'FREEMAN ST',\n",
       "       'FRESH POND RD', 'FT HAMILTON PKY', 'FULTON ST', 'GATES AV',\n",
       "       'GRAHAM AV', 'GRAND ARMY PLAZ', 'GRAND ST', 'GRAND-NEWTOWN',\n",
       "       'GRANT AV', 'GRD CNTRL-42 ST', 'GREENPOINT AV', 'GROVE STREET',\n",
       "       'GUN HILL RD', 'HALSEY ST', 'HARLEM 148 ST', 'HARRISON',\n",
       "       'HEWES ST', 'HIGH ST', 'HOUSTON ST', 'HOWARD BCH JFK', 'HOYT ST',\n",
       "       'HOYT-SCHER', 'HUNTERS PT AV', 'HUNTS POINT AV', 'INTERVALE AV',\n",
       "       'INWOOD-207 ST', 'JACKSON AV', 'JAMAICA 179 ST', 'JAMAICA CENTER',\n",
       "       'JAMAICA VAN WK', 'JAY ST-METROTEC', 'JEFFERSON ST',\n",
       "       'JFK JAMAICA CT1', 'JKSN HT-ROOSVLT', 'JOURNAL SQUARE',\n",
       "       'JUNCTION BLVD', 'JUNIUS ST', 'KEW GARDENS', 'KINGS HWY',\n",
       "       'KINGSBRIDGE RD', 'KINGSTON AV', 'KINGSTON-THROOP',\n",
       "       'KNICKERBOCKER', 'KOSCIUSZKO ST', 'LACKAWANNA', 'LAFAYETTE AV',\n",
       "       'LEXINGTON AV/53', 'LEXINGTON AV/63', 'LIBERTY AV', 'LIVONIA AV',\n",
       "       'LONGWOOD AV', 'LORIMER ST', 'MARBLE HILL-225', 'MARCY AV',\n",
       "       'METROPOLITAN AV', 'METS-WILLETS PT', 'MIDDLETOWN RD',\n",
       "       'MONTROSE AV', 'MORGAN AV', 'MORISN AV/SNDVW', 'MORRIS PARK',\n",
       "       'MOSHOLU PKWY', 'MT EDEN AV', 'MYRTLE AV', 'MYRTLE-WILLOUGH',\n",
       "       'MYRTLE-WYCKOFF', 'NASSAU AV', 'NECK RD', 'NEPTUNE AV',\n",
       "       'NEREID AV', 'NEVINS ST', 'NEW LOTS', 'NEW LOTS AV',\n",
       "       'NEW UTRECHT AV', 'NEWARK BM BW', 'NEWARK C', 'NEWARK HM HE',\n",
       "       'NEWARK HW BMEBE', 'NEWKIRK AV', 'NEWKIRK PLAZA', 'NORTHERN BLVD',\n",
       "       'NORWOOD 205 ST', 'NORWOOD AV', 'NOSTRAND AV', 'OCEAN PKWY',\n",
       "       'ORCHARD BEACH', 'OZONE PK LEFFRT', 'PARK PLACE', 'PARKCHESTER',\n",
       "       'PARKSIDE AV', 'PARSONS BLVD', 'PATH NEW WTC', 'PATH WTC 2',\n",
       "       'PAVONIA/NEWPORT', 'PELHAM BAY PARK', 'PELHAM PKWY',\n",
       "       'PENNSYLVANIA AV', 'PRESIDENT ST', 'PRINCE ST', 'PROSPECT AV',\n",
       "       'PROSPECT PARK', 'QUEENS PLAZA', 'QUEENSBORO PLZ', 'RALPH AV',\n",
       "       'RECTOR ST', 'RIT-MANHATTAN', 'RIT-ROOSEVELT', 'ROCKAWAY AV',\n",
       "       'ROCKAWAY BLVD', 'ROCKAWAY PARK B', 'ROOSEVELT ISLND',\n",
       "       'SARATOGA AV', 'SENECA AV', 'SHEEPSHEAD BAY', 'SHEPHERD AV',\n",
       "       'SIMPSON ST', 'SMITH-9 ST', 'SOUTH FERRY', 'SPRING ST',\n",
       "       'ST GEORGE', 'ST LAWRENCE AV', 'STEINWAY ST', 'STERLING ST',\n",
       "       'SUTPHIN BLVD', 'SUTPHIN-ARCHER', 'SUTTER AV', 'SUTTER AV-RUTLD',\n",
       "       'THIRTY ST', 'THIRTY THIRD ST', 'TIMES SQ-42 ST', 'TOMPKINSVILLE',\n",
       "       'TREMONT AV', 'TWENTY THIRD ST', 'UNION ST', 'UTICA AV',\n",
       "       'VAN SICLEN AV', 'VCORTLANDT PK', 'VERNON-JACKSON',\n",
       "       'W 4 ST-WASH SQ', 'W 8 ST-AQUARIUM', 'WAKEFIELD/241', 'WALL ST',\n",
       "       'WEST FARMS SQ', 'WESTCHESTER SQ', 'WHITEHALL S-FRY',\n",
       "       'WHITLOCK AV', 'WILSON AV', 'WINTHROP ST', 'WOODHAVN BLVD',\n",
       "       'WOODLAWN', 'WORLD TRADE CTR', 'WTC-CORTLANDT', 'YORK ST',\n",
       "       'ZEREGA AV'], dtype=object)"
      ]
     },
     "execution_count": 82,
     "metadata": {},
     "output_type": "execute_result"
    }
   ],
   "source": [
    "station_array = turnstiles_df['station'].unique()\n",
    "station_array.sort()\n",
    "station_array"
   ]
  },
  {
   "cell_type": "markdown",
   "id": "cfc01581",
   "metadata": {},
   "source": [
    "Reading in the complaints dataset. "
   ]
  },
  {
   "cell_type": "code",
   "execution_count": 83,
   "id": "c0e35e37",
   "metadata": {},
   "outputs": [
    {
     "name": "stderr",
     "output_type": "stream",
     "text": [
      "/Users/emmaalexander/opt/anaconda3/lib/python3.8/site-packages/IPython/core/interactiveshell.py:3165: DtypeWarning: Columns (18,20) have mixed types.Specify dtype option on import or set low_memory=False.\n",
      "  has_raised = await self.run_ast_nodes(code_ast.body, cell_name,\n"
     ]
    },
    {
     "data": {
      "text/html": [
       "<div>\n",
       "<style scoped>\n",
       "    .dataframe tbody tr th:only-of-type {\n",
       "        vertical-align: middle;\n",
       "    }\n",
       "\n",
       "    .dataframe tbody tr th {\n",
       "        vertical-align: top;\n",
       "    }\n",
       "\n",
       "    .dataframe thead th {\n",
       "        text-align: right;\n",
       "    }\n",
       "</style>\n",
       "<table border=\"1\" class=\"dataframe\">\n",
       "  <thead>\n",
       "    <tr style=\"text-align: right;\">\n",
       "      <th></th>\n",
       "      <th>CMPLNT_NUM</th>\n",
       "      <th>CMPLNT_FR_DT</th>\n",
       "      <th>CMPLNT_FR_TM</th>\n",
       "      <th>CMPLNT_TO_DT</th>\n",
       "      <th>CMPLNT_TO_TM</th>\n",
       "      <th>ADDR_PCT_CD</th>\n",
       "      <th>RPT_DT</th>\n",
       "      <th>KY_CD</th>\n",
       "      <th>OFNS_DESC</th>\n",
       "      <th>PD_CD</th>\n",
       "      <th>...</th>\n",
       "      <th>SUSP_SEX</th>\n",
       "      <th>TRANSIT_DISTRICT</th>\n",
       "      <th>Latitude</th>\n",
       "      <th>Longitude</th>\n",
       "      <th>Lat_Lon</th>\n",
       "      <th>PATROL_BORO</th>\n",
       "      <th>STATION_NAME</th>\n",
       "      <th>VIC_AGE_GROUP</th>\n",
       "      <th>VIC_RACE</th>\n",
       "      <th>VIC_SEX</th>\n",
       "    </tr>\n",
       "  </thead>\n",
       "  <tbody>\n",
       "    <tr>\n",
       "      <th>0</th>\n",
       "      <td>394506329</td>\n",
       "      <td>12/31/2019</td>\n",
       "      <td>17:30:00</td>\n",
       "      <td>NaN</td>\n",
       "      <td>NaN</td>\n",
       "      <td>32.0</td>\n",
       "      <td>12/31/2019</td>\n",
       "      <td>118</td>\n",
       "      <td>DANGEROUS WEAPONS</td>\n",
       "      <td>793.0</td>\n",
       "      <td>...</td>\n",
       "      <td>NaN</td>\n",
       "      <td>NaN</td>\n",
       "      <td>40.820927</td>\n",
       "      <td>-73.943324</td>\n",
       "      <td>(40.82092679700002, -73.94332421899996)</td>\n",
       "      <td>PATROL BORO MAN NORTH</td>\n",
       "      <td>NaN</td>\n",
       "      <td>UNKNOWN</td>\n",
       "      <td>UNKNOWN</td>\n",
       "      <td>E</td>\n",
       "    </tr>\n",
       "    <tr>\n",
       "      <th>1</th>\n",
       "      <td>968873685</td>\n",
       "      <td>12/29/2019</td>\n",
       "      <td>16:31:00</td>\n",
       "      <td>12/29/2019</td>\n",
       "      <td>16:54:00</td>\n",
       "      <td>47.0</td>\n",
       "      <td>12/29/2019</td>\n",
       "      <td>113</td>\n",
       "      <td>FORGERY</td>\n",
       "      <td>729.0</td>\n",
       "      <td>...</td>\n",
       "      <td>NaN</td>\n",
       "      <td>NaN</td>\n",
       "      <td>40.885701</td>\n",
       "      <td>-73.861640</td>\n",
       "      <td>(40.885701406000074, -73.86164032499995)</td>\n",
       "      <td>PATROL BORO BRONX</td>\n",
       "      <td>NaN</td>\n",
       "      <td>UNKNOWN</td>\n",
       "      <td>UNKNOWN</td>\n",
       "      <td>E</td>\n",
       "    </tr>\n",
       "    <tr>\n",
       "      <th>2</th>\n",
       "      <td>509837549</td>\n",
       "      <td>12/15/2019</td>\n",
       "      <td>18:45:00</td>\n",
       "      <td>NaN</td>\n",
       "      <td>NaN</td>\n",
       "      <td>109.0</td>\n",
       "      <td>12/29/2019</td>\n",
       "      <td>578</td>\n",
       "      <td>HARRASSMENT 2</td>\n",
       "      <td>638.0</td>\n",
       "      <td>...</td>\n",
       "      <td>M</td>\n",
       "      <td>NaN</td>\n",
       "      <td>40.742281</td>\n",
       "      <td>-73.819824</td>\n",
       "      <td>(40.74228115600005, -73.81982408)</td>\n",
       "      <td>PATROL BORO QUEENS NORTH</td>\n",
       "      <td>NaN</td>\n",
       "      <td>25-44</td>\n",
       "      <td>WHITE HISPANIC</td>\n",
       "      <td>F</td>\n",
       "    </tr>\n",
       "    <tr>\n",
       "      <th>3</th>\n",
       "      <td>352454313</td>\n",
       "      <td>12/28/2019</td>\n",
       "      <td>01:00:00</td>\n",
       "      <td>NaN</td>\n",
       "      <td>NaN</td>\n",
       "      <td>47.0</td>\n",
       "      <td>12/28/2019</td>\n",
       "      <td>126</td>\n",
       "      <td>MISCELLANEOUS PENAL LAW</td>\n",
       "      <td>117.0</td>\n",
       "      <td>...</td>\n",
       "      <td>M</td>\n",
       "      <td>NaN</td>\n",
       "      <td>40.875311</td>\n",
       "      <td>-73.847545</td>\n",
       "      <td>(40.87531145100007, -73.84754521099995)</td>\n",
       "      <td>PATROL BORO BRONX</td>\n",
       "      <td>NaN</td>\n",
       "      <td>UNKNOWN</td>\n",
       "      <td>UNKNOWN</td>\n",
       "      <td>E</td>\n",
       "    </tr>\n",
       "    <tr>\n",
       "      <th>4</th>\n",
       "      <td>248803469</td>\n",
       "      <td>09/05/2008</td>\n",
       "      <td>21:41:00</td>\n",
       "      <td>NaN</td>\n",
       "      <td>NaN</td>\n",
       "      <td>NaN</td>\n",
       "      <td>09/05/2008</td>\n",
       "      <td>101</td>\n",
       "      <td>MURDER &amp; NON-NEGL. MANSLAUGHTER</td>\n",
       "      <td>NaN</td>\n",
       "      <td>...</td>\n",
       "      <td>NaN</td>\n",
       "      <td>NaN</td>\n",
       "      <td>40.698827</td>\n",
       "      <td>-73.938819</td>\n",
       "      <td>(40.698827283, -73.938819047)</td>\n",
       "      <td>NaN</td>\n",
       "      <td>NaN</td>\n",
       "      <td>25-44</td>\n",
       "      <td>BLACK</td>\n",
       "      <td>M</td>\n",
       "    </tr>\n",
       "  </tbody>\n",
       "</table>\n",
       "<p>5 rows × 35 columns</p>\n",
       "</div>"
      ],
      "text/plain": [
       "   CMPLNT_NUM CMPLNT_FR_DT CMPLNT_FR_TM CMPLNT_TO_DT CMPLNT_TO_TM  \\\n",
       "0   394506329   12/31/2019     17:30:00          NaN          NaN   \n",
       "1   968873685   12/29/2019     16:31:00   12/29/2019     16:54:00   \n",
       "2   509837549   12/15/2019     18:45:00          NaN          NaN   \n",
       "3   352454313   12/28/2019     01:00:00          NaN          NaN   \n",
       "4   248803469   09/05/2008     21:41:00          NaN          NaN   \n",
       "\n",
       "   ADDR_PCT_CD      RPT_DT  KY_CD                        OFNS_DESC  PD_CD  \\\n",
       "0         32.0  12/31/2019    118                DANGEROUS WEAPONS  793.0   \n",
       "1         47.0  12/29/2019    113                          FORGERY  729.0   \n",
       "2        109.0  12/29/2019    578                    HARRASSMENT 2  638.0   \n",
       "3         47.0  12/28/2019    126          MISCELLANEOUS PENAL LAW  117.0   \n",
       "4          NaN  09/05/2008    101  MURDER & NON-NEGL. MANSLAUGHTER    NaN   \n",
       "\n",
       "   ... SUSP_SEX TRANSIT_DISTRICT   Latitude  Longitude  \\\n",
       "0  ...      NaN              NaN  40.820927 -73.943324   \n",
       "1  ...      NaN              NaN  40.885701 -73.861640   \n",
       "2  ...        M              NaN  40.742281 -73.819824   \n",
       "3  ...        M              NaN  40.875311 -73.847545   \n",
       "4  ...      NaN              NaN  40.698827 -73.938819   \n",
       "\n",
       "                                    Lat_Lon               PATROL_BORO  \\\n",
       "0   (40.82092679700002, -73.94332421899996)     PATROL BORO MAN NORTH   \n",
       "1  (40.885701406000074, -73.86164032499995)         PATROL BORO BRONX   \n",
       "2         (40.74228115600005, -73.81982408)  PATROL BORO QUEENS NORTH   \n",
       "3   (40.87531145100007, -73.84754521099995)         PATROL BORO BRONX   \n",
       "4             (40.698827283, -73.938819047)                       NaN   \n",
       "\n",
       "  STATION_NAME  VIC_AGE_GROUP        VIC_RACE VIC_SEX  \n",
       "0          NaN        UNKNOWN         UNKNOWN       E  \n",
       "1          NaN        UNKNOWN         UNKNOWN       E  \n",
       "2          NaN          25-44  WHITE HISPANIC       F  \n",
       "3          NaN        UNKNOWN         UNKNOWN       E  \n",
       "4          NaN          25-44           BLACK       M  \n",
       "\n",
       "[5 rows x 35 columns]"
      ]
     },
     "execution_count": 83,
     "metadata": {},
     "output_type": "execute_result"
    }
   ],
   "source": [
    "complaints = pd.read_csv(\"https://data.cityofnewyork.us/api/views/qgea-i56i/rows.csv\")\n",
    "complaints.head()"
   ]
  },
  {
   "cell_type": "markdown",
   "id": "f5a87175",
   "metadata": {},
   "source": [
    "Since the dataset is for NYC generally, I'll need to narrow it down to complaints logged at MTA stations. I'm dropping all rows that don't have values for station name, victim sex, and date of complaint."
   ]
  },
  {
   "cell_type": "code",
   "execution_count": 84,
   "id": "7c6bc242",
   "metadata": {},
   "outputs": [
    {
     "data": {
      "text/html": [
       "<div>\n",
       "<style scoped>\n",
       "    .dataframe tbody tr th:only-of-type {\n",
       "        vertical-align: middle;\n",
       "    }\n",
       "\n",
       "    .dataframe tbody tr th {\n",
       "        vertical-align: top;\n",
       "    }\n",
       "\n",
       "    .dataframe thead th {\n",
       "        text-align: right;\n",
       "    }\n",
       "</style>\n",
       "<table border=\"1\" class=\"dataframe\">\n",
       "  <thead>\n",
       "    <tr style=\"text-align: right;\">\n",
       "      <th></th>\n",
       "      <th>CMPLNT_NUM</th>\n",
       "      <th>CMPLNT_FR_DT</th>\n",
       "      <th>CMPLNT_FR_TM</th>\n",
       "      <th>CMPLNT_TO_DT</th>\n",
       "      <th>CMPLNT_TO_TM</th>\n",
       "      <th>ADDR_PCT_CD</th>\n",
       "      <th>RPT_DT</th>\n",
       "      <th>KY_CD</th>\n",
       "      <th>OFNS_DESC</th>\n",
       "      <th>PD_CD</th>\n",
       "      <th>...</th>\n",
       "      <th>SUSP_SEX</th>\n",
       "      <th>TRANSIT_DISTRICT</th>\n",
       "      <th>Latitude</th>\n",
       "      <th>Longitude</th>\n",
       "      <th>Lat_Lon</th>\n",
       "      <th>PATROL_BORO</th>\n",
       "      <th>STATION_NAME</th>\n",
       "      <th>VIC_AGE_GROUP</th>\n",
       "      <th>VIC_RACE</th>\n",
       "      <th>VIC_SEX</th>\n",
       "    </tr>\n",
       "  </thead>\n",
       "  <tbody>\n",
       "    <tr>\n",
       "      <th>253</th>\n",
       "      <td>132630637</td>\n",
       "      <td>10/02/2019</td>\n",
       "      <td>15:49:00</td>\n",
       "      <td>NaN</td>\n",
       "      <td>NaN</td>\n",
       "      <td>44.0</td>\n",
       "      <td>10/02/2019</td>\n",
       "      <td>109</td>\n",
       "      <td>GRAND LARCENY</td>\n",
       "      <td>415.0</td>\n",
       "      <td>...</td>\n",
       "      <td>NaN</td>\n",
       "      <td>11.0</td>\n",
       "      <td>40.838752</td>\n",
       "      <td>-73.913758</td>\n",
       "      <td>(40.838751870000074, -73.91375755599995)</td>\n",
       "      <td>PATROL BORO BRONX</td>\n",
       "      <td>170 STREET</td>\n",
       "      <td>25-44</td>\n",
       "      <td>BLACK</td>\n",
       "      <td>F</td>\n",
       "    </tr>\n",
       "    <tr>\n",
       "      <th>1169</th>\n",
       "      <td>875328878</td>\n",
       "      <td>12/25/2019</td>\n",
       "      <td>19:30:00</td>\n",
       "      <td>12/25/2019</td>\n",
       "      <td>20:45:00</td>\n",
       "      <td>106.0</td>\n",
       "      <td>12/25/2019</td>\n",
       "      <td>109</td>\n",
       "      <td>GRAND LARCENY</td>\n",
       "      <td>439.0</td>\n",
       "      <td>...</td>\n",
       "      <td>NaN</td>\n",
       "      <td>23.0</td>\n",
       "      <td>40.660514</td>\n",
       "      <td>-73.830588</td>\n",
       "      <td>(40.66051428600008, -73.83058757999999)</td>\n",
       "      <td>PATROL BORO QUEENS SOUTH</td>\n",
       "      <td>HOWARD BEACH-JFK AIRPORT</td>\n",
       "      <td>&lt;18</td>\n",
       "      <td>WHITE</td>\n",
       "      <td>M</td>\n",
       "    </tr>\n",
       "    <tr>\n",
       "      <th>1170</th>\n",
       "      <td>476108355</td>\n",
       "      <td>12/10/2019</td>\n",
       "      <td>15:00:00</td>\n",
       "      <td>12/10/2019</td>\n",
       "      <td>15:02:00</td>\n",
       "      <td>14.0</td>\n",
       "      <td>12/27/2019</td>\n",
       "      <td>343</td>\n",
       "      <td>THEFT OF SERVICES</td>\n",
       "      <td>475.0</td>\n",
       "      <td>...</td>\n",
       "      <td>NaN</td>\n",
       "      <td>2.0</td>\n",
       "      <td>40.748298</td>\n",
       "      <td>-73.988178</td>\n",
       "      <td>(40.74829799100007, -73.98817814399997)</td>\n",
       "      <td>PATROL BORO MAN SOUTH</td>\n",
       "      <td>34 STREET</td>\n",
       "      <td>UNKNOWN</td>\n",
       "      <td>UNKNOWN</td>\n",
       "      <td>E</td>\n",
       "    </tr>\n",
       "    <tr>\n",
       "      <th>1207</th>\n",
       "      <td>464842359</td>\n",
       "      <td>12/30/2019</td>\n",
       "      <td>18:50:00</td>\n",
       "      <td>NaN</td>\n",
       "      <td>NaN</td>\n",
       "      <td>13.0</td>\n",
       "      <td>12/30/2019</td>\n",
       "      <td>344</td>\n",
       "      <td>ASSAULT 3 &amp; RELATED OFFENSES</td>\n",
       "      <td>101.0</td>\n",
       "      <td>...</td>\n",
       "      <td>M</td>\n",
       "      <td>4.0</td>\n",
       "      <td>40.741365</td>\n",
       "      <td>-73.989128</td>\n",
       "      <td>(40.74136484500008, -73.98912845999998)</td>\n",
       "      <td>PATROL BORO MAN SOUTH</td>\n",
       "      <td>23 STREET</td>\n",
       "      <td>25-44</td>\n",
       "      <td>WHITE</td>\n",
       "      <td>M</td>\n",
       "    </tr>\n",
       "    <tr>\n",
       "      <th>1234</th>\n",
       "      <td>816752208</td>\n",
       "      <td>12/17/2019</td>\n",
       "      <td>23:54:00</td>\n",
       "      <td>12/18/2019</td>\n",
       "      <td>00:54:00</td>\n",
       "      <td>75.0</td>\n",
       "      <td>12/30/2019</td>\n",
       "      <td>355</td>\n",
       "      <td>OFFENSES AGAINST THE PERSON</td>\n",
       "      <td>115.0</td>\n",
       "      <td>...</td>\n",
       "      <td>U</td>\n",
       "      <td>33.0</td>\n",
       "      <td>40.676337</td>\n",
       "      <td>-73.865464</td>\n",
       "      <td>(40.676337363000066, -73.86546353999995)</td>\n",
       "      <td>PATROL BORO BKLYN NORTH</td>\n",
       "      <td>GRANT AVENUE</td>\n",
       "      <td>UNKNOWN</td>\n",
       "      <td>UNKNOWN</td>\n",
       "      <td>E</td>\n",
       "    </tr>\n",
       "  </tbody>\n",
       "</table>\n",
       "<p>5 rows × 35 columns</p>\n",
       "</div>"
      ],
      "text/plain": [
       "      CMPLNT_NUM CMPLNT_FR_DT CMPLNT_FR_TM CMPLNT_TO_DT CMPLNT_TO_TM  \\\n",
       "253    132630637   10/02/2019     15:49:00          NaN          NaN   \n",
       "1169   875328878   12/25/2019     19:30:00   12/25/2019     20:45:00   \n",
       "1170   476108355   12/10/2019     15:00:00   12/10/2019     15:02:00   \n",
       "1207   464842359   12/30/2019     18:50:00          NaN          NaN   \n",
       "1234   816752208   12/17/2019     23:54:00   12/18/2019     00:54:00   \n",
       "\n",
       "      ADDR_PCT_CD      RPT_DT  KY_CD                     OFNS_DESC  PD_CD  \\\n",
       "253          44.0  10/02/2019    109                 GRAND LARCENY  415.0   \n",
       "1169        106.0  12/25/2019    109                 GRAND LARCENY  439.0   \n",
       "1170         14.0  12/27/2019    343             THEFT OF SERVICES  475.0   \n",
       "1207         13.0  12/30/2019    344  ASSAULT 3 & RELATED OFFENSES  101.0   \n",
       "1234         75.0  12/30/2019    355   OFFENSES AGAINST THE PERSON  115.0   \n",
       "\n",
       "      ... SUSP_SEX TRANSIT_DISTRICT   Latitude  Longitude  \\\n",
       "253   ...      NaN             11.0  40.838752 -73.913758   \n",
       "1169  ...      NaN             23.0  40.660514 -73.830588   \n",
       "1170  ...      NaN              2.0  40.748298 -73.988178   \n",
       "1207  ...        M              4.0  40.741365 -73.989128   \n",
       "1234  ...        U             33.0  40.676337 -73.865464   \n",
       "\n",
       "                                       Lat_Lon               PATROL_BORO  \\\n",
       "253   (40.838751870000074, -73.91375755599995)         PATROL BORO BRONX   \n",
       "1169   (40.66051428600008, -73.83058757999999)  PATROL BORO QUEENS SOUTH   \n",
       "1170   (40.74829799100007, -73.98817814399997)     PATROL BORO MAN SOUTH   \n",
       "1207   (40.74136484500008, -73.98912845999998)     PATROL BORO MAN SOUTH   \n",
       "1234  (40.676337363000066, -73.86546353999995)   PATROL BORO BKLYN NORTH   \n",
       "\n",
       "                  STATION_NAME  VIC_AGE_GROUP VIC_RACE VIC_SEX  \n",
       "253                 170 STREET          25-44    BLACK       F  \n",
       "1169  HOWARD BEACH-JFK AIRPORT            <18    WHITE       M  \n",
       "1170                 34 STREET        UNKNOWN  UNKNOWN       E  \n",
       "1207                 23 STREET          25-44    WHITE       M  \n",
       "1234              GRANT AVENUE        UNKNOWN  UNKNOWN       E  \n",
       "\n",
       "[5 rows x 35 columns]"
      ]
     },
     "execution_count": 84,
     "metadata": {},
     "output_type": "execute_result"
    }
   ],
   "source": [
    "complaints_station = complaints.dropna(subset=['STATION_NAME','CMPLNT_FR_DT','VIC_SEX'])\n",
    "complaints_station.head()"
   ]
  },
  {
   "cell_type": "code",
   "execution_count": 85,
   "id": "7be83fdf",
   "metadata": {},
   "outputs": [
    {
     "data": {
      "text/plain": [
       "(163485, 35)"
      ]
     },
     "execution_count": 85,
     "metadata": {},
     "output_type": "execute_result"
    }
   ],
   "source": [
    "complaints_station.shape"
   ]
  },
  {
   "cell_type": "markdown",
   "id": "7e9797b0",
   "metadata": {},
   "source": [
    "Making the column names lowercase."
   ]
  },
  {
   "cell_type": "code",
   "execution_count": 347,
   "id": "7cfa8d8d",
   "metadata": {},
   "outputs": [
    {
     "data": {
      "text/html": [
       "<div>\n",
       "<style scoped>\n",
       "    .dataframe tbody tr th:only-of-type {\n",
       "        vertical-align: middle;\n",
       "    }\n",
       "\n",
       "    .dataframe tbody tr th {\n",
       "        vertical-align: top;\n",
       "    }\n",
       "\n",
       "    .dataframe thead th {\n",
       "        text-align: right;\n",
       "    }\n",
       "</style>\n",
       "<table border=\"1\" class=\"dataframe\">\n",
       "  <thead>\n",
       "    <tr style=\"text-align: right;\">\n",
       "      <th></th>\n",
       "      <th>cmplnt_num</th>\n",
       "      <th>cmplnt_fr_dt</th>\n",
       "      <th>cmplnt_fr_tm</th>\n",
       "      <th>cmplnt_to_dt</th>\n",
       "      <th>cmplnt_to_tm</th>\n",
       "      <th>addr_pct_cd</th>\n",
       "      <th>rpt_dt</th>\n",
       "      <th>ky_cd</th>\n",
       "      <th>ofns_desc</th>\n",
       "      <th>pd_cd</th>\n",
       "      <th>...</th>\n",
       "      <th>susp_sex</th>\n",
       "      <th>transit_district</th>\n",
       "      <th>latitude</th>\n",
       "      <th>longitude</th>\n",
       "      <th>lat_lon</th>\n",
       "      <th>patrol_boro</th>\n",
       "      <th>station_name</th>\n",
       "      <th>vic_age_group</th>\n",
       "      <th>vic_race</th>\n",
       "      <th>vic_sex</th>\n",
       "    </tr>\n",
       "  </thead>\n",
       "  <tbody>\n",
       "    <tr>\n",
       "      <th>253</th>\n",
       "      <td>132630637</td>\n",
       "      <td>10/02/2019</td>\n",
       "      <td>15:49:00</td>\n",
       "      <td>NaN</td>\n",
       "      <td>NaN</td>\n",
       "      <td>44.0</td>\n",
       "      <td>10/02/2019</td>\n",
       "      <td>109</td>\n",
       "      <td>GRAND LARCENY</td>\n",
       "      <td>415.0</td>\n",
       "      <td>...</td>\n",
       "      <td>NaN</td>\n",
       "      <td>11.0</td>\n",
       "      <td>40.838752</td>\n",
       "      <td>-73.913758</td>\n",
       "      <td>(40.838751870000074, -73.91375755599995)</td>\n",
       "      <td>PATROL BORO BRONX</td>\n",
       "      <td>170 STREET</td>\n",
       "      <td>25-44</td>\n",
       "      <td>BLACK</td>\n",
       "      <td>F</td>\n",
       "    </tr>\n",
       "    <tr>\n",
       "      <th>1169</th>\n",
       "      <td>875328878</td>\n",
       "      <td>12/25/2019</td>\n",
       "      <td>19:30:00</td>\n",
       "      <td>12/25/2019</td>\n",
       "      <td>20:45:00</td>\n",
       "      <td>106.0</td>\n",
       "      <td>12/25/2019</td>\n",
       "      <td>109</td>\n",
       "      <td>GRAND LARCENY</td>\n",
       "      <td>439.0</td>\n",
       "      <td>...</td>\n",
       "      <td>NaN</td>\n",
       "      <td>23.0</td>\n",
       "      <td>40.660514</td>\n",
       "      <td>-73.830588</td>\n",
       "      <td>(40.66051428600008, -73.83058757999999)</td>\n",
       "      <td>PATROL BORO QUEENS SOUTH</td>\n",
       "      <td>HOWARD BEACH-JFK AIRPORT</td>\n",
       "      <td>&lt;18</td>\n",
       "      <td>WHITE</td>\n",
       "      <td>M</td>\n",
       "    </tr>\n",
       "    <tr>\n",
       "      <th>1170</th>\n",
       "      <td>476108355</td>\n",
       "      <td>12/10/2019</td>\n",
       "      <td>15:00:00</td>\n",
       "      <td>12/10/2019</td>\n",
       "      <td>15:02:00</td>\n",
       "      <td>14.0</td>\n",
       "      <td>12/27/2019</td>\n",
       "      <td>343</td>\n",
       "      <td>THEFT OF SERVICES</td>\n",
       "      <td>475.0</td>\n",
       "      <td>...</td>\n",
       "      <td>NaN</td>\n",
       "      <td>2.0</td>\n",
       "      <td>40.748298</td>\n",
       "      <td>-73.988178</td>\n",
       "      <td>(40.74829799100007, -73.98817814399997)</td>\n",
       "      <td>PATROL BORO MAN SOUTH</td>\n",
       "      <td>34 STREET</td>\n",
       "      <td>UNKNOWN</td>\n",
       "      <td>UNKNOWN</td>\n",
       "      <td>E</td>\n",
       "    </tr>\n",
       "    <tr>\n",
       "      <th>1207</th>\n",
       "      <td>464842359</td>\n",
       "      <td>12/30/2019</td>\n",
       "      <td>18:50:00</td>\n",
       "      <td>NaN</td>\n",
       "      <td>NaN</td>\n",
       "      <td>13.0</td>\n",
       "      <td>12/30/2019</td>\n",
       "      <td>344</td>\n",
       "      <td>ASSAULT 3 &amp; RELATED OFFENSES</td>\n",
       "      <td>101.0</td>\n",
       "      <td>...</td>\n",
       "      <td>M</td>\n",
       "      <td>4.0</td>\n",
       "      <td>40.741365</td>\n",
       "      <td>-73.989128</td>\n",
       "      <td>(40.74136484500008, -73.98912845999998)</td>\n",
       "      <td>PATROL BORO MAN SOUTH</td>\n",
       "      <td>23 STREET</td>\n",
       "      <td>25-44</td>\n",
       "      <td>WHITE</td>\n",
       "      <td>M</td>\n",
       "    </tr>\n",
       "    <tr>\n",
       "      <th>1234</th>\n",
       "      <td>816752208</td>\n",
       "      <td>12/17/2019</td>\n",
       "      <td>23:54:00</td>\n",
       "      <td>12/18/2019</td>\n",
       "      <td>00:54:00</td>\n",
       "      <td>75.0</td>\n",
       "      <td>12/30/2019</td>\n",
       "      <td>355</td>\n",
       "      <td>OFFENSES AGAINST THE PERSON</td>\n",
       "      <td>115.0</td>\n",
       "      <td>...</td>\n",
       "      <td>U</td>\n",
       "      <td>33.0</td>\n",
       "      <td>40.676337</td>\n",
       "      <td>-73.865464</td>\n",
       "      <td>(40.676337363000066, -73.86546353999995)</td>\n",
       "      <td>PATROL BORO BKLYN NORTH</td>\n",
       "      <td>GRANT AVENUE</td>\n",
       "      <td>UNKNOWN</td>\n",
       "      <td>UNKNOWN</td>\n",
       "      <td>E</td>\n",
       "    </tr>\n",
       "  </tbody>\n",
       "</table>\n",
       "<p>5 rows × 35 columns</p>\n",
       "</div>"
      ],
      "text/plain": [
       "      cmplnt_num cmplnt_fr_dt cmplnt_fr_tm cmplnt_to_dt cmplnt_to_tm  \\\n",
       "253    132630637   10/02/2019     15:49:00          NaN          NaN   \n",
       "1169   875328878   12/25/2019     19:30:00   12/25/2019     20:45:00   \n",
       "1170   476108355   12/10/2019     15:00:00   12/10/2019     15:02:00   \n",
       "1207   464842359   12/30/2019     18:50:00          NaN          NaN   \n",
       "1234   816752208   12/17/2019     23:54:00   12/18/2019     00:54:00   \n",
       "\n",
       "      addr_pct_cd      rpt_dt  ky_cd                     ofns_desc  pd_cd  \\\n",
       "253          44.0  10/02/2019    109                 GRAND LARCENY  415.0   \n",
       "1169        106.0  12/25/2019    109                 GRAND LARCENY  439.0   \n",
       "1170         14.0  12/27/2019    343             THEFT OF SERVICES  475.0   \n",
       "1207         13.0  12/30/2019    344  ASSAULT 3 & RELATED OFFENSES  101.0   \n",
       "1234         75.0  12/30/2019    355   OFFENSES AGAINST THE PERSON  115.0   \n",
       "\n",
       "      ... susp_sex transit_district   latitude  longitude  \\\n",
       "253   ...      NaN             11.0  40.838752 -73.913758   \n",
       "1169  ...      NaN             23.0  40.660514 -73.830588   \n",
       "1170  ...      NaN              2.0  40.748298 -73.988178   \n",
       "1207  ...        M              4.0  40.741365 -73.989128   \n",
       "1234  ...        U             33.0  40.676337 -73.865464   \n",
       "\n",
       "                                       lat_lon               patrol_boro  \\\n",
       "253   (40.838751870000074, -73.91375755599995)         PATROL BORO BRONX   \n",
       "1169   (40.66051428600008, -73.83058757999999)  PATROL BORO QUEENS SOUTH   \n",
       "1170   (40.74829799100007, -73.98817814399997)     PATROL BORO MAN SOUTH   \n",
       "1207   (40.74136484500008, -73.98912845999998)     PATROL BORO MAN SOUTH   \n",
       "1234  (40.676337363000066, -73.86546353999995)   PATROL BORO BKLYN NORTH   \n",
       "\n",
       "                  station_name  vic_age_group vic_race vic_sex  \n",
       "253                 170 STREET          25-44    BLACK       F  \n",
       "1169  HOWARD BEACH-JFK AIRPORT            <18    WHITE       M  \n",
       "1170                 34 STREET        UNKNOWN  UNKNOWN       E  \n",
       "1207                 23 STREET          25-44    WHITE       M  \n",
       "1234              GRANT AVENUE        UNKNOWN  UNKNOWN       E  \n",
       "\n",
       "[5 rows x 35 columns]"
      ]
     },
     "execution_count": 347,
     "metadata": {},
     "output_type": "execute_result"
    }
   ],
   "source": [
    "complaints_station.columns = complaints_station.columns.str.lower()\n",
    "complaints_station.head()"
   ]
  },
  {
   "cell_type": "code",
   "execution_count": 348,
   "id": "50388282",
   "metadata": {},
   "outputs": [
    {
     "data": {
      "text/plain": [
       "Index(['cmplnt_num', 'cmplnt_fr_dt', 'cmplnt_fr_tm', 'cmplnt_to_dt',\n",
       "       'cmplnt_to_tm', 'addr_pct_cd', 'rpt_dt', 'ky_cd', 'ofns_desc', 'pd_cd',\n",
       "       'pd_desc', 'crm_atpt_cptd_cd', 'law_cat_cd', 'boro_nm',\n",
       "       'loc_of_occur_desc', 'prem_typ_desc', 'juris_desc', 'jurisdiction_code',\n",
       "       'parks_nm', 'hadevelopt', 'housing_psa', 'x_coord_cd', 'y_coord_cd',\n",
       "       'susp_age_group', 'susp_race', 'susp_sex', 'transit_district',\n",
       "       'latitude', 'longitude', 'lat_lon', 'patrol_boro', 'station_name',\n",
       "       'vic_age_group', 'vic_race', 'vic_sex'],\n",
       "      dtype='object')"
      ]
     },
     "execution_count": 348,
     "metadata": {},
     "output_type": "execute_result"
    }
   ],
   "source": [
    "complaints_station.columns"
   ]
  },
  {
   "cell_type": "markdown",
   "id": "d34bc761",
   "metadata": {},
   "source": [
    "Making a new dataframe with only the columns I'm interested in."
   ]
  },
  {
   "cell_type": "code",
   "execution_count": 349,
   "id": "f64ac562",
   "metadata": {},
   "outputs": [
    {
     "data": {
      "text/html": [
       "<div>\n",
       "<style scoped>\n",
       "    .dataframe tbody tr th:only-of-type {\n",
       "        vertical-align: middle;\n",
       "    }\n",
       "\n",
       "    .dataframe tbody tr th {\n",
       "        vertical-align: top;\n",
       "    }\n",
       "\n",
       "    .dataframe thead th {\n",
       "        text-align: right;\n",
       "    }\n",
       "</style>\n",
       "<table border=\"1\" class=\"dataframe\">\n",
       "  <thead>\n",
       "    <tr style=\"text-align: right;\">\n",
       "      <th></th>\n",
       "      <th>cmplnt_fr_dt</th>\n",
       "      <th>cmplnt_fr_tm</th>\n",
       "      <th>ofns_desc</th>\n",
       "      <th>pd_desc</th>\n",
       "      <th>law_cat_cd</th>\n",
       "      <th>boro_nm</th>\n",
       "      <th>transit_district</th>\n",
       "      <th>station_name</th>\n",
       "      <th>vic_sex</th>\n",
       "    </tr>\n",
       "  </thead>\n",
       "  <tbody>\n",
       "    <tr>\n",
       "      <th>253</th>\n",
       "      <td>10/02/2019</td>\n",
       "      <td>15:49:00</td>\n",
       "      <td>GRAND LARCENY</td>\n",
       "      <td>LARCENY,GRAND FROM PERSON,PICK</td>\n",
       "      <td>FELONY</td>\n",
       "      <td>BRONX</td>\n",
       "      <td>11.0</td>\n",
       "      <td>170 STREET</td>\n",
       "      <td>F</td>\n",
       "    </tr>\n",
       "    <tr>\n",
       "      <th>1169</th>\n",
       "      <td>12/25/2019</td>\n",
       "      <td>19:30:00</td>\n",
       "      <td>GRAND LARCENY</td>\n",
       "      <td>LARCENY,GRAND FROM OPEN AREAS, UNATTENDED</td>\n",
       "      <td>FELONY</td>\n",
       "      <td>QUEENS</td>\n",
       "      <td>23.0</td>\n",
       "      <td>HOWARD BEACH-JFK AIRPORT</td>\n",
       "      <td>M</td>\n",
       "    </tr>\n",
       "    <tr>\n",
       "      <th>1170</th>\n",
       "      <td>12/10/2019</td>\n",
       "      <td>15:00:00</td>\n",
       "      <td>THEFT OF SERVICES</td>\n",
       "      <td>UNAUTH. SALE OF TRANS. SERVICE</td>\n",
       "      <td>MISDEMEANOR</td>\n",
       "      <td>MANHATTAN</td>\n",
       "      <td>2.0</td>\n",
       "      <td>34 STREET</td>\n",
       "      <td>E</td>\n",
       "    </tr>\n",
       "    <tr>\n",
       "      <th>1207</th>\n",
       "      <td>12/30/2019</td>\n",
       "      <td>18:50:00</td>\n",
       "      <td>ASSAULT 3 &amp; RELATED OFFENSES</td>\n",
       "      <td>ASSAULT 3</td>\n",
       "      <td>MISDEMEANOR</td>\n",
       "      <td>MANHATTAN</td>\n",
       "      <td>4.0</td>\n",
       "      <td>23 STREET</td>\n",
       "      <td>M</td>\n",
       "    </tr>\n",
       "    <tr>\n",
       "      <th>1234</th>\n",
       "      <td>12/17/2019</td>\n",
       "      <td>23:54:00</td>\n",
       "      <td>OFFENSES AGAINST THE PERSON</td>\n",
       "      <td>RECKLESS ENDANGERMENT 2</td>\n",
       "      <td>MISDEMEANOR</td>\n",
       "      <td>BROOKLYN</td>\n",
       "      <td>33.0</td>\n",
       "      <td>GRANT AVENUE</td>\n",
       "      <td>E</td>\n",
       "    </tr>\n",
       "  </tbody>\n",
       "</table>\n",
       "</div>"
      ],
      "text/plain": [
       "     cmplnt_fr_dt cmplnt_fr_tm                     ofns_desc  \\\n",
       "253    10/02/2019     15:49:00                 GRAND LARCENY   \n",
       "1169   12/25/2019     19:30:00                 GRAND LARCENY   \n",
       "1170   12/10/2019     15:00:00             THEFT OF SERVICES   \n",
       "1207   12/30/2019     18:50:00  ASSAULT 3 & RELATED OFFENSES   \n",
       "1234   12/17/2019     23:54:00   OFFENSES AGAINST THE PERSON   \n",
       "\n",
       "                                        pd_desc   law_cat_cd    boro_nm  \\\n",
       "253              LARCENY,GRAND FROM PERSON,PICK       FELONY      BRONX   \n",
       "1169  LARCENY,GRAND FROM OPEN AREAS, UNATTENDED       FELONY     QUEENS   \n",
       "1170             UNAUTH. SALE OF TRANS. SERVICE  MISDEMEANOR  MANHATTAN   \n",
       "1207                                  ASSAULT 3  MISDEMEANOR  MANHATTAN   \n",
       "1234                    RECKLESS ENDANGERMENT 2  MISDEMEANOR   BROOKLYN   \n",
       "\n",
       "      transit_district              station_name vic_sex  \n",
       "253               11.0                170 STREET       F  \n",
       "1169              23.0  HOWARD BEACH-JFK AIRPORT       M  \n",
       "1170               2.0                 34 STREET       E  \n",
       "1207               4.0                 23 STREET       M  \n",
       "1234              33.0              GRANT AVENUE       E  "
      ]
     },
     "execution_count": 349,
     "metadata": {},
     "output_type": "execute_result"
    }
   ],
   "source": [
    "comp_w= complaints_station[['cmplnt_fr_dt', 'cmplnt_fr_tm', 'ofns_desc', 'pd_desc', 'law_cat_cd', 'boro_nm', 'transit_district', 'station_name', 'vic_sex']]\n",
    "comp_w.head()"
   ]
  },
  {
   "cell_type": "markdown",
   "id": "8ba0d692",
   "metadata": {},
   "source": [
    "It looks like a bunch of district offices are logged along with the actual stations. Let's get rid of everything that doesn't look like a real station."
   ]
  },
  {
   "cell_type": "code",
   "execution_count": 350,
   "id": "b6bbae88",
   "metadata": {},
   "outputs": [],
   "source": [
    "mask = (~comp_w['station_name'].str.contains('OFFICE'))"
   ]
  },
  {
   "cell_type": "code",
   "execution_count": 334,
   "id": "07e5f9a3",
   "metadata": {},
   "outputs": [
    {
     "data": {
      "text/html": [
       "<div>\n",
       "<style scoped>\n",
       "    .dataframe tbody tr th:only-of-type {\n",
       "        vertical-align: middle;\n",
       "    }\n",
       "\n",
       "    .dataframe tbody tr th {\n",
       "        vertical-align: top;\n",
       "    }\n",
       "\n",
       "    .dataframe thead th {\n",
       "        text-align: right;\n",
       "    }\n",
       "</style>\n",
       "<table border=\"1\" class=\"dataframe\">\n",
       "  <thead>\n",
       "    <tr style=\"text-align: right;\">\n",
       "      <th></th>\n",
       "      <th>cmplnt_fr_dt</th>\n",
       "      <th>cmplnt_fr_tm</th>\n",
       "      <th>ofns_desc</th>\n",
       "      <th>pd_desc</th>\n",
       "      <th>law_cat_cd</th>\n",
       "      <th>boro_nm</th>\n",
       "      <th>transit_district</th>\n",
       "      <th>station_name</th>\n",
       "      <th>vic_sex</th>\n",
       "    </tr>\n",
       "  </thead>\n",
       "  <tbody>\n",
       "    <tr>\n",
       "      <th>253</th>\n",
       "      <td>10/02/2019</td>\n",
       "      <td>15:49:00</td>\n",
       "      <td>GRAND LARCENY</td>\n",
       "      <td>LARCENY,GRAND FROM PERSON,PICK</td>\n",
       "      <td>FELONY</td>\n",
       "      <td>BRONX</td>\n",
       "      <td>11.0</td>\n",
       "      <td>170 STREET</td>\n",
       "      <td>F</td>\n",
       "    </tr>\n",
       "    <tr>\n",
       "      <th>1169</th>\n",
       "      <td>12/25/2019</td>\n",
       "      <td>19:30:00</td>\n",
       "      <td>GRAND LARCENY</td>\n",
       "      <td>LARCENY,GRAND FROM OPEN AREAS, UNATTENDED</td>\n",
       "      <td>FELONY</td>\n",
       "      <td>QUEENS</td>\n",
       "      <td>23.0</td>\n",
       "      <td>HOWARD BEACH-JFK AIRPORT</td>\n",
       "      <td>M</td>\n",
       "    </tr>\n",
       "    <tr>\n",
       "      <th>1170</th>\n",
       "      <td>12/10/2019</td>\n",
       "      <td>15:00:00</td>\n",
       "      <td>THEFT OF SERVICES</td>\n",
       "      <td>UNAUTH. SALE OF TRANS. SERVICE</td>\n",
       "      <td>MISDEMEANOR</td>\n",
       "      <td>MANHATTAN</td>\n",
       "      <td>2.0</td>\n",
       "      <td>34 STREET</td>\n",
       "      <td>E</td>\n",
       "    </tr>\n",
       "    <tr>\n",
       "      <th>1207</th>\n",
       "      <td>12/30/2019</td>\n",
       "      <td>18:50:00</td>\n",
       "      <td>ASSAULT 3 &amp; RELATED OFFENSES</td>\n",
       "      <td>ASSAULT 3</td>\n",
       "      <td>MISDEMEANOR</td>\n",
       "      <td>MANHATTAN</td>\n",
       "      <td>4.0</td>\n",
       "      <td>23 STREET</td>\n",
       "      <td>M</td>\n",
       "    </tr>\n",
       "    <tr>\n",
       "      <th>1234</th>\n",
       "      <td>12/17/2019</td>\n",
       "      <td>23:54:00</td>\n",
       "      <td>OFFENSES AGAINST THE PERSON</td>\n",
       "      <td>RECKLESS ENDANGERMENT 2</td>\n",
       "      <td>MISDEMEANOR</td>\n",
       "      <td>BROOKLYN</td>\n",
       "      <td>33.0</td>\n",
       "      <td>GRANT AVENUE</td>\n",
       "      <td>E</td>\n",
       "    </tr>\n",
       "    <tr>\n",
       "      <th>...</th>\n",
       "      <td>...</td>\n",
       "      <td>...</td>\n",
       "      <td>...</td>\n",
       "      <td>...</td>\n",
       "      <td>...</td>\n",
       "      <td>...</td>\n",
       "      <td>...</td>\n",
       "      <td>...</td>\n",
       "      <td>...</td>\n",
       "    </tr>\n",
       "    <tr>\n",
       "      <th>7375805</th>\n",
       "      <td>09/19/2018</td>\n",
       "      <td>10:40:00</td>\n",
       "      <td>FORGERY</td>\n",
       "      <td>FORGERY,ETC.,UNCLASSIFIED-FELO</td>\n",
       "      <td>FELONY</td>\n",
       "      <td>MANHATTAN</td>\n",
       "      <td>4.0</td>\n",
       "      <td>116 STREET</td>\n",
       "      <td>E</td>\n",
       "    </tr>\n",
       "    <tr>\n",
       "      <th>7375823</th>\n",
       "      <td>12/10/2018</td>\n",
       "      <td>14:20:00</td>\n",
       "      <td>PETIT LARCENY</td>\n",
       "      <td>LARCENY,PETIT BY FALSE PROMISE</td>\n",
       "      <td>MISDEMEANOR</td>\n",
       "      <td>BRONX</td>\n",
       "      <td>11.0</td>\n",
       "      <td>167 STREET</td>\n",
       "      <td>F</td>\n",
       "    </tr>\n",
       "    <tr>\n",
       "      <th>7375824</th>\n",
       "      <td>07/06/2018</td>\n",
       "      <td>14:10:00</td>\n",
       "      <td>FORGERY</td>\n",
       "      <td>FORGERY,ETC.,UNCLASSIFIED-FELO</td>\n",
       "      <td>FELONY</td>\n",
       "      <td>BRONX</td>\n",
       "      <td>11.0</td>\n",
       "      <td>205 ST.-NORWOOD</td>\n",
       "      <td>E</td>\n",
       "    </tr>\n",
       "    <tr>\n",
       "      <th>7375873</th>\n",
       "      <td>01/11/2018</td>\n",
       "      <td>15:30:00</td>\n",
       "      <td>FORGERY</td>\n",
       "      <td>FORGERY,ETC.,UNCLASSIFIED-FELO</td>\n",
       "      <td>FELONY</td>\n",
       "      <td>BRONX</td>\n",
       "      <td>12.0</td>\n",
       "      <td>SIMPSON STREET</td>\n",
       "      <td>E</td>\n",
       "    </tr>\n",
       "    <tr>\n",
       "      <th>7375937</th>\n",
       "      <td>09/08/2017</td>\n",
       "      <td>19:58:00</td>\n",
       "      <td>CRIMINAL MISCHIEF &amp; RELATED OF</td>\n",
       "      <td>TAMPERING 1,CRIMINAL</td>\n",
       "      <td>FELONY</td>\n",
       "      <td>BRONX</td>\n",
       "      <td>11.0</td>\n",
       "      <td>FORDHAM ROAD</td>\n",
       "      <td>E</td>\n",
       "    </tr>\n",
       "  </tbody>\n",
       "</table>\n",
       "<p>162971 rows × 9 columns</p>\n",
       "</div>"
      ],
      "text/plain": [
       "        cmplnt_fr_dt cmplnt_fr_tm                       ofns_desc  \\\n",
       "253       10/02/2019     15:49:00                   GRAND LARCENY   \n",
       "1169      12/25/2019     19:30:00                   GRAND LARCENY   \n",
       "1170      12/10/2019     15:00:00               THEFT OF SERVICES   \n",
       "1207      12/30/2019     18:50:00    ASSAULT 3 & RELATED OFFENSES   \n",
       "1234      12/17/2019     23:54:00     OFFENSES AGAINST THE PERSON   \n",
       "...              ...          ...                             ...   \n",
       "7375805   09/19/2018     10:40:00                         FORGERY   \n",
       "7375823   12/10/2018     14:20:00                   PETIT LARCENY   \n",
       "7375824   07/06/2018     14:10:00                         FORGERY   \n",
       "7375873   01/11/2018     15:30:00                         FORGERY   \n",
       "7375937   09/08/2017     19:58:00  CRIMINAL MISCHIEF & RELATED OF   \n",
       "\n",
       "                                           pd_desc   law_cat_cd    boro_nm  \\\n",
       "253                 LARCENY,GRAND FROM PERSON,PICK       FELONY      BRONX   \n",
       "1169     LARCENY,GRAND FROM OPEN AREAS, UNATTENDED       FELONY     QUEENS   \n",
       "1170                UNAUTH. SALE OF TRANS. SERVICE  MISDEMEANOR  MANHATTAN   \n",
       "1207                                     ASSAULT 3  MISDEMEANOR  MANHATTAN   \n",
       "1234                       RECKLESS ENDANGERMENT 2  MISDEMEANOR   BROOKLYN   \n",
       "...                                            ...          ...        ...   \n",
       "7375805             FORGERY,ETC.,UNCLASSIFIED-FELO       FELONY  MANHATTAN   \n",
       "7375823             LARCENY,PETIT BY FALSE PROMISE  MISDEMEANOR      BRONX   \n",
       "7375824             FORGERY,ETC.,UNCLASSIFIED-FELO       FELONY      BRONX   \n",
       "7375873             FORGERY,ETC.,UNCLASSIFIED-FELO       FELONY      BRONX   \n",
       "7375937                       TAMPERING 1,CRIMINAL       FELONY      BRONX   \n",
       "\n",
       "         transit_district              station_name vic_sex  \n",
       "253                  11.0                170 STREET       F  \n",
       "1169                 23.0  HOWARD BEACH-JFK AIRPORT       M  \n",
       "1170                  2.0                 34 STREET       E  \n",
       "1207                  4.0                 23 STREET       M  \n",
       "1234                 33.0              GRANT AVENUE       E  \n",
       "...                   ...                       ...     ...  \n",
       "7375805               4.0                116 STREET       E  \n",
       "7375823              11.0                167 STREET       F  \n",
       "7375824              11.0           205 ST.-NORWOOD       E  \n",
       "7375873              12.0            SIMPSON STREET       E  \n",
       "7375937              11.0              FORDHAM ROAD       E  \n",
       "\n",
       "[162971 rows x 9 columns]"
      ]
     },
     "execution_count": 334,
     "metadata": {},
     "output_type": "execute_result"
    }
   ],
   "source": [
    "comp_w = comp_w[mask].copy()\n",
    "comp_w"
   ]
  },
  {
   "cell_type": "code",
   "execution_count": 351,
   "id": "26f0509a",
   "metadata": {},
   "outputs": [],
   "source": [
    "off_mask = comp_w['station_name'] != \"OFF-SYSTEM\""
   ]
  },
  {
   "cell_type": "code",
   "execution_count": 352,
   "id": "5b409384",
   "metadata": {},
   "outputs": [],
   "source": [
    "comp_w = comp_w[off_mask].copy()"
   ]
  },
  {
   "cell_type": "code",
   "execution_count": 353,
   "id": "54dd3f46",
   "metadata": {},
   "outputs": [
    {
     "data": {
      "text/plain": [
       "HUNTERS POINT AVENUE    48\n",
       "FOREST AVENUE           47\n",
       "SENECA AVENUE           47\n",
       "AVENUE \"N\"              47\n",
       "55 STREET               45\n",
       "AVENUE \"P\"              41\n",
       "72ND STREET             39\n",
       "21 STREET               38\n",
       "86TH STREET             35\n",
       "DISTRICT 32 OFFICE      31\n",
       "DISTRICT 11 OFFICE      30\n",
       "BEACH 105 STREET        30\n",
       "DISTRICT 3 OFFICE       29\n",
       "DISTRICT 2 OFFICE       27\n",
       "DISTRICT 20 OFFICE      22\n",
       "AQUEDUCT-RACETRACK      19\n",
       "DISTRICT 12 OFFICE      18\n",
       "DISTRICT 30 OFFICE      17\n",
       "DISTRICT 34 OFFICE      13\n",
       "DISTRICT 23 OFFICE       6\n",
       "Name: station_name, dtype: int64"
      ]
     },
     "execution_count": 353,
     "metadata": {},
     "output_type": "execute_result"
    }
   ],
   "source": [
    "comp_w['station_name'].value_counts().tail(20)"
   ]
  },
  {
   "cell_type": "markdown",
   "id": "7f742417",
   "metadata": {},
   "source": [
    "All non-stations are gone! Now, let's rename the station column to match the name in the turnstiles dataset, and clean up some incorrect dates. There are multiple instances where someone entered a \"10\" instead of a \"20\" when logging the year - 1010, 1011, etc."
   ]
  },
  {
   "cell_type": "code",
   "execution_count": 354,
   "id": "84ede642",
   "metadata": {},
   "outputs": [],
   "source": [
    "comp_w.rename(columns={'station_name': 'station'}, inplace=True)"
   ]
  },
  {
   "cell_type": "code",
   "execution_count": 355,
   "id": "a6207161",
   "metadata": {},
   "outputs": [
    {
     "data": {
      "text/plain": [
       "5257474    01/01/2006\n",
       "3975374    01/01/2006\n",
       "5465145    01/01/2006\n",
       "5655547    01/01/2006\n",
       "4822674    01/01/2006\n",
       "              ...    \n",
       "748774     12/31/2020\n",
       "742853     12/31/2020\n",
       "751919     12/31/2020\n",
       "746684     12/31/2020\n",
       "752997     12/31/2020\n",
       "Name: cmplnt_fr_dt, Length: 163481, dtype: object"
      ]
     },
     "execution_count": 355,
     "metadata": {},
     "output_type": "execute_result"
    }
   ],
   "source": [
    "prev_date = ['10','11','12','13','14','15','16','17','18','19','20']\n",
    "for date in prev_date:\n",
    "    comp_w['cmplnt_fr_dt'] = comp_w['cmplnt_fr_dt'].str.replace('10' + date, '20' + date, regex=False)\n",
    "comp_w['cmplnt_fr_dt'].sort_values(ascending=True)"
   ]
  },
  {
   "cell_type": "markdown",
   "id": "f23fc9a5",
   "metadata": {},
   "source": [
    "Let's make sure the date column is datetime, and then store the year and month as separate columns. We want complaints only from September through November, to match the turnstiles data we're looking at."
   ]
  },
  {
   "cell_type": "code",
   "execution_count": 356,
   "id": "a115d852",
   "metadata": {},
   "outputs": [
    {
     "name": "stdout",
     "output_type": "stream",
     "text": [
      "<class 'pandas.core.frame.DataFrame'>\n",
      "Int64Index: 163481 entries, 253 to 7375937\n",
      "Data columns (total 9 columns):\n",
      " #   Column            Non-Null Count   Dtype         \n",
      "---  ------            --------------   -----         \n",
      " 0   cmplnt_fr_dt      163481 non-null  datetime64[ns]\n",
      " 1   cmplnt_fr_tm      163481 non-null  object        \n",
      " 2   ofns_desc         160874 non-null  object        \n",
      " 3   pd_desc           163481 non-null  object        \n",
      " 4   law_cat_cd        163481 non-null  object        \n",
      " 5   boro_nm           163285 non-null  object        \n",
      " 6   transit_district  163481 non-null  float64       \n",
      " 7   station           163481 non-null  object        \n",
      " 8   vic_sex           163481 non-null  object        \n",
      "dtypes: datetime64[ns](1), float64(1), object(7)\n",
      "memory usage: 12.5+ MB\n"
     ]
    }
   ],
   "source": [
    "comp_w['cmplnt_fr_dt'] = pd.to_datetime(comp_w['cmplnt_fr_dt'])\n",
    "comp_w.info()"
   ]
  },
  {
   "cell_type": "code",
   "execution_count": 357,
   "id": "44f89611",
   "metadata": {},
   "outputs": [
    {
     "data": {
      "text/html": [
       "<div>\n",
       "<style scoped>\n",
       "    .dataframe tbody tr th:only-of-type {\n",
       "        vertical-align: middle;\n",
       "    }\n",
       "\n",
       "    .dataframe tbody tr th {\n",
       "        vertical-align: top;\n",
       "    }\n",
       "\n",
       "    .dataframe thead th {\n",
       "        text-align: right;\n",
       "    }\n",
       "</style>\n",
       "<table border=\"1\" class=\"dataframe\">\n",
       "  <thead>\n",
       "    <tr style=\"text-align: right;\">\n",
       "      <th></th>\n",
       "      <th>cmplnt_fr_dt</th>\n",
       "      <th>cmplnt_fr_tm</th>\n",
       "      <th>ofns_desc</th>\n",
       "      <th>pd_desc</th>\n",
       "      <th>law_cat_cd</th>\n",
       "      <th>boro_nm</th>\n",
       "      <th>transit_district</th>\n",
       "      <th>station</th>\n",
       "      <th>vic_sex</th>\n",
       "      <th>year</th>\n",
       "      <th>month</th>\n",
       "    </tr>\n",
       "  </thead>\n",
       "  <tbody>\n",
       "    <tr>\n",
       "      <th>253</th>\n",
       "      <td>2019-10-02</td>\n",
       "      <td>15:49:00</td>\n",
       "      <td>GRAND LARCENY</td>\n",
       "      <td>LARCENY,GRAND FROM PERSON,PICK</td>\n",
       "      <td>FELONY</td>\n",
       "      <td>BRONX</td>\n",
       "      <td>11.0</td>\n",
       "      <td>170 STREET</td>\n",
       "      <td>F</td>\n",
       "      <td>2019</td>\n",
       "      <td>10</td>\n",
       "    </tr>\n",
       "    <tr>\n",
       "      <th>1169</th>\n",
       "      <td>2019-12-25</td>\n",
       "      <td>19:30:00</td>\n",
       "      <td>GRAND LARCENY</td>\n",
       "      <td>LARCENY,GRAND FROM OPEN AREAS, UNATTENDED</td>\n",
       "      <td>FELONY</td>\n",
       "      <td>QUEENS</td>\n",
       "      <td>23.0</td>\n",
       "      <td>HOWARD BEACH-JFK AIRPORT</td>\n",
       "      <td>M</td>\n",
       "      <td>2019</td>\n",
       "      <td>12</td>\n",
       "    </tr>\n",
       "    <tr>\n",
       "      <th>1170</th>\n",
       "      <td>2019-12-10</td>\n",
       "      <td>15:00:00</td>\n",
       "      <td>THEFT OF SERVICES</td>\n",
       "      <td>UNAUTH. SALE OF TRANS. SERVICE</td>\n",
       "      <td>MISDEMEANOR</td>\n",
       "      <td>MANHATTAN</td>\n",
       "      <td>2.0</td>\n",
       "      <td>34 STREET</td>\n",
       "      <td>E</td>\n",
       "      <td>2019</td>\n",
       "      <td>12</td>\n",
       "    </tr>\n",
       "    <tr>\n",
       "      <th>1207</th>\n",
       "      <td>2019-12-30</td>\n",
       "      <td>18:50:00</td>\n",
       "      <td>ASSAULT 3 &amp; RELATED OFFENSES</td>\n",
       "      <td>ASSAULT 3</td>\n",
       "      <td>MISDEMEANOR</td>\n",
       "      <td>MANHATTAN</td>\n",
       "      <td>4.0</td>\n",
       "      <td>23 STREET</td>\n",
       "      <td>M</td>\n",
       "      <td>2019</td>\n",
       "      <td>12</td>\n",
       "    </tr>\n",
       "    <tr>\n",
       "      <th>1234</th>\n",
       "      <td>2019-12-17</td>\n",
       "      <td>23:54:00</td>\n",
       "      <td>OFFENSES AGAINST THE PERSON</td>\n",
       "      <td>RECKLESS ENDANGERMENT 2</td>\n",
       "      <td>MISDEMEANOR</td>\n",
       "      <td>BROOKLYN</td>\n",
       "      <td>33.0</td>\n",
       "      <td>GRANT AVENUE</td>\n",
       "      <td>E</td>\n",
       "      <td>2019</td>\n",
       "      <td>12</td>\n",
       "    </tr>\n",
       "  </tbody>\n",
       "</table>\n",
       "</div>"
      ],
      "text/plain": [
       "     cmplnt_fr_dt cmplnt_fr_tm                     ofns_desc  \\\n",
       "253    2019-10-02     15:49:00                 GRAND LARCENY   \n",
       "1169   2019-12-25     19:30:00                 GRAND LARCENY   \n",
       "1170   2019-12-10     15:00:00             THEFT OF SERVICES   \n",
       "1207   2019-12-30     18:50:00  ASSAULT 3 & RELATED OFFENSES   \n",
       "1234   2019-12-17     23:54:00   OFFENSES AGAINST THE PERSON   \n",
       "\n",
       "                                        pd_desc   law_cat_cd    boro_nm  \\\n",
       "253              LARCENY,GRAND FROM PERSON,PICK       FELONY      BRONX   \n",
       "1169  LARCENY,GRAND FROM OPEN AREAS, UNATTENDED       FELONY     QUEENS   \n",
       "1170             UNAUTH. SALE OF TRANS. SERVICE  MISDEMEANOR  MANHATTAN   \n",
       "1207                                  ASSAULT 3  MISDEMEANOR  MANHATTAN   \n",
       "1234                    RECKLESS ENDANGERMENT 2  MISDEMEANOR   BROOKLYN   \n",
       "\n",
       "      transit_district                   station vic_sex  year  month  \n",
       "253               11.0                170 STREET       F  2019     10  \n",
       "1169              23.0  HOWARD BEACH-JFK AIRPORT       M  2019     12  \n",
       "1170               2.0                 34 STREET       E  2019     12  \n",
       "1207               4.0                 23 STREET       M  2019     12  \n",
       "1234              33.0              GRANT AVENUE       E  2019     12  "
      ]
     },
     "execution_count": 357,
     "metadata": {},
     "output_type": "execute_result"
    }
   ],
   "source": [
    "import datetime\n",
    "comp_w['year'] = pd.DatetimeIndex(comp_w['cmplnt_fr_dt']).year\n",
    "comp_w['month'] = pd.DatetimeIndex(comp_w['cmplnt_fr_dt']).month\n",
    "comp_w.head()"
   ]
  },
  {
   "cell_type": "code",
   "execution_count": 358,
   "id": "43c0d1b9",
   "metadata": {},
   "outputs": [
    {
     "name": "stdout",
     "output_type": "stream",
     "text": [
      "<class 'pandas.core.frame.DataFrame'>\n",
      "Int64Index: 3060 entries, 253 to 1322977\n",
      "Data columns (total 11 columns):\n",
      " #   Column            Non-Null Count  Dtype         \n",
      "---  ------            --------------  -----         \n",
      " 0   cmplnt_fr_dt      3060 non-null   datetime64[ns]\n",
      " 1   cmplnt_fr_tm      3060 non-null   object        \n",
      " 2   ofns_desc         3060 non-null   object        \n",
      " 3   pd_desc           3060 non-null   object        \n",
      " 4   law_cat_cd        3060 non-null   object        \n",
      " 5   boro_nm           3060 non-null   object        \n",
      " 6   transit_district  3060 non-null   float64       \n",
      " 7   station           3060 non-null   object        \n",
      " 8   vic_sex           3060 non-null   object        \n",
      " 9   year              3060 non-null   int64         \n",
      " 10  month             3060 non-null   int64         \n",
      "dtypes: datetime64[ns](1), float64(1), int64(2), object(7)\n",
      "memory usage: 286.9+ KB\n"
     ]
    }
   ],
   "source": [
    "date_mask = (comp_w['year'] == 2019) & (comp_w['month'] >= 9) & (comp_w['month'] <=11)\n",
    "comp_2019 = comp_w[date_mask].copy()\n",
    "comp_2019.info()"
   ]
  },
  {
   "cell_type": "markdown",
   "id": "794617ff",
   "metadata": {},
   "source": [
    "Let's standardize those station names as best we can."
   ]
  },
  {
   "cell_type": "code",
   "execution_count": 359,
   "id": "de045949",
   "metadata": {},
   "outputs": [],
   "source": [
    "comp_2019['station'] = comp_2019['station'].str.replace('STREET','ST', regex=False)\n",
    "comp_2019['station'] = comp_2019['station'].str.replace('ST.','ST', regex=False)\n",
    "comp_2019['station'] = comp_2019['station'].str.replace('AVENUE','AV', regex=False)\n",
    "comp_2019['station'] = comp_2019['station'].str.replace('AVE.','AV', regex=False)\n",
    "comp_2019['station'] = comp_2019['station'].str.replace('.','', regex=False)\n",
    "comp_2019['station'] = comp_2019['station'].str.replace(' ROAD',' RD', regex=False)"
   ]
  },
  {
   "cell_type": "markdown",
   "id": "e478e22a",
   "metadata": {},
   "source": [
    "Which offense descriptions are in the dataset?"
   ]
  },
  {
   "cell_type": "code",
   "execution_count": 126,
   "id": "a2472235",
   "metadata": {},
   "outputs": [
    {
     "data": {
      "text/plain": [
       "GRAND LARCENY                     439\n",
       "CRIMINAL MISCHIEF & RELATED OF    426\n",
       "ASSAULT 3 & RELATED OFFENSES      403\n",
       "HARRASSMENT 2                     328\n",
       "FORGERY                           285\n",
       "PETIT LARCENY                     204\n",
       "ROBBERY                           160\n",
       "SEX CRIMES                        154\n",
       "THEFT OF SERVICES                 128\n",
       "FELONY ASSAULT                     99\n",
       "OFF. AGNST PUB ORD SENSBLTY &      79\n",
       "DANGEROUS DRUGS                    76\n",
       "OFFENSES AGAINST PUBLIC ADMINI     63\n",
       "DANGEROUS WEAPONS                  46\n",
       "MISCELLANEOUS PENAL LAW            44\n",
       "OFFENSES AGAINST THE PERSON        22\n",
       "BURGLAR'S TOOLS                    14\n",
       "OFFENSES INVOLVING FRAUD           14\n",
       "POSSESSION OF STOLEN PROPERTY      14\n",
       "OTHER OFFENSES RELATED TO THEF     14\n",
       "FRAUDS                             13\n",
       "FRAUDULENT ACCOSTING                8\n",
       "JOSTLING                            8\n",
       "CRIMINAL TRESPASS                   7\n",
       "CHILD ABANDONMENT/NON SUPPORT       1\n",
       "BURGLARY                            1\n",
       "RAPE                                1\n",
       "ADMINISTRATIVE CODE                 1\n",
       "THEFT-FRAUD                         1\n",
       "ARSON                               1\n",
       "Name: ofns_desc, dtype: int64"
      ]
     },
     "execution_count": 126,
     "metadata": {},
     "output_type": "execute_result"
    }
   ],
   "source": [
    "comp_2019['ofns_desc'].value_counts()"
   ]
  },
  {
   "cell_type": "markdown",
   "id": "d5cc2504",
   "metadata": {},
   "source": [
    "How are these distributed across the victim sex column?"
   ]
  },
  {
   "cell_type": "code",
   "execution_count": 330,
   "id": "c63b0e9f",
   "metadata": {},
   "outputs": [
    {
     "data": {
      "text/plain": [
       "<Figure size 432x288 with 0 Axes>"
      ]
     },
     "metadata": {},
     "output_type": "display_data"
    },
    {
     "data": {
      "image/png": "[encoded data removed]",
      "text/plain": [
       "<Figure size 864x576 with 1 Axes>"
      ]
     },
     "metadata": {},
     "output_type": "display_data"
    }
   ],
   "source": [
    "font = {'family':'serif','weight':'bold','size':12}\n",
    "plt.rc('font', **font)\n",
    "width = .7\n",
    "with plt.style.context('seaborn-darkgrid'):\n",
    "    f = plt.figure() \n",
    "    fig, ax = plt.subplots()\n",
    "    fig.set_size_inches(12, 8)\n",
    "    plt.gca().invert_yaxis()\n",
    "    ax.barh(comp_2019[comp_2019.vic_sex == 'M']['ofns_desc'].unique(), comp_2019[comp_2019.vic_sex == 'M']['ofns_desc'].value_counts(), width, label='MALE', color=\"#6ccfb2\")\n",
    "    ax.barh(comp_2019[comp_2019.vic_sex == 'F']['ofns_desc'].unique(), comp_2019[comp_2019.vic_sex == 'F']['ofns_desc'].value_counts(), width, label='FEMALE', color=\"#c43152\")\n",
    "\n",
    "    ax.set_ylabel('OFFENSE REPORTED')\n",
    "    ax.set_title('SUBWAY CRIMES BY VICTIM SEX, 9/19-11/19')\n",
    "    ax.legend()\n",
    "\n",
    "    plt.show()"
   ]
  },
  {
   "cell_type": "markdown",
   "id": "194eb4c6",
   "metadata": {},
   "source": [
    "We'll filter out the offenses that aren't committed particularly against women, like burglary, later on. For now, let's look at the unique station names for the complaints dataset, to figure out how to match up those names with the turnstiles dataset as much as possible."
   ]
  },
  {
   "cell_type": "code",
   "execution_count": 149,
   "id": "d88f4574",
   "metadata": {},
   "outputs": [],
   "source": [
    "comp_station_array = comp_2019['station'].unique()"
   ]
  },
  {
   "cell_type": "code",
   "execution_count": 150,
   "id": "7f3c924c",
   "metadata": {},
   "outputs": [
    {
     "data": {
      "text/plain": [
       "array(['1 AV', '102 ST', '103 ST', '103 ST-CORONA PLAZA', '104 ST',\n",
       "       '110 ST', '110 ST-CATHEDRAL PKWY', '110 ST-CENTRAL PARK NORTH',\n",
       "       '111 ST', '116 ST', '116 ST-COLUMBIA UNIVERSITY', '121 ST',\n",
       "       '125 ST', '135 ST', '137 ST-CITY COLLEGE',\n",
       "       '138 ST-GRAND CONCOURSE', '14 ST', '14 ST-UNION SQUARE', '145 ST',\n",
       "       '148 ST-HARLEM', '149 ST-GRAND CONCOURSE', '15 ST-PROSPECT PARK',\n",
       "       '155 ST', '157 ST', '161 ST-YANKEE STADIUM', '163 ST-AMSTERDAM AV',\n",
       "       '167 ST', '168 ST-WASHINGTON HTS', '169 ST', '170 ST',\n",
       "       '174-175 STS', '175 ST', '176 ST', '179 ST-JAMAICA', '18 AV',\n",
       "       '18 ST', '181 ST', '182-183 STS', '183 ST', '190 ST', '2 AV',\n",
       "       '20 AV', '200 ST-DYCKMAN ST', '205 ST-NORWOOD', '207 ST',\n",
       "       '207 ST-INWOOD', '21 ST', '21 ST-QUEENSBRIDGE', '225 ST',\n",
       "       '225 ST-MARBLE HILL', '23 ST', '23 ST-ELY AV', '231 ST', '238 ST',\n",
       "       '238 ST-NEREID AV', '241 ST-WAKEFIELD',\n",
       "       '242 ST-VAN CORTLANDT PARK', '25 AV', '25 ST', '28 ST', '3 AV',\n",
       "       '3 AV-138 ST', '3 AV-149 ST', '30 AV', '33 ST', '34 ST',\n",
       "       '34 ST-HERALD SQ', '34 ST-PENN STATION', '36 ST', '4 AV-9 ST',\n",
       "       '40 ST', '42 ST', '42 ST-GRAND CENTRAL',\n",
       "       '42 ST-PORT AUTHORITY BUS TERM', '42 ST-TIMES SQUARE',\n",
       "       '45 RD-COURT HOUSE SQUARE', '45 ST', '46 ST',\n",
       "       '47-50 STS/ROCKEFELLER CTR', '49 ST', '5 AV', '50 ST', '51 ST',\n",
       "       '53 ST', '55 ST', '57 ST', '59 ST', '59 ST-COLUMBUS CIRCLE',\n",
       "       '6 AV', '61 ST-WOODSIDE', '62 ST', '63 DRIVE-REGO PARK',\n",
       "       '66 ST-LINCOLN CENTER', '67 AV', '68 ST-HUNTER COLLEGE', '69 ST',\n",
       "       '7 AV', '71 AV-FOREST HILLS', '72 ST', '72ND ST', '74 ST-BROADWAY',\n",
       "       '75 AV', '75 ST-ELDERTS LANE', '77 ST', '79 ST', '7TH AV', '8 AV',\n",
       "       '8 ST-NYU', '80 ST', '81 ST-MUSEUM OF NATURAL HISTO',\n",
       "       '82 ST-JACKSON HEIGHTS', '85 ST-FOREST PKWY', '86 ST', '86TH ST',\n",
       "       '9 AV', '90 ST-ELMHURST AV', '95 ST-BAY RIDGE', '96 ST', '96TH ST',\n",
       "       '9TH ST', 'ALABAMA AV', 'ALLERTON AV', 'AQUEDUCT-NORTH CONDUIT AV',\n",
       "       'ASTOR PLACE', 'ASTORIA BLVD', 'ATLANTIC AV', 'AV \"H\"', 'AV \"I\"',\n",
       "       'AV \"J\"', 'AV \"M\"', 'AV \"N\"', 'AV \"U\"', 'AV \"X\"', 'BAY 50 ST',\n",
       "       'BAY PARKWAY', 'BAYCHESTER AV', 'BEACH 25 ST', 'BEACH 36 ST',\n",
       "       'BEACH 44 ST', 'BEACH 60 ST', 'BEACH 67 ST', 'BEACH 90 ST',\n",
       "       'BEACH 98 ST', 'BEDFORD AV', 'BEDFORD PK BLVD',\n",
       "       'BEDFORD PK BLVD-LEHMAN COLLE', 'BEDFORD-NOSTRAND AVS',\n",
       "       'BERGEN ST', 'BEVERLEY RD', 'BEVERLY RD', 'BLEECKER ST',\n",
       "       'BOROUGH HALL', 'BOTANIC GARDEN', 'BOWERY', 'BOWLING GREEN',\n",
       "       'BRIGHTON BEACH', 'BROAD CHANNEL', 'BROAD ST', 'BROADWAY',\n",
       "       'BROADWAY-EAST NEW YORK', 'BROADWAY-EASTERN PKWY',\n",
       "       'BROADWAY/LAFAYETTE', 'BROADWAY/NASSAU', 'BROOK AV',\n",
       "       'BROOKLYN BRIDGE-CITY HALL', 'BURKE AV', 'BURNSIDE AV',\n",
       "       'BUSHWICK AV-ABERDEEN ST', 'CANAL ST', 'CARROLL ST',\n",
       "       'CASTLE HILL AV', 'CENTRAL AV', 'CHAMBERS ST',\n",
       "       'CHAMBERS ST-WORLD TRADE CENTE', 'CHAUNCEY ST',\n",
       "       'CHRISTOPHER ST-SHERIDAN SQ', 'CHURCH AV', 'CITY HALL', 'CLARK ST',\n",
       "       'CLASSON AV', 'CLEVELAND ST', 'CLINTON-WASHINGTON AVS',\n",
       "       'CORTELYOU RD', 'CORTLANDT ST', 'COURT SQUARE', 'COURT ST',\n",
       "       'CRESCENT ST', 'CYPRESS AV', 'CYPRESS HILLS', 'DEKALB AV',\n",
       "       'DELANCEY ST', 'DITMARS BLVD-ASTORIA', 'DITMAS AV',\n",
       "       'DYRE AV-EASTCHESTER', 'EAST 105 ST', \"EAST 143 ST-ST MARY'S ST\",\n",
       "       'EAST 149 ST', 'EAST 174 ST', 'EAST 177 ST-PARKCHESTER',\n",
       "       'EAST 180 ST', 'EAST BROADWAY', 'EAST TREMONT AV-WEST FARMS S',\n",
       "       'EAST TREMONT AV-WESTCHESTER S', 'EASTERN PKWY-BROOKLYN MUSEUM',\n",
       "       'ELDER AV', 'ELMHURST AV', 'ESSEX ST', 'EUCLID AV',\n",
       "       'FAR ROCKAWAY-MOTT AV', 'FLATBUSH AV-BROOKLYN COLLEGE',\n",
       "       'FLUSHING AV', 'FORDHAM RD', 'FORT HAMILTON PKWY', 'FRANKLIN AV',\n",
       "       'FRANKLIN ST', 'FREEMAN ST', 'FRESH POND RD', 'FULTON ST',\n",
       "       'GATES AV', 'GRAHAM AV', 'GRAND ARMY PLAZA', 'GRAND ST',\n",
       "       'GRANT AV', 'GREENPOINT AV', 'GUN HILL RD', 'HALSEY ST',\n",
       "       'HEWES ST', 'HIGH ST', 'HOUSTON ST', 'HOWARD BEACH-JFK AIRPORT',\n",
       "       'HOYT ST', 'HOYT-SCHERMERHORN', 'HUNTS POINT AV', 'INTERVALE AV',\n",
       "       'JACKSON AV', 'JAMAICA-VAN WYCK', 'JAY ST-BOROUGH HALL',\n",
       "       'JEFFERSON ST', 'JUNCTION BLVD', 'JUNIUS ST', 'KINGS HIGHWAY',\n",
       "       'KINGSBRIDGE RD', 'KINGSTON AV', 'KINGSTON-THROOP AVS',\n",
       "       'KNICKERBOCKER AV', 'KOSCIUSKO ST', 'LAFAYETTE AV', 'LAWRENCE ST',\n",
       "       'LEFFERTS BLVD', 'LEXINGTON AV', 'LIBERTY AV', 'LIVONIA AV',\n",
       "       'LONGWOOD AV', 'LORIMER ST', 'MAIN ST-FLUSHING', 'MARCY AV',\n",
       "       'METROPOLITAN AV', 'MIDDLETOWN RD', 'MONTROSE AV', 'MORGAN AV',\n",
       "       'MORRIS PARK', 'MOSHOLU PKWY', 'MT EDEN AV', 'MYRTLE AV',\n",
       "       'MYRTLE-WILLOUGHBY AVS', 'MYRTLE/WYCKOFF AVS', 'NASSAU AV',\n",
       "       'NECK RD', 'NEPTUNE AV', 'NEVINS ST', 'NEW LOTS AV',\n",
       "       'NEW UTRECHT AV', 'NEWKIRK AV', 'NOSTRAND AV', 'OCEAN PKWY',\n",
       "       'PACIFIC ST', 'PARK PLACE', 'PARKSIDE AV', 'PARSONS BLVD',\n",
       "       'PARSONS/ARCHER-JAMAICA CENTER', 'PELHAM BAY PARK', 'PELHAM PKWY',\n",
       "       'PENNSYLVANIA AV', 'PRESIDENT ST', 'PRINCE ST', 'PROSPECT AV',\n",
       "       'PROSPECT PARK', 'QUEENS PLAZA', 'QUEENSBORO PLAZA', 'RALPH AV',\n",
       "       'RECTOR ST', 'ROCKAWAY AV', 'ROCKAWAY BLVD',\n",
       "       'ROCKAWAY PARK-BEACH 116 ST', 'ROCKAWAY PKWY-CANARSIE',\n",
       "       'ROOSEVELT AV-JACKSON HEIGHTS', 'ROOSEVELT ISLAND', 'SARATOGA AV',\n",
       "       'SHEEPSHEAD BAY', 'SHEPHERD AV', 'SIMPSON ST', 'SMITH-9 STS',\n",
       "       'SOUNDVIEW AV', 'SOUTH FERRY', 'SPRING ST', 'ST LAWRENCE AV',\n",
       "       'STEINWAY ST', 'STILLWELL AV-CONEY ISLAND', 'SUTPHIN BLVD',\n",
       "       'SUTPHIN BLVD-ARCHER AV', 'SUTTER AV', 'SUTTER AV-RUTLAND RD',\n",
       "       'TREMONT AV', 'UNION SQUARE', 'UNION ST',\n",
       "       'UNION TURNPIKE-KEW GARDENS', 'UTICA AV', 'UTICA AV-CROWN HEIGHTS',\n",
       "       'VAN SICLEN AV', 'W 4 ST', 'WALL ST', 'WEST 34 ST/HUDSON YARDS',\n",
       "       'WEST 8 ST-NY AQUARIUM', 'WHITEHALL ST-SOUTH FERRY',\n",
       "       'WILLETS POINT-SHEA STADIUM', 'WILSON AV', 'WINTHROP ST',\n",
       "       'WOODHAVEN BLVD', 'WOODLAWN', 'WYCKOFF AV', 'ZEREGA AV'],\n",
       "      dtype=object)"
      ]
     },
     "execution_count": 150,
     "metadata": {},
     "output_type": "execute_result"
    }
   ],
   "source": [
    "comp_station_array.sort()\n",
    "comp_station_array\n"
   ]
  },
  {
   "cell_type": "code",
   "execution_count": 151,
   "id": "9e83d340",
   "metadata": {},
   "outputs": [
    {
     "data": {
      "text/plain": [
       "array(['1 AV', '103 ST', '103 ST-CORONA', '104 ST', '110 ST', '111 ST',\n",
       "       '116 ST', '116 ST-COLUMBIA', '121 ST', '125 ST', '135 ST',\n",
       "       '137 ST CITY COL', '138/GRAND CONC', '14 ST', '14 ST-UNION SQ',\n",
       "       '145 ST', '149/GRAND CONC', '14TH STREET', '15 ST-PROSPECT',\n",
       "       '155 ST', '157 ST', '161/YANKEE STAD', '163 ST-AMSTERDM', '167 ST',\n",
       "       '168 ST', '169 ST', '170 ST', '174 ST', '174-175 STS', '175 ST',\n",
       "       '176 ST', '18 AV', '18 ST', '181 ST', '182-183 STS', '183 ST',\n",
       "       '190 ST', '191 ST', '2 AV', '20 AV', '207 ST', '21 ST',\n",
       "       '21 ST-QNSBRIDGE', '215 ST', '219 ST', '225 ST', '23 ST', '231 ST',\n",
       "       '233 ST', '238 ST', '25 AV', '25 ST', '28 ST', '3 AV',\n",
       "       '3 AV 138 ST', '3 AV-149 ST', '30 AV', '33 ST', '33 ST-RAWSON ST',\n",
       "       '34 ST-HERALD SQ', '34 ST-HUDSON YD', '34 ST-PENN STA', '36 AV',\n",
       "       '36 ST', '39 AV', '4 AV-9 ST', '40 ST LOWERY ST',\n",
       "       '42 ST-BRYANT PK', '42 ST-PORT AUTH', '45 ST', '46 ST',\n",
       "       '46 ST BLISS ST', '47-50 STS ROCK', '49 ST', '4AV-9 ST', '5 AV',\n",
       "       '5 AV/53 ST', '5 AV/59 ST', '50 ST', '51 ST', '52 ST', '53 ST',\n",
       "       '55 ST', '57 ST', '57 ST-7 AV', '59 ST', '59 ST COLUMBUS', '6 AV',\n",
       "       '61 ST WOODSIDE', '63 DR-REGO PARK', '65 ST', '66 ST-LINCOLN',\n",
       "       '67 AV', '68ST-HUNTER CO', '69 ST', '7 AV', '71 ST', '72 ST',\n",
       "       '72 ST-2 AV', '74 ST-BROADWAY', '75 AV', '75 ST-ELDERTS', '77 ST',\n",
       "       '79 ST', '8 AV', '8 ST-NYU', '80 ST', '81 ST-MUSEUM',\n",
       "       '82 ST-JACKSON H', '85 ST-FOREST PK', '86 ST', '86 ST-2 AV',\n",
       "       '88 ST', '9 AV', '90 ST-ELMHURST', '96 ST', '96 ST-2 AV',\n",
       "       '9TH STREET', 'ALABAMA AV', 'ALLERTON AV', 'AQUEDUCT NCOND',\n",
       "       'AQUEDUCT RACETR', 'ASTOR PL', 'ASTORIA DITMARS', 'ATL AV-BARCLAY',\n",
       "       'ATLANTIC AV', 'AV H', 'AV I', 'AV J', 'AV M', 'AV N', 'AV P',\n",
       "       'AV U', 'AV X', \"B'WAY-LAFAYETTE\", 'BAY 50 ST', 'BAY PKWY',\n",
       "       'BAY RIDGE AV', 'BAY RIDGE-95 ST', 'BAYCHESTER AV', 'BEACH 105 ST',\n",
       "       'BEACH 25 ST', 'BEACH 36 ST', 'BEACH 44 ST', 'BEACH 60 ST',\n",
       "       'BEACH 67 ST', 'BEACH 90 ST', 'BEACH 98 ST', 'BEDFORD AV',\n",
       "       'BEDFORD PK BLVD', 'BEDFORD-NOSTRAN', 'BERGEN ST', 'BEVERLEY RD',\n",
       "       'BEVERLY RD', 'BLEECKER ST', 'BOROUGH HALL', 'BOTANIC GARDEN',\n",
       "       'BOWERY', 'BOWLING GREEN', 'BRIARWOOD', 'BRIGHTON BEACH',\n",
       "       'BROAD CHANNEL', 'BROAD ST', 'BROADWAY', 'BROADWAY JCT',\n",
       "       'BRONX PARK EAST', 'BROOK AV', 'BROOKLYN BRIDGE', 'BUHRE AV',\n",
       "       'BURKE AV', 'BURNSIDE AV', 'BUSHWICK AV', 'CANAL ST',\n",
       "       'CANARSIE-ROCKAW', 'CARROLL ST', 'CASTLE HILL AV',\n",
       "       'CATHEDRAL PKWY', 'CENTRAL AV', 'CENTRAL PK N110', 'CHAMBERS ST',\n",
       "       'CHAUNCEY ST', 'CHRISTOPHER ST', 'CHURCH AV', 'CITY / BUS',\n",
       "       'CITY HALL', 'CLARK ST', 'CLASSON AV', 'CLEVELAND ST',\n",
       "       'CLINTON-WASH AV', 'CONEY IS-STILLW', 'CORTELYOU RD',\n",
       "       'CORTLANDT ST', 'COURT SQ', 'COURT SQ-23 ST', 'CRESCENT ST',\n",
       "       'CROWN HTS-UTICA', 'CYPRESS AV', 'CYPRESS HILLS', 'DEKALB AV',\n",
       "       'DELANCEY/ESSEX', 'DITMAS AV', 'DYCKMAN ST', \"E 143/ST MARY'S\",\n",
       "       'E 149 ST', 'E 180 ST', 'EAST 105 ST', 'EAST BROADWAY',\n",
       "       'EASTCHSTER/DYRE', 'EASTN PKWY-MUSM', 'ELDER AV', 'ELMHURST AV',\n",
       "       'EUCLID AV', 'EXCHANGE PLACE', 'FAR ROCKAWAY', 'FLATBUSH AV-BC',\n",
       "       'FLUSHING AV', 'FLUSHING-MAIN', 'FORDHAM RD', 'FOREST AV',\n",
       "       'FOREST HILLS 71', 'FRANKLIN AV', 'FRANKLIN ST', 'FREEMAN ST',\n",
       "       'FRESH POND RD', 'FT HAMILTON PKY', 'FULTON ST', 'GATES AV',\n",
       "       'GRAHAM AV', 'GRAND ARMY PLAZ', 'GRAND ST', 'GRAND-NEWTOWN',\n",
       "       'GRANT AV', 'GRD CNTRL-42 ST', 'GREENPOINT AV', 'GROVE STREET',\n",
       "       'GUN HILL RD', 'HALSEY ST', 'HARLEM 148 ST', 'HARRISON',\n",
       "       'HEWES ST', 'HIGH ST', 'HOUSTON ST', 'HOWARD BCH JFK', 'HOYT ST',\n",
       "       'HOYT-SCHER', 'HUNTERS PT AV', 'HUNTS POINT AV', 'INTERVALE AV',\n",
       "       'INWOOD-207 ST', 'JACKSON AV', 'JAMAICA 179 ST', 'JAMAICA CENTER',\n",
       "       'JAMAICA VAN WK', 'JAY ST-METROTEC', 'JEFFERSON ST',\n",
       "       'JFK JAMAICA CT1', 'JKSN HT-ROOSVLT', 'JOURNAL SQUARE',\n",
       "       'JUNCTION BLVD', 'JUNIUS ST', 'KEW GARDENS', 'KINGS HWY',\n",
       "       'KINGSBRIDGE RD', 'KINGSTON AV', 'KINGSTON-THROOP',\n",
       "       'KNICKERBOCKER', 'KOSCIUSZKO ST', 'LACKAWANNA', 'LAFAYETTE AV',\n",
       "       'LEXINGTON AV/53', 'LEXINGTON AV/63', 'LIBERTY AV', 'LIVONIA AV',\n",
       "       'LONGWOOD AV', 'LORIMER ST', 'MARBLE HILL-225', 'MARCY AV',\n",
       "       'METROPOLITAN AV', 'METS-WILLETS PT', 'MIDDLETOWN RD',\n",
       "       'MONTROSE AV', 'MORGAN AV', 'MORISN AV/SNDVW', 'MORRIS PARK',\n",
       "       'MOSHOLU PKWY', 'MT EDEN AV', 'MYRTLE AV', 'MYRTLE-WILLOUGH',\n",
       "       'MYRTLE-WYCKOFF', 'NASSAU AV', 'NECK RD', 'NEPTUNE AV',\n",
       "       'NEREID AV', 'NEVINS ST', 'NEW LOTS', 'NEW LOTS AV',\n",
       "       'NEW UTRECHT AV', 'NEWARK BM BW', 'NEWARK C', 'NEWARK HM HE',\n",
       "       'NEWARK HW BMEBE', 'NEWKIRK AV', 'NEWKIRK PLAZA', 'NORTHERN BLVD',\n",
       "       'NORWOOD 205 ST', 'NORWOOD AV', 'NOSTRAND AV', 'OCEAN PKWY',\n",
       "       'ORCHARD BEACH', 'OZONE PK LEFFRT', 'PARK PLACE', 'PARKCHESTER',\n",
       "       'PARKSIDE AV', 'PARSONS BLVD', 'PATH NEW WTC', 'PATH WTC 2',\n",
       "       'PAVONIA/NEWPORT', 'PELHAM BAY PARK', 'PELHAM PKWY',\n",
       "       'PENNSYLVANIA AV', 'PRESIDENT ST', 'PRINCE ST', 'PROSPECT AV',\n",
       "       'PROSPECT PARK', 'QUEENS PLAZA', 'QUEENSBORO PLZ', 'RALPH AV',\n",
       "       'RECTOR ST', 'RIT-MANHATTAN', 'RIT-ROOSEVELT', 'ROCKAWAY AV',\n",
       "       'ROCKAWAY BLVD', 'ROCKAWAY PARK B', 'ROOSEVELT ISLND',\n",
       "       'SARATOGA AV', 'SENECA AV', 'SHEEPSHEAD BAY', 'SHEPHERD AV',\n",
       "       'SIMPSON ST', 'SMITH-9 ST', 'SOUTH FERRY', 'SPRING ST',\n",
       "       'ST GEORGE', 'ST LAWRENCE AV', 'STEINWAY ST', 'STERLING ST',\n",
       "       'SUTPHIN BLVD', 'SUTPHIN-ARCHER', 'SUTTER AV', 'SUTTER AV-RUTLD',\n",
       "       'THIRTY ST', 'THIRTY THIRD ST', 'TIMES SQ-42 ST', 'TOMPKINSVILLE',\n",
       "       'TREMONT AV', 'TWENTY THIRD ST', 'UNION ST', 'UTICA AV',\n",
       "       'VAN SICLEN AV', 'VCORTLANDT PK', 'VERNON-JACKSON',\n",
       "       'W 4 ST-WASH SQ', 'W 8 ST-AQUARIUM', 'WAKEFIELD/241', 'WALL ST',\n",
       "       'WEST FARMS SQ', 'WESTCHESTER SQ', 'WHITEHALL S-FRY',\n",
       "       'WHITLOCK AV', 'WILSON AV', 'WINTHROP ST', 'WOODHAVN BLVD',\n",
       "       'WOODLAWN', 'WORLD TRADE CTR', 'WTC-CORTLANDT', 'YORK ST',\n",
       "       'ZEREGA AV'], dtype=object)"
      ]
     },
     "execution_count": 151,
     "metadata": {},
     "output_type": "execute_result"
    }
   ],
   "source": [
    "station_array"
   ]
  },
  {
   "cell_type": "markdown",
   "id": "fc2a65d8",
   "metadata": {},
   "source": [
    "How many stations are already matching up, given the replacements we've already done programmatically? Let's make a dictionary to store those."
   ]
  },
  {
   "cell_type": "code",
   "execution_count": 152,
   "id": "e413ef30",
   "metadata": {},
   "outputs": [],
   "source": [
    "unique_stations = np.setxor1d(comp_station_array, station_array)\n",
    "common_stations = list(set(comp_station_array) & set(station_array))"
   ]
  },
  {
   "cell_type": "code",
   "execution_count": 153,
   "id": "b65a4ad8",
   "metadata": {},
   "outputs": [
    {
     "name": "stdout",
     "output_type": "stream",
     "text": [
      "302\n",
      "['102 ST' '103 ST-CORONA' '103 ST-CORONA PLAZA' '110 ST-CATHEDRAL PKWY'\n",
      " '110 ST-CENTRAL PARK NORTH' '116 ST-COLUMBIA'\n",
      " '116 ST-COLUMBIA UNIVERSITY' '137 ST CITY COL' '137 ST-CITY COLLEGE'\n",
      " '138 ST-GRAND CONCOURSE' '138/GRAND CONC' '14 ST-UNION SQ'\n",
      " '14 ST-UNION SQUARE' '148 ST-HARLEM' '149 ST-GRAND CONCOURSE'\n",
      " '149/GRAND CONC' '14TH STREET' '15 ST-PROSPECT' '15 ST-PROSPECT PARK'\n",
      " '161 ST-YANKEE STADIUM' '161/YANKEE STAD' '163 ST-AMSTERDAM AV'\n",
      " '163 ST-AMSTERDM' '168 ST' '168 ST-WASHINGTON HTS' '174 ST'\n",
      " '179 ST-JAMAICA' '191 ST' '200 ST-DYCKMAN ST' '205 ST-NORWOOD'\n",
      " '207 ST-INWOOD' '21 ST-QNSBRIDGE' '21 ST-QUEENSBRIDGE' '215 ST' '219 ST'\n",
      " '225 ST-MARBLE HILL' '23 ST-ELY AV' '233 ST' '238 ST-NEREID AV'\n",
      " '241 ST-WAKEFIELD' '242 ST-VAN CORTLANDT PARK' '3 AV 138 ST'\n",
      " '3 AV-138 ST' '33 ST-RAWSON ST' '34 ST' '34 ST-HUDSON YD'\n",
      " '34 ST-PENN STA' '34 ST-PENN STATION' '36 AV' '39 AV' '40 ST'\n",
      " '40 ST LOWERY ST' '42 ST' '42 ST-BRYANT PK' '42 ST-GRAND CENTRAL'\n",
      " '42 ST-PORT AUTH' '42 ST-PORT AUTHORITY BUS TERM' '42 ST-TIMES SQUARE'\n",
      " '45 RD-COURT HOUSE SQUARE' '46 ST BLISS ST' '47-50 STS ROCK'\n",
      " '47-50 STS/ROCKEFELLER CTR' '4AV-9 ST' '5 AV/53 ST' '5 AV/59 ST' '52 ST'\n",
      " '57 ST-7 AV' '59 ST COLUMBUS' '59 ST-COLUMBUS CIRCLE' '61 ST WOODSIDE'\n",
      " '61 ST-WOODSIDE' '62 ST' '63 DR-REGO PARK' '63 DRIVE-REGO PARK' '65 ST'\n",
      " '66 ST-LINCOLN' '66 ST-LINCOLN CENTER' '68 ST-HUNTER COLLEGE'\n",
      " '68ST-HUNTER CO' '71 AV-FOREST HILLS' '71 ST' '72 ST-2 AV' '72ND ST'\n",
      " '75 ST-ELDERTS' '75 ST-ELDERTS LANE' '7TH AV' '81 ST-MUSEUM'\n",
      " '81 ST-MUSEUM OF NATURAL HISTO' '82 ST-JACKSON H' '82 ST-JACKSON HEIGHTS'\n",
      " '85 ST-FOREST PK' '85 ST-FOREST PKWY' '86 ST-2 AV' '86TH ST' '88 ST'\n",
      " '90 ST-ELMHURST' '90 ST-ELMHURST AV' '95 ST-BAY RIDGE' '96 ST-2 AV'\n",
      " '96TH ST' '9TH ST' '9TH STREET' 'AQUEDUCT NCOND' 'AQUEDUCT RACETR'\n",
      " 'AQUEDUCT-NORTH CONDUIT AV' 'ASTOR PL' 'ASTOR PLACE' 'ASTORIA BLVD'\n",
      " 'ASTORIA DITMARS' 'ATL AV-BARCLAY' 'AV \"H\"' 'AV \"I\"' 'AV \"J\"' 'AV \"M\"'\n",
      " 'AV \"N\"' 'AV \"U\"' 'AV \"X\"' 'AV H' 'AV I' 'AV J' 'AV M' 'AV N' 'AV P'\n",
      " 'AV U' 'AV X' \"B'WAY-LAFAYETTE\" 'BAY PARKWAY' 'BAY PKWY' 'BAY RIDGE AV'\n",
      " 'BAY RIDGE-95 ST' 'BEACH 105 ST' 'BEDFORD PK BLVD-LEHMAN COLLE'\n",
      " 'BEDFORD-NOSTRAN' 'BEDFORD-NOSTRAND AVS' 'BRIARWOOD' 'BROADWAY JCT'\n",
      " 'BROADWAY-EAST NEW YORK' 'BROADWAY-EASTERN PKWY' 'BROADWAY/LAFAYETTE'\n",
      " 'BROADWAY/NASSAU' 'BRONX PARK EAST' 'BROOKLYN BRIDGE'\n",
      " 'BROOKLYN BRIDGE-CITY HALL' 'BUHRE AV' 'BUSHWICK AV'\n",
      " 'BUSHWICK AV-ABERDEEN ST' 'CANARSIE-ROCKAW' 'CATHEDRAL PKWY'\n",
      " 'CENTRAL PK N110' 'CHAMBERS ST-WORLD TRADE CENTE' 'CHRISTOPHER ST'\n",
      " 'CHRISTOPHER ST-SHERIDAN SQ' 'CITY / BUS' 'CLINTON-WASH AV'\n",
      " 'CLINTON-WASHINGTON AVS' 'CONEY IS-STILLW' 'COURT SQ' 'COURT SQ-23 ST'\n",
      " 'COURT SQUARE' 'COURT ST' 'CROWN HTS-UTICA' 'DELANCEY ST'\n",
      " 'DELANCEY/ESSEX' 'DITMARS BLVD-ASTORIA' 'DYCKMAN ST'\n",
      " 'DYRE AV-EASTCHESTER' \"E 143/ST MARY'S\" 'E 149 ST' 'E 180 ST'\n",
      " \"EAST 143 ST-ST MARY'S ST\" 'EAST 149 ST' 'EAST 174 ST'\n",
      " 'EAST 177 ST-PARKCHESTER' 'EAST 180 ST' 'EAST TREMONT AV-WEST FARMS S'\n",
      " 'EAST TREMONT AV-WESTCHESTER S' 'EASTCHSTER/DYRE'\n",
      " 'EASTERN PKWY-BROOKLYN MUSEUM' 'EASTN PKWY-MUSM' 'ESSEX ST'\n",
      " 'EXCHANGE PLACE' 'FAR ROCKAWAY' 'FAR ROCKAWAY-MOTT AV' 'FLATBUSH AV-BC'\n",
      " 'FLATBUSH AV-BROOKLYN COLLEGE' 'FLUSHING-MAIN' 'FOREST AV'\n",
      " 'FOREST HILLS 71' 'FORT HAMILTON PKWY' 'FT HAMILTON PKY'\n",
      " 'GRAND ARMY PLAZ' 'GRAND ARMY PLAZA' 'GRAND-NEWTOWN' 'GRD CNTRL-42 ST'\n",
      " 'GROVE STREET' 'HARLEM 148 ST' 'HARRISON' 'HOWARD BCH JFK'\n",
      " 'HOWARD BEACH-JFK AIRPORT' 'HOYT-SCHER' 'HOYT-SCHERMERHORN'\n",
      " 'HUNTERS PT AV' 'INWOOD-207 ST' 'JAMAICA 179 ST' 'JAMAICA CENTER'\n",
      " 'JAMAICA VAN WK' 'JAMAICA-VAN WYCK' 'JAY ST-BOROUGH HALL'\n",
      " 'JAY ST-METROTEC' 'JFK JAMAICA CT1' 'JKSN HT-ROOSVLT' 'JOURNAL SQUARE'\n",
      " 'KEW GARDENS' 'KINGS HIGHWAY' 'KINGS HWY' 'KINGSTON-THROOP'\n",
      " 'KINGSTON-THROOP AVS' 'KNICKERBOCKER' 'KNICKERBOCKER AV' 'KOSCIUSKO ST'\n",
      " 'KOSCIUSZKO ST' 'LACKAWANNA' 'LAWRENCE ST' 'LEFFERTS BLVD' 'LEXINGTON AV'\n",
      " 'LEXINGTON AV/53' 'LEXINGTON AV/63' 'MAIN ST-FLUSHING' 'MARBLE HILL-225'\n",
      " 'METS-WILLETS PT' 'MORISN AV/SNDVW' 'MYRTLE-WILLOUGH'\n",
      " 'MYRTLE-WILLOUGHBY AVS' 'MYRTLE-WYCKOFF' 'MYRTLE/WYCKOFF AVS' 'NEREID AV'\n",
      " 'NEW LOTS' 'NEWARK BM BW' 'NEWARK C' 'NEWARK HM HE' 'NEWARK HW BMEBE'\n",
      " 'NEWKIRK PLAZA' 'NORTHERN BLVD' 'NORWOOD 205 ST' 'NORWOOD AV'\n",
      " 'ORCHARD BEACH' 'OZONE PK LEFFRT' 'PACIFIC ST' 'PARKCHESTER'\n",
      " 'PARSONS/ARCHER-JAMAICA CENTER' 'PATH NEW WTC' 'PATH WTC 2'\n",
      " 'PAVONIA/NEWPORT' 'QUEENSBORO PLAZA' 'QUEENSBORO PLZ' 'RIT-MANHATTAN'\n",
      " 'RIT-ROOSEVELT' 'ROCKAWAY PARK B' 'ROCKAWAY PARK-BEACH 116 ST'\n",
      " 'ROCKAWAY PKWY-CANARSIE' 'ROOSEVELT AV-JACKSON HEIGHTS'\n",
      " 'ROOSEVELT ISLAND' 'ROOSEVELT ISLND' 'SENECA AV' 'SMITH-9 ST'\n",
      " 'SMITH-9 STS' 'SOUNDVIEW AV' 'ST GEORGE' 'STERLING ST'\n",
      " 'STILLWELL AV-CONEY ISLAND' 'SUTPHIN BLVD-ARCHER AV' 'SUTPHIN-ARCHER'\n",
      " 'SUTTER AV-RUTLAND RD' 'SUTTER AV-RUTLD' 'THIRTY ST' 'THIRTY THIRD ST'\n",
      " 'TIMES SQ-42 ST' 'TOMPKINSVILLE' 'TWENTY THIRD ST' 'UNION SQUARE'\n",
      " 'UNION TURNPIKE-KEW GARDENS' 'UTICA AV-CROWN HEIGHTS' 'VCORTLANDT PK'\n",
      " 'VERNON-JACKSON' 'W 4 ST' 'W 4 ST-WASH SQ' 'W 8 ST-AQUARIUM'\n",
      " 'WAKEFIELD/241' 'WEST 34 ST/HUDSON YARDS' 'WEST 8 ST-NY AQUARIUM'\n",
      " 'WEST FARMS SQ' 'WESTCHESTER SQ' 'WHITEHALL S-FRY'\n",
      " 'WHITEHALL ST-SOUTH FERRY' 'WHITLOCK AV' 'WILLETS POINT-SHEA STADIUM'\n",
      " 'WOODHAVEN BLVD' 'WOODHAVN BLVD' 'WORLD TRADE CTR' 'WTC-CORTLANDT'\n",
      " 'WYCKOFF AV' 'YORK ST']\n",
      "203\n",
      "['1 AV', '103 ST', '104 ST', '110 ST', '111 ST', '116 ST', '121 ST', '125 ST', '135 ST', '14 ST', '145 ST', '155 ST', '157 ST', '167 ST', '169 ST', '170 ST', '174-175 STS', '175 ST', '176 ST', '18 AV', '18 ST', '181 ST', '182-183 STS', '183 ST', '190 ST', '2 AV', '20 AV', '207 ST', '21 ST', '225 ST', '23 ST', '231 ST', '238 ST', '25 AV', '25 ST', '28 ST', '3 AV', '3 AV-149 ST', '30 AV', '33 ST', '34 ST-HERALD SQ', '36 ST', '4 AV-9 ST', '45 ST', '46 ST', '49 ST', '5 AV', '50 ST', '51 ST', '53 ST', '55 ST', '57 ST', '59 ST', '6 AV', '67 AV', '69 ST', '7 AV', '72 ST', '74 ST-BROADWAY', '75 AV', '77 ST', '79 ST', '8 AV', '8 ST-NYU', '80 ST', '86 ST', '9 AV', '96 ST', 'ALABAMA AV', 'ALLERTON AV', 'ATLANTIC AV', 'BAY 50 ST', 'BAYCHESTER AV', 'BEACH 25 ST', 'BEACH 36 ST', 'BEACH 44 ST', 'BEACH 60 ST', 'BEACH 67 ST', 'BEACH 90 ST', 'BEACH 98 ST', 'BEDFORD AV', 'BEDFORD PK BLVD', 'BERGEN ST', 'BEVERLEY RD', 'BEVERLY RD', 'BLEECKER ST', 'BOROUGH HALL', 'BOTANIC GARDEN', 'BOWERY', 'BOWLING GREEN', 'BRIGHTON BEACH', 'BROAD CHANNEL', 'BROAD ST', 'BROADWAY', 'BROOK AV', 'BURKE AV', 'BURNSIDE AV', 'CANAL ST', 'CARROLL ST', 'CASTLE HILL AV', 'CENTRAL AV', 'CHAMBERS ST', 'CHAUNCEY ST', 'CHURCH AV', 'CITY HALL', 'CLARK ST', 'CLASSON AV', 'CLEVELAND ST', 'CORTELYOU RD', 'CORTLANDT ST', 'CRESCENT ST', 'CYPRESS AV', 'CYPRESS HILLS', 'DEKALB AV', 'DITMAS AV', 'EAST 105 ST', 'EAST BROADWAY', 'ELDER AV', 'ELMHURST AV', 'EUCLID AV', 'FLUSHING AV', 'FORDHAM RD', 'FRANKLIN AV', 'FRANKLIN ST', 'FREEMAN ST', 'FRESH POND RD', 'FULTON ST', 'GATES AV', 'GRAHAM AV', 'GRAND ST', 'GRANT AV', 'GREENPOINT AV', 'GUN HILL RD', 'HALSEY ST', 'HEWES ST', 'HIGH ST', 'HOUSTON ST', 'HOYT ST', 'HUNTS POINT AV', 'INTERVALE AV', 'JACKSON AV', 'JEFFERSON ST', 'JUNCTION BLVD', 'JUNIUS ST', 'KINGSBRIDGE RD', 'KINGSTON AV', 'LAFAYETTE AV', 'LIBERTY AV', 'LIVONIA AV', 'LONGWOOD AV', 'LORIMER ST', 'MARCY AV', 'METROPOLITAN AV', 'MIDDLETOWN RD', 'MONTROSE AV', 'MORGAN AV', 'MORRIS PARK', 'MOSHOLU PKWY', 'MT EDEN AV', 'MYRTLE AV', 'NASSAU AV', 'NECK RD', 'NEPTUNE AV', 'NEVINS ST', 'NEW LOTS AV', 'NEW UTRECHT AV', 'NEWKIRK AV', 'NOSTRAND AV', 'OCEAN PKWY', 'PARK PLACE', 'PARKSIDE AV', 'PARSONS BLVD', 'PELHAM BAY PARK', 'PELHAM PKWY', 'PENNSYLVANIA AV', 'PRESIDENT ST', 'PRINCE ST', 'PROSPECT AV', 'PROSPECT PARK', 'QUEENS PLAZA', 'RALPH AV', 'RECTOR ST', 'ROCKAWAY AV', 'ROCKAWAY BLVD', 'SARATOGA AV', 'SHEEPSHEAD BAY', 'SHEPHERD AV', 'SIMPSON ST', 'SOUTH FERRY', 'SPRING ST', 'ST LAWRENCE AV', 'STEINWAY ST', 'SUTPHIN BLVD', 'SUTTER AV', 'TREMONT AV', 'UNION ST', 'UTICA AV', 'VAN SICLEN AV', 'WALL ST', 'WILSON AV', 'WINTHROP ST', 'WOODLAWN', 'ZEREGA AV']\n"
     ]
    }
   ],
   "source": [
    "print(len(unique_stations))\n",
    "unique_stations.sort()\n",
    "print(unique_stations)\n",
    "print(len(common_stations))\n",
    "common_stations.sort()\n",
    "print(common_stations)"
   ]
  },
  {
   "cell_type": "code",
   "execution_count": 154,
   "id": "49a8bca7",
   "metadata": {},
   "outputs": [
    {
     "name": "stdout",
     "output_type": "stream",
     "text": [
      "{'1 AV': '1 AV', '103 ST': '103 ST', '104 ST': '104 ST', '110 ST': '110 ST', '111 ST': '111 ST', '116 ST': '116 ST', '121 ST': '121 ST', '125 ST': '125 ST', '135 ST': '135 ST', '14 ST': '14 ST', '145 ST': '145 ST', '155 ST': '155 ST', '157 ST': '157 ST', '167 ST': '167 ST', '169 ST': '169 ST', '170 ST': '170 ST', '174-175 STS': '174-175 STS', '175 ST': '175 ST', '176 ST': '176 ST', '18 AV': '18 AV', '18 ST': '18 ST', '181 ST': '181 ST', '182-183 STS': '182-183 STS', '183 ST': '183 ST', '190 ST': '190 ST', '2 AV': '2 AV', '20 AV': '20 AV', '207 ST': '207 ST', '21 ST': '21 ST', '225 ST': '225 ST', '23 ST': '23 ST', '231 ST': '231 ST', '238 ST': '238 ST', '25 AV': '25 AV', '25 ST': '25 ST', '28 ST': '28 ST', '3 AV': '3 AV', '3 AV-149 ST': '3 AV-149 ST', '30 AV': '30 AV', '33 ST': '33 ST', '34 ST-HERALD SQ': '34 ST-HERALD SQ', '36 ST': '36 ST', '4 AV-9 ST': '4 AV-9 ST', '45 ST': '45 ST', '46 ST': '46 ST', '49 ST': '49 ST', '5 AV': '5 AV', '50 ST': '50 ST', '51 ST': '51 ST', '53 ST': '53 ST', '55 ST': '55 ST', '57 ST': '57 ST', '59 ST': '59 ST', '6 AV': '6 AV', '67 AV': '67 AV', '69 ST': '69 ST', '7 AV': '7 AV', '72 ST': '72 ST', '74 ST-BROADWAY': '74 ST-BROADWAY', '75 AV': '75 AV', '77 ST': '77 ST', '79 ST': '79 ST', '8 AV': '8 AV', '8 ST-NYU': '8 ST-NYU', '80 ST': '80 ST', '86 ST': '86 ST', '9 AV': '9 AV', '96 ST': '96 ST', 'ALABAMA AV': 'ALABAMA AV', 'ALLERTON AV': 'ALLERTON AV', 'ATLANTIC AV': 'ATLANTIC AV', 'BAY 50 ST': 'BAY 50 ST', 'BAYCHESTER AV': 'BAYCHESTER AV', 'BEACH 25 ST': 'BEACH 25 ST', 'BEACH 36 ST': 'BEACH 36 ST', 'BEACH 44 ST': 'BEACH 44 ST', 'BEACH 60 ST': 'BEACH 60 ST', 'BEACH 67 ST': 'BEACH 67 ST', 'BEACH 90 ST': 'BEACH 90 ST', 'BEACH 98 ST': 'BEACH 98 ST', 'BEDFORD AV': 'BEDFORD AV', 'BEDFORD PK BLVD': 'BEDFORD PK BLVD', 'BERGEN ST': 'BERGEN ST', 'BEVERLEY RD': 'BEVERLEY RD', 'BEVERLY RD': 'BEVERLY RD', 'BLEECKER ST': 'BLEECKER ST', 'BOROUGH HALL': 'BOROUGH HALL', 'BOTANIC GARDEN': 'BOTANIC GARDEN', 'BOWERY': 'BOWERY', 'BOWLING GREEN': 'BOWLING GREEN', 'BRIGHTON BEACH': 'BRIGHTON BEACH', 'BROAD CHANNEL': 'BROAD CHANNEL', 'BROAD ST': 'BROAD ST', 'BROADWAY': 'BROADWAY', 'BROOK AV': 'BROOK AV', 'BURKE AV': 'BURKE AV', 'BURNSIDE AV': 'BURNSIDE AV', 'CANAL ST': 'CANAL ST', 'CARROLL ST': 'CARROLL ST', 'CASTLE HILL AV': 'CASTLE HILL AV', 'CENTRAL AV': 'CENTRAL AV', 'CHAMBERS ST': 'CHAMBERS ST', 'CHAUNCEY ST': 'CHAUNCEY ST', 'CHURCH AV': 'CHURCH AV', 'CITY HALL': 'CITY HALL', 'CLARK ST': 'CLARK ST', 'CLASSON AV': 'CLASSON AV', 'CLEVELAND ST': 'CLEVELAND ST', 'CORTELYOU RD': 'CORTELYOU RD', 'CORTLANDT ST': 'CORTLANDT ST', 'CRESCENT ST': 'CRESCENT ST', 'CYPRESS AV': 'CYPRESS AV', 'CYPRESS HILLS': 'CYPRESS HILLS', 'DEKALB AV': 'DEKALB AV', 'DITMAS AV': 'DITMAS AV', 'EAST 105 ST': 'EAST 105 ST', 'EAST BROADWAY': 'EAST BROADWAY', 'ELDER AV': 'ELDER AV', 'ELMHURST AV': 'ELMHURST AV', 'EUCLID AV': 'EUCLID AV', 'FLUSHING AV': 'FLUSHING AV', 'FORDHAM RD': 'FORDHAM RD', 'FRANKLIN AV': 'FRANKLIN AV', 'FRANKLIN ST': 'FRANKLIN ST', 'FREEMAN ST': 'FREEMAN ST', 'FRESH POND RD': 'FRESH POND RD', 'FULTON ST': 'FULTON ST', 'GATES AV': 'GATES AV', 'GRAHAM AV': 'GRAHAM AV', 'GRAND ST': 'GRAND ST', 'GRANT AV': 'GRANT AV', 'GREENPOINT AV': 'GREENPOINT AV', 'GUN HILL RD': 'GUN HILL RD', 'HALSEY ST': 'HALSEY ST', 'HEWES ST': 'HEWES ST', 'HIGH ST': 'HIGH ST', 'HOUSTON ST': 'HOUSTON ST', 'HOYT ST': 'HOYT ST', 'HUNTS POINT AV': 'HUNTS POINT AV', 'INTERVALE AV': 'INTERVALE AV', 'JACKSON AV': 'JACKSON AV', 'JEFFERSON ST': 'JEFFERSON ST', 'JUNCTION BLVD': 'JUNCTION BLVD', 'JUNIUS ST': 'JUNIUS ST', 'KINGSBRIDGE RD': 'KINGSBRIDGE RD', 'KINGSTON AV': 'KINGSTON AV', 'LAFAYETTE AV': 'LAFAYETTE AV', 'LIBERTY AV': 'LIBERTY AV', 'LIVONIA AV': 'LIVONIA AV', 'LONGWOOD AV': 'LONGWOOD AV', 'LORIMER ST': 'LORIMER ST', 'MARCY AV': 'MARCY AV', 'METROPOLITAN AV': 'METROPOLITAN AV', 'MIDDLETOWN RD': 'MIDDLETOWN RD', 'MONTROSE AV': 'MONTROSE AV', 'MORGAN AV': 'MORGAN AV', 'MORRIS PARK': 'MORRIS PARK', 'MOSHOLU PKWY': 'MOSHOLU PKWY', 'MT EDEN AV': 'MT EDEN AV', 'MYRTLE AV': 'MYRTLE AV', 'NASSAU AV': 'NASSAU AV', 'NECK RD': 'NECK RD', 'NEPTUNE AV': 'NEPTUNE AV', 'NEVINS ST': 'NEVINS ST', 'NEW LOTS AV': 'NEW LOTS AV', 'NEW UTRECHT AV': 'NEW UTRECHT AV', 'NEWKIRK AV': 'NEWKIRK AV', 'NOSTRAND AV': 'NOSTRAND AV', 'OCEAN PKWY': 'OCEAN PKWY', 'PARK PLACE': 'PARK PLACE', 'PARKSIDE AV': 'PARKSIDE AV', 'PARSONS BLVD': 'PARSONS BLVD', 'PELHAM BAY PARK': 'PELHAM BAY PARK', 'PELHAM PKWY': 'PELHAM PKWY', 'PENNSYLVANIA AV': 'PENNSYLVANIA AV', 'PRESIDENT ST': 'PRESIDENT ST', 'PRINCE ST': 'PRINCE ST', 'PROSPECT AV': 'PROSPECT AV', 'PROSPECT PARK': 'PROSPECT PARK', 'QUEENS PLAZA': 'QUEENS PLAZA', 'RALPH AV': 'RALPH AV', 'RECTOR ST': 'RECTOR ST', 'ROCKAWAY AV': 'ROCKAWAY AV', 'ROCKAWAY BLVD': 'ROCKAWAY BLVD', 'SARATOGA AV': 'SARATOGA AV', 'SHEEPSHEAD BAY': 'SHEEPSHEAD BAY', 'SHEPHERD AV': 'SHEPHERD AV', 'SIMPSON ST': 'SIMPSON ST', 'SOUTH FERRY': 'SOUTH FERRY', 'SPRING ST': 'SPRING ST', 'ST LAWRENCE AV': 'ST LAWRENCE AV', 'STEINWAY ST': 'STEINWAY ST', 'SUTPHIN BLVD': 'SUTPHIN BLVD', 'SUTTER AV': 'SUTTER AV', 'TREMONT AV': 'TREMONT AV', 'UNION ST': 'UNION ST', 'UTICA AV': 'UTICA AV', 'VAN SICLEN AV': 'VAN SICLEN AV', 'WALL ST': 'WALL ST', 'WILSON AV': 'WILSON AV', 'WINTHROP ST': 'WINTHROP ST', 'WOODLAWN': 'WOODLAWN', 'ZEREGA AV': 'ZEREGA AV'}\n"
     ]
    }
   ],
   "source": [
    "common_dict = {}\n",
    "for i in range(len(common_stations)):\n",
    "    common_dict[common_stations[i]] = common_stations[i]\n",
    "print(common_dict)"
   ]
  },
  {
   "cell_type": "markdown",
   "id": "4c66421d",
   "metadata": {},
   "source": [
    "Below I'm manually assembling a dictionary to modify station names that need it, after comparing the two station name arrays. I don't want to also manually enter all the names that are already correct in *one* dataset, so I'm also creating a dictionary that will store those key/value pairs that don't need modification. Then, I'm adding all three dictionaries together so I can use it to map station names across both datasets."
   ]
  },
  {
   "cell_type": "code",
   "execution_count": 155,
   "id": "3500fe4a",
   "metadata": {},
   "outputs": [],
   "source": [
    "station_dict = {'AV \"H\"':'AV H', \n",
    "                'AV \"I\"':'AV I',\n",
    "                'AV \"J\"':'AV J',  \n",
    "                'AV \"M\"':'AV M', \n",
    "                'AV \"N\"':'AV N',\n",
    "                'AV \"P\"':'AV P',\n",
    "                'AV \"U\"':'AV U',\n",
    "                'AV \"X\"':'AV X', \n",
    "                'ATL AV-BARCLAY': 'ATLANTIC AV',           \n",
    "                '103 ST-CORONA':'103 ST-CORONA PLAZA',\n",
    "                '103 ST-CORONA PLAZA':'103 ST-CORONA PLAZA',\n",
    "                'CATHEDRAL PKWY':'110 ST-CATHEDRAL PKWY', \n",
    "                'CENTRAL PK N110':'110 ST-CENTRAL PARK NORTH',               \n",
    "                '116 ST-COLUMBIA':'116 ST-COLUMBIA UNIVERSITY',\n",
    "                '116 ST-COLUMBIA UNIVERSITY':'116 ST-COLUMBIA UNIVERSITY',\n",
    "                '137 ST CITY COL':'137 ST-CITY COLLEGE', \n",
    "                '137 ST-CITY COLLEGE':'137 ST-CITY COLLEGE',\n",
    "                '138/GRAND CONC':'138 ST-GRAND CONCOURSE',\n",
    "                '138 ST-GRAND CONCOURSE':'138 ST-GRAND CONCOURSE',\n",
    "                '14 ST-UNION SQ':'14 ST-UNION SQUARE', \n",
    "                'UNION SQUARE':'14 ST-UNION SQUARE',\n",
    "                '15 ST-PROSPECT':'15 ST-PROSPECT PARK',\n",
    "                'HARLEM 148 ST':'148 ST-HARLEM',\n",
    "                '149/GRAND CONC':'149 ST-GRAND CONCOURSE',\n",
    "                '14TH STREET':'14 ST',\n",
    "                '15 ST-PROSPECT':'15 ST-PROSPECT PARK',\n",
    "                '161/YANKEE STAD':'161 ST-YANKEE STADIUM',\n",
    "                '163 ST-AMSTERDM':'163 ST-AMSTERDAM AV',\n",
    "                '168 ST-WASHINGTON HTS':'168 ST',\n",
    "                'JAMAICA 179 ST':'179 ST-JAMAICA',\n",
    "                'DYCKMAN ST':'200 ST-DYCKMAN ST',\n",
    "                'NORWOOD 205 ST':'205 ST-NORWOOD',\n",
    "                'INWOOD-207 ST':'207 ST-INWOOD',\n",
    "                '21 ST-QNSBRIDGE':'21 ST-QUEENSBRIDGE',\n",
    "                'MARBLE HILL-225':'225 ST-MARBLE HILL',\n",
    "                'NEREID AV':'238 ST-NEREID AV', \n",
    "                'WAKEFIELD/241':'241 ST-WAKEFIELD',\n",
    "                'V.CORTLANDT PK':'242 ST-VAN CORTLANDT PARK',\n",
    "                'VCORTLANDT PK':'242 ST-VAN CORTLANDT PARK',\n",
    "                '3 AV 138 ST':'3 AV-138 ST',\n",
    "                'WEST 34 ST/HUDSON YARDS':'34 ST-HUDSON YD',\n",
    "                '34 ST-PENN STA':'34 ST-PENN STATION', \n",
    "                '40 ST LOWERY ST':'40 ST',\n",
    "                '42 ST':'42 ST-BRYANT PK',\n",
    "                'GRD CNTRL-42 ST':'42 ST-GRAND CENTRAL',\n",
    "                '42 ST-PORT AUTHORITY BUS TERM':'42 ST-PORT AUTH',\n",
    "                'TIMES SQ-42 ST':'42 ST-TIMES SQUARE',\n",
    "                '47-50 STS ROCK':'47-50 STS/ROCKEFELLER CTR',\n",
    "                '59 ST COLUMBUS':'59 ST-COLUMBUS CIRCLE',\n",
    "                '61 ST WOODSIDE':'61 ST-WOODSIDE',\n",
    "                '63 DRIVE-REGO PARK':'63 DR-REGO PARK',\n",
    "                '66 ST-LINCOLN':'66 ST-LINCOLN CENTER',\n",
    "                '68ST-HUNTER CO':'68 ST-HUNTER COLLEGE',\n",
    "                '72ND ST':'72 ST',\n",
    "                '75 ST-ELDERTS':'75 ST-ELDERTS LANE',\n",
    "                '7TH AV':'7 AV',\n",
    "                '81 ST-MUSEUM OF NATURAL HISTO':'81 ST-MUSEUM',\n",
    "                '82 ST-JACKSON H':'82 ST-JACKSON HEIGHTS',\n",
    "                '85 ST-FOREST PK':'85 ST-FOREST PKWY',\n",
    "                '86TH ST':'86 ST-2 AV',\n",
    "                '90 ST-ELMHURST':'90 ST-ELMHURST AV',                \n",
    "                '96TH ST':'96 ST-2 AV',\n",
    "                '9TH ST':'9 ST',\n",
    "                '9TH STREET':'9 ST',\n",
    "                'AQUEDUCT NCOND': 'AQUEDUCT-NORTH CONDUIT AV',\n",
    "                'AQUEDUCT RACETR':'AQUEDUCT-RACETRACK', \n",
    "                'ASTOR PL':'ASTOR PLACE',\n",
    "                'BAY PARKWAY':'BAY PKWY',\n",
    "                'BEDFORD-NOSTRAN':'BEDFORD-NOSTRAND AVS',\n",
    "                'BRDWAY-EAST NEW YORK':'BROADWAY-EAST NEW YORK',\n",
    "                'BROADWAY JCT':'BROADWAY',                \n",
    "                \"B'WAY-LAFAYETTE\":'BROADWAY/LAFAYETTE',\n",
    "                'BROOKLYN BRIDGE':'BROOKLYN BRIDGE-CITY HALL',\n",
    "                'BUSHWICK AV':'BUSHWICK AV-ABERDEEN ST',\n",
    "                'CHRISTOPHER ST':'CHRISTOPHER ST-SHERIDAN SQ',\n",
    "                'CLINTON-WASH AV':'CLINTON-WASHINGTON AVS',\n",
    "                'CONEY IS-STILLW':'STILLWELL AV-CONEY ISLAND',\n",
    "                'COURT SQ':'COURT SQUARE',\n",
    "                'DELANCEY/ESSEX':'DELANCEY ST',\n",
    "                \"EAST 143 ST-ST MARY'S ST\":\"E 143/ST MARY'S\",\n",
    "                'EAST 149 ST':'E 149 ST',\n",
    "                'EAST 180 ST':'E 180 ET',\n",
    "                'EASTN PKWY-MUSM':'EASTERN PKWY-BROOKLYN MUSEUM',\n",
    "                'FAR ROCKAWAY':'FAR ROCKAWAY-MOTT AV',\n",
    "                'FLATBUSH AV-BROOKLYN COLLEGE':'FLATBUSH AV-BC',\n",
    "                'FT HAMILTON PKY':'FORT HAMILTON PKWY',\n",
    "                'GRAND ARMY PLAZ':'GRAND ARMY PLAZA',\n",
    "                'GRAND-NEWTOWN':'GRAND AV-NEWTON',\n",
    "                'HOWARD BCH JFK':'HOWARD BEACH-JFK AIRPORT',\n",
    "                'HOYT-SCHER':'HOYT-SCHERMERHORN',\n",
    "                'HUNTERS POINT AV':'HUNTERS PT AV', \n",
    "                'JAMAICA VAN WK':'JAMAICA-VAN WYCK',\n",
    "                'JAY ST-BOROUGH HALL':'BOROUGH HALL',\n",
    "                'KINGS HIGHWAY':'KINGS HWY',\n",
    "                'KINGSTON-THROOP':'KINGSTON-THROOP AVS',\n",
    "                'KNICKERBOCKER':'KNICKERBOCKER AV',\n",
    "                'KOSCIUSKO ST':'KOSCIUSZKO ST',\n",
    "                'MYRTLE-WILLOUGH':'MYRTLE-WILLOUGHBY AVS',\n",
    "                'MYRTLE-WYCKOFF':'MYRTLE/WYCKOFF AVS',\n",
    "                'PARSONS/ARCHER-JAMAICA CENTER':'JAMAICA CENTER',\n",
    "                'PATH NEW WTC':'PATH WTC 2',\n",
    "                'QUEENSBORO PLAZA':'QUEENSBORO PLZ',\n",
    "                'ROOSEVELT ISLND':'ROOSEVELT ISLAND',\n",
    "                'SMITH-9 STS':'SMITH-9 ST',\n",
    "                'MORISN AV/SNDVW':'SOUNDVIEW AV',\n",
    "                'SUTPHIN-ARCHER': 'SUTPHIN BLVD-ARCHER AV',\n",
    "                'SUTTER AV-RUTLD':'SUTTER AV-RUTLAND RD',\n",
    "                'THIRTY ST':'30 ST',\n",
    "                'THIRTY THIRD ST':'33 ST',\n",
    "                'TWENTY THIRD ST':'23 ST',\n",
    "                'CROWN HTS-UTICA':'UTICA AV-CROWN HEIGHTS',\n",
    "                'VAN WYCK BLVD-BRIARWOOD':'BRIARWOOD',\n",
    "                'VERNON-JACKSON':'VERNON BLVD-JACKSON AV',\n",
    "                'W 4 ST':'W 4 ST-WASH SQ',\n",
    "                'W 8 ST-AQUARIUM':'WEST 8 ST-NY AQUARIUM',\n",
    "                'WAKEFIELD/241':'241 ST-WAKEFIELD',   \n",
    "                'WEST FARMS SQ':'EAST TREMONT AV-WEST FARMS S',\n",
    "                'WESTCHESTER SQ':'EAST TREMONT AV-WESTCHESTER S',\n",
    "                'WHITEHALL S-FRY':'WHITEHALL ST-SOUTH FERRY',\n",
    "                'METS-WILLETS PT':'WILLETS POINT-SHEA STADIUM',\n",
    "                'WOODHAVN BLVD':'WOODHAVEN BLVD',\n",
    "                'WORLD TRADE CTR':'WTC-CORTLANDT',\n",
    "                'WYCKOFF AV':'MYRTLE/WYCKOFF AVS'}"
   ]
  },
  {
   "cell_type": "code",
   "execution_count": 156,
   "id": "64530432",
   "metadata": {},
   "outputs": [
    {
     "name": "stdout",
     "output_type": "stream",
     "text": [
      "{'AV H': 'AV H', 'AV I': 'AV I', 'AV J': 'AV J', 'AV M': 'AV M', 'AV N': 'AV N', 'AV P': 'AV P', 'AV U': 'AV U', 'AV X': 'AV X', 'ATLANTIC AV': 'ATLANTIC AV', '103 ST-CORONA PLAZA': '103 ST-CORONA PLAZA', '110 ST-CATHEDRAL PKWY': '110 ST-CATHEDRAL PKWY', '110 ST-CENTRAL PARK NORTH': '110 ST-CENTRAL PARK NORTH', '116 ST-COLUMBIA UNIVERSITY': '116 ST-COLUMBIA UNIVERSITY', '137 ST-CITY COLLEGE': '137 ST-CITY COLLEGE', '138 ST-GRAND CONCOURSE': '138 ST-GRAND CONCOURSE', '14 ST-UNION SQUARE': '14 ST-UNION SQUARE', '15 ST-PROSPECT PARK': '15 ST-PROSPECT PARK', '148 ST-HARLEM': '148 ST-HARLEM', '149 ST-GRAND CONCOURSE': '149 ST-GRAND CONCOURSE', '14 ST': '14 ST', '161 ST-YANKEE STADIUM': '161 ST-YANKEE STADIUM', '163 ST-AMSTERDAM AV': '163 ST-AMSTERDAM AV', '168 ST': '168 ST', '179 ST-JAMAICA': '179 ST-JAMAICA', '200 ST-DYCKMAN ST': '200 ST-DYCKMAN ST', '205 ST-NORWOOD': '205 ST-NORWOOD', '207 ST-INWOOD': '207 ST-INWOOD', '21 ST-QUEENSBRIDGE': '21 ST-QUEENSBRIDGE', '225 ST-MARBLE HILL': '225 ST-MARBLE HILL', '238 ST-NEREID AV': '238 ST-NEREID AV', '241 ST-WAKEFIELD': '241 ST-WAKEFIELD', '242 ST-VAN CORTLANDT PARK': '242 ST-VAN CORTLANDT PARK', '3 AV-138 ST': '3 AV-138 ST', '34 ST-HUDSON YD': '34 ST-HUDSON YD', '34 ST-PENN STATION': '34 ST-PENN STATION', '40 ST': '40 ST', '42 ST-BRYANT PK': '42 ST-BRYANT PK', '42 ST-GRAND CENTRAL': '42 ST-GRAND CENTRAL', '42 ST-PORT AUTH': '42 ST-PORT AUTH', '42 ST-TIMES SQUARE': '42 ST-TIMES SQUARE', '47-50 STS/ROCKEFELLER CTR': '47-50 STS/ROCKEFELLER CTR', '59 ST-COLUMBUS CIRCLE': '59 ST-COLUMBUS CIRCLE', '61 ST-WOODSIDE': '61 ST-WOODSIDE', '63 DR-REGO PARK': '63 DR-REGO PARK', '66 ST-LINCOLN CENTER': '66 ST-LINCOLN CENTER', '68 ST-HUNTER COLLEGE': '68 ST-HUNTER COLLEGE', '72 ST': '72 ST', '75 ST-ELDERTS LANE': '75 ST-ELDERTS LANE', '7 AV': '7 AV', '81 ST-MUSEUM': '81 ST-MUSEUM', '82 ST-JACKSON HEIGHTS': '82 ST-JACKSON HEIGHTS', '85 ST-FOREST PKWY': '85 ST-FOREST PKWY', '86 ST-2 AV': '86 ST-2 AV', '90 ST-ELMHURST AV': '90 ST-ELMHURST AV', '96 ST-2 AV': '96 ST-2 AV', '9 ST': '9 ST', 'AQUEDUCT-NORTH CONDUIT AV': 'AQUEDUCT-NORTH CONDUIT AV', 'AQUEDUCT-RACETRACK': 'AQUEDUCT-RACETRACK', 'ASTOR PLACE': 'ASTOR PLACE', 'BAY PKWY': 'BAY PKWY', 'BEDFORD-NOSTRAND AVS': 'BEDFORD-NOSTRAND AVS', 'BROADWAY-EAST NEW YORK': 'BROADWAY-EAST NEW YORK', 'BROADWAY': 'BROADWAY', 'BROADWAY/LAFAYETTE': 'BROADWAY/LAFAYETTE', 'BROOKLYN BRIDGE-CITY HALL': 'BROOKLYN BRIDGE-CITY HALL', 'BUSHWICK AV-ABERDEEN ST': 'BUSHWICK AV-ABERDEEN ST', 'CHRISTOPHER ST-SHERIDAN SQ': 'CHRISTOPHER ST-SHERIDAN SQ', 'CLINTON-WASHINGTON AVS': 'CLINTON-WASHINGTON AVS', 'STILLWELL AV-CONEY ISLAND': 'STILLWELL AV-CONEY ISLAND', 'COURT SQUARE': 'COURT SQUARE', 'DELANCEY ST': 'DELANCEY ST', \"E 143/ST MARY'S\": \"E 143/ST MARY'S\", 'E 149 ST': 'E 149 ST', 'E 180 ET': 'E 180 ET', 'EASTERN PKWY-BROOKLYN MUSEUM': 'EASTERN PKWY-BROOKLYN MUSEUM', 'FAR ROCKAWAY-MOTT AV': 'FAR ROCKAWAY-MOTT AV', 'FLATBUSH AV-BC': 'FLATBUSH AV-BC', 'FORT HAMILTON PKWY': 'FORT HAMILTON PKWY', 'GRAND ARMY PLAZA': 'GRAND ARMY PLAZA', 'GRAND AV-NEWTON': 'GRAND AV-NEWTON', 'HOWARD BEACH-JFK AIRPORT': 'HOWARD BEACH-JFK AIRPORT', 'HOYT-SCHERMERHORN': 'HOYT-SCHERMERHORN', 'HUNTERS PT AV': 'HUNTERS PT AV', 'JAMAICA-VAN WYCK': 'JAMAICA-VAN WYCK', 'BOROUGH HALL': 'BOROUGH HALL', 'KINGS HWY': 'KINGS HWY', 'KINGSTON-THROOP AVS': 'KINGSTON-THROOP AVS', 'KNICKERBOCKER AV': 'KNICKERBOCKER AV', 'KOSCIUSZKO ST': 'KOSCIUSZKO ST', 'MYRTLE-WILLOUGHBY AVS': 'MYRTLE-WILLOUGHBY AVS', 'MYRTLE/WYCKOFF AVS': 'MYRTLE/WYCKOFF AVS', 'JAMAICA CENTER': 'JAMAICA CENTER', 'PATH WTC 2': 'PATH WTC 2', 'QUEENSBORO PLZ': 'QUEENSBORO PLZ', 'ROOSEVELT ISLAND': 'ROOSEVELT ISLAND', 'SMITH-9 ST': 'SMITH-9 ST', 'SOUNDVIEW AV': 'SOUNDVIEW AV', 'SUTPHIN BLVD-ARCHER AV': 'SUTPHIN BLVD-ARCHER AV', 'SUTTER AV-RUTLAND RD': 'SUTTER AV-RUTLAND RD', '30 ST': '30 ST', '33 ST': '33 ST', '23 ST': '23 ST', 'UTICA AV-CROWN HEIGHTS': 'UTICA AV-CROWN HEIGHTS', 'BRIARWOOD': 'BRIARWOOD', 'VERNON BLVD-JACKSON AV': 'VERNON BLVD-JACKSON AV', 'W 4 ST-WASH SQ': 'W 4 ST-WASH SQ', 'WEST 8 ST-NY AQUARIUM': 'WEST 8 ST-NY AQUARIUM', 'EAST TREMONT AV-WEST FARMS S': 'EAST TREMONT AV-WEST FARMS S', 'EAST TREMONT AV-WESTCHESTER S': 'EAST TREMONT AV-WESTCHESTER S', 'WHITEHALL ST-SOUTH FERRY': 'WHITEHALL ST-SOUTH FERRY', 'WILLETS POINT-SHEA STADIUM': 'WILLETS POINT-SHEA STADIUM', 'WOODHAVEN BLVD': 'WOODHAVEN BLVD', 'WTC-CORTLANDT': 'WTC-CORTLANDT'}\n"
     ]
    }
   ],
   "source": [
    "new_station_dict = {}\n",
    "for key,val in station_dict.items():\n",
    "    new_station_dict[val] = val\n",
    "print(new_station_dict)"
   ]
  },
  {
   "cell_type": "code",
   "execution_count": 157,
   "id": "8f44de1c",
   "metadata": {},
   "outputs": [
    {
     "data": {
      "text/plain": [
       "{'AV \"H\"': 'AV H',\n",
       " 'AV \"I\"': 'AV I',\n",
       " 'AV \"J\"': 'AV J',\n",
       " 'AV \"M\"': 'AV M',\n",
       " 'AV \"N\"': 'AV N',\n",
       " 'AV \"P\"': 'AV P',\n",
       " 'AV \"U\"': 'AV U',\n",
       " 'AV \"X\"': 'AV X',\n",
       " 'ATL AV-BARCLAY': 'ATLANTIC AV',\n",
       " '103 ST-CORONA': '103 ST-CORONA PLAZA',\n",
       " '103 ST-CORONA PLAZA': '103 ST-CORONA PLAZA',\n",
       " 'CATHEDRAL PKWY': '110 ST-CATHEDRAL PKWY',\n",
       " 'CENTRAL PK N110': '110 ST-CENTRAL PARK NORTH',\n",
       " '116 ST-COLUMBIA': '116 ST-COLUMBIA UNIVERSITY',\n",
       " '116 ST-COLUMBIA UNIVERSITY': '116 ST-COLUMBIA UNIVERSITY',\n",
       " '137 ST CITY COL': '137 ST-CITY COLLEGE',\n",
       " '137 ST-CITY COLLEGE': '137 ST-CITY COLLEGE',\n",
       " '138/GRAND CONC': '138 ST-GRAND CONCOURSE',\n",
       " '138 ST-GRAND CONCOURSE': '138 ST-GRAND CONCOURSE',\n",
       " '14 ST-UNION SQ': '14 ST-UNION SQUARE',\n",
       " 'UNION SQUARE': '14 ST-UNION SQUARE',\n",
       " '15 ST-PROSPECT': '15 ST-PROSPECT PARK',\n",
       " 'HARLEM 148 ST': '148 ST-HARLEM',\n",
       " '149/GRAND CONC': '149 ST-GRAND CONCOURSE',\n",
       " '14TH STREET': '14 ST',\n",
       " '161/YANKEE STAD': '161 ST-YANKEE STADIUM',\n",
       " '163 ST-AMSTERDM': '163 ST-AMSTERDAM AV',\n",
       " '168 ST-WASHINGTON HTS': '168 ST',\n",
       " 'JAMAICA 179 ST': '179 ST-JAMAICA',\n",
       " 'DYCKMAN ST': '200 ST-DYCKMAN ST',\n",
       " 'NORWOOD 205 ST': '205 ST-NORWOOD',\n",
       " 'INWOOD-207 ST': '207 ST-INWOOD',\n",
       " '21 ST-QNSBRIDGE': '21 ST-QUEENSBRIDGE',\n",
       " 'MARBLE HILL-225': '225 ST-MARBLE HILL',\n",
       " 'NEREID AV': '238 ST-NEREID AV',\n",
       " 'WAKEFIELD/241': '241 ST-WAKEFIELD',\n",
       " 'V.CORTLANDT PK': '242 ST-VAN CORTLANDT PARK',\n",
       " 'VCORTLANDT PK': '242 ST-VAN CORTLANDT PARK',\n",
       " '3 AV 138 ST': '3 AV-138 ST',\n",
       " 'WEST 34 ST/HUDSON YARDS': '34 ST-HUDSON YD',\n",
       " '34 ST-PENN STA': '34 ST-PENN STATION',\n",
       " '40 ST LOWERY ST': '40 ST',\n",
       " '42 ST': '42 ST-BRYANT PK',\n",
       " 'GRD CNTRL-42 ST': '42 ST-GRAND CENTRAL',\n",
       " '42 ST-PORT AUTHORITY BUS TERM': '42 ST-PORT AUTH',\n",
       " 'TIMES SQ-42 ST': '42 ST-TIMES SQUARE',\n",
       " '47-50 STS ROCK': '47-50 STS/ROCKEFELLER CTR',\n",
       " '59 ST COLUMBUS': '59 ST-COLUMBUS CIRCLE',\n",
       " '61 ST WOODSIDE': '61 ST-WOODSIDE',\n",
       " '63 DRIVE-REGO PARK': '63 DR-REGO PARK',\n",
       " '66 ST-LINCOLN': '66 ST-LINCOLN CENTER',\n",
       " '68ST-HUNTER CO': '68 ST-HUNTER COLLEGE',\n",
       " '72ND ST': '72 ST',\n",
       " '75 ST-ELDERTS': '75 ST-ELDERTS LANE',\n",
       " '7TH AV': '7 AV',\n",
       " '81 ST-MUSEUM OF NATURAL HISTO': '81 ST-MUSEUM',\n",
       " '82 ST-JACKSON H': '82 ST-JACKSON HEIGHTS',\n",
       " '85 ST-FOREST PK': '85 ST-FOREST PKWY',\n",
       " '86TH ST': '86 ST-2 AV',\n",
       " '90 ST-ELMHURST': '90 ST-ELMHURST AV',\n",
       " '96TH ST': '96 ST-2 AV',\n",
       " '9TH ST': '9 ST',\n",
       " '9TH STREET': '9 ST',\n",
       " 'AQUEDUCT NCOND': 'AQUEDUCT-NORTH CONDUIT AV',\n",
       " 'AQUEDUCT RACETR': 'AQUEDUCT-RACETRACK',\n",
       " 'ASTOR PL': 'ASTOR PLACE',\n",
       " 'BAY PARKWAY': 'BAY PKWY',\n",
       " 'BEDFORD-NOSTRAN': 'BEDFORD-NOSTRAND AVS',\n",
       " 'BRDWAY-EAST NEW YORK': 'BROADWAY-EAST NEW YORK',\n",
       " 'BROADWAY JCT': 'BROADWAY',\n",
       " \"B'WAY-LAFAYETTE\": 'BROADWAY/LAFAYETTE',\n",
       " 'BROOKLYN BRIDGE': 'BROOKLYN BRIDGE-CITY HALL',\n",
       " 'BUSHWICK AV': 'BUSHWICK AV-ABERDEEN ST',\n",
       " 'CHRISTOPHER ST': 'CHRISTOPHER ST-SHERIDAN SQ',\n",
       " 'CLINTON-WASH AV': 'CLINTON-WASHINGTON AVS',\n",
       " 'CONEY IS-STILLW': 'STILLWELL AV-CONEY ISLAND',\n",
       " 'COURT SQ': 'COURT SQUARE',\n",
       " 'DELANCEY/ESSEX': 'DELANCEY ST',\n",
       " \"EAST 143 ST-ST MARY'S ST\": \"E 143/ST MARY'S\",\n",
       " 'EAST 149 ST': 'E 149 ST',\n",
       " 'EAST 180 ST': 'E 180 ET',\n",
       " 'EASTN PKWY-MUSM': 'EASTERN PKWY-BROOKLYN MUSEUM',\n",
       " 'FAR ROCKAWAY': 'FAR ROCKAWAY-MOTT AV',\n",
       " 'FLATBUSH AV-BROOKLYN COLLEGE': 'FLATBUSH AV-BC',\n",
       " 'FT HAMILTON PKY': 'FORT HAMILTON PKWY',\n",
       " 'GRAND ARMY PLAZ': 'GRAND ARMY PLAZA',\n",
       " 'GRAND-NEWTOWN': 'GRAND AV-NEWTON',\n",
       " 'HOWARD BCH JFK': 'HOWARD BEACH-JFK AIRPORT',\n",
       " 'HOYT-SCHER': 'HOYT-SCHERMERHORN',\n",
       " 'HUNTERS POINT AV': 'HUNTERS PT AV',\n",
       " 'JAMAICA VAN WK': 'JAMAICA-VAN WYCK',\n",
       " 'JAY ST-BOROUGH HALL': 'BOROUGH HALL',\n",
       " 'KINGS HIGHWAY': 'KINGS HWY',\n",
       " 'KINGSTON-THROOP': 'KINGSTON-THROOP AVS',\n",
       " 'KNICKERBOCKER': 'KNICKERBOCKER AV',\n",
       " 'KOSCIUSKO ST': 'KOSCIUSZKO ST',\n",
       " 'MYRTLE-WILLOUGH': 'MYRTLE-WILLOUGHBY AVS',\n",
       " 'MYRTLE-WYCKOFF': 'MYRTLE/WYCKOFF AVS',\n",
       " 'PARSONS/ARCHER-JAMAICA CENTER': 'JAMAICA CENTER',\n",
       " 'PATH NEW WTC': 'PATH WTC 2',\n",
       " 'QUEENSBORO PLAZA': 'QUEENSBORO PLZ',\n",
       " 'ROOSEVELT ISLND': 'ROOSEVELT ISLAND',\n",
       " 'SMITH-9 STS': 'SMITH-9 ST',\n",
       " 'MORISN AV/SNDVW': 'SOUNDVIEW AV',\n",
       " 'SUTPHIN-ARCHER': 'SUTPHIN BLVD-ARCHER AV',\n",
       " 'SUTTER AV-RUTLD': 'SUTTER AV-RUTLAND RD',\n",
       " 'THIRTY ST': '30 ST',\n",
       " 'THIRTY THIRD ST': '33 ST',\n",
       " 'TWENTY THIRD ST': '23 ST',\n",
       " 'CROWN HTS-UTICA': 'UTICA AV-CROWN HEIGHTS',\n",
       " 'VAN WYCK BLVD-BRIARWOOD': 'BRIARWOOD',\n",
       " 'VERNON-JACKSON': 'VERNON BLVD-JACKSON AV',\n",
       " 'W 4 ST': 'W 4 ST-WASH SQ',\n",
       " 'W 8 ST-AQUARIUM': 'WEST 8 ST-NY AQUARIUM',\n",
       " 'WEST FARMS SQ': 'EAST TREMONT AV-WEST FARMS S',\n",
       " 'WESTCHESTER SQ': 'EAST TREMONT AV-WESTCHESTER S',\n",
       " 'WHITEHALL S-FRY': 'WHITEHALL ST-SOUTH FERRY',\n",
       " 'METS-WILLETS PT': 'WILLETS POINT-SHEA STADIUM',\n",
       " 'WOODHAVN BLVD': 'WOODHAVEN BLVD',\n",
       " 'WORLD TRADE CTR': 'WTC-CORTLANDT',\n",
       " 'WYCKOFF AV': 'MYRTLE/WYCKOFF AVS',\n",
       " '1 AV': '1 AV',\n",
       " '103 ST': '103 ST',\n",
       " '104 ST': '104 ST',\n",
       " '110 ST': '110 ST',\n",
       " '111 ST': '111 ST',\n",
       " '116 ST': '116 ST',\n",
       " '121 ST': '121 ST',\n",
       " '125 ST': '125 ST',\n",
       " '135 ST': '135 ST',\n",
       " '14 ST': '14 ST',\n",
       " '145 ST': '145 ST',\n",
       " '155 ST': '155 ST',\n",
       " '157 ST': '157 ST',\n",
       " '167 ST': '167 ST',\n",
       " '169 ST': '169 ST',\n",
       " '170 ST': '170 ST',\n",
       " '174-175 STS': '174-175 STS',\n",
       " '175 ST': '175 ST',\n",
       " '176 ST': '176 ST',\n",
       " '18 AV': '18 AV',\n",
       " '18 ST': '18 ST',\n",
       " '181 ST': '181 ST',\n",
       " '182-183 STS': '182-183 STS',\n",
       " '183 ST': '183 ST',\n",
       " '190 ST': '190 ST',\n",
       " '2 AV': '2 AV',\n",
       " '20 AV': '20 AV',\n",
       " '207 ST': '207 ST',\n",
       " '21 ST': '21 ST',\n",
       " '225 ST': '225 ST',\n",
       " '23 ST': '23 ST',\n",
       " '231 ST': '231 ST',\n",
       " '238 ST': '238 ST',\n",
       " '25 AV': '25 AV',\n",
       " '25 ST': '25 ST',\n",
       " '28 ST': '28 ST',\n",
       " '3 AV': '3 AV',\n",
       " '3 AV-149 ST': '3 AV-149 ST',\n",
       " '30 AV': '30 AV',\n",
       " '33 ST': '33 ST',\n",
       " '34 ST-HERALD SQ': '34 ST-HERALD SQ',\n",
       " '36 ST': '36 ST',\n",
       " '4 AV-9 ST': '4 AV-9 ST',\n",
       " '45 ST': '45 ST',\n",
       " '46 ST': '46 ST',\n",
       " '49 ST': '49 ST',\n",
       " '5 AV': '5 AV',\n",
       " '50 ST': '50 ST',\n",
       " '51 ST': '51 ST',\n",
       " '53 ST': '53 ST',\n",
       " '55 ST': '55 ST',\n",
       " '57 ST': '57 ST',\n",
       " '59 ST': '59 ST',\n",
       " '6 AV': '6 AV',\n",
       " '67 AV': '67 AV',\n",
       " '69 ST': '69 ST',\n",
       " '7 AV': '7 AV',\n",
       " '72 ST': '72 ST',\n",
       " '74 ST-BROADWAY': '74 ST-BROADWAY',\n",
       " '75 AV': '75 AV',\n",
       " '77 ST': '77 ST',\n",
       " '79 ST': '79 ST',\n",
       " '8 AV': '8 AV',\n",
       " '8 ST-NYU': '8 ST-NYU',\n",
       " '80 ST': '80 ST',\n",
       " '86 ST': '86 ST',\n",
       " '9 AV': '9 AV',\n",
       " '96 ST': '96 ST',\n",
       " 'ALABAMA AV': 'ALABAMA AV',\n",
       " 'ALLERTON AV': 'ALLERTON AV',\n",
       " 'ATLANTIC AV': 'ATLANTIC AV',\n",
       " 'BAY 50 ST': 'BAY 50 ST',\n",
       " 'BAYCHESTER AV': 'BAYCHESTER AV',\n",
       " 'BEACH 25 ST': 'BEACH 25 ST',\n",
       " 'BEACH 36 ST': 'BEACH 36 ST',\n",
       " 'BEACH 44 ST': 'BEACH 44 ST',\n",
       " 'BEACH 60 ST': 'BEACH 60 ST',\n",
       " 'BEACH 67 ST': 'BEACH 67 ST',\n",
       " 'BEACH 90 ST': 'BEACH 90 ST',\n",
       " 'BEACH 98 ST': 'BEACH 98 ST',\n",
       " 'BEDFORD AV': 'BEDFORD AV',\n",
       " 'BEDFORD PK BLVD': 'BEDFORD PK BLVD',\n",
       " 'BERGEN ST': 'BERGEN ST',\n",
       " 'BEVERLEY RD': 'BEVERLEY RD',\n",
       " 'BEVERLY RD': 'BEVERLY RD',\n",
       " 'BLEECKER ST': 'BLEECKER ST',\n",
       " 'BOROUGH HALL': 'BOROUGH HALL',\n",
       " 'BOTANIC GARDEN': 'BOTANIC GARDEN',\n",
       " 'BOWERY': 'BOWERY',\n",
       " 'BOWLING GREEN': 'BOWLING GREEN',\n",
       " 'BRIGHTON BEACH': 'BRIGHTON BEACH',\n",
       " 'BROAD CHANNEL': 'BROAD CHANNEL',\n",
       " 'BROAD ST': 'BROAD ST',\n",
       " 'BROADWAY': 'BROADWAY',\n",
       " 'BROOK AV': 'BROOK AV',\n",
       " 'BURKE AV': 'BURKE AV',\n",
       " 'BURNSIDE AV': 'BURNSIDE AV',\n",
       " 'CANAL ST': 'CANAL ST',\n",
       " 'CARROLL ST': 'CARROLL ST',\n",
       " 'CASTLE HILL AV': 'CASTLE HILL AV',\n",
       " 'CENTRAL AV': 'CENTRAL AV',\n",
       " 'CHAMBERS ST': 'CHAMBERS ST',\n",
       " 'CHAUNCEY ST': 'CHAUNCEY ST',\n",
       " 'CHURCH AV': 'CHURCH AV',\n",
       " 'CITY HALL': 'CITY HALL',\n",
       " 'CLARK ST': 'CLARK ST',\n",
       " 'CLASSON AV': 'CLASSON AV',\n",
       " 'CLEVELAND ST': 'CLEVELAND ST',\n",
       " 'CORTELYOU RD': 'CORTELYOU RD',\n",
       " 'CORTLANDT ST': 'CORTLANDT ST',\n",
       " 'CRESCENT ST': 'CRESCENT ST',\n",
       " 'CYPRESS AV': 'CYPRESS AV',\n",
       " 'CYPRESS HILLS': 'CYPRESS HILLS',\n",
       " 'DEKALB AV': 'DEKALB AV',\n",
       " 'DITMAS AV': 'DITMAS AV',\n",
       " 'EAST 105 ST': 'EAST 105 ST',\n",
       " 'EAST BROADWAY': 'EAST BROADWAY',\n",
       " 'ELDER AV': 'ELDER AV',\n",
       " 'ELMHURST AV': 'ELMHURST AV',\n",
       " 'EUCLID AV': 'EUCLID AV',\n",
       " 'FLUSHING AV': 'FLUSHING AV',\n",
       " 'FORDHAM RD': 'FORDHAM RD',\n",
       " 'FRANKLIN AV': 'FRANKLIN AV',\n",
       " 'FRANKLIN ST': 'FRANKLIN ST',\n",
       " 'FREEMAN ST': 'FREEMAN ST',\n",
       " 'FRESH POND RD': 'FRESH POND RD',\n",
       " 'FULTON ST': 'FULTON ST',\n",
       " 'GATES AV': 'GATES AV',\n",
       " 'GRAHAM AV': 'GRAHAM AV',\n",
       " 'GRAND ST': 'GRAND ST',\n",
       " 'GRANT AV': 'GRANT AV',\n",
       " 'GREENPOINT AV': 'GREENPOINT AV',\n",
       " 'GUN HILL RD': 'GUN HILL RD',\n",
       " 'HALSEY ST': 'HALSEY ST',\n",
       " 'HEWES ST': 'HEWES ST',\n",
       " 'HIGH ST': 'HIGH ST',\n",
       " 'HOUSTON ST': 'HOUSTON ST',\n",
       " 'HOYT ST': 'HOYT ST',\n",
       " 'HUNTS POINT AV': 'HUNTS POINT AV',\n",
       " 'INTERVALE AV': 'INTERVALE AV',\n",
       " 'JACKSON AV': 'JACKSON AV',\n",
       " 'JEFFERSON ST': 'JEFFERSON ST',\n",
       " 'JUNCTION BLVD': 'JUNCTION BLVD',\n",
       " 'JUNIUS ST': 'JUNIUS ST',\n",
       " 'KINGSBRIDGE RD': 'KINGSBRIDGE RD',\n",
       " 'KINGSTON AV': 'KINGSTON AV',\n",
       " 'LAFAYETTE AV': 'LAFAYETTE AV',\n",
       " 'LIBERTY AV': 'LIBERTY AV',\n",
       " 'LIVONIA AV': 'LIVONIA AV',\n",
       " 'LONGWOOD AV': 'LONGWOOD AV',\n",
       " 'LORIMER ST': 'LORIMER ST',\n",
       " 'MARCY AV': 'MARCY AV',\n",
       " 'METROPOLITAN AV': 'METROPOLITAN AV',\n",
       " 'MIDDLETOWN RD': 'MIDDLETOWN RD',\n",
       " 'MONTROSE AV': 'MONTROSE AV',\n",
       " 'MORGAN AV': 'MORGAN AV',\n",
       " 'MORRIS PARK': 'MORRIS PARK',\n",
       " 'MOSHOLU PKWY': 'MOSHOLU PKWY',\n",
       " 'MT EDEN AV': 'MT EDEN AV',\n",
       " 'MYRTLE AV': 'MYRTLE AV',\n",
       " 'NASSAU AV': 'NASSAU AV',\n",
       " 'NECK RD': 'NECK RD',\n",
       " 'NEPTUNE AV': 'NEPTUNE AV',\n",
       " 'NEVINS ST': 'NEVINS ST',\n",
       " 'NEW LOTS AV': 'NEW LOTS AV',\n",
       " 'NEW UTRECHT AV': 'NEW UTRECHT AV',\n",
       " 'NEWKIRK AV': 'NEWKIRK AV',\n",
       " 'NOSTRAND AV': 'NOSTRAND AV',\n",
       " 'OCEAN PKWY': 'OCEAN PKWY',\n",
       " 'PARK PLACE': 'PARK PLACE',\n",
       " 'PARKSIDE AV': 'PARKSIDE AV',\n",
       " 'PARSONS BLVD': 'PARSONS BLVD',\n",
       " 'PELHAM BAY PARK': 'PELHAM BAY PARK',\n",
       " 'PELHAM PKWY': 'PELHAM PKWY',\n",
       " 'PENNSYLVANIA AV': 'PENNSYLVANIA AV',\n",
       " 'PRESIDENT ST': 'PRESIDENT ST',\n",
       " 'PRINCE ST': 'PRINCE ST',\n",
       " 'PROSPECT AV': 'PROSPECT AV',\n",
       " 'PROSPECT PARK': 'PROSPECT PARK',\n",
       " 'QUEENS PLAZA': 'QUEENS PLAZA',\n",
       " 'RALPH AV': 'RALPH AV',\n",
       " 'RECTOR ST': 'RECTOR ST',\n",
       " 'ROCKAWAY AV': 'ROCKAWAY AV',\n",
       " 'ROCKAWAY BLVD': 'ROCKAWAY BLVD',\n",
       " 'SARATOGA AV': 'SARATOGA AV',\n",
       " 'SHEEPSHEAD BAY': 'SHEEPSHEAD BAY',\n",
       " 'SHEPHERD AV': 'SHEPHERD AV',\n",
       " 'SIMPSON ST': 'SIMPSON ST',\n",
       " 'SOUTH FERRY': 'SOUTH FERRY',\n",
       " 'SPRING ST': 'SPRING ST',\n",
       " 'ST LAWRENCE AV': 'ST LAWRENCE AV',\n",
       " 'STEINWAY ST': 'STEINWAY ST',\n",
       " 'SUTPHIN BLVD': 'SUTPHIN BLVD',\n",
       " 'SUTTER AV': 'SUTTER AV',\n",
       " 'TREMONT AV': 'TREMONT AV',\n",
       " 'UNION ST': 'UNION ST',\n",
       " 'UTICA AV': 'UTICA AV',\n",
       " 'VAN SICLEN AV': 'VAN SICLEN AV',\n",
       " 'WALL ST': 'WALL ST',\n",
       " 'WILSON AV': 'WILSON AV',\n",
       " 'WINTHROP ST': 'WINTHROP ST',\n",
       " 'WOODLAWN': 'WOODLAWN',\n",
       " 'ZEREGA AV': 'ZEREGA AV',\n",
       " 'AV H': 'AV H',\n",
       " 'AV I': 'AV I',\n",
       " 'AV J': 'AV J',\n",
       " 'AV M': 'AV M',\n",
       " 'AV N': 'AV N',\n",
       " 'AV P': 'AV P',\n",
       " 'AV U': 'AV U',\n",
       " 'AV X': 'AV X',\n",
       " '110 ST-CATHEDRAL PKWY': '110 ST-CATHEDRAL PKWY',\n",
       " '110 ST-CENTRAL PARK NORTH': '110 ST-CENTRAL PARK NORTH',\n",
       " '14 ST-UNION SQUARE': '14 ST-UNION SQUARE',\n",
       " '15 ST-PROSPECT PARK': '15 ST-PROSPECT PARK',\n",
       " '148 ST-HARLEM': '148 ST-HARLEM',\n",
       " '149 ST-GRAND CONCOURSE': '149 ST-GRAND CONCOURSE',\n",
       " '161 ST-YANKEE STADIUM': '161 ST-YANKEE STADIUM',\n",
       " '163 ST-AMSTERDAM AV': '163 ST-AMSTERDAM AV',\n",
       " '168 ST': '168 ST',\n",
       " '179 ST-JAMAICA': '179 ST-JAMAICA',\n",
       " '200 ST-DYCKMAN ST': '200 ST-DYCKMAN ST',\n",
       " '205 ST-NORWOOD': '205 ST-NORWOOD',\n",
       " '207 ST-INWOOD': '207 ST-INWOOD',\n",
       " '21 ST-QUEENSBRIDGE': '21 ST-QUEENSBRIDGE',\n",
       " '225 ST-MARBLE HILL': '225 ST-MARBLE HILL',\n",
       " '238 ST-NEREID AV': '238 ST-NEREID AV',\n",
       " '241 ST-WAKEFIELD': '241 ST-WAKEFIELD',\n",
       " '242 ST-VAN CORTLANDT PARK': '242 ST-VAN CORTLANDT PARK',\n",
       " '3 AV-138 ST': '3 AV-138 ST',\n",
       " '34 ST-HUDSON YD': '34 ST-HUDSON YD',\n",
       " '34 ST-PENN STATION': '34 ST-PENN STATION',\n",
       " '40 ST': '40 ST',\n",
       " '42 ST-BRYANT PK': '42 ST-BRYANT PK',\n",
       " '42 ST-GRAND CENTRAL': '42 ST-GRAND CENTRAL',\n",
       " '42 ST-PORT AUTH': '42 ST-PORT AUTH',\n",
       " '42 ST-TIMES SQUARE': '42 ST-TIMES SQUARE',\n",
       " '47-50 STS/ROCKEFELLER CTR': '47-50 STS/ROCKEFELLER CTR',\n",
       " '59 ST-COLUMBUS CIRCLE': '59 ST-COLUMBUS CIRCLE',\n",
       " '61 ST-WOODSIDE': '61 ST-WOODSIDE',\n",
       " '63 DR-REGO PARK': '63 DR-REGO PARK',\n",
       " '66 ST-LINCOLN CENTER': '66 ST-LINCOLN CENTER',\n",
       " '68 ST-HUNTER COLLEGE': '68 ST-HUNTER COLLEGE',\n",
       " '75 ST-ELDERTS LANE': '75 ST-ELDERTS LANE',\n",
       " '81 ST-MUSEUM': '81 ST-MUSEUM',\n",
       " '82 ST-JACKSON HEIGHTS': '82 ST-JACKSON HEIGHTS',\n",
       " '85 ST-FOREST PKWY': '85 ST-FOREST PKWY',\n",
       " '86 ST-2 AV': '86 ST-2 AV',\n",
       " '90 ST-ELMHURST AV': '90 ST-ELMHURST AV',\n",
       " '96 ST-2 AV': '96 ST-2 AV',\n",
       " '9 ST': '9 ST',\n",
       " 'AQUEDUCT-NORTH CONDUIT AV': 'AQUEDUCT-NORTH CONDUIT AV',\n",
       " 'AQUEDUCT-RACETRACK': 'AQUEDUCT-RACETRACK',\n",
       " 'ASTOR PLACE': 'ASTOR PLACE',\n",
       " 'BAY PKWY': 'BAY PKWY',\n",
       " 'BEDFORD-NOSTRAND AVS': 'BEDFORD-NOSTRAND AVS',\n",
       " 'BROADWAY-EAST NEW YORK': 'BROADWAY-EAST NEW YORK',\n",
       " 'BROADWAY/LAFAYETTE': 'BROADWAY/LAFAYETTE',\n",
       " 'BROOKLYN BRIDGE-CITY HALL': 'BROOKLYN BRIDGE-CITY HALL',\n",
       " 'BUSHWICK AV-ABERDEEN ST': 'BUSHWICK AV-ABERDEEN ST',\n",
       " 'CHRISTOPHER ST-SHERIDAN SQ': 'CHRISTOPHER ST-SHERIDAN SQ',\n",
       " 'CLINTON-WASHINGTON AVS': 'CLINTON-WASHINGTON AVS',\n",
       " 'STILLWELL AV-CONEY ISLAND': 'STILLWELL AV-CONEY ISLAND',\n",
       " 'COURT SQUARE': 'COURT SQUARE',\n",
       " 'DELANCEY ST': 'DELANCEY ST',\n",
       " \"E 143/ST MARY'S\": \"E 143/ST MARY'S\",\n",
       " 'E 149 ST': 'E 149 ST',\n",
       " 'E 180 ET': 'E 180 ET',\n",
       " 'EASTERN PKWY-BROOKLYN MUSEUM': 'EASTERN PKWY-BROOKLYN MUSEUM',\n",
       " 'FAR ROCKAWAY-MOTT AV': 'FAR ROCKAWAY-MOTT AV',\n",
       " 'FLATBUSH AV-BC': 'FLATBUSH AV-BC',\n",
       " 'FORT HAMILTON PKWY': 'FORT HAMILTON PKWY',\n",
       " 'GRAND ARMY PLAZA': 'GRAND ARMY PLAZA',\n",
       " 'GRAND AV-NEWTON': 'GRAND AV-NEWTON',\n",
       " 'HOWARD BEACH-JFK AIRPORT': 'HOWARD BEACH-JFK AIRPORT',\n",
       " 'HOYT-SCHERMERHORN': 'HOYT-SCHERMERHORN',\n",
       " 'HUNTERS PT AV': 'HUNTERS PT AV',\n",
       " 'JAMAICA-VAN WYCK': 'JAMAICA-VAN WYCK',\n",
       " 'KINGS HWY': 'KINGS HWY',\n",
       " 'KINGSTON-THROOP AVS': 'KINGSTON-THROOP AVS',\n",
       " 'KNICKERBOCKER AV': 'KNICKERBOCKER AV',\n",
       " 'KOSCIUSZKO ST': 'KOSCIUSZKO ST',\n",
       " 'MYRTLE-WILLOUGHBY AVS': 'MYRTLE-WILLOUGHBY AVS',\n",
       " 'MYRTLE/WYCKOFF AVS': 'MYRTLE/WYCKOFF AVS',\n",
       " 'JAMAICA CENTER': 'JAMAICA CENTER',\n",
       " 'PATH WTC 2': 'PATH WTC 2',\n",
       " 'QUEENSBORO PLZ': 'QUEENSBORO PLZ',\n",
       " 'ROOSEVELT ISLAND': 'ROOSEVELT ISLAND',\n",
       " 'SMITH-9 ST': 'SMITH-9 ST',\n",
       " 'SOUNDVIEW AV': 'SOUNDVIEW AV',\n",
       " 'SUTPHIN BLVD-ARCHER AV': 'SUTPHIN BLVD-ARCHER AV',\n",
       " 'SUTTER AV-RUTLAND RD': 'SUTTER AV-RUTLAND RD',\n",
       " '30 ST': '30 ST',\n",
       " 'UTICA AV-CROWN HEIGHTS': 'UTICA AV-CROWN HEIGHTS',\n",
       " 'BRIARWOOD': 'BRIARWOOD',\n",
       " 'VERNON BLVD-JACKSON AV': 'VERNON BLVD-JACKSON AV',\n",
       " 'W 4 ST-WASH SQ': 'W 4 ST-WASH SQ',\n",
       " 'WEST 8 ST-NY AQUARIUM': 'WEST 8 ST-NY AQUARIUM',\n",
       " 'EAST TREMONT AV-WEST FARMS S': 'EAST TREMONT AV-WEST FARMS S',\n",
       " 'EAST TREMONT AV-WESTCHESTER S': 'EAST TREMONT AV-WESTCHESTER S',\n",
       " 'WHITEHALL ST-SOUTH FERRY': 'WHITEHALL ST-SOUTH FERRY',\n",
       " 'WILLETS POINT-SHEA STADIUM': 'WILLETS POINT-SHEA STADIUM',\n",
       " 'WOODHAVEN BLVD': 'WOODHAVEN BLVD',\n",
       " 'WTC-CORTLANDT': 'WTC-CORTLANDT'}"
      ]
     },
     "execution_count": 157,
     "metadata": {},
     "output_type": "execute_result"
    }
   ],
   "source": [
    "station_dict.update(common_dict)\n",
    "station_dict.update(new_station_dict)\n",
    "station_dict"
   ]
  },
  {
   "cell_type": "code",
   "execution_count": 158,
   "id": "49a4b641",
   "metadata": {},
   "outputs": [
    {
     "data": {
      "text/plain": [
       "34 ST-PENN STA     55231\n",
       "FULTON ST          52445\n",
       "23 ST              40033\n",
       "GRD CNTRL-42 ST    38676\n",
       "86 ST              34570\n",
       "                   ...  \n",
       "GATES AV            1622\n",
       "CHAUNCEY ST         1617\n",
       "SUTTER AV           1100\n",
       "CLEVELAND ST        1092\n",
       "ORCHARD BEACH        675\n",
       "Name: station, Length: 377, dtype: int64"
      ]
     },
     "execution_count": 158,
     "metadata": {},
     "output_type": "execute_result"
    }
   ],
   "source": [
    "turnstiles_df['station'].value_counts()"
   ]
  },
  {
   "cell_type": "code",
   "execution_count": 159,
   "id": "b7e5c259",
   "metadata": {},
   "outputs": [
    {
     "data": {
      "text/html": [
       "<div>\n",
       "<style scoped>\n",
       "    .dataframe tbody tr th:only-of-type {\n",
       "        vertical-align: middle;\n",
       "    }\n",
       "\n",
       "    .dataframe tbody tr th {\n",
       "        vertical-align: top;\n",
       "    }\n",
       "\n",
       "    .dataframe thead th {\n",
       "        text-align: right;\n",
       "    }\n",
       "</style>\n",
       "<table border=\"1\" class=\"dataframe\">\n",
       "  <thead>\n",
       "    <tr style=\"text-align: right;\">\n",
       "      <th></th>\n",
       "      <th>c_a</th>\n",
       "      <th>unit</th>\n",
       "      <th>scp</th>\n",
       "      <th>station</th>\n",
       "      <th>linename</th>\n",
       "      <th>division</th>\n",
       "      <th>date</th>\n",
       "      <th>time</th>\n",
       "      <th>desc</th>\n",
       "      <th>entries</th>\n",
       "      <th>exits</th>\n",
       "    </tr>\n",
       "  </thead>\n",
       "  <tbody>\n",
       "    <tr>\n",
       "      <th>0</th>\n",
       "      <td>A002</td>\n",
       "      <td>R051</td>\n",
       "      <td>02-00-00</td>\n",
       "      <td>59 ST</td>\n",
       "      <td>NQR456W</td>\n",
       "      <td>BMT</td>\n",
       "      <td>2019-11-30</td>\n",
       "      <td>03:00:00</td>\n",
       "      <td>REGULAR</td>\n",
       "      <td>7290785</td>\n",
       "      <td>2470635</td>\n",
       "    </tr>\n",
       "    <tr>\n",
       "      <th>1</th>\n",
       "      <td>A002</td>\n",
       "      <td>R051</td>\n",
       "      <td>02-00-00</td>\n",
       "      <td>59 ST</td>\n",
       "      <td>NQR456W</td>\n",
       "      <td>BMT</td>\n",
       "      <td>2019-11-30</td>\n",
       "      <td>07:00:00</td>\n",
       "      <td>REGULAR</td>\n",
       "      <td>7290795</td>\n",
       "      <td>2470652</td>\n",
       "    </tr>\n",
       "    <tr>\n",
       "      <th>2</th>\n",
       "      <td>A002</td>\n",
       "      <td>R051</td>\n",
       "      <td>02-00-00</td>\n",
       "      <td>59 ST</td>\n",
       "      <td>NQR456W</td>\n",
       "      <td>BMT</td>\n",
       "      <td>2019-11-30</td>\n",
       "      <td>11:00:00</td>\n",
       "      <td>REGULAR</td>\n",
       "      <td>7290860</td>\n",
       "      <td>2470733</td>\n",
       "    </tr>\n",
       "    <tr>\n",
       "      <th>3</th>\n",
       "      <td>A002</td>\n",
       "      <td>R051</td>\n",
       "      <td>02-00-00</td>\n",
       "      <td>59 ST</td>\n",
       "      <td>NQR456W</td>\n",
       "      <td>BMT</td>\n",
       "      <td>2019-11-30</td>\n",
       "      <td>15:00:00</td>\n",
       "      <td>REGULAR</td>\n",
       "      <td>7291051</td>\n",
       "      <td>2470808</td>\n",
       "    </tr>\n",
       "    <tr>\n",
       "      <th>4</th>\n",
       "      <td>A002</td>\n",
       "      <td>R051</td>\n",
       "      <td>02-00-00</td>\n",
       "      <td>59 ST</td>\n",
       "      <td>NQR456W</td>\n",
       "      <td>BMT</td>\n",
       "      <td>2019-11-30</td>\n",
       "      <td>19:00:00</td>\n",
       "      <td>REGULAR</td>\n",
       "      <td>7291396</td>\n",
       "      <td>2470862</td>\n",
       "    </tr>\n",
       "    <tr>\n",
       "      <th>...</th>\n",
       "      <td>...</td>\n",
       "      <td>...</td>\n",
       "      <td>...</td>\n",
       "      <td>...</td>\n",
       "      <td>...</td>\n",
       "      <td>...</td>\n",
       "      <td>...</td>\n",
       "      <td>...</td>\n",
       "      <td>...</td>\n",
       "      <td>...</td>\n",
       "      <td>...</td>\n",
       "    </tr>\n",
       "    <tr>\n",
       "      <th>2676228</th>\n",
       "      <td>TRAM2</td>\n",
       "      <td>R469</td>\n",
       "      <td>00-05-01</td>\n",
       "      <td>RIT-ROOSEVELT</td>\n",
       "      <td>R</td>\n",
       "      <td>RIT</td>\n",
       "      <td>2019-09-06</td>\n",
       "      <td>05:00:00</td>\n",
       "      <td>REGULAR</td>\n",
       "      <td>5554</td>\n",
       "      <td>420</td>\n",
       "    </tr>\n",
       "    <tr>\n",
       "      <th>2676229</th>\n",
       "      <td>TRAM2</td>\n",
       "      <td>R469</td>\n",
       "      <td>00-05-01</td>\n",
       "      <td>RIT-ROOSEVELT</td>\n",
       "      <td>R</td>\n",
       "      <td>RIT</td>\n",
       "      <td>2019-09-06</td>\n",
       "      <td>09:00:00</td>\n",
       "      <td>REGULAR</td>\n",
       "      <td>5554</td>\n",
       "      <td>420</td>\n",
       "    </tr>\n",
       "    <tr>\n",
       "      <th>2676230</th>\n",
       "      <td>TRAM2</td>\n",
       "      <td>R469</td>\n",
       "      <td>00-05-01</td>\n",
       "      <td>RIT-ROOSEVELT</td>\n",
       "      <td>R</td>\n",
       "      <td>RIT</td>\n",
       "      <td>2019-09-06</td>\n",
       "      <td>13:00:00</td>\n",
       "      <td>REGULAR</td>\n",
       "      <td>5554</td>\n",
       "      <td>420</td>\n",
       "    </tr>\n",
       "    <tr>\n",
       "      <th>2676231</th>\n",
       "      <td>TRAM2</td>\n",
       "      <td>R469</td>\n",
       "      <td>00-05-01</td>\n",
       "      <td>RIT-ROOSEVELT</td>\n",
       "      <td>R</td>\n",
       "      <td>RIT</td>\n",
       "      <td>2019-09-06</td>\n",
       "      <td>17:00:00</td>\n",
       "      <td>REGULAR</td>\n",
       "      <td>5554</td>\n",
       "      <td>420</td>\n",
       "    </tr>\n",
       "    <tr>\n",
       "      <th>2676232</th>\n",
       "      <td>TRAM2</td>\n",
       "      <td>R469</td>\n",
       "      <td>00-05-01</td>\n",
       "      <td>RIT-ROOSEVELT</td>\n",
       "      <td>R</td>\n",
       "      <td>RIT</td>\n",
       "      <td>2019-09-06</td>\n",
       "      <td>21:00:00</td>\n",
       "      <td>REGULAR</td>\n",
       "      <td>5554</td>\n",
       "      <td>420</td>\n",
       "    </tr>\n",
       "  </tbody>\n",
       "</table>\n",
       "<p>2676233 rows × 11 columns</p>\n",
       "</div>"
      ],
      "text/plain": [
       "           c_a  unit       scp        station linename division       date  \\\n",
       "0         A002  R051  02-00-00          59 ST  NQR456W      BMT 2019-11-30   \n",
       "1         A002  R051  02-00-00          59 ST  NQR456W      BMT 2019-11-30   \n",
       "2         A002  R051  02-00-00          59 ST  NQR456W      BMT 2019-11-30   \n",
       "3         A002  R051  02-00-00          59 ST  NQR456W      BMT 2019-11-30   \n",
       "4         A002  R051  02-00-00          59 ST  NQR456W      BMT 2019-11-30   \n",
       "...        ...   ...       ...            ...      ...      ...        ...   \n",
       "2676228  TRAM2  R469  00-05-01  RIT-ROOSEVELT        R      RIT 2019-09-06   \n",
       "2676229  TRAM2  R469  00-05-01  RIT-ROOSEVELT        R      RIT 2019-09-06   \n",
       "2676230  TRAM2  R469  00-05-01  RIT-ROOSEVELT        R      RIT 2019-09-06   \n",
       "2676231  TRAM2  R469  00-05-01  RIT-ROOSEVELT        R      RIT 2019-09-06   \n",
       "2676232  TRAM2  R469  00-05-01  RIT-ROOSEVELT        R      RIT 2019-09-06   \n",
       "\n",
       "             time     desc  entries    exits  \n",
       "0        03:00:00  REGULAR  7290785  2470635  \n",
       "1        07:00:00  REGULAR  7290795  2470652  \n",
       "2        11:00:00  REGULAR  7290860  2470733  \n",
       "3        15:00:00  REGULAR  7291051  2470808  \n",
       "4        19:00:00  REGULAR  7291396  2470862  \n",
       "...           ...      ...      ...      ...  \n",
       "2676228  05:00:00  REGULAR     5554      420  \n",
       "2676229  09:00:00  REGULAR     5554      420  \n",
       "2676230  13:00:00  REGULAR     5554      420  \n",
       "2676231  17:00:00  REGULAR     5554      420  \n",
       "2676232  21:00:00  REGULAR     5554      420  \n",
       "\n",
       "[2676233 rows x 11 columns]"
      ]
     },
     "execution_count": 159,
     "metadata": {},
     "output_type": "execute_result"
    }
   ],
   "source": [
    "turnstiles_df"
   ]
  },
  {
   "cell_type": "code",
   "execution_count": 160,
   "id": "2dea6235",
   "metadata": {},
   "outputs": [
    {
     "data": {
      "text/plain": [
       "125 ST                       8201\n",
       "14 ST                        4523\n",
       "34 ST-PENN STATION           3851\n",
       "42 ST-PORT AUTH              3734\n",
       "116 ST                       3356\n",
       "42 ST-TIMES SQUARE           3151\n",
       "42 ST-GRAND CENTRAL          3134\n",
       "14 ST-UNION SQUARE           2465\n",
       "CANAL ST                     2406\n",
       "59 ST-COLUMBUS CIRCLE        2330\n",
       "BOROUGH HALL                 2132\n",
       "UTICA AV-CROWN HEIGHTS       2058\n",
       "86 ST                        1850\n",
       "3 AV-149 ST                  1715\n",
       "59 ST                        1703\n",
       "161 ST-YANKEE STADIUM        1639\n",
       "96 ST                        1558\n",
       "NOSTRAND AV                  1515\n",
       "FORDHAM RD                   1513\n",
       "145 ST                       1502\n",
       "34 ST-HERALD SQ              1501\n",
       "JAMAICA CENTER               1497\n",
       "23 ST                        1443\n",
       "W 4 ST-WASH SQ               1387\n",
       "STILLWELL AV-CONEY ISLAND    1264\n",
       "FRANKLIN AV                  1254\n",
       "168 ST                       1213\n",
       "KINGSBRIDGE RD               1184\n",
       "ATLANTIC AV                  1172\n",
       "72 ST                        1151\n",
       "BROADWAY-EAST NEW YORK       1128\n",
       "170 ST                       1108\n",
       "FULTON ST                    1097\n",
       "CHURCH AV                    1090\n",
       "103 ST                       1039\n",
       "ROCKAWAY AV                  1024\n",
       "DEKALB AV                    1014\n",
       "135 ST                        978\n",
       "HOYT-SCHERMERHORN             974\n",
       "28 ST                         922\n",
       "SUTPHIN BLVD-ARCHER AV        921\n",
       "149 ST-GRAND CONCOURSE        902\n",
       "110 ST                        901\n",
       "EAST BROADWAY                 840\n",
       "50 ST                         825\n",
       "UTICA AV                      811\n",
       "BROOKLYN BRIDGE-CITY HALL     776\n",
       "TREMONT AV                    702\n",
       "8 AV                          692\n",
       "167 ST                        687\n",
       "Name: station, dtype: int64"
      ]
     },
     "execution_count": 160,
     "metadata": {},
     "output_type": "execute_result"
    }
   ],
   "source": [
    "comp_w['station'] = comp_w['station'].map(station_dict)\n",
    "comp_w['station'].value_counts().head(50)"
   ]
  },
  {
   "cell_type": "code",
   "execution_count": 161,
   "id": "9bd0fd6e",
   "metadata": {},
   "outputs": [
    {
     "data": {
      "text/plain": [
       "34 ST-PENN STATION            55231\n",
       "FULTON ST                     52445\n",
       "23 ST                         44489\n",
       "42 ST-GRAND CENTRAL           38676\n",
       "86 ST                         34570\n",
       "14 ST                         33500\n",
       "CANAL ST                      31691\n",
       "34 ST-HERALD SQ               29715\n",
       "CHAMBERS ST                   29637\n",
       "WTC-CORTLANDT                 28960\n",
       "ATLANTIC AV                   28804\n",
       "42 ST-PORT AUTH               28016\n",
       "59 ST                         27822\n",
       "WALL ST                       27320\n",
       "42 ST-TIMES SQUARE            26770\n",
       "PATH WTC 2                    25940\n",
       "125 ST                        23546\n",
       "14 ST-UNION SQUARE            22501\n",
       "59 ST-COLUMBUS CIRCLE         22363\n",
       "28 ST                         21314\n",
       "CORTLANDT ST                  21281\n",
       "33 ST                         21238\n",
       "96 ST                         20221\n",
       "161 ST-YANKEE STADIUM         20142\n",
       "CHURCH AV                     20080\n",
       "WILLETS POINT-SHEA STADIUM    19998\n",
       "50 ST                         19799\n",
       "47-50 STS/ROCKEFELLER CTR     19644\n",
       "34 ST-HUDSON YD               16464\n",
       "KINGS HWY                     16420\n",
       "BOWLING GREEN                 15984\n",
       "72 ST                         15817\n",
       "BOROUGH HALL                  14969\n",
       "8 AV                          14234\n",
       "179 ST-JAMAICA                13937\n",
       "COURT SQUARE                  13176\n",
       "QUEENS PLAZA                  13088\n",
       "51 ST                         12603\n",
       "FORT HAMILTON PKWY            12493\n",
       "135 ST                        12441\n",
       "66 ST-LINCOLN CENTER          12305\n",
       "116 ST                        11911\n",
       "SOUTH FERRY                   11679\n",
       "JAMAICA CENTER                11622\n",
       "7 AV                          11510\n",
       "42 ST-BRYANT PK               11507\n",
       "BERGEN ST                     11467\n",
       "DEKALB AV                     11385\n",
       "STILLWELL AV-CONEY ISLAND     11046\n",
       "RECTOR ST                     11028\n",
       "Name: station, dtype: int64"
      ]
     },
     "execution_count": 161,
     "metadata": {},
     "output_type": "execute_result"
    }
   ],
   "source": [
    "turnstiles_df['station'] = turnstiles_df['station'].map(station_dict)\n",
    "turnstiles_df['station'].value_counts().head(50)"
   ]
  },
  {
   "cell_type": "markdown",
   "id": "588e0de2",
   "metadata": {},
   "source": [
    "Now, let's deal with the entries data. Since entries are cumulative, we need to separate out daily entries by looking at the *differences* in entries between each row. Along the way, we'll also look for instances where the counter \"resets\", so we can remove those and make sure all values are positive and expected."
   ]
  },
  {
   "cell_type": "code",
   "execution_count": 164,
   "id": "2f068586",
   "metadata": {},
   "outputs": [],
   "source": [
    "turnstiles_daily = (turnstiles_df\n",
    "                        .groupby([\"c_a\", \"unit\", \"scp\", \"station\", \"date\"],as_index=False)\n",
    "                        .entries.first())"
   ]
  },
  {
   "cell_type": "code",
   "execution_count": 165,
   "id": "2d5a5f56",
   "metadata": {},
   "outputs": [],
   "source": [
    "turnstiles_daily[[\"prev_date\", \"prev_entries\"]] = (turnstiles_daily\n",
    "                                                       .groupby([\"c_a\", \"unit\", \"scp\", \"station\"])[[\"date\", \"entries\"]]\n",
    "                                                       .shift(1))"
   ]
  },
  {
   "cell_type": "code",
   "execution_count": 166,
   "id": "2dfa5afd",
   "metadata": {},
   "outputs": [],
   "source": [
    "turnstiles_daily.dropna(subset=[\"prev_date\"], axis=0, inplace=True)"
   ]
  },
  {
   "cell_type": "code",
   "execution_count": 341,
   "id": "68c15f9e",
   "metadata": {},
   "outputs": [
    {
     "name": "stdout",
     "output_type": "stream",
     "text": [
      "entries: 12 <-- 6170094.0\n",
      "entries: 505 <-- 3846725.0\n",
      "entries: 29 <-- 3367892.0\n",
      "entries: 26 <-- 1084013.0\n",
      "entries: 871 <-- 2152170.0\n",
      "entries: 143 <-- 1599329.0\n",
      "entries: 460787 <-- 6805255.0\n",
      "entries: 875479593 <-- 775219651.0\n",
      "entries: 590840 <-- 9156730.0\n",
      "entries: 107 <-- 2728637.0\n",
      "entries: 114 <-- 4283137.0\n",
      "entries: 163 <-- 2209769.0\n",
      "entries: 134 <-- 1478959.0\n",
      "entries: 143 <-- 6198009.0\n",
      "entries: 75 <-- 1121336497.0\n",
      "entries: 21 <-- 2025847511.0\n",
      "entries: 1480 <-- 4711918.0\n",
      "entries: 326 <-- 6844908.0\n",
      "entries: 222 <-- 6053291.0\n",
      "entries: 196608 <-- 50345125.0\n",
      "entries: 589824 <-- 50331648.0\n",
      "entries: 265 <-- 10392208.0\n",
      "entries: 2214 <-- 6026439.0\n",
      "entries: 458752 <-- 117440512.0\n",
      "entries: 374 <-- 1068534.0\n",
      "entries: 12 <-- 152964239.0\n",
      "entries: 2292 <-- 19783215.0\n",
      "entries: 458752 <-- 117440512.0\n",
      "entries: 80 <-- 2781090.0\n",
      "entries: 14 <-- 1841376.0\n",
      "entries: 2122 <-- 4443513.0\n",
      "entries: 4982314 <-- 877275.0\n",
      "entries: 1440 <-- 2254291.0\n",
      "entries: 721441481 <-- 2880437.0\n",
      "entries: 14 <-- 4584481.0\n",
      "entries: 67122970 <-- 103605.0\n",
      "entries: 233 <-- 67122970.0\n",
      "entries: 100 <-- 2297217.0\n",
      "entries: 49 <-- 5491914.0\n",
      "entries: 235398341 <-- 9934.0\n",
      "entries: 83886083 <-- 117440614.0\n",
      "entries: 10 <-- 5679419.0\n",
      "entries: 1399 <-- 4459576.0\n",
      "entries: 6817760 <-- 3603961.0\n",
      "entries: 443 <-- 3071861.0\n",
      "entries: 123785355 <-- 117604995.0\n",
      "entries: 82 <-- 2209128.0\n",
      "entries: 31260679 <-- 48392.0\n",
      "entries: 1507350 <-- 3900.0\n",
      "entries: 18 <-- 3511766.0\n",
      "entries: 535 <-- 4777158.0\n",
      "entries: 102459236 <-- 210849.0\n",
      "entries: 314 <-- 3782849.0\n",
      "entries: 756 <-- 9852707.0\n",
      "entries: 1 <-- 134218317.0\n",
      "entries: 2473 <-- 22554699.0\n",
      "entries: 281 <-- 1449982.0\n",
      "entries: 1870 <-- 5390631.0\n",
      "entries: 1186 <-- 17298021.0\n",
      "entries: 2580 <-- 2885384.0\n",
      "entries: 15749521 <-- 3953152.0\n",
      "entries: 3953156 <-- 15763173.0\n",
      "entries: 39243220 <-- 15748085.0\n",
      "entries: 15763179 <-- 39256787.0\n",
      "entries: 569320958 <-- 779190.0\n",
      "entries: 63 <-- 703406557.0\n",
      "entries: 1711290799 <-- 6741395.0\n",
      "entries: 10314 <-- 5196852.0\n",
      "entries: 5197465 <-- 1004928.0\n",
      "entries: 352351971 <-- 1425810.0\n",
      "entries: 748 <-- 2242013.0\n",
      "entries: 30 <-- 9110922.0\n",
      "entries: 33601461 <-- 187873.0\n",
      "entries: 16730529 <-- 453031810.0\n",
      "entries: 1761654126 <-- 6924207.0\n",
      "entries: 1560341984 <-- 6151913.0\n",
      "entries: 285275117 <-- 1162483.0\n",
      "entries: 8 <-- 3318362.0\n",
      "entries: 268448302 <-- 1063972.0\n",
      "entries: 2046772863 <-- 8817079.0\n",
      "entries: 139432263 <-- 1325952613.0\n",
      "entries: 5 <-- 2013355776.0\n",
      "entries: 1865 <-- 991539888.0\n",
      "entries: 38 <-- 3301602.0\n",
      "entries: 1114883 <-- 3429015.0\n",
      "entries: 1011 <-- 12274281.0\n"
     ]
    }
   ],
   "source": [
    "def get_daily_counts(row, max_counter):\n",
    "    counter = row[\"entries\"] - row[\"prev_entries\"]   \n",
    "    if counter < 0:\n",
    "        counter = -counter        \n",
    "    if counter > max_counter:\n",
    "        print(f'entries: {row[\"entries\"]} <-- {row[\"prev_entries\"]}')\n",
    "        counter = min(row[\"entries\"], row[\"prev_entries\"])        \n",
    "    if counter > max_counter:\n",
    "        return 0    \n",
    "    return counter\n",
    "turnstiles_daily[\"daily_entries\"] = turnstiles_daily.apply(get_daily_counts, axis=1, max_counter=1000000)"
   ]
  },
  {
   "cell_type": "code",
   "execution_count": 168,
   "id": "3e873ab4",
   "metadata": {},
   "outputs": [
    {
     "data": {
      "text/html": [
       "<div>\n",
       "<style scoped>\n",
       "    .dataframe tbody tr th:only-of-type {\n",
       "        vertical-align: middle;\n",
       "    }\n",
       "\n",
       "    .dataframe tbody tr th {\n",
       "        vertical-align: top;\n",
       "    }\n",
       "\n",
       "    .dataframe thead th {\n",
       "        text-align: right;\n",
       "    }\n",
       "</style>\n",
       "<table border=\"1\" class=\"dataframe\">\n",
       "  <thead>\n",
       "    <tr style=\"text-align: right;\">\n",
       "      <th></th>\n",
       "      <th>station</th>\n",
       "      <th>date</th>\n",
       "      <th>daily_entries</th>\n",
       "    </tr>\n",
       "  </thead>\n",
       "  <tbody>\n",
       "    <tr>\n",
       "      <th>0</th>\n",
       "      <td>1 AV</td>\n",
       "      <td>2019-09-02</td>\n",
       "      <td>4169.0</td>\n",
       "    </tr>\n",
       "    <tr>\n",
       "      <th>1</th>\n",
       "      <td>1 AV</td>\n",
       "      <td>2019-09-03</td>\n",
       "      <td>3657.0</td>\n",
       "    </tr>\n",
       "    <tr>\n",
       "      <th>2</th>\n",
       "      <td>1 AV</td>\n",
       "      <td>2019-09-04</td>\n",
       "      <td>15620.0</td>\n",
       "    </tr>\n",
       "    <tr>\n",
       "      <th>3</th>\n",
       "      <td>1 AV</td>\n",
       "      <td>2019-09-05</td>\n",
       "      <td>16739.0</td>\n",
       "    </tr>\n",
       "    <tr>\n",
       "      <th>4</th>\n",
       "      <td>1 AV</td>\n",
       "      <td>2019-09-06</td>\n",
       "      <td>18923.0</td>\n",
       "    </tr>\n",
       "  </tbody>\n",
       "</table>\n",
       "</div>"
      ],
      "text/plain": [
       "  station       date  daily_entries\n",
       "0    1 AV 2019-09-02         4169.0\n",
       "1    1 AV 2019-09-03         3657.0\n",
       "2    1 AV 2019-09-04        15620.0\n",
       "3    1 AV 2019-09-05        16739.0\n",
       "4    1 AV 2019-09-06        18923.0"
      ]
     },
     "execution_count": 168,
     "metadata": {},
     "output_type": "execute_result"
    }
   ],
   "source": [
    "station_daily = turnstiles_daily.groupby([\"station\", \"date\"])[['daily_entries']].sum().reset_index()\n",
    "station_daily.head()"
   ]
  },
  {
   "cell_type": "code",
   "execution_count": 171,
   "id": "599ef705",
   "metadata": {},
   "outputs": [
    {
     "data": {
      "text/html": [
       "<div>\n",
       "<style scoped>\n",
       "    .dataframe tbody tr th:only-of-type {\n",
       "        vertical-align: middle;\n",
       "    }\n",
       "\n",
       "    .dataframe tbody tr th {\n",
       "        vertical-align: top;\n",
       "    }\n",
       "\n",
       "    .dataframe thead th {\n",
       "        text-align: right;\n",
       "    }\n",
       "</style>\n",
       "<table border=\"1\" class=\"dataframe\">\n",
       "  <thead>\n",
       "    <tr style=\"text-align: right;\">\n",
       "      <th></th>\n",
       "      <th>station</th>\n",
       "      <th>daily_entries</th>\n",
       "    </tr>\n",
       "  </thead>\n",
       "  <tbody>\n",
       "    <tr>\n",
       "      <th>66</th>\n",
       "      <td>34 ST-PENN STATION</td>\n",
       "      <td>13268516.0</td>\n",
       "    </tr>\n",
       "    <tr>\n",
       "      <th>71</th>\n",
       "      <td>42 ST-GRAND CENTRAL</td>\n",
       "      <td>12463012.0</td>\n",
       "    </tr>\n",
       "    <tr>\n",
       "      <th>49</th>\n",
       "      <td>23 ST</td>\n",
       "      <td>11213115.0</td>\n",
       "    </tr>\n",
       "    <tr>\n",
       "      <th>64</th>\n",
       "      <td>34 ST-HERALD SQ</td>\n",
       "      <td>9972776.0</td>\n",
       "    </tr>\n",
       "    <tr>\n",
       "      <th>72</th>\n",
       "      <td>42 ST-PORT AUTH</td>\n",
       "      <td>8333713.0</td>\n",
       "    </tr>\n",
       "  </tbody>\n",
       "</table>\n",
       "</div>"
      ],
      "text/plain": [
       "                station  daily_entries\n",
       "66   34 ST-PENN STATION     13268516.0\n",
       "71  42 ST-GRAND CENTRAL     12463012.0\n",
       "49                23 ST     11213115.0\n",
       "64      34 ST-HERALD SQ      9972776.0\n",
       "72      42 ST-PORT AUTH      8333713.0"
      ]
     },
     "execution_count": 171,
     "metadata": {},
     "output_type": "execute_result"
    }
   ],
   "source": [
    "station_totals = station_daily.groupby('station')['daily_entries'].sum() \\\n",
    "    .reset_index() \\\n",
    "    .sort_values('daily_entries', ascending=False)\n",
    "\n",
    "station_totals.head()"
   ]
  },
  {
   "cell_type": "markdown",
   "id": "59867d9b",
   "metadata": {},
   "source": [
    "Let's make a column that will log each complaint as '1' so we can use it for summing."
   ]
  },
  {
   "cell_type": "code",
   "execution_count": 172,
   "id": "85a796c1",
   "metadata": {},
   "outputs": [
    {
     "data": {
      "text/html": [
       "<div>\n",
       "<style scoped>\n",
       "    .dataframe tbody tr th:only-of-type {\n",
       "        vertical-align: middle;\n",
       "    }\n",
       "\n",
       "    .dataframe tbody tr th {\n",
       "        vertical-align: top;\n",
       "    }\n",
       "\n",
       "    .dataframe thead th {\n",
       "        text-align: right;\n",
       "    }\n",
       "</style>\n",
       "<table border=\"1\" class=\"dataframe\">\n",
       "  <thead>\n",
       "    <tr style=\"text-align: right;\">\n",
       "      <th></th>\n",
       "      <th>station</th>\n",
       "      <th>complaint_counts</th>\n",
       "    </tr>\n",
       "  </thead>\n",
       "  <tbody>\n",
       "    <tr>\n",
       "      <th>0</th>\n",
       "      <td>1 AV</td>\n",
       "      <td>415</td>\n",
       "    </tr>\n",
       "    <tr>\n",
       "      <th>1</th>\n",
       "      <td>103 ST</td>\n",
       "      <td>1039</td>\n",
       "    </tr>\n",
       "    <tr>\n",
       "      <th>2</th>\n",
       "      <td>103 ST-CORONA PLAZA</td>\n",
       "      <td>443</td>\n",
       "    </tr>\n",
       "    <tr>\n",
       "      <th>3</th>\n",
       "      <td>104 ST</td>\n",
       "      <td>65</td>\n",
       "    </tr>\n",
       "    <tr>\n",
       "      <th>4</th>\n",
       "      <td>110 ST</td>\n",
       "      <td>901</td>\n",
       "    </tr>\n",
       "    <tr>\n",
       "      <th>...</th>\n",
       "      <td>...</td>\n",
       "      <td>...</td>\n",
       "    </tr>\n",
       "    <tr>\n",
       "      <th>300</th>\n",
       "      <td>WILSON AV</td>\n",
       "      <td>172</td>\n",
       "    </tr>\n",
       "    <tr>\n",
       "      <th>301</th>\n",
       "      <td>WINTHROP ST</td>\n",
       "      <td>191</td>\n",
       "    </tr>\n",
       "    <tr>\n",
       "      <th>302</th>\n",
       "      <td>WOODHAVEN BLVD</td>\n",
       "      <td>326</td>\n",
       "    </tr>\n",
       "    <tr>\n",
       "      <th>303</th>\n",
       "      <td>WOODLAWN</td>\n",
       "      <td>384</td>\n",
       "    </tr>\n",
       "    <tr>\n",
       "      <th>304</th>\n",
       "      <td>ZEREGA AV</td>\n",
       "      <td>69</td>\n",
       "    </tr>\n",
       "  </tbody>\n",
       "</table>\n",
       "<p>305 rows × 2 columns</p>\n",
       "</div>"
      ],
      "text/plain": [
       "                 station  complaint_counts\n",
       "0                   1 AV               415\n",
       "1                 103 ST              1039\n",
       "2    103 ST-CORONA PLAZA               443\n",
       "3                 104 ST                65\n",
       "4                 110 ST               901\n",
       "..                   ...               ...\n",
       "300            WILSON AV               172\n",
       "301          WINTHROP ST               191\n",
       "302       WOODHAVEN BLVD               326\n",
       "303             WOODLAWN               384\n",
       "304            ZEREGA AV                69\n",
       "\n",
       "[305 rows x 2 columns]"
      ]
     },
     "execution_count": 172,
     "metadata": {},
     "output_type": "execute_result"
    }
   ],
   "source": [
    "comp_w['complaint_counts'] = 1\n",
    "comp_s_sum = comp_w.groupby('station')[['complaint_counts']].sum().reset_index()\n",
    "comp_s_sum"
   ]
  },
  {
   "cell_type": "markdown",
   "id": "b92842aa",
   "metadata": {},
   "source": [
    "Merging the datasets, finally!"
   ]
  },
  {
   "cell_type": "code",
   "execution_count": 173,
   "id": "18962d37",
   "metadata": {},
   "outputs": [
    {
     "data": {
      "text/html": [
       "<div>\n",
       "<style scoped>\n",
       "    .dataframe tbody tr th:only-of-type {\n",
       "        vertical-align: middle;\n",
       "    }\n",
       "\n",
       "    .dataframe tbody tr th {\n",
       "        vertical-align: top;\n",
       "    }\n",
       "\n",
       "    .dataframe thead th {\n",
       "        text-align: right;\n",
       "    }\n",
       "</style>\n",
       "<table border=\"1\" class=\"dataframe\">\n",
       "  <thead>\n",
       "    <tr style=\"text-align: right;\">\n",
       "      <th></th>\n",
       "      <th>station</th>\n",
       "      <th>complaint_counts</th>\n",
       "      <th>daily_entries</th>\n",
       "    </tr>\n",
       "  </thead>\n",
       "  <tbody>\n",
       "    <tr>\n",
       "      <th>0</th>\n",
       "      <td>1 AV</td>\n",
       "      <td>415</td>\n",
       "      <td>1298502.0</td>\n",
       "    </tr>\n",
       "    <tr>\n",
       "      <th>1</th>\n",
       "      <td>103 ST</td>\n",
       "      <td>1039</td>\n",
       "      <td>2420919.0</td>\n",
       "    </tr>\n",
       "    <tr>\n",
       "      <th>2</th>\n",
       "      <td>103 ST-CORONA PLAZA</td>\n",
       "      <td>443</td>\n",
       "      <td>1659535.0</td>\n",
       "    </tr>\n",
       "    <tr>\n",
       "      <th>3</th>\n",
       "      <td>104 ST</td>\n",
       "      <td>65</td>\n",
       "      <td>332039.0</td>\n",
       "    </tr>\n",
       "    <tr>\n",
       "      <th>4</th>\n",
       "      <td>110 ST</td>\n",
       "      <td>901</td>\n",
       "      <td>860929.0</td>\n",
       "    </tr>\n",
       "    <tr>\n",
       "      <th>...</th>\n",
       "      <td>...</td>\n",
       "      <td>...</td>\n",
       "      <td>...</td>\n",
       "    </tr>\n",
       "    <tr>\n",
       "      <th>298</th>\n",
       "      <td>WILSON AV</td>\n",
       "      <td>172</td>\n",
       "      <td>334003.0</td>\n",
       "    </tr>\n",
       "    <tr>\n",
       "      <th>299</th>\n",
       "      <td>WINTHROP ST</td>\n",
       "      <td>191</td>\n",
       "      <td>547041.0</td>\n",
       "    </tr>\n",
       "    <tr>\n",
       "      <th>300</th>\n",
       "      <td>WOODHAVEN BLVD</td>\n",
       "      <td>326</td>\n",
       "      <td>1998177.0</td>\n",
       "    </tr>\n",
       "    <tr>\n",
       "      <th>301</th>\n",
       "      <td>WOODLAWN</td>\n",
       "      <td>384</td>\n",
       "      <td>548572.0</td>\n",
       "    </tr>\n",
       "    <tr>\n",
       "      <th>302</th>\n",
       "      <td>ZEREGA AV</td>\n",
       "      <td>69</td>\n",
       "      <td>207712.0</td>\n",
       "    </tr>\n",
       "  </tbody>\n",
       "</table>\n",
       "<p>303 rows × 3 columns</p>\n",
       "</div>"
      ],
      "text/plain": [
       "                 station  complaint_counts  daily_entries\n",
       "0                   1 AV               415      1298502.0\n",
       "1                 103 ST              1039      2420919.0\n",
       "2    103 ST-CORONA PLAZA               443      1659535.0\n",
       "3                 104 ST                65       332039.0\n",
       "4                 110 ST               901       860929.0\n",
       "..                   ...               ...            ...\n",
       "298            WILSON AV               172       334003.0\n",
       "299          WINTHROP ST               191       547041.0\n",
       "300       WOODHAVEN BLVD               326      1998177.0\n",
       "301             WOODLAWN               384       548572.0\n",
       "302            ZEREGA AV                69       207712.0\n",
       "\n",
       "[303 rows x 3 columns]"
      ]
     },
     "execution_count": 173,
     "metadata": {},
     "output_type": "execute_result"
    }
   ],
   "source": [
    "merged_df = pd.merge(comp_s_sum,station_totals,on='station')\n",
    "merged_df"
   ]
  },
  {
   "cell_type": "markdown",
   "id": "c67ceea2",
   "metadata": {},
   "source": [
    "Let's visualize the data to see what kind of correlation there is between traffic and complaint numbers."
   ]
  },
  {
   "cell_type": "code",
   "execution_count": 174,
   "id": "faca9624",
   "metadata": {},
   "outputs": [
    {
     "data": {
      "text/plain": [
       "Text(0, 0.5, 'Charges of assault, rape, harrassment filed')"
      ]
     },
     "execution_count": 174,
     "metadata": {},
     "output_type": "execute_result"
    },
    {
     "data": {
      "image/png": "[encoded data removed]",
      "text/plain": [
       "<Figure size 432x288 with 1 Axes>"
      ]
     },
     "metadata": {},
     "output_type": "display_data"
    }
   ],
   "source": [
    "plt.style.use('ggplot')\n",
    "plt.scatter(merged_df['daily_entries'],merged_df['complaint_counts'],alpha=.5);\n",
    "plt.title('Complaints by station vs. traffic')\n",
    "plt.xlabel('Total entries 9/2019 - 11/2019')\n",
    "plt.ylabel('Charges of assault, rape, harrassment filed')"
   ]
  },
  {
   "cell_type": "code",
   "execution_count": 175,
   "id": "38fe6f41",
   "metadata": {},
   "outputs": [
    {
     "data": {
      "text/html": [
       "<div>\n",
       "<style scoped>\n",
       "    .dataframe tbody tr th:only-of-type {\n",
       "        vertical-align: middle;\n",
       "    }\n",
       "\n",
       "    .dataframe tbody tr th {\n",
       "        vertical-align: top;\n",
       "    }\n",
       "\n",
       "    .dataframe thead th {\n",
       "        text-align: right;\n",
       "    }\n",
       "</style>\n",
       "<table border=\"1\" class=\"dataframe\">\n",
       "  <thead>\n",
       "    <tr style=\"text-align: right;\">\n",
       "      <th></th>\n",
       "      <th>complaint_counts</th>\n",
       "      <th>daily_entries</th>\n",
       "    </tr>\n",
       "  </thead>\n",
       "  <tbody>\n",
       "    <tr>\n",
       "      <th>count</th>\n",
       "      <td>303.000000</td>\n",
       "      <td>3.030000e+02</td>\n",
       "    </tr>\n",
       "    <tr>\n",
       "      <th>mean</th>\n",
       "      <td>487.841584</td>\n",
       "      <td>1.371140e+06</td>\n",
       "    </tr>\n",
       "    <tr>\n",
       "      <th>std</th>\n",
       "      <td>767.247882</td>\n",
       "      <td>1.898023e+06</td>\n",
       "    </tr>\n",
       "    <tr>\n",
       "      <th>min</th>\n",
       "      <td>19.000000</td>\n",
       "      <td>2.417100e+04</td>\n",
       "    </tr>\n",
       "    <tr>\n",
       "      <th>25%</th>\n",
       "      <td>150.000000</td>\n",
       "      <td>3.770390e+05</td>\n",
       "    </tr>\n",
       "    <tr>\n",
       "      <th>50%</th>\n",
       "      <td>244.000000</td>\n",
       "      <td>6.914840e+05</td>\n",
       "    </tr>\n",
       "    <tr>\n",
       "      <th>75%</th>\n",
       "      <td>487.500000</td>\n",
       "      <td>1.480329e+06</td>\n",
       "    </tr>\n",
       "    <tr>\n",
       "      <th>max</th>\n",
       "      <td>8201.000000</td>\n",
       "      <td>1.326852e+07</td>\n",
       "    </tr>\n",
       "  </tbody>\n",
       "</table>\n",
       "</div>"
      ],
      "text/plain": [
       "       complaint_counts  daily_entries\n",
       "count        303.000000   3.030000e+02\n",
       "mean         487.841584   1.371140e+06\n",
       "std          767.247882   1.898023e+06\n",
       "min           19.000000   2.417100e+04\n",
       "25%          150.000000   3.770390e+05\n",
       "50%          244.000000   6.914840e+05\n",
       "75%          487.500000   1.480329e+06\n",
       "max         8201.000000   1.326852e+07"
      ]
     },
     "execution_count": 175,
     "metadata": {},
     "output_type": "execute_result"
    }
   ],
   "source": [
    "merged_df.describe()"
   ]
  },
  {
   "cell_type": "code",
   "execution_count": 176,
   "id": "5f5fee02",
   "metadata": {},
   "outputs": [
    {
     "data": {
      "text/html": [
       "<div>\n",
       "<style scoped>\n",
       "    .dataframe tbody tr th:only-of-type {\n",
       "        vertical-align: middle;\n",
       "    }\n",
       "\n",
       "    .dataframe tbody tr th {\n",
       "        vertical-align: top;\n",
       "    }\n",
       "\n",
       "    .dataframe thead th {\n",
       "        text-align: right;\n",
       "    }\n",
       "</style>\n",
       "<table border=\"1\" class=\"dataframe\">\n",
       "  <thead>\n",
       "    <tr style=\"text-align: right;\">\n",
       "      <th></th>\n",
       "      <th>complaint_counts</th>\n",
       "      <th>daily_entries</th>\n",
       "    </tr>\n",
       "  </thead>\n",
       "  <tbody>\n",
       "    <tr>\n",
       "      <th>complaint_counts</th>\n",
       "      <td>1.000000</td>\n",
       "      <td>0.725618</td>\n",
       "    </tr>\n",
       "    <tr>\n",
       "      <th>daily_entries</th>\n",
       "      <td>0.725618</td>\n",
       "      <td>1.000000</td>\n",
       "    </tr>\n",
       "  </tbody>\n",
       "</table>\n",
       "</div>"
      ],
      "text/plain": [
       "                  complaint_counts  daily_entries\n",
       "complaint_counts          1.000000       0.725618\n",
       "daily_entries             0.725618       1.000000"
      ]
     },
     "execution_count": 176,
     "metadata": {},
     "output_type": "execute_result"
    }
   ],
   "source": [
    "corr = merged_df.corr()\n",
    "corr"
   ]
  },
  {
   "cell_type": "markdown",
   "id": "331bde84",
   "metadata": {},
   "source": [
    ".73 is a pretty strong correlation. Clearly traffic is the main factor driving complaint numbers, but it isn't the whole story. Let's create a metric that we can use to evaluate complaints given traffic. I'm dividing total complaints by total entries for each station, and multiplying by 100 to get a percentage. We can think of it as: \"For every 100 people entering a station, how many sex-related charges are filed?\""
   ]
  },
  {
   "cell_type": "code",
   "execution_count": 177,
   "id": "83b125ed",
   "metadata": {},
   "outputs": [],
   "source": [
    "merged_df['percentage'] = merged_df['complaint_counts'] / merged_df['daily_entries'] * 100"
   ]
  },
  {
   "cell_type": "markdown",
   "id": "fa5033b8",
   "metadata": {},
   "source": [
    "Now we can take our first look at the most dangerous stations."
   ]
  },
  {
   "cell_type": "code",
   "execution_count": 178,
   "id": "07a0c335",
   "metadata": {},
   "outputs": [
    {
     "data": {
      "text/html": [
       "<div>\n",
       "<style scoped>\n",
       "    .dataframe tbody tr th:only-of-type {\n",
       "        vertical-align: middle;\n",
       "    }\n",
       "\n",
       "    .dataframe tbody tr th {\n",
       "        vertical-align: top;\n",
       "    }\n",
       "\n",
       "    .dataframe thead th {\n",
       "        text-align: right;\n",
       "    }\n",
       "</style>\n",
       "<table border=\"1\" class=\"dataframe\">\n",
       "  <thead>\n",
       "    <tr style=\"text-align: right;\">\n",
       "      <th></th>\n",
       "      <th>station</th>\n",
       "      <th>complaint_counts</th>\n",
       "      <th>daily_entries</th>\n",
       "      <th>percentage</th>\n",
       "    </tr>\n",
       "  </thead>\n",
       "  <tbody>\n",
       "    <tr>\n",
       "      <th>149</th>\n",
       "      <td>BROAD CHANNEL</td>\n",
       "      <td>293</td>\n",
       "      <td>24171.0</td>\n",
       "      <td>1.212196</td>\n",
       "    </tr>\n",
       "    <tr>\n",
       "      <th>94</th>\n",
       "      <td>74 ST-BROADWAY</td>\n",
       "      <td>495</td>\n",
       "      <td>280012.0</td>\n",
       "      <td>0.176778</td>\n",
       "    </tr>\n",
       "    <tr>\n",
       "      <th>135</th>\n",
       "      <td>BEACH 98 ST</td>\n",
       "      <td>58</td>\n",
       "      <td>36679.0</td>\n",
       "      <td>0.158129</td>\n",
       "    </tr>\n",
       "    <tr>\n",
       "      <th>285</th>\n",
       "      <td>SUTTER AV</td>\n",
       "      <td>395</td>\n",
       "      <td>263259.0</td>\n",
       "      <td>0.150042</td>\n",
       "    </tr>\n",
       "    <tr>\n",
       "      <th>180</th>\n",
       "      <td>E 143/ST MARY'S</td>\n",
       "      <td>123</td>\n",
       "      <td>88768.0</td>\n",
       "      <td>0.138563</td>\n",
       "    </tr>\n",
       "    <tr>\n",
       "      <th>...</th>\n",
       "      <td>...</td>\n",
       "      <td>...</td>\n",
       "      <td>...</td>\n",
       "      <td>...</td>\n",
       "    </tr>\n",
       "    <tr>\n",
       "      <th>294</th>\n",
       "      <td>WALL ST</td>\n",
       "      <td>267</td>\n",
       "      <td>3599243.0</td>\n",
       "      <td>0.007418</td>\n",
       "    </tr>\n",
       "    <tr>\n",
       "      <th>61</th>\n",
       "      <td>30 AV</td>\n",
       "      <td>101</td>\n",
       "      <td>1440802.0</td>\n",
       "      <td>0.007010</td>\n",
       "    </tr>\n",
       "    <tr>\n",
       "      <th>64</th>\n",
       "      <td>34 ST-HUDSON YD</td>\n",
       "      <td>94</td>\n",
       "      <td>1777972.0</td>\n",
       "      <td>0.005287</td>\n",
       "    </tr>\n",
       "    <tr>\n",
       "      <th>111</th>\n",
       "      <td>96 ST-2 AV</td>\n",
       "      <td>81</td>\n",
       "      <td>1589481.0</td>\n",
       "      <td>0.005096</td>\n",
       "    </tr>\n",
       "    <tr>\n",
       "      <th>106</th>\n",
       "      <td>86 ST-2 AV</td>\n",
       "      <td>35</td>\n",
       "      <td>2134165.0</td>\n",
       "      <td>0.001640</td>\n",
       "    </tr>\n",
       "  </tbody>\n",
       "</table>\n",
       "<p>303 rows × 4 columns</p>\n",
       "</div>"
      ],
      "text/plain": [
       "             station  complaint_counts  daily_entries  percentage\n",
       "149    BROAD CHANNEL               293        24171.0    1.212196\n",
       "94    74 ST-BROADWAY               495       280012.0    0.176778\n",
       "135      BEACH 98 ST                58        36679.0    0.158129\n",
       "285        SUTTER AV               395       263259.0    0.150042\n",
       "180  E 143/ST MARY'S               123        88768.0    0.138563\n",
       "..               ...               ...            ...         ...\n",
       "294          WALL ST               267      3599243.0    0.007418\n",
       "61             30 AV               101      1440802.0    0.007010\n",
       "64   34 ST-HUDSON YD                94      1777972.0    0.005287\n",
       "111       96 ST-2 AV                81      1589481.0    0.005096\n",
       "106       86 ST-2 AV                35      2134165.0    0.001640\n",
       "\n",
       "[303 rows x 4 columns]"
      ]
     },
     "execution_count": 178,
     "metadata": {},
     "output_type": "execute_result"
    }
   ],
   "source": [
    "sorted_df = merged_df.sort_values('percentage', ascending=False)\n",
    "sorted_df"
   ]
  },
  {
   "cell_type": "code",
   "execution_count": 286,
   "id": "87048799",
   "metadata": {},
   "outputs": [
    {
     "data": {
      "image/png": "[encoded data removed]",
      "text/plain": [
       "<Figure size 360x576 with 1 Axes>"
      ]
     },
     "metadata": {},
     "output_type": "display_data"
    }
   ],
   "source": [
    "fig = plt.figure(figsize=(5, 8))\n",
    "plt.xlabel('Complaints as a percentage of traffic')\n",
    "plt.ylabel('Station')\n",
    "plt.title('The 20 Most Dangerous Stations')\n",
    "plt.barh(sorted_df['station'].head(20), sorted_df['percentage'].head(20))\n",
    "plt.show;"
   ]
  },
  {
   "cell_type": "code",
   "execution_count": 180,
   "id": "adbc05ec",
   "metadata": {},
   "outputs": [
    {
     "data": {
      "text/html": [
       "<div>\n",
       "<style scoped>\n",
       "    .dataframe tbody tr th:only-of-type {\n",
       "        vertical-align: middle;\n",
       "    }\n",
       "\n",
       "    .dataframe tbody tr th {\n",
       "        vertical-align: top;\n",
       "    }\n",
       "\n",
       "    .dataframe thead th {\n",
       "        text-align: right;\n",
       "    }\n",
       "</style>\n",
       "<table border=\"1\" class=\"dataframe\">\n",
       "  <thead>\n",
       "    <tr style=\"text-align: right;\">\n",
       "      <th></th>\n",
       "      <th>complaint_counts</th>\n",
       "      <th>daily_entries</th>\n",
       "      <th>percentage</th>\n",
       "    </tr>\n",
       "  </thead>\n",
       "  <tbody>\n",
       "    <tr>\n",
       "      <th>count</th>\n",
       "      <td>303.000000</td>\n",
       "      <td>3.030000e+02</td>\n",
       "      <td>303.000000</td>\n",
       "    </tr>\n",
       "    <tr>\n",
       "      <th>mean</th>\n",
       "      <td>487.841584</td>\n",
       "      <td>1.371140e+06</td>\n",
       "      <td>0.048572</td>\n",
       "    </tr>\n",
       "    <tr>\n",
       "      <th>std</th>\n",
       "      <td>767.247882</td>\n",
       "      <td>1.898023e+06</td>\n",
       "      <td>0.073430</td>\n",
       "    </tr>\n",
       "    <tr>\n",
       "      <th>min</th>\n",
       "      <td>19.000000</td>\n",
       "      <td>2.417100e+04</td>\n",
       "      <td>0.001640</td>\n",
       "    </tr>\n",
       "    <tr>\n",
       "      <th>25%</th>\n",
       "      <td>150.000000</td>\n",
       "      <td>3.770390e+05</td>\n",
       "      <td>0.020299</td>\n",
       "    </tr>\n",
       "    <tr>\n",
       "      <th>50%</th>\n",
       "      <td>244.000000</td>\n",
       "      <td>6.914840e+05</td>\n",
       "      <td>0.036637</td>\n",
       "    </tr>\n",
       "    <tr>\n",
       "      <th>75%</th>\n",
       "      <td>487.500000</td>\n",
       "      <td>1.480329e+06</td>\n",
       "      <td>0.062310</td>\n",
       "    </tr>\n",
       "    <tr>\n",
       "      <th>max</th>\n",
       "      <td>8201.000000</td>\n",
       "      <td>1.326852e+07</td>\n",
       "      <td>1.212196</td>\n",
       "    </tr>\n",
       "  </tbody>\n",
       "</table>\n",
       "</div>"
      ],
      "text/plain": [
       "       complaint_counts  daily_entries  percentage\n",
       "count        303.000000   3.030000e+02  303.000000\n",
       "mean         487.841584   1.371140e+06    0.048572\n",
       "std          767.247882   1.898023e+06    0.073430\n",
       "min           19.000000   2.417100e+04    0.001640\n",
       "25%          150.000000   3.770390e+05    0.020299\n",
       "50%          244.000000   6.914840e+05    0.036637\n",
       "75%          487.500000   1.480329e+06    0.062310\n",
       "max         8201.000000   1.326852e+07    1.212196"
      ]
     },
     "execution_count": 180,
     "metadata": {},
     "output_type": "execute_result"
    }
   ],
   "source": [
    "sorted_df.describe()"
   ]
  },
  {
   "cell_type": "markdown",
   "id": "c6d13c0f",
   "metadata": {},
   "source": [
    "Let's make a scatterplot along with a line of best fit so we can really visualize the trend."
   ]
  },
  {
   "cell_type": "code",
   "execution_count": 181,
   "id": "8c96b380",
   "metadata": {},
   "outputs": [],
   "source": [
    "std = 0.073430\n",
    "mean = 0.048572"
   ]
  },
  {
   "cell_type": "code",
   "execution_count": 182,
   "id": "c2eb70a2",
   "metadata": {},
   "outputs": [
    {
     "name": "stdout",
     "output_type": "stream",
     "text": [
      "0.0002933201829072079\n",
      "85.65847886718147\n"
     ]
    }
   ],
   "source": [
    "m, b = np.polyfit(merged_df['daily_entries'],merged_df['complaint_counts'],1)\n",
    "print(m)\n",
    "print(b)"
   ]
  },
  {
   "cell_type": "code",
   "execution_count": 311,
   "id": "8f4b005d",
   "metadata": {},
   "outputs": [
    {
     "data": {
      "image/png": "[encoded data removed]",
      "text/plain": [
       "<Figure size 576x360 with 1 Axes>"
      ]
     },
     "metadata": {},
     "output_type": "display_data"
    }
   ],
   "source": [
    "font = {'family':'serif','weight':'bold','size':12}\n",
    "\n",
    "plt.rc('font', **font)\n",
    "x = merged_df['daily_entries']\n",
    "y = merged_df['complaint_counts']\n",
    "with plt.style.context('seaborn-darkgrid'):\n",
    "    f = plt.figure()\n",
    "    f.set_figwidth(8)\n",
    "    f.set_figheight(5)\n",
    "    plt.xlabel('Total traffic by entry 9/2019 - 11/2019')\n",
    "    plt.ylabel('Total complaints')\n",
    "    plt.title('Busier stations have more complaints')\n",
    "    plt.scatter(x,y,alpha=.5,color='#6ccfb2');  \n",
    "    plt.plot(x,m*x+b,color='#c43152')\n",
    "    plt.show()"
   ]
  },
  {
   "cell_type": "markdown",
   "id": "db82c016",
   "metadata": {},
   "source": [
    "How confident are we that the stations that seem \"dangerous\" aren't due to random variation? Let's see which stations are more than two standard deviations from the mean. "
   ]
  },
  {
   "cell_type": "code",
   "execution_count": 185,
   "id": "0e2bd184",
   "metadata": {},
   "outputs": [
    {
     "data": {
      "text/html": [
       "<div>\n",
       "<style scoped>\n",
       "    .dataframe tbody tr th:only-of-type {\n",
       "        vertical-align: middle;\n",
       "    }\n",
       "\n",
       "    .dataframe tbody tr th {\n",
       "        vertical-align: top;\n",
       "    }\n",
       "\n",
       "    .dataframe thead th {\n",
       "        text-align: right;\n",
       "    }\n",
       "</style>\n",
       "<table border=\"1\" class=\"dataframe\">\n",
       "  <thead>\n",
       "    <tr style=\"text-align: right;\">\n",
       "      <th></th>\n",
       "      <th>station</th>\n",
       "      <th>complaint_counts</th>\n",
       "      <th>daily_entries</th>\n",
       "      <th>percentage</th>\n",
       "    </tr>\n",
       "  </thead>\n",
       "  <tbody>\n",
       "    <tr>\n",
       "      <th>149</th>\n",
       "      <td>BROAD CHANNEL</td>\n",
       "      <td>293</td>\n",
       "      <td>24171.0</td>\n",
       "      <td>1.212196</td>\n",
       "    </tr>\n",
       "  </tbody>\n",
       "</table>\n",
       "</div>"
      ],
      "text/plain": [
       "           station  complaint_counts  daily_entries  percentage\n",
       "149  BROAD CHANNEL               293        24171.0    1.212196"
      ]
     },
     "execution_count": 185,
     "metadata": {},
     "output_type": "execute_result"
    }
   ],
   "source": [
    "mask = merged_df['percentage'] > (mean + 2*std)\n",
    "merged_df[mask]\n"
   ]
  },
  {
   "cell_type": "code",
   "execution_count": 317,
   "id": "7324fcf5",
   "metadata": {},
   "outputs": [
    {
     "data": {
      "image/png": "[encoded data removed]",
      "text/plain": [
       "<Figure size 576x720 with 1 Axes>"
      ]
     },
     "metadata": {},
     "output_type": "display_data"
    }
   ],
   "source": [
    "with plt.style.context('seaborn-darkgrid'):\n",
    "    f = plt.figure()\n",
    "    f.set_figwidth(8)\n",
    "    f.set_figheight(10)\n",
    "    flierprops = dict(marker='o', markerfacecolor='#c43152', markersize=12,\n",
    "                  linestyle='none')\n",
    "    plt.boxplot(merged_df['percentage'],flierprops=flierprops)\n",
    "    plt.title('Broad Channel is Crazy')\n",
    "    plt.show()"
   ]
  },
  {
   "cell_type": "markdown",
   "id": "80b13bf3",
   "metadata": {},
   "source": [
    "Oof, Broad Channel looks way more dangerous than any other station - it's a true outlier. There's no problem with the source data - this result occurs in all the date ranges I tested, and their entry data and complaint data don't have significant issues. What's more, this station is known to have the highest percentage of crimes relative to traffic since at least 2014: https://www.nydailynews.com/new-york/nyc-crime/daily-news-analysis-reveals-crime-rankings-city-subway-system-article-1.1836918 \n",
    "\n",
    "However, there's a strong reason to believe it's not so bad as it looks. The station is most widely known as a transfer point to the beaches, and the data doesn't track transfers - only entries and exits. Since Broad Channel is in such an underpopulated area, it makes sense that their results will appear to be off the charts. Their number of complaints is probably more proportionate when one takes transfer volume into account. Unfortunately, there's no way to access transfer data, so all we can do is keep this factor in mind.\n",
    "\n",
    "Let's see what happens to our data if we remove Broad Channel, since it's skewing the distribution."
   ]
  },
  {
   "cell_type": "code",
   "execution_count": 186,
   "id": "f0949c22",
   "metadata": {},
   "outputs": [
    {
     "data": {
      "text/html": [
       "<div>\n",
       "<style scoped>\n",
       "    .dataframe tbody tr th:only-of-type {\n",
       "        vertical-align: middle;\n",
       "    }\n",
       "\n",
       "    .dataframe tbody tr th {\n",
       "        vertical-align: top;\n",
       "    }\n",
       "\n",
       "    .dataframe thead th {\n",
       "        text-align: right;\n",
       "    }\n",
       "</style>\n",
       "<table border=\"1\" class=\"dataframe\">\n",
       "  <thead>\n",
       "    <tr style=\"text-align: right;\">\n",
       "      <th></th>\n",
       "      <th>complaint_counts</th>\n",
       "      <th>daily_entries</th>\n",
       "      <th>percentage</th>\n",
       "    </tr>\n",
       "  </thead>\n",
       "  <tbody>\n",
       "    <tr>\n",
       "      <th>count</th>\n",
       "      <td>302.000000</td>\n",
       "      <td>3.020000e+02</td>\n",
       "      <td>302.000000</td>\n",
       "    </tr>\n",
       "    <tr>\n",
       "      <th>mean</th>\n",
       "      <td>488.486755</td>\n",
       "      <td>1.375600e+06</td>\n",
       "      <td>0.044719</td>\n",
       "    </tr>\n",
       "    <tr>\n",
       "      <th>std</th>\n",
       "      <td>768.438991</td>\n",
       "      <td>1.899582e+06</td>\n",
       "      <td>0.029942</td>\n",
       "    </tr>\n",
       "    <tr>\n",
       "      <th>min</th>\n",
       "      <td>19.000000</td>\n",
       "      <td>3.667900e+04</td>\n",
       "      <td>0.001640</td>\n",
       "    </tr>\n",
       "    <tr>\n",
       "      <th>25%</th>\n",
       "      <td>149.500000</td>\n",
       "      <td>3.852138e+05</td>\n",
       "      <td>0.020295</td>\n",
       "    </tr>\n",
       "    <tr>\n",
       "      <th>50%</th>\n",
       "      <td>241.500000</td>\n",
       "      <td>6.935745e+05</td>\n",
       "      <td>0.036620</td>\n",
       "    </tr>\n",
       "    <tr>\n",
       "      <th>75%</th>\n",
       "      <td>488.250000</td>\n",
       "      <td>1.481974e+06</td>\n",
       "      <td>0.062052</td>\n",
       "    </tr>\n",
       "    <tr>\n",
       "      <th>max</th>\n",
       "      <td>8201.000000</td>\n",
       "      <td>1.326852e+07</td>\n",
       "      <td>0.176778</td>\n",
       "    </tr>\n",
       "  </tbody>\n",
       "</table>\n",
       "</div>"
      ],
      "text/plain": [
       "       complaint_counts  daily_entries  percentage\n",
       "count        302.000000   3.020000e+02  302.000000\n",
       "mean         488.486755   1.375600e+06    0.044719\n",
       "std          768.438991   1.899582e+06    0.029942\n",
       "min           19.000000   3.667900e+04    0.001640\n",
       "25%          149.500000   3.852138e+05    0.020295\n",
       "50%          241.500000   6.935745e+05    0.036620\n",
       "75%          488.250000   1.481974e+06    0.062052\n",
       "max         8201.000000   1.326852e+07    0.176778"
      ]
     },
     "execution_count": 186,
     "metadata": {},
     "output_type": "execute_result"
    }
   ],
   "source": [
    "no_outliers = merged_df[merged_df.station != \"BROAD CHANNEL\"]\n",
    "no_outliers.describe()"
   ]
  },
  {
   "cell_type": "code",
   "execution_count": 188,
   "id": "a797bcd6",
   "metadata": {},
   "outputs": [
    {
     "data": {
      "text/html": [
       "<div>\n",
       "<style scoped>\n",
       "    .dataframe tbody tr th:only-of-type {\n",
       "        vertical-align: middle;\n",
       "    }\n",
       "\n",
       "    .dataframe tbody tr th {\n",
       "        vertical-align: top;\n",
       "    }\n",
       "\n",
       "    .dataframe thead th {\n",
       "        text-align: right;\n",
       "    }\n",
       "</style>\n",
       "<table border=\"1\" class=\"dataframe\">\n",
       "  <thead>\n",
       "    <tr style=\"text-align: right;\">\n",
       "      <th></th>\n",
       "      <th>station</th>\n",
       "      <th>complaint_counts</th>\n",
       "      <th>daily_entries</th>\n",
       "      <th>percentage</th>\n",
       "    </tr>\n",
       "  </thead>\n",
       "  <tbody>\n",
       "    <tr>\n",
       "      <th>94</th>\n",
       "      <td>74 ST-BROADWAY</td>\n",
       "      <td>495</td>\n",
       "      <td>280012.0</td>\n",
       "      <td>0.176778</td>\n",
       "    </tr>\n",
       "    <tr>\n",
       "      <th>135</th>\n",
       "      <td>BEACH 98 ST</td>\n",
       "      <td>58</td>\n",
       "      <td>36679.0</td>\n",
       "      <td>0.158129</td>\n",
       "    </tr>\n",
       "    <tr>\n",
       "      <th>285</th>\n",
       "      <td>SUTTER AV</td>\n",
       "      <td>395</td>\n",
       "      <td>263259.0</td>\n",
       "      <td>0.150042</td>\n",
       "    </tr>\n",
       "    <tr>\n",
       "      <th>180</th>\n",
       "      <td>E 143/ST MARY'S</td>\n",
       "      <td>123</td>\n",
       "      <td>88768.0</td>\n",
       "      <td>0.138563</td>\n",
       "    </tr>\n",
       "    <tr>\n",
       "      <th>112</th>\n",
       "      <td>ALABAMA AV</td>\n",
       "      <td>213</td>\n",
       "      <td>169717.0</td>\n",
       "      <td>0.125503</td>\n",
       "    </tr>\n",
       "    <tr>\n",
       "      <th>269</th>\n",
       "      <td>ROCKAWAY AV</td>\n",
       "      <td>1024</td>\n",
       "      <td>848520.0</td>\n",
       "      <td>0.120681</td>\n",
       "    </tr>\n",
       "    <tr>\n",
       "      <th>250</th>\n",
       "      <td>NEW LOTS AV</td>\n",
       "      <td>518</td>\n",
       "      <td>435269.0</td>\n",
       "      <td>0.119007</td>\n",
       "    </tr>\n",
       "    <tr>\n",
       "      <th>282</th>\n",
       "      <td>STILLWELL AV-CONEY ISLAND</td>\n",
       "      <td>1264</td>\n",
       "      <td>1065823.0</td>\n",
       "      <td>0.118594</td>\n",
       "    </tr>\n",
       "    <tr>\n",
       "      <th>11</th>\n",
       "      <td>125 ST</td>\n",
       "      <td>8201</td>\n",
       "      <td>6979593.0</td>\n",
       "      <td>0.117500</td>\n",
       "    </tr>\n",
       "    <tr>\n",
       "      <th>53</th>\n",
       "      <td>241 ST-WAKEFIELD</td>\n",
       "      <td>392</td>\n",
       "      <td>351057.0</td>\n",
       "      <td>0.111663</td>\n",
       "    </tr>\n",
       "    <tr>\n",
       "      <th>130</th>\n",
       "      <td>BEACH 36 ST</td>\n",
       "      <td>81</td>\n",
       "      <td>75659.0</td>\n",
       "      <td>0.107059</td>\n",
       "    </tr>\n",
       "    <tr>\n",
       "      <th>4</th>\n",
       "      <td>110 ST</td>\n",
       "      <td>901</td>\n",
       "      <td>860929.0</td>\n",
       "      <td>0.104654</td>\n",
       "    </tr>\n",
       "  </tbody>\n",
       "</table>\n",
       "</div>"
      ],
      "text/plain": [
       "                       station  complaint_counts  daily_entries  percentage\n",
       "94              74 ST-BROADWAY               495       280012.0    0.176778\n",
       "135                BEACH 98 ST                58        36679.0    0.158129\n",
       "285                  SUTTER AV               395       263259.0    0.150042\n",
       "180            E 143/ST MARY'S               123        88768.0    0.138563\n",
       "112                 ALABAMA AV               213       169717.0    0.125503\n",
       "269                ROCKAWAY AV              1024       848520.0    0.120681\n",
       "250                NEW LOTS AV               518       435269.0    0.119007\n",
       "282  STILLWELL AV-CONEY ISLAND              1264      1065823.0    0.118594\n",
       "11                      125 ST              8201      6979593.0    0.117500\n",
       "53            241 ST-WAKEFIELD               392       351057.0    0.111663\n",
       "130                BEACH 36 ST                81        75659.0    0.107059\n",
       "4                       110 ST               901       860929.0    0.104654"
      ]
     },
     "execution_count": 188,
     "metadata": {},
     "output_type": "execute_result"
    }
   ],
   "source": [
    "std2 = 0.029942\n",
    "mean2 = 0.044719\n",
    "mask2 = no_outliers['percentage'] > (mean2 + 2*std2)\n",
    "no_outliers[mask2].sort_values('percentage', ascending=False)"
   ]
  },
  {
   "cell_type": "markdown",
   "id": "098fd912",
   "metadata": {},
   "source": [
    "This is more useful - there's now a longer list of stations that are dangerous in a statistically significant way. Let's call all stations above .104% \"very dangerous\". (The mean, as you can see, is .045)."
   ]
  },
  {
   "cell_type": "code",
   "execution_count": 324,
   "id": "b259f183",
   "metadata": {},
   "outputs": [
    {
     "data": {
      "application/vnd.plotly.v1+json": {
       "config": {
        "plotlyServerURL": "https://plot.ly"
       },
       "data": [
        {
         "marker": {
          "color": "#c43152",
          "line": {
           "width": 1
          },
          "size": 10
         },
         "mode": "markers",
         "name": "Very dangerous",
         "text": [
          "1 AV",
          "103 ST",
          "103 ST-CORONA PLAZA",
          "104 ST",
          "110 ST",
          "110 ST-CATHEDRAL PKWY",
          "110 ST-CENTRAL PARK NORTH",
          "111 ST",
          "116 ST",
          "116 ST-COLUMBIA UNIVERSITY",
          "121 ST",
          "125 ST",
          "135 ST",
          "137 ST-CITY COLLEGE",
          "138 ST-GRAND CONCOURSE",
          "14 ST",
          "14 ST-UNION SQUARE",
          "145 ST",
          "148 ST-HARLEM",
          "149 ST-GRAND CONCOURSE",
          "15 ST-PROSPECT PARK",
          "155 ST",
          "157 ST",
          "161 ST-YANKEE STADIUM",
          "163 ST-AMSTERDAM AV",
          "167 ST",
          "168 ST",
          "169 ST",
          "170 ST",
          "174-175 STS",
          "175 ST",
          "176 ST",
          "179 ST-JAMAICA",
          "18 AV",
          "18 ST",
          "181 ST",
          "182-183 STS",
          "183 ST",
          "190 ST",
          "2 AV",
          "20 AV",
          "200 ST-DYCKMAN ST",
          "205 ST-NORWOOD",
          "207 ST",
          "207 ST-INWOOD",
          "21 ST",
          "21 ST-QUEENSBRIDGE",
          "225 ST",
          "225 ST-MARBLE HILL",
          "23 ST",
          "231 ST",
          "238 ST",
          "238 ST-NEREID AV",
          "241 ST-WAKEFIELD",
          "242 ST-VAN CORTLANDT PARK",
          "25 AV",
          "25 ST",
          "28 ST",
          "3 AV",
          "3 AV-138 ST",
          "3 AV-149 ST",
          "30 AV",
          "33 ST",
          "34 ST-HERALD SQ",
          "34 ST-HUDSON YD",
          "34 ST-PENN STATION",
          "36 ST",
          "4 AV-9 ST",
          "40 ST",
          "42 ST-BRYANT PK",
          "42 ST-GRAND CENTRAL",
          "42 ST-PORT AUTH",
          "42 ST-TIMES SQUARE",
          "45 ST",
          "46 ST",
          "47-50 STS/ROCKEFELLER CTR",
          "49 ST",
          "5 AV",
          "50 ST",
          "51 ST",
          "53 ST",
          "55 ST",
          "57 ST",
          "59 ST",
          "59 ST-COLUMBUS CIRCLE",
          "6 AV",
          "61 ST-WOODSIDE",
          "63 DR-REGO PARK",
          "66 ST-LINCOLN CENTER",
          "67 AV",
          "68 ST-HUNTER COLLEGE",
          "69 ST",
          "7 AV",
          "72 ST",
          "74 ST-BROADWAY",
          "75 AV",
          "75 ST-ELDERTS LANE",
          "77 ST",
          "79 ST",
          "8 AV",
          "8 ST-NYU",
          "80 ST",
          "81 ST-MUSEUM",
          "82 ST-JACKSON HEIGHTS",
          "85 ST-FOREST PKWY",
          "86 ST",
          "86 ST-2 AV",
          "9 AV",
          "9 ST",
          "90 ST-ELMHURST AV",
          "96 ST",
          "96 ST-2 AV",
          "ALABAMA AV",
          "ALLERTON AV",
          "AQUEDUCT-NORTH CONDUIT AV",
          "AQUEDUCT-RACETRACK",
          "ASTOR PLACE",
          "ATLANTIC AV",
          "AV H",
          "AV I",
          "AV J",
          "AV M",
          "AV N",
          "AV P",
          "AV U",
          "AV X",
          "BAY 50 ST",
          "BAY PKWY",
          "BAYCHESTER AV",
          "BEACH 25 ST",
          "BEACH 36 ST",
          "BEACH 44 ST",
          "BEACH 60 ST",
          "BEACH 67 ST",
          "BEACH 90 ST",
          "BEACH 98 ST",
          "BEDFORD AV",
          "BEDFORD PK BLVD",
          "BEDFORD-NOSTRAND AVS",
          "BERGEN ST",
          "BEVERLEY RD",
          "BEVERLY RD",
          "BLEECKER ST",
          "BOROUGH HALL",
          "BOTANIC GARDEN",
          "BOWERY",
          "BOWLING GREEN",
          "BRIARWOOD",
          "BRIGHTON BEACH",
          "BROAD CHANNEL",
          "BROAD ST",
          "BROADWAY",
          "BROADWAY/LAFAYETTE",
          "BROOK AV",
          "BROOKLYN BRIDGE-CITY HALL",
          "BURKE AV",
          "BURNSIDE AV",
          "BUSHWICK AV-ABERDEEN ST",
          "CANAL ST",
          "CARROLL ST",
          "CASTLE HILL AV",
          "CENTRAL AV",
          "CHAMBERS ST",
          "CHAUNCEY ST",
          "CHRISTOPHER ST-SHERIDAN SQ",
          "CHURCH AV",
          "CITY HALL",
          "CLARK ST",
          "CLASSON AV",
          "CLEVELAND ST",
          "CLINTON-WASHINGTON AVS",
          "CORTELYOU RD",
          "CORTLANDT ST",
          "COURT SQUARE",
          "CRESCENT ST",
          "CYPRESS AV",
          "CYPRESS HILLS",
          "DEKALB AV",
          "DELANCEY ST",
          "DITMAS AV",
          "E 143/ST MARY'S",
          "E 149 ST",
          "EAST 105 ST",
          "EAST BROADWAY",
          "EAST TREMONT AV-WEST FARMS S",
          "EAST TREMONT AV-WESTCHESTER S",
          "EASTERN PKWY-BROOKLYN MUSEUM",
          "ELDER AV",
          "ELMHURST AV",
          "EUCLID AV",
          "FAR ROCKAWAY-MOTT AV",
          "FLATBUSH AV-BC",
          "FLUSHING AV",
          "FORDHAM RD",
          "FORT HAMILTON PKWY",
          "FRANKLIN AV",
          "FRANKLIN ST",
          "FREEMAN ST",
          "FRESH POND RD",
          "FULTON ST",
          "GATES AV",
          "GRAHAM AV",
          "GRAND ARMY PLAZA",
          "GRAND AV-NEWTON",
          "GRAND ST",
          "GRANT AV",
          "GREENPOINT AV",
          "GUN HILL RD",
          "HALSEY ST",
          "HEWES ST",
          "HIGH ST",
          "HOUSTON ST",
          "HOWARD BEACH-JFK AIRPORT",
          "HOYT ST",
          "HOYT-SCHERMERHORN",
          "HUNTERS PT AV",
          "HUNTS POINT AV",
          "INTERVALE AV",
          "JACKSON AV",
          "JAMAICA CENTER",
          "JAMAICA-VAN WYCK",
          "JEFFERSON ST",
          "JUNCTION BLVD",
          "JUNIUS ST",
          "KINGS HWY",
          "KINGSBRIDGE RD",
          "KINGSTON AV",
          "KINGSTON-THROOP AVS",
          "KNICKERBOCKER AV",
          "KOSCIUSZKO ST",
          "LAFAYETTE AV",
          "LIBERTY AV",
          "LIVONIA AV",
          "LONGWOOD AV",
          "LORIMER ST",
          "MARCY AV",
          "METROPOLITAN AV",
          "MIDDLETOWN RD",
          "MONTROSE AV",
          "MORGAN AV",
          "MORRIS PARK",
          "MOSHOLU PKWY",
          "MT EDEN AV",
          "MYRTLE AV",
          "MYRTLE-WILLOUGHBY AVS",
          "MYRTLE/WYCKOFF AVS",
          "NASSAU AV",
          "NECK RD",
          "NEPTUNE AV",
          "NEVINS ST",
          "NEW LOTS AV",
          "NEW UTRECHT AV",
          "NEWKIRK AV",
          "NOSTRAND AV",
          "OCEAN PKWY",
          "PARK PLACE",
          "PARKSIDE AV",
          "PARSONS BLVD",
          "PELHAM BAY PARK",
          "PELHAM PKWY",
          "PENNSYLVANIA AV",
          "PRESIDENT ST",
          "PRINCE ST",
          "PROSPECT AV",
          "PROSPECT PARK",
          "QUEENS PLAZA",
          "QUEENSBORO PLZ",
          "RALPH AV",
          "RECTOR ST",
          "ROCKAWAY AV",
          "ROCKAWAY BLVD",
          "ROOSEVELT ISLAND",
          "SARATOGA AV",
          "SHEEPSHEAD BAY",
          "SHEPHERD AV",
          "SIMPSON ST",
          "SMITH-9 ST",
          "SOUNDVIEW AV",
          "SOUTH FERRY",
          "SPRING ST",
          "ST LAWRENCE AV",
          "STEINWAY ST",
          "STILLWELL AV-CONEY ISLAND",
          "SUTPHIN BLVD",
          "SUTPHIN BLVD-ARCHER AV",
          "SUTTER AV",
          "SUTTER AV-RUTLAND RD",
          "TREMONT AV",
          "UNION ST",
          "UTICA AV",
          "UTICA AV-CROWN HEIGHTS",
          "VAN SICLEN AV",
          "VERNON BLVD-JACKSON AV",
          "W 4 ST-WASH SQ",
          "WALL ST",
          "WEST 8 ST-NY AQUARIUM",
          "WHITEHALL ST-SOUTH FERRY",
          "WILLETS POINT-SHEA STADIUM",
          "WILSON AV",
          "WINTHROP ST",
          "WOODHAVEN BLVD",
          "WOODLAWN",
          "ZEREGA AV"
         ],
         "type": "scatter",
         "x": [
          860929,
          6979593,
          351057,
          280012,
          169717,
          75659,
          36679,
          24171,
          88768,
          435269,
          848520,
          1065823,
          263259
         ],
         "y": [
          901,
          8201,
          392,
          495,
          213,
          81,
          58,
          293,
          123,
          518,
          1024,
          1264,
          395
         ]
        },
        {
         "marker": {
          "color": "#715a99",
          "line": {
           "width": 1
          },
          "size": 8
         },
         "mode": "markers",
         "name": "Dangerous",
         "text": [
          "1 AV",
          "103 ST",
          "103 ST-CORONA PLAZA",
          "104 ST",
          "110 ST",
          "110 ST-CATHEDRAL PKWY",
          "110 ST-CENTRAL PARK NORTH",
          "111 ST",
          "116 ST",
          "116 ST-COLUMBIA UNIVERSITY",
          "121 ST",
          "125 ST",
          "135 ST",
          "137 ST-CITY COLLEGE",
          "138 ST-GRAND CONCOURSE",
          "14 ST",
          "14 ST-UNION SQUARE",
          "145 ST",
          "148 ST-HARLEM",
          "149 ST-GRAND CONCOURSE",
          "15 ST-PROSPECT PARK",
          "155 ST",
          "157 ST",
          "161 ST-YANKEE STADIUM",
          "163 ST-AMSTERDAM AV",
          "167 ST",
          "168 ST",
          "169 ST",
          "170 ST",
          "174-175 STS",
          "175 ST",
          "176 ST",
          "179 ST-JAMAICA",
          "18 AV",
          "18 ST",
          "181 ST",
          "182-183 STS",
          "183 ST",
          "190 ST",
          "2 AV",
          "20 AV",
          "200 ST-DYCKMAN ST",
          "205 ST-NORWOOD",
          "207 ST",
          "207 ST-INWOOD",
          "21 ST",
          "21 ST-QUEENSBRIDGE",
          "225 ST",
          "225 ST-MARBLE HILL",
          "23 ST",
          "231 ST",
          "238 ST",
          "238 ST-NEREID AV",
          "241 ST-WAKEFIELD",
          "242 ST-VAN CORTLANDT PARK",
          "25 AV",
          "25 ST",
          "28 ST",
          "3 AV",
          "3 AV-138 ST",
          "3 AV-149 ST",
          "30 AV",
          "33 ST",
          "34 ST-HERALD SQ",
          "34 ST-HUDSON YD",
          "34 ST-PENN STATION",
          "36 ST",
          "4 AV-9 ST",
          "40 ST",
          "42 ST-BRYANT PK",
          "42 ST-GRAND CENTRAL",
          "42 ST-PORT AUTH",
          "42 ST-TIMES SQUARE",
          "45 ST",
          "46 ST",
          "47-50 STS/ROCKEFELLER CTR",
          "49 ST",
          "5 AV",
          "50 ST",
          "51 ST",
          "53 ST",
          "55 ST",
          "57 ST",
          "59 ST",
          "59 ST-COLUMBUS CIRCLE",
          "6 AV",
          "61 ST-WOODSIDE",
          "63 DR-REGO PARK",
          "66 ST-LINCOLN CENTER",
          "67 AV",
          "68 ST-HUNTER COLLEGE",
          "69 ST",
          "7 AV",
          "72 ST",
          "74 ST-BROADWAY",
          "75 AV",
          "75 ST-ELDERTS LANE",
          "77 ST",
          "79 ST",
          "8 AV",
          "8 ST-NYU",
          "80 ST",
          "81 ST-MUSEUM",
          "82 ST-JACKSON HEIGHTS",
          "85 ST-FOREST PKWY",
          "86 ST",
          "86 ST-2 AV",
          "9 AV",
          "9 ST",
          "90 ST-ELMHURST AV",
          "96 ST",
          "96 ST-2 AV",
          "ALABAMA AV",
          "ALLERTON AV",
          "AQUEDUCT-NORTH CONDUIT AV",
          "AQUEDUCT-RACETRACK",
          "ASTOR PLACE",
          "ATLANTIC AV",
          "AV H",
          "AV I",
          "AV J",
          "AV M",
          "AV N",
          "AV P",
          "AV U",
          "AV X",
          "BAY 50 ST",
          "BAY PKWY",
          "BAYCHESTER AV",
          "BEACH 25 ST",
          "BEACH 36 ST",
          "BEACH 44 ST",
          "BEACH 60 ST",
          "BEACH 67 ST",
          "BEACH 90 ST",
          "BEACH 98 ST",
          "BEDFORD AV",
          "BEDFORD PK BLVD",
          "BEDFORD-NOSTRAND AVS",
          "BERGEN ST",
          "BEVERLEY RD",
          "BEVERLY RD",
          "BLEECKER ST",
          "BOROUGH HALL",
          "BOTANIC GARDEN",
          "BOWERY",
          "BOWLING GREEN",
          "BRIARWOOD",
          "BRIGHTON BEACH",
          "BROAD CHANNEL",
          "BROAD ST",
          "BROADWAY",
          "BROADWAY/LAFAYETTE",
          "BROOK AV",
          "BROOKLYN BRIDGE-CITY HALL",
          "BURKE AV",
          "BURNSIDE AV",
          "BUSHWICK AV-ABERDEEN ST",
          "CANAL ST",
          "CARROLL ST",
          "CASTLE HILL AV",
          "CENTRAL AV",
          "CHAMBERS ST",
          "CHAUNCEY ST",
          "CHRISTOPHER ST-SHERIDAN SQ",
          "CHURCH AV",
          "CITY HALL",
          "CLARK ST",
          "CLASSON AV",
          "CLEVELAND ST",
          "CLINTON-WASHINGTON AVS",
          "CORTELYOU RD",
          "CORTLANDT ST",
          "COURT SQUARE",
          "CRESCENT ST",
          "CYPRESS AV",
          "CYPRESS HILLS",
          "DEKALB AV",
          "DELANCEY ST",
          "DITMAS AV",
          "E 143/ST MARY'S",
          "E 149 ST",
          "EAST 105 ST",
          "EAST BROADWAY",
          "EAST TREMONT AV-WEST FARMS S",
          "EAST TREMONT AV-WESTCHESTER S",
          "EASTERN PKWY-BROOKLYN MUSEUM",
          "ELDER AV",
          "ELMHURST AV",
          "EUCLID AV",
          "FAR ROCKAWAY-MOTT AV",
          "FLATBUSH AV-BC",
          "FLUSHING AV",
          "FORDHAM RD",
          "FORT HAMILTON PKWY",
          "FRANKLIN AV",
          "FRANKLIN ST",
          "FREEMAN ST",
          "FRESH POND RD",
          "FULTON ST",
          "GATES AV",
          "GRAHAM AV",
          "GRAND ARMY PLAZA",
          "GRAND AV-NEWTON",
          "GRAND ST",
          "GRANT AV",
          "GREENPOINT AV",
          "GUN HILL RD",
          "HALSEY ST",
          "HEWES ST",
          "HIGH ST",
          "HOUSTON ST",
          "HOWARD BEACH-JFK AIRPORT",
          "HOYT ST",
          "HOYT-SCHERMERHORN",
          "HUNTERS PT AV",
          "HUNTS POINT AV",
          "INTERVALE AV",
          "JACKSON AV",
          "JAMAICA CENTER",
          "JAMAICA-VAN WYCK",
          "JEFFERSON ST",
          "JUNCTION BLVD",
          "JUNIUS ST",
          "KINGS HWY",
          "KINGSBRIDGE RD",
          "KINGSTON AV",
          "KINGSTON-THROOP AVS",
          "KNICKERBOCKER AV",
          "KOSCIUSZKO ST",
          "LAFAYETTE AV",
          "LIBERTY AV",
          "LIVONIA AV",
          "LONGWOOD AV",
          "LORIMER ST",
          "MARCY AV",
          "METROPOLITAN AV",
          "MIDDLETOWN RD",
          "MONTROSE AV",
          "MORGAN AV",
          "MORRIS PARK",
          "MOSHOLU PKWY",
          "MT EDEN AV",
          "MYRTLE AV",
          "MYRTLE-WILLOUGHBY AVS",
          "MYRTLE/WYCKOFF AVS",
          "NASSAU AV",
          "NECK RD",
          "NEPTUNE AV",
          "NEVINS ST",
          "NEW LOTS AV",
          "NEW UTRECHT AV",
          "NEWKIRK AV",
          "NOSTRAND AV",
          "OCEAN PKWY",
          "PARK PLACE",
          "PARKSIDE AV",
          "PARSONS BLVD",
          "PELHAM BAY PARK",
          "PELHAM PKWY",
          "PENNSYLVANIA AV",
          "PRESIDENT ST",
          "PRINCE ST",
          "PROSPECT AV",
          "PROSPECT PARK",
          "QUEENS PLAZA",
          "QUEENSBORO PLZ",
          "RALPH AV",
          "RECTOR ST",
          "ROCKAWAY AV",
          "ROCKAWAY BLVD",
          "ROOSEVELT ISLAND",
          "SARATOGA AV",
          "SHEEPSHEAD BAY",
          "SHEPHERD AV",
          "SIMPSON ST",
          "SMITH-9 ST",
          "SOUNDVIEW AV",
          "SOUTH FERRY",
          "SPRING ST",
          "ST LAWRENCE AV",
          "STEINWAY ST",
          "STILLWELL AV-CONEY ISLAND",
          "SUTPHIN BLVD",
          "SUTPHIN BLVD-ARCHER AV",
          "SUTTER AV",
          "SUTTER AV-RUTLAND RD",
          "TREMONT AV",
          "UNION ST",
          "UTICA AV",
          "UTICA AV-CROWN HEIGHTS",
          "VAN SICLEN AV",
          "VERNON BLVD-JACKSON AV",
          "W 4 ST-WASH SQ",
          "WALL ST",
          "WEST 8 ST-NY AQUARIUM",
          "WHITEHALL ST-SOUTH FERRY",
          "WILLETS POINT-SHEA STADIUM",
          "WILSON AV",
          "WINTHROP ST",
          "WOODHAVEN BLVD",
          "WOODLAWN",
          "ZEREGA AV"
         ],
         "type": "scatter",
         "x": [
          680169,
          3367510,
          176670,
          294683,
          6203183,
          1058499,
          528213,
          2351049,
          1541634,
          1208517,
          404845,
          292971,
          249925,
          634484,
          1737419,
          300532,
          342680,
          71152,
          221318,
          132429,
          115598,
          157477,
          176938,
          104665,
          2650800,
          290101,
          393702,
          461799,
          261037,
          828107,
          153866,
          286365,
          261384,
          115731,
          1102488,
          550513,
          853935,
          335159,
          1964581,
          1771949,
          353798,
          459837,
          963291,
          831115,
          254910,
          417180,
          180680,
          1383197,
          226207,
          230531,
          237349,
          116559,
          822381,
          1811516,
          478792,
          403824,
          257412,
          695665,
          529281,
          781051,
          2069856,
          669286,
          187933,
          548572
         ],
         "y": [
          498,
          3356,
          115,
          224,
          4523,
          902,
          358,
          1639,
          1213,
          1108,
          418,
          183,
          157,
          481,
          1715,
          252,
          213,
          72,
          141,
          104,
          94,
          149,
          166,
          73,
          2132,
          182,
          247,
          311,
          172,
          581,
          117,
          265,
          204,
          77,
          840,
          437,
          570,
          299,
          1513,
          1254,
          292,
          341,
          974,
          530,
          236,
          375,
          161,
          1184,
          164,
          239,
          159,
          77,
          555,
          1515,
          309,
          275,
          171,
          624,
          386,
          702,
          2058,
          549,
          151,
          384
         ]
        },
        {
         "marker": {
          "color": "lightgray",
          "line": {
           "width": 1
          },
          "size": 5
         },
         "mode": "markers",
         "name": "Normal",
         "text": [
          "1 AV",
          "103 ST",
          "103 ST-CORONA PLAZA",
          "104 ST",
          "110 ST",
          "110 ST-CATHEDRAL PKWY",
          "110 ST-CENTRAL PARK NORTH",
          "111 ST",
          "116 ST",
          "116 ST-COLUMBIA UNIVERSITY",
          "121 ST",
          "125 ST",
          "135 ST",
          "137 ST-CITY COLLEGE",
          "138 ST-GRAND CONCOURSE",
          "14 ST",
          "14 ST-UNION SQUARE",
          "145 ST",
          "148 ST-HARLEM",
          "149 ST-GRAND CONCOURSE",
          "15 ST-PROSPECT PARK",
          "155 ST",
          "157 ST",
          "161 ST-YANKEE STADIUM",
          "163 ST-AMSTERDAM AV",
          "167 ST",
          "168 ST",
          "169 ST",
          "170 ST",
          "174-175 STS",
          "175 ST",
          "176 ST",
          "179 ST-JAMAICA",
          "18 AV",
          "18 ST",
          "181 ST",
          "182-183 STS",
          "183 ST",
          "190 ST",
          "2 AV",
          "20 AV",
          "200 ST-DYCKMAN ST",
          "205 ST-NORWOOD",
          "207 ST",
          "207 ST-INWOOD",
          "21 ST",
          "21 ST-QUEENSBRIDGE",
          "225 ST",
          "225 ST-MARBLE HILL",
          "23 ST",
          "231 ST",
          "238 ST",
          "238 ST-NEREID AV",
          "241 ST-WAKEFIELD",
          "242 ST-VAN CORTLANDT PARK",
          "25 AV",
          "25 ST",
          "28 ST",
          "3 AV",
          "3 AV-138 ST",
          "3 AV-149 ST",
          "30 AV",
          "33 ST",
          "34 ST-HERALD SQ",
          "34 ST-HUDSON YD",
          "34 ST-PENN STATION",
          "36 ST",
          "4 AV-9 ST",
          "40 ST",
          "42 ST-BRYANT PK",
          "42 ST-GRAND CENTRAL",
          "42 ST-PORT AUTH",
          "42 ST-TIMES SQUARE",
          "45 ST",
          "46 ST",
          "47-50 STS/ROCKEFELLER CTR",
          "49 ST",
          "5 AV",
          "50 ST",
          "51 ST",
          "53 ST",
          "55 ST",
          "57 ST",
          "59 ST",
          "59 ST-COLUMBUS CIRCLE",
          "6 AV",
          "61 ST-WOODSIDE",
          "63 DR-REGO PARK",
          "66 ST-LINCOLN CENTER",
          "67 AV",
          "68 ST-HUNTER COLLEGE",
          "69 ST",
          "7 AV",
          "72 ST",
          "74 ST-BROADWAY",
          "75 AV",
          "75 ST-ELDERTS LANE",
          "77 ST",
          "79 ST",
          "8 AV",
          "8 ST-NYU",
          "80 ST",
          "81 ST-MUSEUM",
          "82 ST-JACKSON HEIGHTS",
          "85 ST-FOREST PKWY",
          "86 ST",
          "86 ST-2 AV",
          "9 AV",
          "9 ST",
          "90 ST-ELMHURST AV",
          "96 ST",
          "96 ST-2 AV",
          "ALABAMA AV",
          "ALLERTON AV",
          "AQUEDUCT-NORTH CONDUIT AV",
          "AQUEDUCT-RACETRACK",
          "ASTOR PLACE",
          "ATLANTIC AV",
          "AV H",
          "AV I",
          "AV J",
          "AV M",
          "AV N",
          "AV P",
          "AV U",
          "AV X",
          "BAY 50 ST",
          "BAY PKWY",
          "BAYCHESTER AV",
          "BEACH 25 ST",
          "BEACH 36 ST",
          "BEACH 44 ST",
          "BEACH 60 ST",
          "BEACH 67 ST",
          "BEACH 90 ST",
          "BEACH 98 ST",
          "BEDFORD AV",
          "BEDFORD PK BLVD",
          "BEDFORD-NOSTRAND AVS",
          "BERGEN ST",
          "BEVERLEY RD",
          "BEVERLY RD",
          "BLEECKER ST",
          "BOROUGH HALL",
          "BOTANIC GARDEN",
          "BOWERY",
          "BOWLING GREEN",
          "BRIARWOOD",
          "BRIGHTON BEACH",
          "BROAD CHANNEL",
          "BROAD ST",
          "BROADWAY",
          "BROADWAY/LAFAYETTE",
          "BROOK AV",
          "BROOKLYN BRIDGE-CITY HALL",
          "BURKE AV",
          "BURNSIDE AV",
          "BUSHWICK AV-ABERDEEN ST",
          "CANAL ST",
          "CARROLL ST",
          "CASTLE HILL AV",
          "CENTRAL AV",
          "CHAMBERS ST",
          "CHAUNCEY ST",
          "CHRISTOPHER ST-SHERIDAN SQ",
          "CHURCH AV",
          "CITY HALL",
          "CLARK ST",
          "CLASSON AV",
          "CLEVELAND ST",
          "CLINTON-WASHINGTON AVS",
          "CORTELYOU RD",
          "CORTLANDT ST",
          "COURT SQUARE",
          "CRESCENT ST",
          "CYPRESS AV",
          "CYPRESS HILLS",
          "DEKALB AV",
          "DELANCEY ST",
          "DITMAS AV",
          "E 143/ST MARY'S",
          "E 149 ST",
          "EAST 105 ST",
          "EAST BROADWAY",
          "EAST TREMONT AV-WEST FARMS S",
          "EAST TREMONT AV-WESTCHESTER S",
          "EASTERN PKWY-BROOKLYN MUSEUM",
          "ELDER AV",
          "ELMHURST AV",
          "EUCLID AV",
          "FAR ROCKAWAY-MOTT AV",
          "FLATBUSH AV-BC",
          "FLUSHING AV",
          "FORDHAM RD",
          "FORT HAMILTON PKWY",
          "FRANKLIN AV",
          "FRANKLIN ST",
          "FREEMAN ST",
          "FRESH POND RD",
          "FULTON ST",
          "GATES AV",
          "GRAHAM AV",
          "GRAND ARMY PLAZA",
          "GRAND AV-NEWTON",
          "GRAND ST",
          "GRANT AV",
          "GREENPOINT AV",
          "GUN HILL RD",
          "HALSEY ST",
          "HEWES ST",
          "HIGH ST",
          "HOUSTON ST",
          "HOWARD BEACH-JFK AIRPORT",
          "HOYT ST",
          "HOYT-SCHERMERHORN",
          "HUNTERS PT AV",
          "HUNTS POINT AV",
          "INTERVALE AV",
          "JACKSON AV",
          "JAMAICA CENTER",
          "JAMAICA-VAN WYCK",
          "JEFFERSON ST",
          "JUNCTION BLVD",
          "JUNIUS ST",
          "KINGS HWY",
          "KINGSBRIDGE RD",
          "KINGSTON AV",
          "KINGSTON-THROOP AVS",
          "KNICKERBOCKER AV",
          "KOSCIUSZKO ST",
          "LAFAYETTE AV",
          "LIBERTY AV",
          "LIVONIA AV",
          "LONGWOOD AV",
          "LORIMER ST",
          "MARCY AV",
          "METROPOLITAN AV",
          "MIDDLETOWN RD",
          "MONTROSE AV",
          "MORGAN AV",
          "MORRIS PARK",
          "MOSHOLU PKWY",
          "MT EDEN AV",
          "MYRTLE AV",
          "MYRTLE-WILLOUGHBY AVS",
          "MYRTLE/WYCKOFF AVS",
          "NASSAU AV",
          "NECK RD",
          "NEPTUNE AV",
          "NEVINS ST",
          "NEW LOTS AV",
          "NEW UTRECHT AV",
          "NEWKIRK AV",
          "NOSTRAND AV",
          "OCEAN PKWY",
          "PARK PLACE",
          "PARKSIDE AV",
          "PARSONS BLVD",
          "PELHAM BAY PARK",
          "PELHAM PKWY",
          "PENNSYLVANIA AV",
          "PRESIDENT ST",
          "PRINCE ST",
          "PROSPECT AV",
          "PROSPECT PARK",
          "QUEENS PLAZA",
          "QUEENSBORO PLZ",
          "RALPH AV",
          "RECTOR ST",
          "ROCKAWAY AV",
          "ROCKAWAY BLVD",
          "ROOSEVELT ISLAND",
          "SARATOGA AV",
          "SHEEPSHEAD BAY",
          "SHEPHERD AV",
          "SIMPSON ST",
          "SMITH-9 ST",
          "SOUNDVIEW AV",
          "SOUTH FERRY",
          "SPRING ST",
          "ST LAWRENCE AV",
          "STEINWAY ST",
          "STILLWELL AV-CONEY ISLAND",
          "SUTPHIN BLVD",
          "SUTPHIN BLVD-ARCHER AV",
          "SUTTER AV",
          "SUTTER AV-RUTLAND RD",
          "TREMONT AV",
          "UNION ST",
          "UTICA AV",
          "UTICA AV-CROWN HEIGHTS",
          "VAN SICLEN AV",
          "VERNON BLVD-JACKSON AV",
          "W 4 ST-WASH SQ",
          "WALL ST",
          "WEST 8 ST-NY AQUARIUM",
          "WHITEHALL ST-SOUTH FERRY",
          "WILLETS POINT-SHEA STADIUM",
          "WILSON AV",
          "WINTHROP ST",
          "WOODHAVEN BLVD",
          "WOODLAWN",
          "ZEREGA AV"
         ],
         "type": "scatter",
         "x": [
          1298502,
          2420919,
          1659535,
          1630008,
          2355801,
          1798519,
          1051527,
          8168533,
          2997839,
          300309,
          520917,
          980005,
          360470,
          1439775,
          639679,
          1089758,
          457067,
          1647750,
          1745289,
          392752,
          468858,
          1417962,
          724589,
          1119275,
          684550,
          626434,
          805883,
          142021,
          936934,
          292971,
          413882,
          341116,
          249925,
          594361,
          403799,
          307156,
          3685766,
          416254,
          13268516,
          1465576,
          12463012,
          8333713,
          8106409,
          680612,
          1761825,
          1201043,
          4079983,
          691484,
          155161,
          1290590,
          5259027,
          7392924,
          412615,
          1915359,
          3123232,
          4373026,
          271143,
          284368,
          2864298,
          342680,
          1301652,
          291386,
          6933907,
          453061,
          5111772,
          418511,
          3822836,
          306837,
          160486,
          444715,
          433756,
          199575,
          1024558,
          218359,
          221318,
          1283262,
          309208,
          725386,
          1256123,
          279589,
          329508,
          1375020,
          290101,
          370485,
          393702,
          1504217,
          6691363,
          956300,
          503174,
          3187693,
          435550,
          458750,
          466803,
          230841,
          1034242,
          494286,
          350320,
          3018636,
          319850,
          382701,
          260243,
          472674,
          325107,
          518967,
          1510900,
          1061920,
          1280716,
          442505,
          600506,
          610892,
          881492,
          1108442,
          304570,
          953337,
          414669,
          582709,
          831115,
          2679448,
          353073,
          2212092,
          395205,
          689382,
          476096,
          441428,
          907263,
          1511204,
          155280,
          484661,
          529657,
          184744,
          651779,
          406901,
          1025543,
          484287,
          1483620,
          353507,
          412051,
          543424,
          267681,
          361131,
          485655,
          559147,
          567013,
          934780,
          355199,
          306752,
          1023607,
          846247,
          1180355,
          1320872,
          478792,
          605858,
          371377,
          513411,
          332695,
          346243,
          1942521,
          1313628,
          4451116,
          483113,
          334003,
          547041,
          207712
         ],
         "y": [
          415,
          1039,
          443,
          547,
          478,
          978,
          425,
          2465,
          1502,
          157,
          127,
          273,
          183,
          687,
          260,
          324,
          225,
          363,
          585,
          219,
          272,
          519,
          201,
          347,
          421,
          258,
          327,
          38,
          190,
          183,
          111,
          79,
          157,
          282,
          82,
          121,
          922,
          140,
          3851,
          587,
          3134,
          3734,
          3151,
          338,
          521,
          616,
          825,
          163,
          45,
          561,
          1703,
          2330,
          211,
          403,
          637,
          1151,
          131,
          91,
          692,
          213,
          263,
          62,
          1850,
          99,
          1558,
          237,
          1172,
          69,
          54,
          137,
          123,
          41,
          252,
          61,
          141,
          260,
          153,
          244,
          336,
          112,
          87,
          326,
          182,
          187,
          247,
          776,
          2406,
          198,
          137,
          1090,
          159,
          117,
          114,
          132,
          428,
          129,
          187,
          1014,
          103,
          197,
          154,
          165,
          174,
          216,
          484,
          450,
          265,
          94,
          286,
          203,
          461,
          489,
          119,
          250,
          198,
          161,
          530,
          1497,
          129,
          458,
          167,
          355,
          244,
          197,
          537,
          479,
          73,
          153,
          219,
          94,
          218,
          220,
          611,
          174,
          456,
          80,
          186,
          310,
          113,
          216,
          230,
          313,
          319,
          382,
          195,
          173,
          595,
          511,
          384,
          509,
          309,
          283,
          223,
          219,
          177,
          186,
          921,
          811,
          1387,
          177,
          172,
          191,
          69
         ]
        },
        {
         "marker": {
          "color": "#6ccfb2",
          "line": {
           "width": 1
          },
          "opacity": 0.5,
          "size": 5
         },
         "mode": "markers",
         "name": "Relatively safe",
         "text": [
          "1 AV",
          "103 ST",
          "103 ST-CORONA PLAZA",
          "104 ST",
          "110 ST",
          "110 ST-CATHEDRAL PKWY",
          "110 ST-CENTRAL PARK NORTH",
          "111 ST",
          "116 ST",
          "116 ST-COLUMBIA UNIVERSITY",
          "121 ST",
          "125 ST",
          "135 ST",
          "137 ST-CITY COLLEGE",
          "138 ST-GRAND CONCOURSE",
          "14 ST",
          "14 ST-UNION SQUARE",
          "145 ST",
          "148 ST-HARLEM",
          "149 ST-GRAND CONCOURSE",
          "15 ST-PROSPECT PARK",
          "155 ST",
          "157 ST",
          "161 ST-YANKEE STADIUM",
          "163 ST-AMSTERDAM AV",
          "167 ST",
          "168 ST",
          "169 ST",
          "170 ST",
          "174-175 STS",
          "175 ST",
          "176 ST",
          "179 ST-JAMAICA",
          "18 AV",
          "18 ST",
          "181 ST",
          "182-183 STS",
          "183 ST",
          "190 ST",
          "2 AV",
          "20 AV",
          "200 ST-DYCKMAN ST",
          "205 ST-NORWOOD",
          "207 ST",
          "207 ST-INWOOD",
          "21 ST",
          "21 ST-QUEENSBRIDGE",
          "225 ST",
          "225 ST-MARBLE HILL",
          "23 ST",
          "231 ST",
          "238 ST",
          "238 ST-NEREID AV",
          "241 ST-WAKEFIELD",
          "242 ST-VAN CORTLANDT PARK",
          "25 AV",
          "25 ST",
          "28 ST",
          "3 AV",
          "3 AV-138 ST",
          "3 AV-149 ST",
          "30 AV",
          "33 ST",
          "34 ST-HERALD SQ",
          "34 ST-HUDSON YD",
          "34 ST-PENN STATION",
          "36 ST",
          "4 AV-9 ST",
          "40 ST",
          "42 ST-BRYANT PK",
          "42 ST-GRAND CENTRAL",
          "42 ST-PORT AUTH",
          "42 ST-TIMES SQUARE",
          "45 ST",
          "46 ST",
          "47-50 STS/ROCKEFELLER CTR",
          "49 ST",
          "5 AV",
          "50 ST",
          "51 ST",
          "53 ST",
          "55 ST",
          "57 ST",
          "59 ST",
          "59 ST-COLUMBUS CIRCLE",
          "6 AV",
          "61 ST-WOODSIDE",
          "63 DR-REGO PARK",
          "66 ST-LINCOLN CENTER",
          "67 AV",
          "68 ST-HUNTER COLLEGE",
          "69 ST",
          "7 AV",
          "72 ST",
          "74 ST-BROADWAY",
          "75 AV",
          "75 ST-ELDERTS LANE",
          "77 ST",
          "79 ST",
          "8 AV",
          "8 ST-NYU",
          "80 ST",
          "81 ST-MUSEUM",
          "82 ST-JACKSON HEIGHTS",
          "85 ST-FOREST PKWY",
          "86 ST",
          "86 ST-2 AV",
          "9 AV",
          "9 ST",
          "90 ST-ELMHURST AV",
          "96 ST",
          "96 ST-2 AV",
          "ALABAMA AV",
          "ALLERTON AV",
          "AQUEDUCT-NORTH CONDUIT AV",
          "AQUEDUCT-RACETRACK",
          "ASTOR PLACE",
          "ATLANTIC AV",
          "AV H",
          "AV I",
          "AV J",
          "AV M",
          "AV N",
          "AV P",
          "AV U",
          "AV X",
          "BAY 50 ST",
          "BAY PKWY",
          "BAYCHESTER AV",
          "BEACH 25 ST",
          "BEACH 36 ST",
          "BEACH 44 ST",
          "BEACH 60 ST",
          "BEACH 67 ST",
          "BEACH 90 ST",
          "BEACH 98 ST",
          "BEDFORD AV",
          "BEDFORD PK BLVD",
          "BEDFORD-NOSTRAND AVS",
          "BERGEN ST",
          "BEVERLEY RD",
          "BEVERLY RD",
          "BLEECKER ST",
          "BOROUGH HALL",
          "BOTANIC GARDEN",
          "BOWERY",
          "BOWLING GREEN",
          "BRIARWOOD",
          "BRIGHTON BEACH",
          "BROAD CHANNEL",
          "BROAD ST",
          "BROADWAY",
          "BROADWAY/LAFAYETTE",
          "BROOK AV",
          "BROOKLYN BRIDGE-CITY HALL",
          "BURKE AV",
          "BURNSIDE AV",
          "BUSHWICK AV-ABERDEEN ST",
          "CANAL ST",
          "CARROLL ST",
          "CASTLE HILL AV",
          "CENTRAL AV",
          "CHAMBERS ST",
          "CHAUNCEY ST",
          "CHRISTOPHER ST-SHERIDAN SQ",
          "CHURCH AV",
          "CITY HALL",
          "CLARK ST",
          "CLASSON AV",
          "CLEVELAND ST",
          "CLINTON-WASHINGTON AVS",
          "CORTELYOU RD",
          "CORTLANDT ST",
          "COURT SQUARE",
          "CRESCENT ST",
          "CYPRESS AV",
          "CYPRESS HILLS",
          "DEKALB AV",
          "DELANCEY ST",
          "DITMAS AV",
          "E 143/ST MARY'S",
          "E 149 ST",
          "EAST 105 ST",
          "EAST BROADWAY",
          "EAST TREMONT AV-WEST FARMS S",
          "EAST TREMONT AV-WESTCHESTER S",
          "EASTERN PKWY-BROOKLYN MUSEUM",
          "ELDER AV",
          "ELMHURST AV",
          "EUCLID AV",
          "FAR ROCKAWAY-MOTT AV",
          "FLATBUSH AV-BC",
          "FLUSHING AV",
          "FORDHAM RD",
          "FORT HAMILTON PKWY",
          "FRANKLIN AV",
          "FRANKLIN ST",
          "FREEMAN ST",
          "FRESH POND RD",
          "FULTON ST",
          "GATES AV",
          "GRAHAM AV",
          "GRAND ARMY PLAZA",
          "GRAND AV-NEWTON",
          "GRAND ST",
          "GRANT AV",
          "GREENPOINT AV",
          "GUN HILL RD",
          "HALSEY ST",
          "HEWES ST",
          "HIGH ST",
          "HOUSTON ST",
          "HOWARD BEACH-JFK AIRPORT",
          "HOYT ST",
          "HOYT-SCHERMERHORN",
          "HUNTERS PT AV",
          "HUNTS POINT AV",
          "INTERVALE AV",
          "JACKSON AV",
          "JAMAICA CENTER",
          "JAMAICA-VAN WYCK",
          "JEFFERSON ST",
          "JUNCTION BLVD",
          "JUNIUS ST",
          "KINGS HWY",
          "KINGSBRIDGE RD",
          "KINGSTON AV",
          "KINGSTON-THROOP AVS",
          "KNICKERBOCKER AV",
          "KOSCIUSZKO ST",
          "LAFAYETTE AV",
          "LIBERTY AV",
          "LIVONIA AV",
          "LONGWOOD AV",
          "LORIMER ST",
          "MARCY AV",
          "METROPOLITAN AV",
          "MIDDLETOWN RD",
          "MONTROSE AV",
          "MORGAN AV",
          "MORRIS PARK",
          "MOSHOLU PKWY",
          "MT EDEN AV",
          "MYRTLE AV",
          "MYRTLE-WILLOUGHBY AVS",
          "MYRTLE/WYCKOFF AVS",
          "NASSAU AV",
          "NECK RD",
          "NEPTUNE AV",
          "NEVINS ST",
          "NEW LOTS AV",
          "NEW UTRECHT AV",
          "NEWKIRK AV",
          "NOSTRAND AV",
          "OCEAN PKWY",
          "PARK PLACE",
          "PARKSIDE AV",
          "PARSONS BLVD",
          "PELHAM BAY PARK",
          "PELHAM PKWY",
          "PENNSYLVANIA AV",
          "PRESIDENT ST",
          "PRINCE ST",
          "PROSPECT AV",
          "PROSPECT PARK",
          "QUEENS PLAZA",
          "QUEENSBORO PLZ",
          "RALPH AV",
          "RECTOR ST",
          "ROCKAWAY AV",
          "ROCKAWAY BLVD",
          "ROOSEVELT ISLAND",
          "SARATOGA AV",
          "SHEEPSHEAD BAY",
          "SHEPHERD AV",
          "SIMPSON ST",
          "SMITH-9 ST",
          "SOUNDVIEW AV",
          "SOUTH FERRY",
          "SPRING ST",
          "ST LAWRENCE AV",
          "STEINWAY ST",
          "STILLWELL AV-CONEY ISLAND",
          "SUTPHIN BLVD",
          "SUTPHIN BLVD-ARCHER AV",
          "SUTTER AV",
          "SUTTER AV-RUTLAND RD",
          "TREMONT AV",
          "UNION ST",
          "UTICA AV",
          "UTICA AV-CROWN HEIGHTS",
          "VAN SICLEN AV",
          "VERNON BLVD-JACKSON AV",
          "W 4 ST-WASH SQ",
          "WALL ST",
          "WEST 8 ST-NY AQUARIUM",
          "WHITEHALL ST-SOUTH FERRY",
          "WILLETS POINT-SHEA STADIUM",
          "WILSON AV",
          "WINTHROP ST",
          "WOODHAVEN BLVD",
          "WOODLAWN",
          "ZEREGA AV"
         ],
         "type": "scatter",
         "x": [
          332039,
          1299929,
          1162672,
          898144,
          410531,
          11213115,
          760829,
          1440802,
          4371297,
          9972776,
          1777972,
          815686,
          3421956,
          627240,
          4707758,
          2406527,
          1417385,
          1217526,
          1849170,
          683489,
          422763,
          2478938,
          1694523,
          1404177,
          1110233,
          2134165,
          1243791,
          1369433,
          1589481,
          150724,
          1378110,
          237973,
          2003184,
          1850197,
          2726608,
          1823954,
          601964,
          2035286,
          2095880,
          421855,
          5555821,
          1342173,
          1542335,
          1339839,
          2748748,
          983533,
          495458,
          8119944,
          688493,
          1477038,
          2882157,
          832859,
          1137964,
          495294,
          1156957,
          2100457,
          439275,
          1881076,
          1430286,
          1065025,
          1242322,
          615399,
          1187875,
          2233183,
          2050194,
          1171056,
          581737,
          1228739,
          3599243,
          1359118,
          1998177
         ],
         "y": [
          65,
          166,
          226,
          100,
          72,
          1443,
          124,
          101,
          604,
          1501,
          94,
          114,
          643,
          119,
          540,
          457,
          248,
          130,
          342,
          126,
          76,
          486,
          272,
          160,
          177,
          35,
          147,
          172,
          81,
          19,
          244,
          47,
          359,
          204,
          393,
          317,
          95,
          201,
          416,
          71,
          606,
          227,
          189,
          139,
          469,
          165,
          48,
          1097,
          131,
          158,
          465,
          71,
          102,
          48,
          203,
          340,
          75,
          235,
          111,
          166,
          163,
          73,
          202,
          446,
          301,
          176,
          100,
          93,
          267,
          181,
          326
         ]
        }
       ],
       "layout": {
        "hovermode": "closest",
        "template": {
         "data": {
          "bar": [
           {
            "error_x": {
             "color": "rgb(36,36,36)"
            },
            "error_y": {
             "color": "rgb(36,36,36)"
            },
            "marker": {
             "line": {
              "color": "white",
              "width": 0.5
             },
             "pattern": {
              "fillmode": "overlay",
              "size": 10,
              "solidity": 0.2
             }
            },
            "type": "bar"
           }
          ],
          "barpolar": [
           {
            "marker": {
             "line": {
              "color": "white",
              "width": 0.5
             },
             "pattern": {
              "fillmode": "overlay",
              "size": 10,
              "solidity": 0.2
             }
            },
            "type": "barpolar"
           }
          ],
          "carpet": [
           {
            "aaxis": {
             "endlinecolor": "rgb(36,36,36)",
             "gridcolor": "white",
             "linecolor": "white",
             "minorgridcolor": "white",
             "startlinecolor": "rgb(36,36,36)"
            },
            "baxis": {
             "endlinecolor": "rgb(36,36,36)",
             "gridcolor": "white",
             "linecolor": "white",
             "minorgridcolor": "white",
             "startlinecolor": "rgb(36,36,36)"
            },
            "type": "carpet"
           }
          ],
          "choropleth": [
           {
            "colorbar": {
             "outlinewidth": 1,
             "tickcolor": "rgb(36,36,36)",
             "ticks": "outside"
            },
            "type": "choropleth"
           }
          ],
          "contour": [
           {
            "colorbar": {
             "outlinewidth": 1,
             "tickcolor": "rgb(36,36,36)",
             "ticks": "outside"
            },
            "colorscale": [
             [
              0,
              "#440154"
             ],
             [
              0.1111111111111111,
              "#482878"
             ],
             [
              0.2222222222222222,
              "#3e4989"
             ],
             [
              0.3333333333333333,
              "#31688e"
             ],
             [
              0.4444444444444444,
              "#26828e"
             ],
             [
              0.5555555555555556,
              "#1f9e89"
             ],
             [
              0.6666666666666666,
              "#35b779"
             ],
             [
              0.7777777777777778,
              "#6ece58"
             ],
             [
              0.8888888888888888,
              "#b5de2b"
             ],
             [
              1,
              "#fde725"
             ]
            ],
            "type": "contour"
           }
          ],
          "contourcarpet": [
           {
            "colorbar": {
             "outlinewidth": 1,
             "tickcolor": "rgb(36,36,36)",
             "ticks": "outside"
            },
            "type": "contourcarpet"
           }
          ],
          "heatmap": [
           {
            "colorbar": {
             "outlinewidth": 1,
             "tickcolor": "rgb(36,36,36)",
             "ticks": "outside"
            },
            "colorscale": [
             [
              0,
              "#440154"
             ],
             [
              0.1111111111111111,
              "#482878"
             ],
             [
              0.2222222222222222,
              "#3e4989"
             ],
             [
              0.3333333333333333,
              "#31688e"
             ],
             [
              0.4444444444444444,
              "#26828e"
             ],
             [
              0.5555555555555556,
              "#1f9e89"
             ],
             [
              0.6666666666666666,
              "#35b779"
             ],
             [
              0.7777777777777778,
              "#6ece58"
             ],
             [
              0.8888888888888888,
              "#b5de2b"
             ],
             [
              1,
              "#fde725"
             ]
            ],
            "type": "heatmap"
           }
          ],
          "heatmapgl": [
           {
            "colorbar": {
             "outlinewidth": 1,
             "tickcolor": "rgb(36,36,36)",
             "ticks": "outside"
            },
            "colorscale": [
             [
              0,
              "#440154"
             ],
             [
              0.1111111111111111,
              "#482878"
             ],
             [
              0.2222222222222222,
              "#3e4989"
             ],
             [
              0.3333333333333333,
              "#31688e"
             ],
             [
              0.4444444444444444,
              "#26828e"
             ],
             [
              0.5555555555555556,
              "#1f9e89"
             ],
             [
              0.6666666666666666,
              "#35b779"
             ],
             [
              0.7777777777777778,
              "#6ece58"
             ],
             [
              0.8888888888888888,
              "#b5de2b"
             ],
             [
              1,
              "#fde725"
             ]
            ],
            "type": "heatmapgl"
           }
          ],
          "histogram": [
           {
            "marker": {
             "line": {
              "color": "white",
              "width": 0.6
             }
            },
            "type": "histogram"
           }
          ],
          "histogram2d": [
           {
            "colorbar": {
             "outlinewidth": 1,
             "tickcolor": "rgb(36,36,36)",
             "ticks": "outside"
            },
            "colorscale": [
             [
              0,
              "#440154"
             ],
             [
              0.1111111111111111,
              "#482878"
             ],
             [
              0.2222222222222222,
              "#3e4989"
             ],
             [
              0.3333333333333333,
              "#31688e"
             ],
             [
              0.4444444444444444,
              "#26828e"
             ],
             [
              0.5555555555555556,
              "#1f9e89"
             ],
             [
              0.6666666666666666,
              "#35b779"
             ],
             [
              0.7777777777777778,
              "#6ece58"
             ],
             [
              0.8888888888888888,
              "#b5de2b"
             ],
             [
              1,
              "#fde725"
             ]
            ],
            "type": "histogram2d"
           }
          ],
          "histogram2dcontour": [
           {
            "colorbar": {
             "outlinewidth": 1,
             "tickcolor": "rgb(36,36,36)",
             "ticks": "outside"
            },
            "colorscale": [
             [
              0,
              "#440154"
             ],
             [
              0.1111111111111111,
              "#482878"
             ],
             [
              0.2222222222222222,
              "#3e4989"
             ],
             [
              0.3333333333333333,
              "#31688e"
             ],
             [
              0.4444444444444444,
              "#26828e"
             ],
             [
              0.5555555555555556,
              "#1f9e89"
             ],
             [
              0.6666666666666666,
              "#35b779"
             ],
             [
              0.7777777777777778,
              "#6ece58"
             ],
             [
              0.8888888888888888,
              "#b5de2b"
             ],
             [
              1,
              "#fde725"
             ]
            ],
            "type": "histogram2dcontour"
           }
          ],
          "mesh3d": [
           {
            "colorbar": {
             "outlinewidth": 1,
             "tickcolor": "rgb(36,36,36)",
             "ticks": "outside"
            },
            "type": "mesh3d"
           }
          ],
          "parcoords": [
           {
            "line": {
             "colorbar": {
              "outlinewidth": 1,
              "tickcolor": "rgb(36,36,36)",
              "ticks": "outside"
             }
            },
            "type": "parcoords"
           }
          ],
          "pie": [
           {
            "automargin": true,
            "type": "pie"
           }
          ],
          "scatter": [
           {
            "marker": {
             "colorbar": {
              "outlinewidth": 1,
              "tickcolor": "rgb(36,36,36)",
              "ticks": "outside"
             }
            },
            "type": "scatter"
           }
          ],
          "scatter3d": [
           {
            "line": {
             "colorbar": {
              "outlinewidth": 1,
              "tickcolor": "rgb(36,36,36)",
              "ticks": "outside"
             }
            },
            "marker": {
             "colorbar": {
              "outlinewidth": 1,
              "tickcolor": "rgb(36,36,36)",
              "ticks": "outside"
             }
            },
            "type": "scatter3d"
           }
          ],
          "scattercarpet": [
           {
            "marker": {
             "colorbar": {
              "outlinewidth": 1,
              "tickcolor": "rgb(36,36,36)",
              "ticks": "outside"
             }
            },
            "type": "scattercarpet"
           }
          ],
          "scattergeo": [
           {
            "marker": {
             "colorbar": {
              "outlinewidth": 1,
              "tickcolor": "rgb(36,36,36)",
              "ticks": "outside"
             }
            },
            "type": "scattergeo"
           }
          ],
          "scattergl": [
           {
            "marker": {
             "colorbar": {
              "outlinewidth": 1,
              "tickcolor": "rgb(36,36,36)",
              "ticks": "outside"
             }
            },
            "type": "scattergl"
           }
          ],
          "scattermapbox": [
           {
            "marker": {
             "colorbar": {
              "outlinewidth": 1,
              "tickcolor": "rgb(36,36,36)",
              "ticks": "outside"
             }
            },
            "type": "scattermapbox"
           }
          ],
          "scatterpolar": [
           {
            "marker": {
             "colorbar": {
              "outlinewidth": 1,
              "tickcolor": "rgb(36,36,36)",
              "ticks": "outside"
             }
            },
            "type": "scatterpolar"
           }
          ],
          "scatterpolargl": [
           {
            "marker": {
             "colorbar": {
              "outlinewidth": 1,
              "tickcolor": "rgb(36,36,36)",
              "ticks": "outside"
             }
            },
            "type": "scatterpolargl"
           }
          ],
          "scatterternary": [
           {
            "marker": {
             "colorbar": {
              "outlinewidth": 1,
              "tickcolor": "rgb(36,36,36)",
              "ticks": "outside"
             }
            },
            "type": "scatterternary"
           }
          ],
          "surface": [
           {
            "colorbar": {
             "outlinewidth": 1,
             "tickcolor": "rgb(36,36,36)",
             "ticks": "outside"
            },
            "colorscale": [
             [
              0,
              "#440154"
             ],
             [
              0.1111111111111111,
              "#482878"
             ],
             [
              0.2222222222222222,
              "#3e4989"
             ],
             [
              0.3333333333333333,
              "#31688e"
             ],
             [
              0.4444444444444444,
              "#26828e"
             ],
             [
              0.5555555555555556,
              "#1f9e89"
             ],
             [
              0.6666666666666666,
              "#35b779"
             ],
             [
              0.7777777777777778,
              "#6ece58"
             ],
             [
              0.8888888888888888,
              "#b5de2b"
             ],
             [
              1,
              "#fde725"
             ]
            ],
            "type": "surface"
           }
          ],
          "table": [
           {
            "cells": {
             "fill": {
              "color": "rgb(237,237,237)"
             },
             "line": {
              "color": "white"
             }
            },
            "header": {
             "fill": {
              "color": "rgb(217,217,217)"
             },
             "line": {
              "color": "white"
             }
            },
            "type": "table"
           }
          ]
         },
         "layout": {
          "annotationdefaults": {
           "arrowhead": 0,
           "arrowwidth": 1
          },
          "autotypenumbers": "strict",
          "coloraxis": {
           "colorbar": {
            "outlinewidth": 1,
            "tickcolor": "rgb(36,36,36)",
            "ticks": "outside"
           }
          },
          "colorscale": {
           "diverging": [
            [
             0,
             "rgb(103,0,31)"
            ],
            [
             0.1,
             "rgb(178,24,43)"
            ],
            [
             0.2,
             "rgb(214,96,77)"
            ],
            [
             0.3,
             "rgb(244,165,130)"
            ],
            [
             0.4,
             "rgb(253,219,199)"
            ],
            [
             0.5,
             "rgb(247,247,247)"
            ],
            [
             0.6,
             "rgb(209,229,240)"
            ],
            [
             0.7,
             "rgb(146,197,222)"
            ],
            [
             0.8,
             "rgb(67,147,195)"
            ],
            [
             0.9,
             "rgb(33,102,172)"
            ],
            [
             1,
             "rgb(5,48,97)"
            ]
           ],
           "sequential": [
            [
             0,
             "#440154"
            ],
            [
             0.1111111111111111,
             "#482878"
            ],
            [
             0.2222222222222222,
             "#3e4989"
            ],
            [
             0.3333333333333333,
             "#31688e"
            ],
            [
             0.4444444444444444,
             "#26828e"
            ],
            [
             0.5555555555555556,
             "#1f9e89"
            ],
            [
             0.6666666666666666,
             "#35b779"
            ],
            [
             0.7777777777777778,
             "#6ece58"
            ],
            [
             0.8888888888888888,
             "#b5de2b"
            ],
            [
             1,
             "#fde725"
            ]
           ],
           "sequentialminus": [
            [
             0,
             "#440154"
            ],
            [
             0.1111111111111111,
             "#482878"
            ],
            [
             0.2222222222222222,
             "#3e4989"
            ],
            [
             0.3333333333333333,
             "#31688e"
            ],
            [
             0.4444444444444444,
             "#26828e"
            ],
            [
             0.5555555555555556,
             "#1f9e89"
            ],
            [
             0.6666666666666666,
             "#35b779"
            ],
            [
             0.7777777777777778,
             "#6ece58"
            ],
            [
             0.8888888888888888,
             "#b5de2b"
            ],
            [
             1,
             "#fde725"
            ]
           ]
          },
          "colorway": [
           "#1F77B4",
           "#FF7F0E",
           "#2CA02C",
           "#D62728",
           "#9467BD",
           "#8C564B",
           "#E377C2",
           "#7F7F7F",
           "#BCBD22",
           "#17BECF"
          ],
          "font": {
           "color": "rgb(36,36,36)"
          },
          "geo": {
           "bgcolor": "white",
           "lakecolor": "white",
           "landcolor": "white",
           "showlakes": true,
           "showland": true,
           "subunitcolor": "white"
          },
          "hoverlabel": {
           "align": "left"
          },
          "hovermode": "closest",
          "mapbox": {
           "style": "light"
          },
          "paper_bgcolor": "white",
          "plot_bgcolor": "white",
          "polar": {
           "angularaxis": {
            "gridcolor": "rgb(232,232,232)",
            "linecolor": "rgb(36,36,36)",
            "showgrid": false,
            "showline": true,
            "ticks": "outside"
           },
           "bgcolor": "white",
           "radialaxis": {
            "gridcolor": "rgb(232,232,232)",
            "linecolor": "rgb(36,36,36)",
            "showgrid": false,
            "showline": true,
            "ticks": "outside"
           }
          },
          "scene": {
           "xaxis": {
            "backgroundcolor": "white",
            "gridcolor": "rgb(232,232,232)",
            "gridwidth": 2,
            "linecolor": "rgb(36,36,36)",
            "showbackground": true,
            "showgrid": false,
            "showline": true,
            "ticks": "outside",
            "zeroline": false,
            "zerolinecolor": "rgb(36,36,36)"
           },
           "yaxis": {
            "backgroundcolor": "white",
            "gridcolor": "rgb(232,232,232)",
            "gridwidth": 2,
            "linecolor": "rgb(36,36,36)",
            "showbackground": true,
            "showgrid": false,
            "showline": true,
            "ticks": "outside",
            "zeroline": false,
            "zerolinecolor": "rgb(36,36,36)"
           },
           "zaxis": {
            "backgroundcolor": "white",
            "gridcolor": "rgb(232,232,232)",
            "gridwidth": 2,
            "linecolor": "rgb(36,36,36)",
            "showbackground": true,
            "showgrid": false,
            "showline": true,
            "ticks": "outside",
            "zeroline": false,
            "zerolinecolor": "rgb(36,36,36)"
           }
          },
          "shapedefaults": {
           "fillcolor": "black",
           "line": {
            "width": 0
           },
           "opacity": 0.3
          },
          "ternary": {
           "aaxis": {
            "gridcolor": "rgb(232,232,232)",
            "linecolor": "rgb(36,36,36)",
            "showgrid": false,
            "showline": true,
            "ticks": "outside"
           },
           "baxis": {
            "gridcolor": "rgb(232,232,232)",
            "linecolor": "rgb(36,36,36)",
            "showgrid": false,
            "showline": true,
            "ticks": "outside"
           },
           "bgcolor": "white",
           "caxis": {
            "gridcolor": "rgb(232,232,232)",
            "linecolor": "rgb(36,36,36)",
            "showgrid": false,
            "showline": true,
            "ticks": "outside"
           }
          },
          "title": {
           "x": 0.05
          },
          "xaxis": {
           "automargin": true,
           "gridcolor": "rgb(232,232,232)",
           "linecolor": "rgb(36,36,36)",
           "showgrid": false,
           "showline": true,
           "ticks": "outside",
           "title": {
            "standoff": 15
           },
           "zeroline": false,
           "zerolinecolor": "rgb(36,36,36)"
          },
          "yaxis": {
           "automargin": true,
           "gridcolor": "rgb(232,232,232)",
           "linecolor": "rgb(36,36,36)",
           "showgrid": false,
           "showline": true,
           "ticks": "outside",
           "title": {
            "standoff": 15
           },
           "zeroline": false,
           "zerolinecolor": "rgb(36,36,36)"
          }
         }
        },
        "title": {
         "text": "How safe is each MTA station?"
        },
        "xaxis": {
         "title": {
          "text": "Station traffic 9/2019 - 11/2019"
         },
         "zeroline": false
        },
        "yaxis": {
         "hoverformat": ".1f",
         "title": {
          "text": "Complaints"
         },
         "zeroline": false
        }
       }
      },
      "text/html": [
       "<div>                            <div id=\"b80c197c-0d7e-4ffc-b3ae-2a5c758a1ca8\" class=\"plotly-graph-div\" style=\"height:525px; width:100%;\"></div>            <script type=\"text/javascript\">                require([\"plotly\"], function(Plotly) {                    window.PLOTLYENV=window.PLOTLYENV || {};                                    if (document.getElementById(\"b80c197c-0d7e-4ffc-b3ae-2a5c758a1ca8\")) {                    Plotly.newPlot(                        \"b80c197c-0d7e-4ffc-b3ae-2a5c758a1ca8\",                        [{\"marker\":{\"color\":\"#c43152\",\"line\":{\"width\":1},\"size\":10},\"mode\":\"markers\",\"name\":\"Very dangerous\",\"text\":[\"1 AV\",\"103 ST\",\"103 ST-CORONA PLAZA\",\"104 ST\",\"110 ST\",\"110 ST-CATHEDRAL PKWY\",\"110 ST-CENTRAL PARK NORTH\",\"111 ST\",\"116 ST\",\"116 ST-COLUMBIA UNIVERSITY\",\"121 ST\",\"125 ST\",\"135 ST\",\"137 ST-CITY COLLEGE\",\"138 ST-GRAND CONCOURSE\",\"14 ST\",\"14 ST-UNION SQUARE\",\"145 ST\",\"148 ST-HARLEM\",\"149 ST-GRAND CONCOURSE\",\"15 ST-PROSPECT PARK\",\"155 ST\",\"157 ST\",\"161 ST-YANKEE STADIUM\",\"163 ST-AMSTERDAM AV\",\"167 ST\",\"168 ST\",\"169 ST\",\"170 ST\",\"174-175 STS\",\"175 ST\",\"176 ST\",\"179 ST-JAMAICA\",\"18 AV\",\"18 ST\",\"181 ST\",\"182-183 STS\",\"183 ST\",\"190 ST\",\"2 AV\",\"20 AV\",\"200 ST-DYCKMAN ST\",\"205 ST-NORWOOD\",\"207 ST\",\"207 ST-INWOOD\",\"21 ST\",\"21 ST-QUEENSBRIDGE\",\"225 ST\",\"225 ST-MARBLE HILL\",\"23 ST\",\"231 ST\",\"238 ST\",\"238 ST-NEREID AV\",\"241 ST-WAKEFIELD\",\"242 ST-VAN CORTLANDT PARK\",\"25 AV\",\"25 ST\",\"28 ST\",\"3 AV\",\"3 AV-138 ST\",\"3 AV-149 ST\",\"30 AV\",\"33 ST\",\"34 ST-HERALD SQ\",\"34 ST-HUDSON YD\",\"34 ST-PENN STATION\",\"36 ST\",\"4 AV-9 ST\",\"40 ST\",\"42 ST-BRYANT PK\",\"42 ST-GRAND CENTRAL\",\"42 ST-PORT AUTH\",\"42 ST-TIMES SQUARE\",\"45 ST\",\"46 ST\",\"47-50 STS/ROCKEFELLER CTR\",\"49 ST\",\"5 AV\",\"50 ST\",\"51 ST\",\"53 ST\",\"55 ST\",\"57 ST\",\"59 ST\",\"59 ST-COLUMBUS CIRCLE\",\"6 AV\",\"61 ST-WOODSIDE\",\"63 DR-REGO PARK\",\"66 ST-LINCOLN CENTER\",\"67 AV\",\"68 ST-HUNTER COLLEGE\",\"69 ST\",\"7 AV\",\"72 ST\",\"74 ST-BROADWAY\",\"75 AV\",\"75 ST-ELDERTS LANE\",\"77 ST\",\"79 ST\",\"8 AV\",\"8 ST-NYU\",\"80 ST\",\"81 ST-MUSEUM\",\"82 ST-JACKSON HEIGHTS\",\"85 ST-FOREST PKWY\",\"86 ST\",\"86 ST-2 AV\",\"9 AV\",\"9 ST\",\"90 ST-ELMHURST AV\",\"96 ST\",\"96 ST-2 AV\",\"ALABAMA AV\",\"ALLERTON AV\",\"AQUEDUCT-NORTH CONDUIT AV\",\"AQUEDUCT-RACETRACK\",\"ASTOR PLACE\",\"ATLANTIC AV\",\"AV H\",\"AV I\",\"AV J\",\"AV M\",\"AV N\",\"AV P\",\"AV U\",\"AV X\",\"BAY 50 ST\",\"BAY PKWY\",\"BAYCHESTER AV\",\"BEACH 25 ST\",\"BEACH 36 ST\",\"BEACH 44 ST\",\"BEACH 60 ST\",\"BEACH 67 ST\",\"BEACH 90 ST\",\"BEACH 98 ST\",\"BEDFORD AV\",\"BEDFORD PK BLVD\",\"BEDFORD-NOSTRAND AVS\",\"BERGEN ST\",\"BEVERLEY RD\",\"BEVERLY RD\",\"BLEECKER ST\",\"BOROUGH HALL\",\"BOTANIC GARDEN\",\"BOWERY\",\"BOWLING GREEN\",\"BRIARWOOD\",\"BRIGHTON BEACH\",\"BROAD CHANNEL\",\"BROAD ST\",\"BROADWAY\",\"BROADWAY/LAFAYETTE\",\"BROOK AV\",\"BROOKLYN BRIDGE-CITY HALL\",\"BURKE AV\",\"BURNSIDE AV\",\"BUSHWICK AV-ABERDEEN ST\",\"CANAL ST\",\"CARROLL ST\",\"CASTLE HILL AV\",\"CENTRAL AV\",\"CHAMBERS ST\",\"CHAUNCEY ST\",\"CHRISTOPHER ST-SHERIDAN SQ\",\"CHURCH AV\",\"CITY HALL\",\"CLARK ST\",\"CLASSON AV\",\"CLEVELAND ST\",\"CLINTON-WASHINGTON AVS\",\"CORTELYOU RD\",\"CORTLANDT ST\",\"COURT SQUARE\",\"CRESCENT ST\",\"CYPRESS AV\",\"CYPRESS HILLS\",\"DEKALB AV\",\"DELANCEY ST\",\"DITMAS AV\",\"E 143/ST MARY'S\",\"E 149 ST\",\"EAST 105 ST\",\"EAST BROADWAY\",\"EAST TREMONT AV-WEST FARMS S\",\"EAST TREMONT AV-WESTCHESTER S\",\"EASTERN PKWY-BROOKLYN MUSEUM\",\"ELDER AV\",\"ELMHURST AV\",\"EUCLID AV\",\"FAR ROCKAWAY-MOTT AV\",\"FLATBUSH AV-BC\",\"FLUSHING AV\",\"FORDHAM RD\",\"FORT HAMILTON PKWY\",\"FRANKLIN AV\",\"FRANKLIN ST\",\"FREEMAN ST\",\"FRESH POND RD\",\"FULTON ST\",\"GATES AV\",\"GRAHAM AV\",\"GRAND ARMY PLAZA\",\"GRAND AV-NEWTON\",\"GRAND ST\",\"GRANT AV\",\"GREENPOINT AV\",\"GUN HILL RD\",\"HALSEY ST\",\"HEWES ST\",\"HIGH ST\",\"HOUSTON ST\",\"HOWARD BEACH-JFK AIRPORT\",\"HOYT ST\",\"HOYT-SCHERMERHORN\",\"HUNTERS PT AV\",\"HUNTS POINT AV\",\"INTERVALE AV\",\"JACKSON AV\",\"JAMAICA CENTER\",\"JAMAICA-VAN WYCK\",\"JEFFERSON ST\",\"JUNCTION BLVD\",\"JUNIUS ST\",\"KINGS HWY\",\"KINGSBRIDGE RD\",\"KINGSTON AV\",\"KINGSTON-THROOP AVS\",\"KNICKERBOCKER AV\",\"KOSCIUSZKO ST\",\"LAFAYETTE AV\",\"LIBERTY AV\",\"LIVONIA AV\",\"LONGWOOD AV\",\"LORIMER ST\",\"MARCY AV\",\"METROPOLITAN AV\",\"MIDDLETOWN RD\",\"MONTROSE AV\",\"MORGAN AV\",\"MORRIS PARK\",\"MOSHOLU PKWY\",\"MT EDEN AV\",\"MYRTLE AV\",\"MYRTLE-WILLOUGHBY AVS\",\"MYRTLE/WYCKOFF AVS\",\"NASSAU AV\",\"NECK RD\",\"NEPTUNE AV\",\"NEVINS ST\",\"NEW LOTS AV\",\"NEW UTRECHT AV\",\"NEWKIRK AV\",\"NOSTRAND AV\",\"OCEAN PKWY\",\"PARK PLACE\",\"PARKSIDE AV\",\"PARSONS BLVD\",\"PELHAM BAY PARK\",\"PELHAM PKWY\",\"PENNSYLVANIA AV\",\"PRESIDENT ST\",\"PRINCE ST\",\"PROSPECT AV\",\"PROSPECT PARK\",\"QUEENS PLAZA\",\"QUEENSBORO PLZ\",\"RALPH AV\",\"RECTOR ST\",\"ROCKAWAY AV\",\"ROCKAWAY BLVD\",\"ROOSEVELT ISLAND\",\"SARATOGA AV\",\"SHEEPSHEAD BAY\",\"SHEPHERD AV\",\"SIMPSON ST\",\"SMITH-9 ST\",\"SOUNDVIEW AV\",\"SOUTH FERRY\",\"SPRING ST\",\"ST LAWRENCE AV\",\"STEINWAY ST\",\"STILLWELL AV-CONEY ISLAND\",\"SUTPHIN BLVD\",\"SUTPHIN BLVD-ARCHER AV\",\"SUTTER AV\",\"SUTTER AV-RUTLAND RD\",\"TREMONT AV\",\"UNION ST\",\"UTICA AV\",\"UTICA AV-CROWN HEIGHTS\",\"VAN SICLEN AV\",\"VERNON BLVD-JACKSON AV\",\"W 4 ST-WASH SQ\",\"WALL ST\",\"WEST 8 ST-NY AQUARIUM\",\"WHITEHALL ST-SOUTH FERRY\",\"WILLETS POINT-SHEA STADIUM\",\"WILSON AV\",\"WINTHROP ST\",\"WOODHAVEN BLVD\",\"WOODLAWN\",\"ZEREGA AV\"],\"x\":[860929.0,6979593.0,351057.0,280012.0,169717.0,75659.0,36679.0,24171.0,88768.0,435269.0,848520.0,1065823.0,263259.0],\"y\":[901,8201,392,495,213,81,58,293,123,518,1024,1264,395],\"type\":\"scatter\"},{\"marker\":{\"color\":\"#715a99\",\"line\":{\"width\":1},\"size\":8},\"mode\":\"markers\",\"name\":\"Dangerous\",\"text\":[\"1 AV\",\"103 ST\",\"103 ST-CORONA PLAZA\",\"104 ST\",\"110 ST\",\"110 ST-CATHEDRAL PKWY\",\"110 ST-CENTRAL PARK NORTH\",\"111 ST\",\"116 ST\",\"116 ST-COLUMBIA UNIVERSITY\",\"121 ST\",\"125 ST\",\"135 ST\",\"137 ST-CITY COLLEGE\",\"138 ST-GRAND CONCOURSE\",\"14 ST\",\"14 ST-UNION SQUARE\",\"145 ST\",\"148 ST-HARLEM\",\"149 ST-GRAND CONCOURSE\",\"15 ST-PROSPECT PARK\",\"155 ST\",\"157 ST\",\"161 ST-YANKEE STADIUM\",\"163 ST-AMSTERDAM AV\",\"167 ST\",\"168 ST\",\"169 ST\",\"170 ST\",\"174-175 STS\",\"175 ST\",\"176 ST\",\"179 ST-JAMAICA\",\"18 AV\",\"18 ST\",\"181 ST\",\"182-183 STS\",\"183 ST\",\"190 ST\",\"2 AV\",\"20 AV\",\"200 ST-DYCKMAN ST\",\"205 ST-NORWOOD\",\"207 ST\",\"207 ST-INWOOD\",\"21 ST\",\"21 ST-QUEENSBRIDGE\",\"225 ST\",\"225 ST-MARBLE HILL\",\"23 ST\",\"231 ST\",\"238 ST\",\"238 ST-NEREID AV\",\"241 ST-WAKEFIELD\",\"242 ST-VAN CORTLANDT PARK\",\"25 AV\",\"25 ST\",\"28 ST\",\"3 AV\",\"3 AV-138 ST\",\"3 AV-149 ST\",\"30 AV\",\"33 ST\",\"34 ST-HERALD SQ\",\"34 ST-HUDSON YD\",\"34 ST-PENN STATION\",\"36 ST\",\"4 AV-9 ST\",\"40 ST\",\"42 ST-BRYANT PK\",\"42 ST-GRAND CENTRAL\",\"42 ST-PORT AUTH\",\"42 ST-TIMES SQUARE\",\"45 ST\",\"46 ST\",\"47-50 STS/ROCKEFELLER CTR\",\"49 ST\",\"5 AV\",\"50 ST\",\"51 ST\",\"53 ST\",\"55 ST\",\"57 ST\",\"59 ST\",\"59 ST-COLUMBUS CIRCLE\",\"6 AV\",\"61 ST-WOODSIDE\",\"63 DR-REGO PARK\",\"66 ST-LINCOLN CENTER\",\"67 AV\",\"68 ST-HUNTER COLLEGE\",\"69 ST\",\"7 AV\",\"72 ST\",\"74 ST-BROADWAY\",\"75 AV\",\"75 ST-ELDERTS LANE\",\"77 ST\",\"79 ST\",\"8 AV\",\"8 ST-NYU\",\"80 ST\",\"81 ST-MUSEUM\",\"82 ST-JACKSON HEIGHTS\",\"85 ST-FOREST PKWY\",\"86 ST\",\"86 ST-2 AV\",\"9 AV\",\"9 ST\",\"90 ST-ELMHURST AV\",\"96 ST\",\"96 ST-2 AV\",\"ALABAMA AV\",\"ALLERTON AV\",\"AQUEDUCT-NORTH CONDUIT AV\",\"AQUEDUCT-RACETRACK\",\"ASTOR PLACE\",\"ATLANTIC AV\",\"AV H\",\"AV I\",\"AV J\",\"AV M\",\"AV N\",\"AV P\",\"AV U\",\"AV X\",\"BAY 50 ST\",\"BAY PKWY\",\"BAYCHESTER AV\",\"BEACH 25 ST\",\"BEACH 36 ST\",\"BEACH 44 ST\",\"BEACH 60 ST\",\"BEACH 67 ST\",\"BEACH 90 ST\",\"BEACH 98 ST\",\"BEDFORD AV\",\"BEDFORD PK BLVD\",\"BEDFORD-NOSTRAND AVS\",\"BERGEN ST\",\"BEVERLEY RD\",\"BEVERLY RD\",\"BLEECKER ST\",\"BOROUGH HALL\",\"BOTANIC GARDEN\",\"BOWERY\",\"BOWLING GREEN\",\"BRIARWOOD\",\"BRIGHTON BEACH\",\"BROAD CHANNEL\",\"BROAD ST\",\"BROADWAY\",\"BROADWAY/LAFAYETTE\",\"BROOK AV\",\"BROOKLYN BRIDGE-CITY HALL\",\"BURKE AV\",\"BURNSIDE AV\",\"BUSHWICK AV-ABERDEEN ST\",\"CANAL ST\",\"CARROLL ST\",\"CASTLE HILL AV\",\"CENTRAL AV\",\"CHAMBERS ST\",\"CHAUNCEY ST\",\"CHRISTOPHER ST-SHERIDAN SQ\",\"CHURCH AV\",\"CITY HALL\",\"CLARK ST\",\"CLASSON AV\",\"CLEVELAND ST\",\"CLINTON-WASHINGTON AVS\",\"CORTELYOU RD\",\"CORTLANDT ST\",\"COURT SQUARE\",\"CRESCENT ST\",\"CYPRESS AV\",\"CYPRESS HILLS\",\"DEKALB AV\",\"DELANCEY ST\",\"DITMAS AV\",\"E 143/ST MARY'S\",\"E 149 ST\",\"EAST 105 ST\",\"EAST BROADWAY\",\"EAST TREMONT AV-WEST FARMS S\",\"EAST TREMONT AV-WESTCHESTER S\",\"EASTERN PKWY-BROOKLYN MUSEUM\",\"ELDER AV\",\"ELMHURST AV\",\"EUCLID AV\",\"FAR ROCKAWAY-MOTT AV\",\"FLATBUSH AV-BC\",\"FLUSHING AV\",\"FORDHAM RD\",\"FORT HAMILTON PKWY\",\"FRANKLIN AV\",\"FRANKLIN ST\",\"FREEMAN ST\",\"FRESH POND RD\",\"FULTON ST\",\"GATES AV\",\"GRAHAM AV\",\"GRAND ARMY PLAZA\",\"GRAND AV-NEWTON\",\"GRAND ST\",\"GRANT AV\",\"GREENPOINT AV\",\"GUN HILL RD\",\"HALSEY ST\",\"HEWES ST\",\"HIGH ST\",\"HOUSTON ST\",\"HOWARD BEACH-JFK AIRPORT\",\"HOYT ST\",\"HOYT-SCHERMERHORN\",\"HUNTERS PT AV\",\"HUNTS POINT AV\",\"INTERVALE AV\",\"JACKSON AV\",\"JAMAICA CENTER\",\"JAMAICA-VAN WYCK\",\"JEFFERSON ST\",\"JUNCTION BLVD\",\"JUNIUS ST\",\"KINGS HWY\",\"KINGSBRIDGE RD\",\"KINGSTON AV\",\"KINGSTON-THROOP AVS\",\"KNICKERBOCKER AV\",\"KOSCIUSZKO ST\",\"LAFAYETTE AV\",\"LIBERTY AV\",\"LIVONIA AV\",\"LONGWOOD AV\",\"LORIMER ST\",\"MARCY AV\",\"METROPOLITAN AV\",\"MIDDLETOWN RD\",\"MONTROSE AV\",\"MORGAN AV\",\"MORRIS PARK\",\"MOSHOLU PKWY\",\"MT EDEN AV\",\"MYRTLE AV\",\"MYRTLE-WILLOUGHBY AVS\",\"MYRTLE/WYCKOFF AVS\",\"NASSAU AV\",\"NECK RD\",\"NEPTUNE AV\",\"NEVINS ST\",\"NEW LOTS AV\",\"NEW UTRECHT AV\",\"NEWKIRK AV\",\"NOSTRAND AV\",\"OCEAN PKWY\",\"PARK PLACE\",\"PARKSIDE AV\",\"PARSONS BLVD\",\"PELHAM BAY PARK\",\"PELHAM PKWY\",\"PENNSYLVANIA AV\",\"PRESIDENT ST\",\"PRINCE ST\",\"PROSPECT AV\",\"PROSPECT PARK\",\"QUEENS PLAZA\",\"QUEENSBORO PLZ\",\"RALPH AV\",\"RECTOR ST\",\"ROCKAWAY AV\",\"ROCKAWAY BLVD\",\"ROOSEVELT ISLAND\",\"SARATOGA AV\",\"SHEEPSHEAD BAY\",\"SHEPHERD AV\",\"SIMPSON ST\",\"SMITH-9 ST\",\"SOUNDVIEW AV\",\"SOUTH FERRY\",\"SPRING ST\",\"ST LAWRENCE AV\",\"STEINWAY ST\",\"STILLWELL AV-CONEY ISLAND\",\"SUTPHIN BLVD\",\"SUTPHIN BLVD-ARCHER AV\",\"SUTTER AV\",\"SUTTER AV-RUTLAND RD\",\"TREMONT AV\",\"UNION ST\",\"UTICA AV\",\"UTICA AV-CROWN HEIGHTS\",\"VAN SICLEN AV\",\"VERNON BLVD-JACKSON AV\",\"W 4 ST-WASH SQ\",\"WALL ST\",\"WEST 8 ST-NY AQUARIUM\",\"WHITEHALL ST-SOUTH FERRY\",\"WILLETS POINT-SHEA STADIUM\",\"WILSON AV\",\"WINTHROP ST\",\"WOODHAVEN BLVD\",\"WOODLAWN\",\"ZEREGA AV\"],\"x\":[680169.0,3367510.0,176670.0,294683.0,6203183.0,1058499.0,528213.0,2351049.0,1541634.0,1208517.0,404845.0,292971.0,249925.0,634484.0,1737419.0,300532.0,342680.0,71152.0,221318.0,132429.0,115598.0,157477.0,176938.0,104665.0,2650800.0,290101.0,393702.0,461799.0,261037.0,828107.0,153866.0,286365.0,261384.0,115731.0,1102488.0,550513.0,853935.0,335159.0,1964581.0,1771949.0,353798.0,459837.0,963291.0,831115.0,254910.0,417180.0,180680.0,1383197.0,226207.0,230531.0,237349.0,116559.0,822381.0,1811516.0,478792.0,403824.0,257412.0,695665.0,529281.0,781051.0,2069856.0,669286.0,187933.0,548572.0],\"y\":[498,3356,115,224,4523,902,358,1639,1213,1108,418,183,157,481,1715,252,213,72,141,104,94,149,166,73,2132,182,247,311,172,581,117,265,204,77,840,437,570,299,1513,1254,292,341,974,530,236,375,161,1184,164,239,159,77,555,1515,309,275,171,624,386,702,2058,549,151,384],\"type\":\"scatter\"},{\"marker\":{\"color\":\"lightgray\",\"line\":{\"width\":1},\"size\":5},\"mode\":\"markers\",\"name\":\"Normal\",\"text\":[\"1 AV\",\"103 ST\",\"103 ST-CORONA PLAZA\",\"104 ST\",\"110 ST\",\"110 ST-CATHEDRAL PKWY\",\"110 ST-CENTRAL PARK NORTH\",\"111 ST\",\"116 ST\",\"116 ST-COLUMBIA UNIVERSITY\",\"121 ST\",\"125 ST\",\"135 ST\",\"137 ST-CITY COLLEGE\",\"138 ST-GRAND CONCOURSE\",\"14 ST\",\"14 ST-UNION SQUARE\",\"145 ST\",\"148 ST-HARLEM\",\"149 ST-GRAND CONCOURSE\",\"15 ST-PROSPECT PARK\",\"155 ST\",\"157 ST\",\"161 ST-YANKEE STADIUM\",\"163 ST-AMSTERDAM AV\",\"167 ST\",\"168 ST\",\"169 ST\",\"170 ST\",\"174-175 STS\",\"175 ST\",\"176 ST\",\"179 ST-JAMAICA\",\"18 AV\",\"18 ST\",\"181 ST\",\"182-183 STS\",\"183 ST\",\"190 ST\",\"2 AV\",\"20 AV\",\"200 ST-DYCKMAN ST\",\"205 ST-NORWOOD\",\"207 ST\",\"207 ST-INWOOD\",\"21 ST\",\"21 ST-QUEENSBRIDGE\",\"225 ST\",\"225 ST-MARBLE HILL\",\"23 ST\",\"231 ST\",\"238 ST\",\"238 ST-NEREID AV\",\"241 ST-WAKEFIELD\",\"242 ST-VAN CORTLANDT PARK\",\"25 AV\",\"25 ST\",\"28 ST\",\"3 AV\",\"3 AV-138 ST\",\"3 AV-149 ST\",\"30 AV\",\"33 ST\",\"34 ST-HERALD SQ\",\"34 ST-HUDSON YD\",\"34 ST-PENN STATION\",\"36 ST\",\"4 AV-9 ST\",\"40 ST\",\"42 ST-BRYANT PK\",\"42 ST-GRAND CENTRAL\",\"42 ST-PORT AUTH\",\"42 ST-TIMES SQUARE\",\"45 ST\",\"46 ST\",\"47-50 STS/ROCKEFELLER CTR\",\"49 ST\",\"5 AV\",\"50 ST\",\"51 ST\",\"53 ST\",\"55 ST\",\"57 ST\",\"59 ST\",\"59 ST-COLUMBUS CIRCLE\",\"6 AV\",\"61 ST-WOODSIDE\",\"63 DR-REGO PARK\",\"66 ST-LINCOLN CENTER\",\"67 AV\",\"68 ST-HUNTER COLLEGE\",\"69 ST\",\"7 AV\",\"72 ST\",\"74 ST-BROADWAY\",\"75 AV\",\"75 ST-ELDERTS LANE\",\"77 ST\",\"79 ST\",\"8 AV\",\"8 ST-NYU\",\"80 ST\",\"81 ST-MUSEUM\",\"82 ST-JACKSON HEIGHTS\",\"85 ST-FOREST PKWY\",\"86 ST\",\"86 ST-2 AV\",\"9 AV\",\"9 ST\",\"90 ST-ELMHURST AV\",\"96 ST\",\"96 ST-2 AV\",\"ALABAMA AV\",\"ALLERTON AV\",\"AQUEDUCT-NORTH CONDUIT AV\",\"AQUEDUCT-RACETRACK\",\"ASTOR PLACE\",\"ATLANTIC AV\",\"AV H\",\"AV I\",\"AV J\",\"AV M\",\"AV N\",\"AV P\",\"AV U\",\"AV X\",\"BAY 50 ST\",\"BAY PKWY\",\"BAYCHESTER AV\",\"BEACH 25 ST\",\"BEACH 36 ST\",\"BEACH 44 ST\",\"BEACH 60 ST\",\"BEACH 67 ST\",\"BEACH 90 ST\",\"BEACH 98 ST\",\"BEDFORD AV\",\"BEDFORD PK BLVD\",\"BEDFORD-NOSTRAND AVS\",\"BERGEN ST\",\"BEVERLEY RD\",\"BEVERLY RD\",\"BLEECKER ST\",\"BOROUGH HALL\",\"BOTANIC GARDEN\",\"BOWERY\",\"BOWLING GREEN\",\"BRIARWOOD\",\"BRIGHTON BEACH\",\"BROAD CHANNEL\",\"BROAD ST\",\"BROADWAY\",\"BROADWAY/LAFAYETTE\",\"BROOK AV\",\"BROOKLYN BRIDGE-CITY HALL\",\"BURKE AV\",\"BURNSIDE AV\",\"BUSHWICK AV-ABERDEEN ST\",\"CANAL ST\",\"CARROLL ST\",\"CASTLE HILL AV\",\"CENTRAL AV\",\"CHAMBERS ST\",\"CHAUNCEY ST\",\"CHRISTOPHER ST-SHERIDAN SQ\",\"CHURCH AV\",\"CITY HALL\",\"CLARK ST\",\"CLASSON AV\",\"CLEVELAND ST\",\"CLINTON-WASHINGTON AVS\",\"CORTELYOU RD\",\"CORTLANDT ST\",\"COURT SQUARE\",\"CRESCENT ST\",\"CYPRESS AV\",\"CYPRESS HILLS\",\"DEKALB AV\",\"DELANCEY ST\",\"DITMAS AV\",\"E 143/ST MARY'S\",\"E 149 ST\",\"EAST 105 ST\",\"EAST BROADWAY\",\"EAST TREMONT AV-WEST FARMS S\",\"EAST TREMONT AV-WESTCHESTER S\",\"EASTERN PKWY-BROOKLYN MUSEUM\",\"ELDER AV\",\"ELMHURST AV\",\"EUCLID AV\",\"FAR ROCKAWAY-MOTT AV\",\"FLATBUSH AV-BC\",\"FLUSHING AV\",\"FORDHAM RD\",\"FORT HAMILTON PKWY\",\"FRANKLIN AV\",\"FRANKLIN ST\",\"FREEMAN ST\",\"FRESH POND RD\",\"FULTON ST\",\"GATES AV\",\"GRAHAM AV\",\"GRAND ARMY PLAZA\",\"GRAND AV-NEWTON\",\"GRAND ST\",\"GRANT AV\",\"GREENPOINT AV\",\"GUN HILL RD\",\"HALSEY ST\",\"HEWES ST\",\"HIGH ST\",\"HOUSTON ST\",\"HOWARD BEACH-JFK AIRPORT\",\"HOYT ST\",\"HOYT-SCHERMERHORN\",\"HUNTERS PT AV\",\"HUNTS POINT AV\",\"INTERVALE AV\",\"JACKSON AV\",\"JAMAICA CENTER\",\"JAMAICA-VAN WYCK\",\"JEFFERSON ST\",\"JUNCTION BLVD\",\"JUNIUS ST\",\"KINGS HWY\",\"KINGSBRIDGE RD\",\"KINGSTON AV\",\"KINGSTON-THROOP AVS\",\"KNICKERBOCKER AV\",\"KOSCIUSZKO ST\",\"LAFAYETTE AV\",\"LIBERTY AV\",\"LIVONIA AV\",\"LONGWOOD AV\",\"LORIMER ST\",\"MARCY AV\",\"METROPOLITAN AV\",\"MIDDLETOWN RD\",\"MONTROSE AV\",\"MORGAN AV\",\"MORRIS PARK\",\"MOSHOLU PKWY\",\"MT EDEN AV\",\"MYRTLE AV\",\"MYRTLE-WILLOUGHBY AVS\",\"MYRTLE/WYCKOFF AVS\",\"NASSAU AV\",\"NECK RD\",\"NEPTUNE AV\",\"NEVINS ST\",\"NEW LOTS AV\",\"NEW UTRECHT AV\",\"NEWKIRK AV\",\"NOSTRAND AV\",\"OCEAN PKWY\",\"PARK PLACE\",\"PARKSIDE AV\",\"PARSONS BLVD\",\"PELHAM BAY PARK\",\"PELHAM PKWY\",\"PENNSYLVANIA AV\",\"PRESIDENT ST\",\"PRINCE ST\",\"PROSPECT AV\",\"PROSPECT PARK\",\"QUEENS PLAZA\",\"QUEENSBORO PLZ\",\"RALPH AV\",\"RECTOR ST\",\"ROCKAWAY AV\",\"ROCKAWAY BLVD\",\"ROOSEVELT ISLAND\",\"SARATOGA AV\",\"SHEEPSHEAD BAY\",\"SHEPHERD AV\",\"SIMPSON ST\",\"SMITH-9 ST\",\"SOUNDVIEW AV\",\"SOUTH FERRY\",\"SPRING ST\",\"ST LAWRENCE AV\",\"STEINWAY ST\",\"STILLWELL AV-CONEY ISLAND\",\"SUTPHIN BLVD\",\"SUTPHIN BLVD-ARCHER AV\",\"SUTTER AV\",\"SUTTER AV-RUTLAND RD\",\"TREMONT AV\",\"UNION ST\",\"UTICA AV\",\"UTICA AV-CROWN HEIGHTS\",\"VAN SICLEN AV\",\"VERNON BLVD-JACKSON AV\",\"W 4 ST-WASH SQ\",\"WALL ST\",\"WEST 8 ST-NY AQUARIUM\",\"WHITEHALL ST-SOUTH FERRY\",\"WILLETS POINT-SHEA STADIUM\",\"WILSON AV\",\"WINTHROP ST\",\"WOODHAVEN BLVD\",\"WOODLAWN\",\"ZEREGA AV\"],\"x\":[1298502.0,2420919.0,1659535.0,1630008.0,2355801.0,1798519.0,1051527.0,8168533.0,2997839.0,300309.0,520917.0,980005.0,360470.0,1439775.0,639679.0,1089758.0,457067.0,1647750.0,1745289.0,392752.0,468858.0,1417962.0,724589.0,1119275.0,684550.0,626434.0,805883.0,142021.0,936934.0,292971.0,413882.0,341116.0,249925.0,594361.0,403799.0,307156.0,3685766.0,416254.0,13268516.0,1465576.0,12463012.0,8333713.0,8106409.0,680612.0,1761825.0,1201043.0,4079983.0,691484.0,155161.0,1290590.0,5259027.0,7392924.0,412615.0,1915359.0,3123232.0,4373026.0,271143.0,284368.0,2864298.0,342680.0,1301652.0,291386.0,6933907.0,453061.0,5111772.0,418511.0,3822836.0,306837.0,160486.0,444715.0,433756.0,199575.0,1024558.0,218359.0,221318.0,1283262.0,309208.0,725386.0,1256123.0,279589.0,329508.0,1375020.0,290101.0,370485.0,393702.0,1504217.0,6691363.0,956300.0,503174.0,3187693.0,435550.0,458750.0,466803.0,230841.0,1034242.0,494286.0,350320.0,3018636.0,319850.0,382701.0,260243.0,472674.0,325107.0,518967.0,1510900.0,1061920.0,1280716.0,442505.0,600506.0,610892.0,881492.0,1108442.0,304570.0,953337.0,414669.0,582709.0,831115.0,2679448.0,353073.0,2212092.0,395205.0,689382.0,476096.0,441428.0,907263.0,1511204.0,155280.0,484661.0,529657.0,184744.0,651779.0,406901.0,1025543.0,484287.0,1483620.0,353507.0,412051.0,543424.0,267681.0,361131.0,485655.0,559147.0,567013.0,934780.0,355199.0,306752.0,1023607.0,846247.0,1180355.0,1320872.0,478792.0,605858.0,371377.0,513411.0,332695.0,346243.0,1942521.0,1313628.0,4451116.0,483113.0,334003.0,547041.0,207712.0],\"y\":[415,1039,443,547,478,978,425,2465,1502,157,127,273,183,687,260,324,225,363,585,219,272,519,201,347,421,258,327,38,190,183,111,79,157,282,82,121,922,140,3851,587,3134,3734,3151,338,521,616,825,163,45,561,1703,2330,211,403,637,1151,131,91,692,213,263,62,1850,99,1558,237,1172,69,54,137,123,41,252,61,141,260,153,244,336,112,87,326,182,187,247,776,2406,198,137,1090,159,117,114,132,428,129,187,1014,103,197,154,165,174,216,484,450,265,94,286,203,461,489,119,250,198,161,530,1497,129,458,167,355,244,197,537,479,73,153,219,94,218,220,611,174,456,80,186,310,113,216,230,313,319,382,195,173,595,511,384,509,309,283,223,219,177,186,921,811,1387,177,172,191,69],\"type\":\"scatter\"},{\"marker\":{\"color\":\"#6ccfb2\",\"line\":{\"width\":1},\"opacity\":0.5,\"size\":5},\"mode\":\"markers\",\"name\":\"Relatively safe\",\"text\":[\"1 AV\",\"103 ST\",\"103 ST-CORONA PLAZA\",\"104 ST\",\"110 ST\",\"110 ST-CATHEDRAL PKWY\",\"110 ST-CENTRAL PARK NORTH\",\"111 ST\",\"116 ST\",\"116 ST-COLUMBIA UNIVERSITY\",\"121 ST\",\"125 ST\",\"135 ST\",\"137 ST-CITY COLLEGE\",\"138 ST-GRAND CONCOURSE\",\"14 ST\",\"14 ST-UNION SQUARE\",\"145 ST\",\"148 ST-HARLEM\",\"149 ST-GRAND CONCOURSE\",\"15 ST-PROSPECT PARK\",\"155 ST\",\"157 ST\",\"161 ST-YANKEE STADIUM\",\"163 ST-AMSTERDAM AV\",\"167 ST\",\"168 ST\",\"169 ST\",\"170 ST\",\"174-175 STS\",\"175 ST\",\"176 ST\",\"179 ST-JAMAICA\",\"18 AV\",\"18 ST\",\"181 ST\",\"182-183 STS\",\"183 ST\",\"190 ST\",\"2 AV\",\"20 AV\",\"200 ST-DYCKMAN ST\",\"205 ST-NORWOOD\",\"207 ST\",\"207 ST-INWOOD\",\"21 ST\",\"21 ST-QUEENSBRIDGE\",\"225 ST\",\"225 ST-MARBLE HILL\",\"23 ST\",\"231 ST\",\"238 ST\",\"238 ST-NEREID AV\",\"241 ST-WAKEFIELD\",\"242 ST-VAN CORTLANDT PARK\",\"25 AV\",\"25 ST\",\"28 ST\",\"3 AV\",\"3 AV-138 ST\",\"3 AV-149 ST\",\"30 AV\",\"33 ST\",\"34 ST-HERALD SQ\",\"34 ST-HUDSON YD\",\"34 ST-PENN STATION\",\"36 ST\",\"4 AV-9 ST\",\"40 ST\",\"42 ST-BRYANT PK\",\"42 ST-GRAND CENTRAL\",\"42 ST-PORT AUTH\",\"42 ST-TIMES SQUARE\",\"45 ST\",\"46 ST\",\"47-50 STS/ROCKEFELLER CTR\",\"49 ST\",\"5 AV\",\"50 ST\",\"51 ST\",\"53 ST\",\"55 ST\",\"57 ST\",\"59 ST\",\"59 ST-COLUMBUS CIRCLE\",\"6 AV\",\"61 ST-WOODSIDE\",\"63 DR-REGO PARK\",\"66 ST-LINCOLN CENTER\",\"67 AV\",\"68 ST-HUNTER COLLEGE\",\"69 ST\",\"7 AV\",\"72 ST\",\"74 ST-BROADWAY\",\"75 AV\",\"75 ST-ELDERTS LANE\",\"77 ST\",\"79 ST\",\"8 AV\",\"8 ST-NYU\",\"80 ST\",\"81 ST-MUSEUM\",\"82 ST-JACKSON HEIGHTS\",\"85 ST-FOREST PKWY\",\"86 ST\",\"86 ST-2 AV\",\"9 AV\",\"9 ST\",\"90 ST-ELMHURST AV\",\"96 ST\",\"96 ST-2 AV\",\"ALABAMA AV\",\"ALLERTON AV\",\"AQUEDUCT-NORTH CONDUIT AV\",\"AQUEDUCT-RACETRACK\",\"ASTOR PLACE\",\"ATLANTIC AV\",\"AV H\",\"AV I\",\"AV J\",\"AV M\",\"AV N\",\"AV P\",\"AV U\",\"AV X\",\"BAY 50 ST\",\"BAY PKWY\",\"BAYCHESTER AV\",\"BEACH 25 ST\",\"BEACH 36 ST\",\"BEACH 44 ST\",\"BEACH 60 ST\",\"BEACH 67 ST\",\"BEACH 90 ST\",\"BEACH 98 ST\",\"BEDFORD AV\",\"BEDFORD PK BLVD\",\"BEDFORD-NOSTRAND AVS\",\"BERGEN ST\",\"BEVERLEY RD\",\"BEVERLY RD\",\"BLEECKER ST\",\"BOROUGH HALL\",\"BOTANIC GARDEN\",\"BOWERY\",\"BOWLING GREEN\",\"BRIARWOOD\",\"BRIGHTON BEACH\",\"BROAD CHANNEL\",\"BROAD ST\",\"BROADWAY\",\"BROADWAY/LAFAYETTE\",\"BROOK AV\",\"BROOKLYN BRIDGE-CITY HALL\",\"BURKE AV\",\"BURNSIDE AV\",\"BUSHWICK AV-ABERDEEN ST\",\"CANAL ST\",\"CARROLL ST\",\"CASTLE HILL AV\",\"CENTRAL AV\",\"CHAMBERS ST\",\"CHAUNCEY ST\",\"CHRISTOPHER ST-SHERIDAN SQ\",\"CHURCH AV\",\"CITY HALL\",\"CLARK ST\",\"CLASSON AV\",\"CLEVELAND ST\",\"CLINTON-WASHINGTON AVS\",\"CORTELYOU RD\",\"CORTLANDT ST\",\"COURT SQUARE\",\"CRESCENT ST\",\"CYPRESS AV\",\"CYPRESS HILLS\",\"DEKALB AV\",\"DELANCEY ST\",\"DITMAS AV\",\"E 143/ST MARY'S\",\"E 149 ST\",\"EAST 105 ST\",\"EAST BROADWAY\",\"EAST TREMONT AV-WEST FARMS S\",\"EAST TREMONT AV-WESTCHESTER S\",\"EASTERN PKWY-BROOKLYN MUSEUM\",\"ELDER AV\",\"ELMHURST AV\",\"EUCLID AV\",\"FAR ROCKAWAY-MOTT AV\",\"FLATBUSH AV-BC\",\"FLUSHING AV\",\"FORDHAM RD\",\"FORT HAMILTON PKWY\",\"FRANKLIN AV\",\"FRANKLIN ST\",\"FREEMAN ST\",\"FRESH POND RD\",\"FULTON ST\",\"GATES AV\",\"GRAHAM AV\",\"GRAND ARMY PLAZA\",\"GRAND AV-NEWTON\",\"GRAND ST\",\"GRANT AV\",\"GREENPOINT AV\",\"GUN HILL RD\",\"HALSEY ST\",\"HEWES ST\",\"HIGH ST\",\"HOUSTON ST\",\"HOWARD BEACH-JFK AIRPORT\",\"HOYT ST\",\"HOYT-SCHERMERHORN\",\"HUNTERS PT AV\",\"HUNTS POINT AV\",\"INTERVALE AV\",\"JACKSON AV\",\"JAMAICA CENTER\",\"JAMAICA-VAN WYCK\",\"JEFFERSON ST\",\"JUNCTION BLVD\",\"JUNIUS ST\",\"KINGS HWY\",\"KINGSBRIDGE RD\",\"KINGSTON AV\",\"KINGSTON-THROOP AVS\",\"KNICKERBOCKER AV\",\"KOSCIUSZKO ST\",\"LAFAYETTE AV\",\"LIBERTY AV\",\"LIVONIA AV\",\"LONGWOOD AV\",\"LORIMER ST\",\"MARCY AV\",\"METROPOLITAN AV\",\"MIDDLETOWN RD\",\"MONTROSE AV\",\"MORGAN AV\",\"MORRIS PARK\",\"MOSHOLU PKWY\",\"MT EDEN AV\",\"MYRTLE AV\",\"MYRTLE-WILLOUGHBY AVS\",\"MYRTLE/WYCKOFF AVS\",\"NASSAU AV\",\"NECK RD\",\"NEPTUNE AV\",\"NEVINS ST\",\"NEW LOTS AV\",\"NEW UTRECHT AV\",\"NEWKIRK AV\",\"NOSTRAND AV\",\"OCEAN PKWY\",\"PARK PLACE\",\"PARKSIDE AV\",\"PARSONS BLVD\",\"PELHAM BAY PARK\",\"PELHAM PKWY\",\"PENNSYLVANIA AV\",\"PRESIDENT ST\",\"PRINCE ST\",\"PROSPECT AV\",\"PROSPECT PARK\",\"QUEENS PLAZA\",\"QUEENSBORO PLZ\",\"RALPH AV\",\"RECTOR ST\",\"ROCKAWAY AV\",\"ROCKAWAY BLVD\",\"ROOSEVELT ISLAND\",\"SARATOGA AV\",\"SHEEPSHEAD BAY\",\"SHEPHERD AV\",\"SIMPSON ST\",\"SMITH-9 ST\",\"SOUNDVIEW AV\",\"SOUTH FERRY\",\"SPRING ST\",\"ST LAWRENCE AV\",\"STEINWAY ST\",\"STILLWELL AV-CONEY ISLAND\",\"SUTPHIN BLVD\",\"SUTPHIN BLVD-ARCHER AV\",\"SUTTER AV\",\"SUTTER AV-RUTLAND RD\",\"TREMONT AV\",\"UNION ST\",\"UTICA AV\",\"UTICA AV-CROWN HEIGHTS\",\"VAN SICLEN AV\",\"VERNON BLVD-JACKSON AV\",\"W 4 ST-WASH SQ\",\"WALL ST\",\"WEST 8 ST-NY AQUARIUM\",\"WHITEHALL ST-SOUTH FERRY\",\"WILLETS POINT-SHEA STADIUM\",\"WILSON AV\",\"WINTHROP ST\",\"WOODHAVEN BLVD\",\"WOODLAWN\",\"ZEREGA AV\"],\"x\":[332039.0,1299929.0,1162672.0,898144.0,410531.0,11213115.0,760829.0,1440802.0,4371297.0,9972776.0,1777972.0,815686.0,3421956.0,627240.0,4707758.0,2406527.0,1417385.0,1217526.0,1849170.0,683489.0,422763.0,2478938.0,1694523.0,1404177.0,1110233.0,2134165.0,1243791.0,1369433.0,1589481.0,150724.0,1378110.0,237973.0,2003184.0,1850197.0,2726608.0,1823954.0,601964.0,2035286.0,2095880.0,421855.0,5555821.0,1342173.0,1542335.0,1339839.0,2748748.0,983533.0,495458.0,8119944.0,688493.0,1477038.0,2882157.0,832859.0,1137964.0,495294.0,1156957.0,2100457.0,439275.0,1881076.0,1430286.0,1065025.0,1242322.0,615399.0,1187875.0,2233183.0,2050194.0,1171056.0,581737.0,1228739.0,3599243.0,1359118.0,1998177.0],\"y\":[65,166,226,100,72,1443,124,101,604,1501,94,114,643,119,540,457,248,130,342,126,76,486,272,160,177,35,147,172,81,19,244,47,359,204,393,317,95,201,416,71,606,227,189,139,469,165,48,1097,131,158,465,71,102,48,203,340,75,235,111,166,163,73,202,446,301,176,100,93,267,181,326],\"type\":\"scatter\"}],                        {\"template\":{\"data\":{\"barpolar\":[{\"marker\":{\"line\":{\"color\":\"white\",\"width\":0.5},\"pattern\":{\"fillmode\":\"overlay\",\"size\":10,\"solidity\":0.2}},\"type\":\"barpolar\"}],\"bar\":[{\"error_x\":{\"color\":\"rgb(36,36,36)\"},\"error_y\":{\"color\":\"rgb(36,36,36)\"},\"marker\":{\"line\":{\"color\":\"white\",\"width\":0.5},\"pattern\":{\"fillmode\":\"overlay\",\"size\":10,\"solidity\":0.2}},\"type\":\"bar\"}],\"carpet\":[{\"aaxis\":{\"endlinecolor\":\"rgb(36,36,36)\",\"gridcolor\":\"white\",\"linecolor\":\"white\",\"minorgridcolor\":\"white\",\"startlinecolor\":\"rgb(36,36,36)\"},\"baxis\":{\"endlinecolor\":\"rgb(36,36,36)\",\"gridcolor\":\"white\",\"linecolor\":\"white\",\"minorgridcolor\":\"white\",\"startlinecolor\":\"rgb(36,36,36)\"},\"type\":\"carpet\"}],\"choropleth\":[{\"colorbar\":{\"outlinewidth\":1,\"tickcolor\":\"rgb(36,36,36)\",\"ticks\":\"outside\"},\"type\":\"choropleth\"}],\"contourcarpet\":[{\"colorbar\":{\"outlinewidth\":1,\"tickcolor\":\"rgb(36,36,36)\",\"ticks\":\"outside\"},\"type\":\"contourcarpet\"}],\"contour\":[{\"colorbar\":{\"outlinewidth\":1,\"tickcolor\":\"rgb(36,36,36)\",\"ticks\":\"outside\"},\"colorscale\":[[0.0,\"#440154\"],[0.1111111111111111,\"#482878\"],[0.2222222222222222,\"#3e4989\"],[0.3333333333333333,\"#31688e\"],[0.4444444444444444,\"#26828e\"],[0.5555555555555556,\"#1f9e89\"],[0.6666666666666666,\"#35b779\"],[0.7777777777777778,\"#6ece58\"],[0.8888888888888888,\"#b5de2b\"],[1.0,\"#fde725\"]],\"type\":\"contour\"}],\"heatmapgl\":[{\"colorbar\":{\"outlinewidth\":1,\"tickcolor\":\"rgb(36,36,36)\",\"ticks\":\"outside\"},\"colorscale\":[[0.0,\"#440154\"],[0.1111111111111111,\"#482878\"],[0.2222222222222222,\"#3e4989\"],[0.3333333333333333,\"#31688e\"],[0.4444444444444444,\"#26828e\"],[0.5555555555555556,\"#1f9e89\"],[0.6666666666666666,\"#35b779\"],[0.7777777777777778,\"#6ece58\"],[0.8888888888888888,\"#b5de2b\"],[1.0,\"#fde725\"]],\"type\":\"heatmapgl\"}],\"heatmap\":[{\"colorbar\":{\"outlinewidth\":1,\"tickcolor\":\"rgb(36,36,36)\",\"ticks\":\"outside\"},\"colorscale\":[[0.0,\"#440154\"],[0.1111111111111111,\"#482878\"],[0.2222222222222222,\"#3e4989\"],[0.3333333333333333,\"#31688e\"],[0.4444444444444444,\"#26828e\"],[0.5555555555555556,\"#1f9e89\"],[0.6666666666666666,\"#35b779\"],[0.7777777777777778,\"#6ece58\"],[0.8888888888888888,\"#b5de2b\"],[1.0,\"#fde725\"]],\"type\":\"heatmap\"}],\"histogram2dcontour\":[{\"colorbar\":{\"outlinewidth\":1,\"tickcolor\":\"rgb(36,36,36)\",\"ticks\":\"outside\"},\"colorscale\":[[0.0,\"#440154\"],[0.1111111111111111,\"#482878\"],[0.2222222222222222,\"#3e4989\"],[0.3333333333333333,\"#31688e\"],[0.4444444444444444,\"#26828e\"],[0.5555555555555556,\"#1f9e89\"],[0.6666666666666666,\"#35b779\"],[0.7777777777777778,\"#6ece58\"],[0.8888888888888888,\"#b5de2b\"],[1.0,\"#fde725\"]],\"type\":\"histogram2dcontour\"}],\"histogram2d\":[{\"colorbar\":{\"outlinewidth\":1,\"tickcolor\":\"rgb(36,36,36)\",\"ticks\":\"outside\"},\"colorscale\":[[0.0,\"#440154\"],[0.1111111111111111,\"#482878\"],[0.2222222222222222,\"#3e4989\"],[0.3333333333333333,\"#31688e\"],[0.4444444444444444,\"#26828e\"],[0.5555555555555556,\"#1f9e89\"],[0.6666666666666666,\"#35b779\"],[0.7777777777777778,\"#6ece58\"],[0.8888888888888888,\"#b5de2b\"],[1.0,\"#fde725\"]],\"type\":\"histogram2d\"}],\"histogram\":[{\"marker\":{\"line\":{\"color\":\"white\",\"width\":0.6}},\"type\":\"histogram\"}],\"mesh3d\":[{\"colorbar\":{\"outlinewidth\":1,\"tickcolor\":\"rgb(36,36,36)\",\"ticks\":\"outside\"},\"type\":\"mesh3d\"}],\"parcoords\":[{\"line\":{\"colorbar\":{\"outlinewidth\":1,\"tickcolor\":\"rgb(36,36,36)\",\"ticks\":\"outside\"}},\"type\":\"parcoords\"}],\"pie\":[{\"automargin\":true,\"type\":\"pie\"}],\"scatter3d\":[{\"line\":{\"colorbar\":{\"outlinewidth\":1,\"tickcolor\":\"rgb(36,36,36)\",\"ticks\":\"outside\"}},\"marker\":{\"colorbar\":{\"outlinewidth\":1,\"tickcolor\":\"rgb(36,36,36)\",\"ticks\":\"outside\"}},\"type\":\"scatter3d\"}],\"scattercarpet\":[{\"marker\":{\"colorbar\":{\"outlinewidth\":1,\"tickcolor\":\"rgb(36,36,36)\",\"ticks\":\"outside\"}},\"type\":\"scattercarpet\"}],\"scattergeo\":[{\"marker\":{\"colorbar\":{\"outlinewidth\":1,\"tickcolor\":\"rgb(36,36,36)\",\"ticks\":\"outside\"}},\"type\":\"scattergeo\"}],\"scattergl\":[{\"marker\":{\"colorbar\":{\"outlinewidth\":1,\"tickcolor\":\"rgb(36,36,36)\",\"ticks\":\"outside\"}},\"type\":\"scattergl\"}],\"scattermapbox\":[{\"marker\":{\"colorbar\":{\"outlinewidth\":1,\"tickcolor\":\"rgb(36,36,36)\",\"ticks\":\"outside\"}},\"type\":\"scattermapbox\"}],\"scatterpolargl\":[{\"marker\":{\"colorbar\":{\"outlinewidth\":1,\"tickcolor\":\"rgb(36,36,36)\",\"ticks\":\"outside\"}},\"type\":\"scatterpolargl\"}],\"scatterpolar\":[{\"marker\":{\"colorbar\":{\"outlinewidth\":1,\"tickcolor\":\"rgb(36,36,36)\",\"ticks\":\"outside\"}},\"type\":\"scatterpolar\"}],\"scatter\":[{\"marker\":{\"colorbar\":{\"outlinewidth\":1,\"tickcolor\":\"rgb(36,36,36)\",\"ticks\":\"outside\"}},\"type\":\"scatter\"}],\"scatterternary\":[{\"marker\":{\"colorbar\":{\"outlinewidth\":1,\"tickcolor\":\"rgb(36,36,36)\",\"ticks\":\"outside\"}},\"type\":\"scatterternary\"}],\"surface\":[{\"colorbar\":{\"outlinewidth\":1,\"tickcolor\":\"rgb(36,36,36)\",\"ticks\":\"outside\"},\"colorscale\":[[0.0,\"#440154\"],[0.1111111111111111,\"#482878\"],[0.2222222222222222,\"#3e4989\"],[0.3333333333333333,\"#31688e\"],[0.4444444444444444,\"#26828e\"],[0.5555555555555556,\"#1f9e89\"],[0.6666666666666666,\"#35b779\"],[0.7777777777777778,\"#6ece58\"],[0.8888888888888888,\"#b5de2b\"],[1.0,\"#fde725\"]],\"type\":\"surface\"}],\"table\":[{\"cells\":{\"fill\":{\"color\":\"rgb(237,237,237)\"},\"line\":{\"color\":\"white\"}},\"header\":{\"fill\":{\"color\":\"rgb(217,217,217)\"},\"line\":{\"color\":\"white\"}},\"type\":\"table\"}]},\"layout\":{\"annotationdefaults\":{\"arrowhead\":0,\"arrowwidth\":1},\"autotypenumbers\":\"strict\",\"coloraxis\":{\"colorbar\":{\"outlinewidth\":1,\"tickcolor\":\"rgb(36,36,36)\",\"ticks\":\"outside\"}},\"colorscale\":{\"diverging\":[[0.0,\"rgb(103,0,31)\"],[0.1,\"rgb(178,24,43)\"],[0.2,\"rgb(214,96,77)\"],[0.3,\"rgb(244,165,130)\"],[0.4,\"rgb(253,219,199)\"],[0.5,\"rgb(247,247,247)\"],[0.6,\"rgb(209,229,240)\"],[0.7,\"rgb(146,197,222)\"],[0.8,\"rgb(67,147,195)\"],[0.9,\"rgb(33,102,172)\"],[1.0,\"rgb(5,48,97)\"]],\"sequential\":[[0.0,\"#440154\"],[0.1111111111111111,\"#482878\"],[0.2222222222222222,\"#3e4989\"],[0.3333333333333333,\"#31688e\"],[0.4444444444444444,\"#26828e\"],[0.5555555555555556,\"#1f9e89\"],[0.6666666666666666,\"#35b779\"],[0.7777777777777778,\"#6ece58\"],[0.8888888888888888,\"#b5de2b\"],[1.0,\"#fde725\"]],\"sequentialminus\":[[0.0,\"#440154\"],[0.1111111111111111,\"#482878\"],[0.2222222222222222,\"#3e4989\"],[0.3333333333333333,\"#31688e\"],[0.4444444444444444,\"#26828e\"],[0.5555555555555556,\"#1f9e89\"],[0.6666666666666666,\"#35b779\"],[0.7777777777777778,\"#6ece58\"],[0.8888888888888888,\"#b5de2b\"],[1.0,\"#fde725\"]]},\"colorway\":[\"#1F77B4\",\"#FF7F0E\",\"#2CA02C\",\"#D62728\",\"#9467BD\",\"#8C564B\",\"#E377C2\",\"#7F7F7F\",\"#BCBD22\",\"#17BECF\"],\"font\":{\"color\":\"rgb(36,36,36)\"},\"geo\":{\"bgcolor\":\"white\",\"lakecolor\":\"white\",\"landcolor\":\"white\",\"showlakes\":true,\"showland\":true,\"subunitcolor\":\"white\"},\"hoverlabel\":{\"align\":\"left\"},\"hovermode\":\"closest\",\"mapbox\":{\"style\":\"light\"},\"paper_bgcolor\":\"white\",\"plot_bgcolor\":\"white\",\"polar\":{\"angularaxis\":{\"gridcolor\":\"rgb(232,232,232)\",\"linecolor\":\"rgb(36,36,36)\",\"showgrid\":false,\"showline\":true,\"ticks\":\"outside\"},\"bgcolor\":\"white\",\"radialaxis\":{\"gridcolor\":\"rgb(232,232,232)\",\"linecolor\":\"rgb(36,36,36)\",\"showgrid\":false,\"showline\":true,\"ticks\":\"outside\"}},\"scene\":{\"xaxis\":{\"backgroundcolor\":\"white\",\"gridcolor\":\"rgb(232,232,232)\",\"gridwidth\":2,\"linecolor\":\"rgb(36,36,36)\",\"showbackground\":true,\"showgrid\":false,\"showline\":true,\"ticks\":\"outside\",\"zeroline\":false,\"zerolinecolor\":\"rgb(36,36,36)\"},\"yaxis\":{\"backgroundcolor\":\"white\",\"gridcolor\":\"rgb(232,232,232)\",\"gridwidth\":2,\"linecolor\":\"rgb(36,36,36)\",\"showbackground\":true,\"showgrid\":false,\"showline\":true,\"ticks\":\"outside\",\"zeroline\":false,\"zerolinecolor\":\"rgb(36,36,36)\"},\"zaxis\":{\"backgroundcolor\":\"white\",\"gridcolor\":\"rgb(232,232,232)\",\"gridwidth\":2,\"linecolor\":\"rgb(36,36,36)\",\"showbackground\":true,\"showgrid\":false,\"showline\":true,\"ticks\":\"outside\",\"zeroline\":false,\"zerolinecolor\":\"rgb(36,36,36)\"}},\"shapedefaults\":{\"fillcolor\":\"black\",\"line\":{\"width\":0},\"opacity\":0.3},\"ternary\":{\"aaxis\":{\"gridcolor\":\"rgb(232,232,232)\",\"linecolor\":\"rgb(36,36,36)\",\"showgrid\":false,\"showline\":true,\"ticks\":\"outside\"},\"baxis\":{\"gridcolor\":\"rgb(232,232,232)\",\"linecolor\":\"rgb(36,36,36)\",\"showgrid\":false,\"showline\":true,\"ticks\":\"outside\"},\"bgcolor\":\"white\",\"caxis\":{\"gridcolor\":\"rgb(232,232,232)\",\"linecolor\":\"rgb(36,36,36)\",\"showgrid\":false,\"showline\":true,\"ticks\":\"outside\"}},\"title\":{\"x\":0.05},\"xaxis\":{\"automargin\":true,\"gridcolor\":\"rgb(232,232,232)\",\"linecolor\":\"rgb(36,36,36)\",\"showgrid\":false,\"showline\":true,\"ticks\":\"outside\",\"title\":{\"standoff\":15},\"zeroline\":false,\"zerolinecolor\":\"rgb(36,36,36)\"},\"yaxis\":{\"automargin\":true,\"gridcolor\":\"rgb(232,232,232)\",\"linecolor\":\"rgb(36,36,36)\",\"showgrid\":false,\"showline\":true,\"ticks\":\"outside\",\"title\":{\"standoff\":15},\"zeroline\":false,\"zerolinecolor\":\"rgb(36,36,36)\"}}},\"xaxis\":{\"title\":{\"text\":\"Station traffic 9/2019 - 11/2019\"},\"zeroline\":false},\"yaxis\":{\"title\":{\"text\":\"Complaints\"},\"hoverformat\":\".1f\",\"zeroline\":false},\"title\":{\"text\":\"How safe is each MTA station?\"},\"hovermode\":\"closest\"},                        {\"responsive\": true}                    ).then(function(){\n",
       "                            \n",
       "var gd = document.getElementById('b80c197c-0d7e-4ffc-b3ae-2a5c758a1ca8');\n",
       "var x = new MutationObserver(function (mutations, observer) {{\n",
       "        var display = window.getComputedStyle(gd).display;\n",
       "        if (!display || display === 'none') {{\n",
       "            console.log([gd, 'removed!']);\n",
       "            Plotly.purge(gd);\n",
       "            observer.disconnect();\n",
       "        }}\n",
       "}});\n",
       "\n",
       "// Listen for the removal of the full notebook cells\n",
       "var notebookContainer = gd.closest('#notebook-container');\n",
       "if (notebookContainer) {{\n",
       "    x.observe(notebookContainer, {childList: true});\n",
       "}}\n",
       "\n",
       "// Listen for the clearing of the current output cell\n",
       "var outputEl = gd.closest('.output');\n",
       "if (outputEl) {{\n",
       "    x.observe(outputEl, {childList: true});\n",
       "}}\n",
       "\n",
       "                        })                };                });            </script>        </div>"
      ]
     },
     "metadata": {},
     "output_type": "display_data"
    }
   ],
   "source": [
    "fig = go.Figure()\n",
    "\n",
    "fig.add_trace(go.Scatter(\n",
    "    x = merged_df[merged_df.percentage > .104]['daily_entries'],\n",
    "    y = merged_df[merged_df.percentage > .104]['complaint_counts'],\n",
    "    name = 'Very dangerous',\n",
    "    mode = 'markers',\n",
    "    marker = dict(\n",
    "        size=10,\n",
    "        color='#c43152',\n",
    "        line=dict(width=1)\n",
    "    ),\n",
    "    text=merged_df['station'],)\n",
    ")\n",
    "\n",
    "fig.add_trace(go.Scatter(\n",
    "    x = merged_df[(merged_df.percentage >= .062) & (merged_df.percentage <= .104)]['daily_entries'],\n",
    "    y = merged_df[(merged_df.percentage >= .062) & (merged_df.percentage <= .104)]['complaint_counts'],\n",
    "    name = 'Dangerous',\n",
    "    mode = 'markers',\n",
    "    marker = dict(\n",
    "        size=8,\n",
    "        color='#715a99',\n",
    "        line=dict(width=1)\n",
    "    ),\n",
    "    text=merged_df['station'],)\n",
    ")\n",
    "fig.add_trace(go.Scatter(\n",
    "    x = merged_df[(merged_df.percentage >= .02) & (merged_df.percentage < .065)]['daily_entries'],\n",
    "    y = merged_df[(merged_df.percentage >= .02) & (merged_df.percentage < .065)]['complaint_counts'],\n",
    "    name = 'Normal',\n",
    "    mode = 'markers',\n",
    "    marker = dict(\n",
    "        size=5,\n",
    "        color='lightgray',\n",
    "        line=dict(width=1)\n",
    "    ),\n",
    "    text=merged_df['station'],)\n",
    ")              \n",
    "fig.add_trace(go.Scatter(\n",
    "    x = merged_df[merged_df.percentage < .02]['daily_entries'],\n",
    "    y = merged_df[merged_df.percentage < .02]['complaint_counts'],\n",
    "    name = 'Relatively safe',\n",
    "    mode = 'markers',\n",
    "    marker = dict(\n",
    "        size=5,\n",
    "        color='#6ccfb2',\n",
    "        opacity=0.5,\n",
    "        line=dict(width=1)\n",
    "    ),\n",
    "    text=merged_df['station'],)\n",
    ")\n",
    "\n",
    "fig.update_layout(\n",
    "    template = 'simple_white',\n",
    "    title = 'How safe is each MTA station?',\n",
    "    xaxis = dict(\n",
    "        title = 'Station traffic 9/2019 - 11/2019',\n",
    "        zeroline = False\n",
    "    ),\n",
    "    yaxis = dict(\n",
    "        title = 'Complaints',\n",
    "        hoverformat = '.1f',\n",
    "        zeroline = False\n",
    "    ),\n",
    "    hovermode= 'closest'\n",
    ")\n",
    "\n",
    "fig.show()"
   ]
  },
  {
   "cell_type": "code",
   "execution_count": 190,
   "id": "747180c8",
   "metadata": {},
   "outputs": [
    {
     "data": {
      "text/html": [
       "<div>\n",
       "<style scoped>\n",
       "    .dataframe tbody tr th:only-of-type {\n",
       "        vertical-align: middle;\n",
       "    }\n",
       "\n",
       "    .dataframe tbody tr th {\n",
       "        vertical-align: top;\n",
       "    }\n",
       "\n",
       "    .dataframe thead th {\n",
       "        text-align: right;\n",
       "    }\n",
       "</style>\n",
       "<table border=\"1\" class=\"dataframe\">\n",
       "  <thead>\n",
       "    <tr style=\"text-align: right;\">\n",
       "      <th></th>\n",
       "      <th>station</th>\n",
       "      <th>complaint_counts</th>\n",
       "      <th>daily_entries</th>\n",
       "      <th>percentage</th>\n",
       "    </tr>\n",
       "  </thead>\n",
       "  <tbody>\n",
       "    <tr>\n",
       "      <th>149</th>\n",
       "      <td>BROAD CHANNEL</td>\n",
       "      <td>293</td>\n",
       "      <td>24171.0</td>\n",
       "      <td>1.212196</td>\n",
       "    </tr>\n",
       "    <tr>\n",
       "      <th>94</th>\n",
       "      <td>74 ST-BROADWAY</td>\n",
       "      <td>495</td>\n",
       "      <td>280012.0</td>\n",
       "      <td>0.176778</td>\n",
       "    </tr>\n",
       "    <tr>\n",
       "      <th>135</th>\n",
       "      <td>BEACH 98 ST</td>\n",
       "      <td>58</td>\n",
       "      <td>36679.0</td>\n",
       "      <td>0.158129</td>\n",
       "    </tr>\n",
       "    <tr>\n",
       "      <th>285</th>\n",
       "      <td>SUTTER AV</td>\n",
       "      <td>395</td>\n",
       "      <td>263259.0</td>\n",
       "      <td>0.150042</td>\n",
       "    </tr>\n",
       "    <tr>\n",
       "      <th>180</th>\n",
       "      <td>E 143/ST MARY'S</td>\n",
       "      <td>123</td>\n",
       "      <td>88768.0</td>\n",
       "      <td>0.138563</td>\n",
       "    </tr>\n",
       "    <tr>\n",
       "      <th>112</th>\n",
       "      <td>ALABAMA AV</td>\n",
       "      <td>213</td>\n",
       "      <td>169717.0</td>\n",
       "      <td>0.125503</td>\n",
       "    </tr>\n",
       "    <tr>\n",
       "      <th>269</th>\n",
       "      <td>ROCKAWAY AV</td>\n",
       "      <td>1024</td>\n",
       "      <td>848520.0</td>\n",
       "      <td>0.120681</td>\n",
       "    </tr>\n",
       "    <tr>\n",
       "      <th>250</th>\n",
       "      <td>NEW LOTS AV</td>\n",
       "      <td>518</td>\n",
       "      <td>435269.0</td>\n",
       "      <td>0.119007</td>\n",
       "    </tr>\n",
       "    <tr>\n",
       "      <th>282</th>\n",
       "      <td>STILLWELL AV-CONEY ISLAND</td>\n",
       "      <td>1264</td>\n",
       "      <td>1065823.0</td>\n",
       "      <td>0.118594</td>\n",
       "    </tr>\n",
       "    <tr>\n",
       "      <th>11</th>\n",
       "      <td>125 ST</td>\n",
       "      <td>8201</td>\n",
       "      <td>6979593.0</td>\n",
       "      <td>0.117500</td>\n",
       "    </tr>\n",
       "    <tr>\n",
       "      <th>53</th>\n",
       "      <td>241 ST-WAKEFIELD</td>\n",
       "      <td>392</td>\n",
       "      <td>351057.0</td>\n",
       "      <td>0.111663</td>\n",
       "    </tr>\n",
       "    <tr>\n",
       "      <th>130</th>\n",
       "      <td>BEACH 36 ST</td>\n",
       "      <td>81</td>\n",
       "      <td>75659.0</td>\n",
       "      <td>0.107059</td>\n",
       "    </tr>\n",
       "    <tr>\n",
       "      <th>4</th>\n",
       "      <td>110 ST</td>\n",
       "      <td>901</td>\n",
       "      <td>860929.0</td>\n",
       "      <td>0.104654</td>\n",
       "    </tr>\n",
       "    <tr>\n",
       "      <th>232</th>\n",
       "      <td>LIVONIA AV</td>\n",
       "      <td>239</td>\n",
       "      <td>230531.0</td>\n",
       "      <td>0.103674</td>\n",
       "    </tr>\n",
       "    <tr>\n",
       "      <th>29</th>\n",
       "      <td>174-175 STS</td>\n",
       "      <td>418</td>\n",
       "      <td>404845.0</td>\n",
       "      <td>0.103249</td>\n",
       "    </tr>\n",
       "    <tr>\n",
       "      <th>114</th>\n",
       "      <td>AQUEDUCT-NORTH CONDUIT AV</td>\n",
       "      <td>72</td>\n",
       "      <td>71152.0</td>\n",
       "      <td>0.101192</td>\n",
       "    </tr>\n",
       "    <tr>\n",
       "      <th>214</th>\n",
       "      <td>HOYT-SCHERMERHORN</td>\n",
       "      <td>974</td>\n",
       "      <td>963291.0</td>\n",
       "      <td>0.101112</td>\n",
       "    </tr>\n",
       "    <tr>\n",
       "      <th>8</th>\n",
       "      <td>116 ST</td>\n",
       "      <td>3356</td>\n",
       "      <td>3367510.0</td>\n",
       "      <td>0.099658</td>\n",
       "    </tr>\n",
       "    <tr>\n",
       "      <th>290</th>\n",
       "      <td>UTICA AV-CROWN HEIGHTS</td>\n",
       "      <td>2058</td>\n",
       "      <td>2069856.0</td>\n",
       "      <td>0.099427</td>\n",
       "    </tr>\n",
       "    <tr>\n",
       "      <th>60</th>\n",
       "      <td>3 AV-149 ST</td>\n",
       "      <td>1715</td>\n",
       "      <td>1737419.0</td>\n",
       "      <td>0.098710</td>\n",
       "    </tr>\n",
       "  </tbody>\n",
       "</table>\n",
       "</div>"
      ],
      "text/plain": [
       "                       station  complaint_counts  daily_entries  percentage\n",
       "149              BROAD CHANNEL               293        24171.0    1.212196\n",
       "94              74 ST-BROADWAY               495       280012.0    0.176778\n",
       "135                BEACH 98 ST                58        36679.0    0.158129\n",
       "285                  SUTTER AV               395       263259.0    0.150042\n",
       "180            E 143/ST MARY'S               123        88768.0    0.138563\n",
       "112                 ALABAMA AV               213       169717.0    0.125503\n",
       "269                ROCKAWAY AV              1024       848520.0    0.120681\n",
       "250                NEW LOTS AV               518       435269.0    0.119007\n",
       "282  STILLWELL AV-CONEY ISLAND              1264      1065823.0    0.118594\n",
       "11                      125 ST              8201      6979593.0    0.117500\n",
       "53            241 ST-WAKEFIELD               392       351057.0    0.111663\n",
       "130                BEACH 36 ST                81        75659.0    0.107059\n",
       "4                       110 ST               901       860929.0    0.104654\n",
       "232                 LIVONIA AV               239       230531.0    0.103674\n",
       "29                 174-175 STS               418       404845.0    0.103249\n",
       "114  AQUEDUCT-NORTH CONDUIT AV                72        71152.0    0.101192\n",
       "214          HOYT-SCHERMERHORN               974       963291.0    0.101112\n",
       "8                       116 ST              3356      3367510.0    0.099658\n",
       "290     UTICA AV-CROWN HEIGHTS              2058      2069856.0    0.099427\n",
       "60                 3 AV-149 ST              1715      1737419.0    0.098710"
      ]
     },
     "execution_count": 190,
     "metadata": {},
     "output_type": "execute_result"
    }
   ],
   "source": [
    "merged_df.sort_values(['percentage'],ascending=False).head(20)"
   ]
  },
  {
   "cell_type": "markdown",
   "id": "5e736804",
   "metadata": {},
   "source": [
    "Now, let's filter for female victim sex, as well as offenses involving sex crimes, assault, and harassment. We can compare results with the larger dataset with all offenses. I'm multiplying entry data by .52, since 52% of NYC subway riders are women. This makes the percentage field more intuitive to interpret."
   ]
  },
  {
   "cell_type": "code",
   "execution_count": 360,
   "id": "8b268bb0",
   "metadata": {},
   "outputs": [
    {
     "data": {
      "text/html": [
       "<div>\n",
       "<style scoped>\n",
       "    .dataframe tbody tr th:only-of-type {\n",
       "        vertical-align: middle;\n",
       "    }\n",
       "\n",
       "    .dataframe tbody tr th {\n",
       "        vertical-align: top;\n",
       "    }\n",
       "\n",
       "    .dataframe thead th {\n",
       "        text-align: right;\n",
       "    }\n",
       "</style>\n",
       "<table border=\"1\" class=\"dataframe\">\n",
       "  <thead>\n",
       "    <tr style=\"text-align: right;\">\n",
       "      <th></th>\n",
       "      <th>station</th>\n",
       "      <th>complaint_counts</th>\n",
       "      <th>daily_entries</th>\n",
       "      <th>percentage</th>\n",
       "    </tr>\n",
       "  </thead>\n",
       "  <tbody>\n",
       "    <tr>\n",
       "      <th>6</th>\n",
       "      <td>BROAD CHANNEL</td>\n",
       "      <td>24</td>\n",
       "      <td>12568.92</td>\n",
       "      <td>0.190947</td>\n",
       "    </tr>\n",
       "    <tr>\n",
       "      <th>2</th>\n",
       "      <td>BOTANIC GARDEN</td>\n",
       "      <td>29</td>\n",
       "      <td>150852.52</td>\n",
       "      <td>0.019224</td>\n",
       "    </tr>\n",
       "    <tr>\n",
       "      <th>18</th>\n",
       "      <td>HOYT-SCHERMERHORN</td>\n",
       "      <td>92</td>\n",
       "      <td>500911.32</td>\n",
       "      <td>0.018367</td>\n",
       "    </tr>\n",
       "    <tr>\n",
       "      <th>9</th>\n",
       "      <td>BROOKLYN BRIDGE-CITY HALL</td>\n",
       "      <td>133</td>\n",
       "      <td>782192.84</td>\n",
       "      <td>0.017003</td>\n",
       "    </tr>\n",
       "    <tr>\n",
       "      <th>25</th>\n",
       "      <td>QUEENS PLAZA</td>\n",
       "      <td>89</td>\n",
       "      <td>613784.60</td>\n",
       "      <td>0.014500</td>\n",
       "    </tr>\n",
       "    <tr>\n",
       "      <th>24</th>\n",
       "      <td>PROSPECT PARK</td>\n",
       "      <td>42</td>\n",
       "      <td>440048.44</td>\n",
       "      <td>0.009544</td>\n",
       "    </tr>\n",
       "    <tr>\n",
       "      <th>14</th>\n",
       "      <td>EASTERN PKWY-BROOKLYN MUSEUM</td>\n",
       "      <td>16</td>\n",
       "      <td>169055.64</td>\n",
       "      <td>0.009464</td>\n",
       "    </tr>\n",
       "    <tr>\n",
       "      <th>22</th>\n",
       "      <td>PARK PLACE</td>\n",
       "      <td>17</td>\n",
       "      <td>187788.12</td>\n",
       "      <td>0.009053</td>\n",
       "    </tr>\n",
       "    <tr>\n",
       "      <th>12</th>\n",
       "      <td>CYPRESS HILLS</td>\n",
       "      <td>5</td>\n",
       "      <td>60180.12</td>\n",
       "      <td>0.008308</td>\n",
       "    </tr>\n",
       "    <tr>\n",
       "      <th>19</th>\n",
       "      <td>JAMAICA-VAN WYCK</td>\n",
       "      <td>14</td>\n",
       "      <td>183597.96</td>\n",
       "      <td>0.007625</td>\n",
       "    </tr>\n",
       "    <tr>\n",
       "      <th>17</th>\n",
       "      <td>HOWARD BEACH-JFK AIRPORT</td>\n",
       "      <td>14</td>\n",
       "      <td>215627.88</td>\n",
       "      <td>0.006493</td>\n",
       "    </tr>\n",
       "    <tr>\n",
       "      <th>23</th>\n",
       "      <td>PELHAM BAY PARK</td>\n",
       "      <td>17</td>\n",
       "      <td>294846.76</td>\n",
       "      <td>0.005766</td>\n",
       "    </tr>\n",
       "    <tr>\n",
       "      <th>20</th>\n",
       "      <td>MORRIS PARK</td>\n",
       "      <td>5</td>\n",
       "      <td>96066.88</td>\n",
       "      <td>0.005205</td>\n",
       "    </tr>\n",
       "    <tr>\n",
       "      <th>8</th>\n",
       "      <td>BROADWAY/LAFAYETTE</td>\n",
       "      <td>49</td>\n",
       "      <td>1089857.60</td>\n",
       "      <td>0.004496</td>\n",
       "    </tr>\n",
       "    <tr>\n",
       "      <th>10</th>\n",
       "      <td>CITY HALL</td>\n",
       "      <td>10</td>\n",
       "      <td>226486.00</td>\n",
       "      <td>0.004415</td>\n",
       "    </tr>\n",
       "    <tr>\n",
       "      <th>16</th>\n",
       "      <td>GRAND ARMY PLAZA</td>\n",
       "      <td>14</td>\n",
       "      <td>317663.84</td>\n",
       "      <td>0.004407</td>\n",
       "    </tr>\n",
       "    <tr>\n",
       "      <th>13</th>\n",
       "      <td>EAST BROADWAY</td>\n",
       "      <td>23</td>\n",
       "      <td>573293.76</td>\n",
       "      <td>0.004012</td>\n",
       "    </tr>\n",
       "    <tr>\n",
       "      <th>1</th>\n",
       "      <td>BOROUGH HALL</td>\n",
       "      <td>50</td>\n",
       "      <td>1378416.00</td>\n",
       "      <td>0.003627</td>\n",
       "    </tr>\n",
       "    <tr>\n",
       "      <th>26</th>\n",
       "      <td>ROOSEVELT ISLAND</td>\n",
       "      <td>11</td>\n",
       "      <td>320007.48</td>\n",
       "      <td>0.003437</td>\n",
       "    </tr>\n",
       "    <tr>\n",
       "      <th>29</th>\n",
       "      <td>WILLETS POINT-SHEA STADIUM</td>\n",
       "      <td>8</td>\n",
       "      <td>251218.76</td>\n",
       "      <td>0.003184</td>\n",
       "    </tr>\n",
       "  </tbody>\n",
       "</table>\n",
       "</div>"
      ],
      "text/plain": [
       "                         station  complaint_counts  daily_entries  percentage\n",
       "6                  BROAD CHANNEL                24       12568.92    0.190947\n",
       "2                 BOTANIC GARDEN                29      150852.52    0.019224\n",
       "18             HOYT-SCHERMERHORN                92      500911.32    0.018367\n",
       "9      BROOKLYN BRIDGE-CITY HALL               133      782192.84    0.017003\n",
       "25                  QUEENS PLAZA                89      613784.60    0.014500\n",
       "24                 PROSPECT PARK                42      440048.44    0.009544\n",
       "14  EASTERN PKWY-BROOKLYN MUSEUM                16      169055.64    0.009464\n",
       "22                    PARK PLACE                17      187788.12    0.009053\n",
       "12                 CYPRESS HILLS                 5       60180.12    0.008308\n",
       "19              JAMAICA-VAN WYCK                14      183597.96    0.007625\n",
       "17      HOWARD BEACH-JFK AIRPORT                14      215627.88    0.006493\n",
       "23               PELHAM BAY PARK                17      294846.76    0.005766\n",
       "20                   MORRIS PARK                 5       96066.88    0.005205\n",
       "8             BROADWAY/LAFAYETTE                49     1089857.60    0.004496\n",
       "10                     CITY HALL                10      226486.00    0.004415\n",
       "16              GRAND ARMY PLAZA                14      317663.84    0.004407\n",
       "13                 EAST BROADWAY                23      573293.76    0.004012\n",
       "1                   BOROUGH HALL                50     1378416.00    0.003627\n",
       "26              ROOSEVELT ISLAND                11      320007.48    0.003437\n",
       "29    WILLETS POINT-SHEA STADIUM                 8      251218.76    0.003184"
      ]
     },
     "execution_count": 360,
     "metadata": {},
     "output_type": "execute_result"
    }
   ],
   "source": [
    "fem_df = comp_w[comp_w['vic_sex'] == 'F']\n",
    "offense_mask = (fem_df['ofns_desc'] == 'HARRASSMENT')|(fem_df['ofns_desc'] == 'SEX CRIMES')|(fem_df['ofns_desc'] == 'ASSAULT 3 & RELATED OFFENSES')|(fem_df['ofns_desc'] == 'FELONY ASSAULT')|(fem_df['ofns_desc'] == 'RAPE')|(fem_df['ofns_desc'] == 'OFFENSES AGAINST THE PERSON')\n",
    "fem_df = fem_df[offense_mask].copy()\n",
    "fem_df['complaint_counts'] = 1\n",
    "fem_df = fem_df.groupby('station')[['complaint_counts']].sum().reset_index()\n",
    "f_merged_df = pd.merge(fem_df,station_totals,on='station')\n",
    "f_merged_df['daily_entries'] = f_merged_df['daily_entries'] *.52\n",
    "f_merged_df['percentage'] = f_merged_df['complaint_counts'] / f_merged_df['daily_entries'] * 100\n",
    "f_sorted_df = f_merged_df.sort_values('percentage', ascending=False)\n",
    "f_sorted_df.head(20)"
   ]
  },
  {
   "cell_type": "code",
   "execution_count": 361,
   "id": "3327ed38",
   "metadata": {},
   "outputs": [
    {
     "data": {
      "text/plain": [
       "<BarContainer object of 5 artists>"
      ]
     },
     "execution_count": 361,
     "metadata": {},
     "output_type": "execute_result"
    },
    {
     "data": {
      "image/png": "[encoded data removed]",
      "text/plain": [
       "<Figure size 432x288 with 1 Axes>"
      ]
     },
     "metadata": {},
     "output_type": "display_data"
    }
   ],
   "source": [
    "plt.title('Types of sex-related offenses at MTA stations')\n",
    "plt.xlabel('Number of complaints')\n",
    "plt.ylabel('Type of offense')\n",
    "plt.barh(comp_sex_offense['ofns_desc'].unique(),comp_sex_offense['ofns_desc'].value_counts())"
   ]
  },
  {
   "cell_type": "code",
   "execution_count": 322,
   "id": "6b8628da",
   "metadata": {},
   "outputs": [
    {
     "data": {
      "application/vnd.plotly.v1+json": {
       "config": {
        "plotlyServerURL": "https://plot.ly"
       },
       "data": [
        {
         "marker": {
          "color": "#c43152"
         },
         "name": "Sex-related offenses against women",
         "orientation": "h",
         "type": "bar",
         "x": [
          19,
          5,
          4,
          3,
          2,
          2,
          2,
          2,
          2,
          2,
          2,
          2,
          2,
          2,
          2,
          1,
          1,
          1,
          1,
          1,
          1,
          1
         ],
         "y": [
          "BROAD CHANNEL",
          "74 ST-BROADWAY",
          "BEACH 98 ST",
          "149 ST-GRAND CONCOURSE",
          "BEACH 90 ST",
          "138 ST-GRAND CONCOURSE",
          "14 ST",
          "WEST 8 ST-NY AQUARIUM",
          "ALABAMA AV",
          "BOTANIC GARDEN",
          "HOYT-SCHERMERHORN",
          "42 ST-GRAND CENTRAL",
          "BROOKLYN BRIDGE-CITY HALL",
          "BEACH 60 ST",
          "LIBERTY AV",
          "JACKSON AV",
          "QUEENS PLAZA",
          "BEACH 67 ST",
          "BOROUGH HALL",
          "QUEENSBORO PLZ",
          "72 ST",
          "BEACH 25 ST"
         ]
        },
        {
         "marker": {
          "color": "#6ccfb2"
         },
         "name": "Total offenses",
         "orientation": "h",
         "type": "bar",
         "x": [
          121,
          18,
          16,
          13,
          10,
          9,
          9,
          9,
          9,
          8,
          8,
          8,
          8,
          7,
          7,
          7,
          6,
          5,
          4,
          3,
          3,
          3
         ],
         "y": [
          "BROAD CHANNEL",
          "74 ST-BROADWAY",
          "BEACH 98 ST",
          "149 ST-GRAND CONCOURSE",
          "BEACH 90 ST",
          "138 ST-GRAND CONCOURSE",
          "14 ST",
          "WEST 8 ST-NY AQUARIUM",
          "ALABAMA AV",
          "BOTANIC GARDEN",
          "HOYT-SCHERMERHORN",
          "42 ST-GRAND CENTRAL",
          "BROOKLYN BRIDGE-CITY HALL",
          "BEACH 60 ST",
          "LIBERTY AV",
          "JACKSON AV",
          "QUEENS PLAZA",
          "BEACH 67 ST",
          "BOROUGH HALL",
          "QUEENSBORO PLZ",
          "72 ST",
          "BEACH 25 ST"
         ]
        }
       ],
       "layout": {
        "barmode": "group",
        "template": {
         "data": {
          "bar": [
           {
            "error_x": {
             "color": "#2a3f5f"
            },
            "error_y": {
             "color": "#2a3f5f"
            },
            "marker": {
             "line": {
              "color": "#E5ECF6",
              "width": 0.5
             },
             "pattern": {
              "fillmode": "overlay",
              "size": 10,
              "solidity": 0.2
             }
            },
            "type": "bar"
           }
          ],
          "barpolar": [
           {
            "marker": {
             "line": {
              "color": "#E5ECF6",
              "width": 0.5
             },
             "pattern": {
              "fillmode": "overlay",
              "size": 10,
              "solidity": 0.2
             }
            },
            "type": "barpolar"
           }
          ],
          "carpet": [
           {
            "aaxis": {
             "endlinecolor": "#2a3f5f",
             "gridcolor": "white",
             "linecolor": "white",
             "minorgridcolor": "white",
             "startlinecolor": "#2a3f5f"
            },
            "baxis": {
             "endlinecolor": "#2a3f5f",
             "gridcolor": "white",
             "linecolor": "white",
             "minorgridcolor": "white",
             "startlinecolor": "#2a3f5f"
            },
            "type": "carpet"
           }
          ],
          "choropleth": [
           {
            "colorbar": {
             "outlinewidth": 0,
             "ticks": ""
            },
            "type": "choropleth"
           }
          ],
          "contour": [
           {
            "colorbar": {
             "outlinewidth": 0,
             "ticks": ""
            },
            "colorscale": [
             [
              0,
              "#0d0887"
             ],
             [
              0.1111111111111111,
              "#46039f"
             ],
             [
              0.2222222222222222,
              "#7201a8"
             ],
             [
              0.3333333333333333,
              "#9c179e"
             ],
             [
              0.4444444444444444,
              "#bd3786"
             ],
             [
              0.5555555555555556,
              "#d8576b"
             ],
             [
              0.6666666666666666,
              "#ed7953"
             ],
             [
              0.7777777777777778,
              "#fb9f3a"
             ],
             [
              0.8888888888888888,
              "#fdca26"
             ],
             [
              1,
              "#f0f921"
             ]
            ],
            "type": "contour"
           }
          ],
          "contourcarpet": [
           {
            "colorbar": {
             "outlinewidth": 0,
             "ticks": ""
            },
            "type": "contourcarpet"
           }
          ],
          "heatmap": [
           {
            "colorbar": {
             "outlinewidth": 0,
             "ticks": ""
            },
            "colorscale": [
             [
              0,
              "#0d0887"
             ],
             [
              0.1111111111111111,
              "#46039f"
             ],
             [
              0.2222222222222222,
              "#7201a8"
             ],
             [
              0.3333333333333333,
              "#9c179e"
             ],
             [
              0.4444444444444444,
              "#bd3786"
             ],
             [
              0.5555555555555556,
              "#d8576b"
             ],
             [
              0.6666666666666666,
              "#ed7953"
             ],
             [
              0.7777777777777778,
              "#fb9f3a"
             ],
             [
              0.8888888888888888,
              "#fdca26"
             ],
             [
              1,
              "#f0f921"
             ]
            ],
            "type": "heatmap"
           }
          ],
          "heatmapgl": [
           {
            "colorbar": {
             "outlinewidth": 0,
             "ticks": ""
            },
            "colorscale": [
             [
              0,
              "#0d0887"
             ],
             [
              0.1111111111111111,
              "#46039f"
             ],
             [
              0.2222222222222222,
              "#7201a8"
             ],
             [
              0.3333333333333333,
              "#9c179e"
             ],
             [
              0.4444444444444444,
              "#bd3786"
             ],
             [
              0.5555555555555556,
              "#d8576b"
             ],
             [
              0.6666666666666666,
              "#ed7953"
             ],
             [
              0.7777777777777778,
              "#fb9f3a"
             ],
             [
              0.8888888888888888,
              "#fdca26"
             ],
             [
              1,
              "#f0f921"
             ]
            ],
            "type": "heatmapgl"
           }
          ],
          "histogram": [
           {
            "marker": {
             "pattern": {
              "fillmode": "overlay",
              "size": 10,
              "solidity": 0.2
             }
            },
            "type": "histogram"
           }
          ],
          "histogram2d": [
           {
            "colorbar": {
             "outlinewidth": 0,
             "ticks": ""
            },
            "colorscale": [
             [
              0,
              "#0d0887"
             ],
             [
              0.1111111111111111,
              "#46039f"
             ],
             [
              0.2222222222222222,
              "#7201a8"
             ],
             [
              0.3333333333333333,
              "#9c179e"
             ],
             [
              0.4444444444444444,
              "#bd3786"
             ],
             [
              0.5555555555555556,
              "#d8576b"
             ],
             [
              0.6666666666666666,
              "#ed7953"
             ],
             [
              0.7777777777777778,
              "#fb9f3a"
             ],
             [
              0.8888888888888888,
              "#fdca26"
             ],
             [
              1,
              "#f0f921"
             ]
            ],
            "type": "histogram2d"
           }
          ],
          "histogram2dcontour": [
           {
            "colorbar": {
             "outlinewidth": 0,
             "ticks": ""
            },
            "colorscale": [
             [
              0,
              "#0d0887"
             ],
             [
              0.1111111111111111,
              "#46039f"
             ],
             [
              0.2222222222222222,
              "#7201a8"
             ],
             [
              0.3333333333333333,
              "#9c179e"
             ],
             [
              0.4444444444444444,
              "#bd3786"
             ],
             [
              0.5555555555555556,
              "#d8576b"
             ],
             [
              0.6666666666666666,
              "#ed7953"
             ],
             [
              0.7777777777777778,
              "#fb9f3a"
             ],
             [
              0.8888888888888888,
              "#fdca26"
             ],
             [
              1,
              "#f0f921"
             ]
            ],
            "type": "histogram2dcontour"
           }
          ],
          "mesh3d": [
           {
            "colorbar": {
             "outlinewidth": 0,
             "ticks": ""
            },
            "type": "mesh3d"
           }
          ],
          "parcoords": [
           {
            "line": {
             "colorbar": {
              "outlinewidth": 0,
              "ticks": ""
             }
            },
            "type": "parcoords"
           }
          ],
          "pie": [
           {
            "automargin": true,
            "type": "pie"
           }
          ],
          "scatter": [
           {
            "marker": {
             "colorbar": {
              "outlinewidth": 0,
              "ticks": ""
             }
            },
            "type": "scatter"
           }
          ],
          "scatter3d": [
           {
            "line": {
             "colorbar": {
              "outlinewidth": 0,
              "ticks": ""
             }
            },
            "marker": {
             "colorbar": {
              "outlinewidth": 0,
              "ticks": ""
             }
            },
            "type": "scatter3d"
           }
          ],
          "scattercarpet": [
           {
            "marker": {
             "colorbar": {
              "outlinewidth": 0,
              "ticks": ""
             }
            },
            "type": "scattercarpet"
           }
          ],
          "scattergeo": [
           {
            "marker": {
             "colorbar": {
              "outlinewidth": 0,
              "ticks": ""
             }
            },
            "type": "scattergeo"
           }
          ],
          "scattergl": [
           {
            "marker": {
             "colorbar": {
              "outlinewidth": 0,
              "ticks": ""
             }
            },
            "type": "scattergl"
           }
          ],
          "scattermapbox": [
           {
            "marker": {
             "colorbar": {
              "outlinewidth": 0,
              "ticks": ""
             }
            },
            "type": "scattermapbox"
           }
          ],
          "scatterpolar": [
           {
            "marker": {
             "colorbar": {
              "outlinewidth": 0,
              "ticks": ""
             }
            },
            "type": "scatterpolar"
           }
          ],
          "scatterpolargl": [
           {
            "marker": {
             "colorbar": {
              "outlinewidth": 0,
              "ticks": ""
             }
            },
            "type": "scatterpolargl"
           }
          ],
          "scatterternary": [
           {
            "marker": {
             "colorbar": {
              "outlinewidth": 0,
              "ticks": ""
             }
            },
            "type": "scatterternary"
           }
          ],
          "surface": [
           {
            "colorbar": {
             "outlinewidth": 0,
             "ticks": ""
            },
            "colorscale": [
             [
              0,
              "#0d0887"
             ],
             [
              0.1111111111111111,
              "#46039f"
             ],
             [
              0.2222222222222222,
              "#7201a8"
             ],
             [
              0.3333333333333333,
              "#9c179e"
             ],
             [
              0.4444444444444444,
              "#bd3786"
             ],
             [
              0.5555555555555556,
              "#d8576b"
             ],
             [
              0.6666666666666666,
              "#ed7953"
             ],
             [
              0.7777777777777778,
              "#fb9f3a"
             ],
             [
              0.8888888888888888,
              "#fdca26"
             ],
             [
              1,
              "#f0f921"
             ]
            ],
            "type": "surface"
           }
          ],
          "table": [
           {
            "cells": {
             "fill": {
              "color": "#EBF0F8"
             },
             "line": {
              "color": "white"
             }
            },
            "header": {
             "fill": {
              "color": "#C8D4E3"
             },
             "line": {
              "color": "white"
             }
            },
            "type": "table"
           }
          ]
         },
         "layout": {
          "annotationdefaults": {
           "arrowcolor": "#2a3f5f",
           "arrowhead": 0,
           "arrowwidth": 1
          },
          "autotypenumbers": "strict",
          "coloraxis": {
           "colorbar": {
            "outlinewidth": 0,
            "ticks": ""
           }
          },
          "colorscale": {
           "diverging": [
            [
             0,
             "#8e0152"
            ],
            [
             0.1,
             "#c51b7d"
            ],
            [
             0.2,
             "#de77ae"
            ],
            [
             0.3,
             "#f1b6da"
            ],
            [
             0.4,
             "#fde0ef"
            ],
            [
             0.5,
             "#f7f7f7"
            ],
            [
             0.6,
             "#e6f5d0"
            ],
            [
             0.7,
             "#b8e186"
            ],
            [
             0.8,
             "#7fbc41"
            ],
            [
             0.9,
             "#4d9221"
            ],
            [
             1,
             "#276419"
            ]
           ],
           "sequential": [
            [
             0,
             "#0d0887"
            ],
            [
             0.1111111111111111,
             "#46039f"
            ],
            [
             0.2222222222222222,
             "#7201a8"
            ],
            [
             0.3333333333333333,
             "#9c179e"
            ],
            [
             0.4444444444444444,
             "#bd3786"
            ],
            [
             0.5555555555555556,
             "#d8576b"
            ],
            [
             0.6666666666666666,
             "#ed7953"
            ],
            [
             0.7777777777777778,
             "#fb9f3a"
            ],
            [
             0.8888888888888888,
             "#fdca26"
            ],
            [
             1,
             "#f0f921"
            ]
           ],
           "sequentialminus": [
            [
             0,
             "#0d0887"
            ],
            [
             0.1111111111111111,
             "#46039f"
            ],
            [
             0.2222222222222222,
             "#7201a8"
            ],
            [
             0.3333333333333333,
             "#9c179e"
            ],
            [
             0.4444444444444444,
             "#bd3786"
            ],
            [
             0.5555555555555556,
             "#d8576b"
            ],
            [
             0.6666666666666666,
             "#ed7953"
            ],
            [
             0.7777777777777778,
             "#fb9f3a"
            ],
            [
             0.8888888888888888,
             "#fdca26"
            ],
            [
             1,
             "#f0f921"
            ]
           ]
          },
          "colorway": [
           "#636efa",
           "#EF553B",
           "#00cc96",
           "#ab63fa",
           "#FFA15A",
           "#19d3f3",
           "#FF6692",
           "#B6E880",
           "#FF97FF",
           "#FECB52"
          ],
          "font": {
           "color": "#2a3f5f"
          },
          "geo": {
           "bgcolor": "white",
           "lakecolor": "white",
           "landcolor": "#E5ECF6",
           "showlakes": true,
           "showland": true,
           "subunitcolor": "white"
          },
          "hoverlabel": {
           "align": "left"
          },
          "hovermode": "closest",
          "mapbox": {
           "style": "light"
          },
          "paper_bgcolor": "white",
          "plot_bgcolor": "#E5ECF6",
          "polar": {
           "angularaxis": {
            "gridcolor": "white",
            "linecolor": "white",
            "ticks": ""
           },
           "bgcolor": "#E5ECF6",
           "radialaxis": {
            "gridcolor": "white",
            "linecolor": "white",
            "ticks": ""
           }
          },
          "scene": {
           "xaxis": {
            "backgroundcolor": "#E5ECF6",
            "gridcolor": "white",
            "gridwidth": 2,
            "linecolor": "white",
            "showbackground": true,
            "ticks": "",
            "zerolinecolor": "white"
           },
           "yaxis": {
            "backgroundcolor": "#E5ECF6",
            "gridcolor": "white",
            "gridwidth": 2,
            "linecolor": "white",
            "showbackground": true,
            "ticks": "",
            "zerolinecolor": "white"
           },
           "zaxis": {
            "backgroundcolor": "#E5ECF6",
            "gridcolor": "white",
            "gridwidth": 2,
            "linecolor": "white",
            "showbackground": true,
            "ticks": "",
            "zerolinecolor": "white"
           }
          },
          "shapedefaults": {
           "line": {
            "color": "#2a3f5f"
           }
          },
          "ternary": {
           "aaxis": {
            "gridcolor": "white",
            "linecolor": "white",
            "ticks": ""
           },
           "baxis": {
            "gridcolor": "white",
            "linecolor": "white",
            "ticks": ""
           },
           "bgcolor": "#E5ECF6",
           "caxis": {
            "gridcolor": "white",
            "linecolor": "white",
            "ticks": ""
           }
          },
          "title": {
           "x": 0.05
          },
          "xaxis": {
           "automargin": true,
           "gridcolor": "white",
           "linecolor": "white",
           "ticks": "",
           "title": {
            "standoff": 15
           },
           "zerolinecolor": "white",
           "zerolinewidth": 2
          },
          "yaxis": {
           "automargin": true,
           "gridcolor": "white",
           "linecolor": "white",
           "ticks": "",
           "title": {
            "standoff": 15
           },
           "zerolinecolor": "white",
           "zerolinewidth": 2
          }
         }
        },
        "title": {
         "text": "The Most Dangerous Subway Stations"
        },
        "xaxis": {
         "title": {
          "text": "Complaints per thousand subway entries"
         }
        }
       }
      },
      "text/html": [
       "<div>                            <div id=\"998424d0-7356-4949-b73e-38374a770e0a\" class=\"plotly-graph-div\" style=\"height:525px; width:100%;\"></div>            <script type=\"text/javascript\">                require([\"plotly\"], function(Plotly) {                    window.PLOTLYENV=window.PLOTLYENV || {};                                    if (document.getElementById(\"998424d0-7356-4949-b73e-38374a770e0a\")) {                    Plotly.newPlot(                        \"998424d0-7356-4949-b73e-38374a770e0a\",                        [{\"marker\":{\"color\":\"#c43152\"},\"name\":\"Sex-related offenses against women\",\"orientation\":\"h\",\"x\":[19.0,5.0,4.0,3.0,2.0,2.0,2.0,2.0,2.0,2.0,2.0,2.0,2.0,2.0,2.0,1.0,1.0,1.0,1.0,1.0,1.0,1.0],\"y\":[\"BROAD CHANNEL\",\"74 ST-BROADWAY\",\"BEACH 98 ST\",\"149 ST-GRAND CONCOURSE\",\"BEACH 90 ST\",\"138 ST-GRAND CONCOURSE\",\"14 ST\",\"WEST 8 ST-NY AQUARIUM\",\"ALABAMA AV\",\"BOTANIC GARDEN\",\"HOYT-SCHERMERHORN\",\"42 ST-GRAND CENTRAL\",\"BROOKLYN BRIDGE-CITY HALL\",\"BEACH 60 ST\",\"LIBERTY AV\",\"JACKSON AV\",\"QUEENS PLAZA\",\"BEACH 67 ST\",\"BOROUGH HALL\",\"QUEENSBORO PLZ\",\"72 ST\",\"BEACH 25 ST\"],\"type\":\"bar\"},{\"marker\":{\"color\":\"#6ccfb2\"},\"name\":\"Total offenses\",\"orientation\":\"h\",\"x\":[121.0,18.0,16.0,13.0,10.0,9.0,9.0,9.0,9.0,8.0,8.0,8.0,8.0,7.0,7.0,7.0,6.0,5.0,4.0,3.0,3.0,3.0],\"y\":[\"BROAD CHANNEL\",\"74 ST-BROADWAY\",\"BEACH 98 ST\",\"149 ST-GRAND CONCOURSE\",\"BEACH 90 ST\",\"138 ST-GRAND CONCOURSE\",\"14 ST\",\"WEST 8 ST-NY AQUARIUM\",\"ALABAMA AV\",\"BOTANIC GARDEN\",\"HOYT-SCHERMERHORN\",\"42 ST-GRAND CENTRAL\",\"BROOKLYN BRIDGE-CITY HALL\",\"BEACH 60 ST\",\"LIBERTY AV\",\"JACKSON AV\",\"QUEENS PLAZA\",\"BEACH 67 ST\",\"BOROUGH HALL\",\"QUEENSBORO PLZ\",\"72 ST\",\"BEACH 25 ST\"],\"type\":\"bar\"}],                        {\"title\":{\"text\":\"The Most Dangerous Subway Stations\"},\"xaxis\":{\"title\":{\"text\":\"Complaints per thousand subway entries\"}},\"template\":{\"data\":{\"bar\":[{\"error_x\":{\"color\":\"#2a3f5f\"},\"error_y\":{\"color\":\"#2a3f5f\"},\"marker\":{\"line\":{\"color\":\"#E5ECF6\",\"width\":0.5},\"pattern\":{\"fillmode\":\"overlay\",\"size\":10,\"solidity\":0.2}},\"type\":\"bar\"}],\"barpolar\":[{\"marker\":{\"line\":{\"color\":\"#E5ECF6\",\"width\":0.5},\"pattern\":{\"fillmode\":\"overlay\",\"size\":10,\"solidity\":0.2}},\"type\":\"barpolar\"}],\"carpet\":[{\"aaxis\":{\"endlinecolor\":\"#2a3f5f\",\"gridcolor\":\"white\",\"linecolor\":\"white\",\"minorgridcolor\":\"white\",\"startlinecolor\":\"#2a3f5f\"},\"baxis\":{\"endlinecolor\":\"#2a3f5f\",\"gridcolor\":\"white\",\"linecolor\":\"white\",\"minorgridcolor\":\"white\",\"startlinecolor\":\"#2a3f5f\"},\"type\":\"carpet\"}],\"choropleth\":[{\"colorbar\":{\"outlinewidth\":0,\"ticks\":\"\"},\"type\":\"choropleth\"}],\"contour\":[{\"colorbar\":{\"outlinewidth\":0,\"ticks\":\"\"},\"colorscale\":[[0.0,\"#0d0887\"],[0.1111111111111111,\"#46039f\"],[0.2222222222222222,\"#7201a8\"],[0.3333333333333333,\"#9c179e\"],[0.4444444444444444,\"#bd3786\"],[0.5555555555555556,\"#d8576b\"],[0.6666666666666666,\"#ed7953\"],[0.7777777777777778,\"#fb9f3a\"],[0.8888888888888888,\"#fdca26\"],[1.0,\"#f0f921\"]],\"type\":\"contour\"}],\"contourcarpet\":[{\"colorbar\":{\"outlinewidth\":0,\"ticks\":\"\"},\"type\":\"contourcarpet\"}],\"heatmap\":[{\"colorbar\":{\"outlinewidth\":0,\"ticks\":\"\"},\"colorscale\":[[0.0,\"#0d0887\"],[0.1111111111111111,\"#46039f\"],[0.2222222222222222,\"#7201a8\"],[0.3333333333333333,\"#9c179e\"],[0.4444444444444444,\"#bd3786\"],[0.5555555555555556,\"#d8576b\"],[0.6666666666666666,\"#ed7953\"],[0.7777777777777778,\"#fb9f3a\"],[0.8888888888888888,\"#fdca26\"],[1.0,\"#f0f921\"]],\"type\":\"heatmap\"}],\"heatmapgl\":[{\"colorbar\":{\"outlinewidth\":0,\"ticks\":\"\"},\"colorscale\":[[0.0,\"#0d0887\"],[0.1111111111111111,\"#46039f\"],[0.2222222222222222,\"#7201a8\"],[0.3333333333333333,\"#9c179e\"],[0.4444444444444444,\"#bd3786\"],[0.5555555555555556,\"#d8576b\"],[0.6666666666666666,\"#ed7953\"],[0.7777777777777778,\"#fb9f3a\"],[0.8888888888888888,\"#fdca26\"],[1.0,\"#f0f921\"]],\"type\":\"heatmapgl\"}],\"histogram\":[{\"marker\":{\"pattern\":{\"fillmode\":\"overlay\",\"size\":10,\"solidity\":0.2}},\"type\":\"histogram\"}],\"histogram2d\":[{\"colorbar\":{\"outlinewidth\":0,\"ticks\":\"\"},\"colorscale\":[[0.0,\"#0d0887\"],[0.1111111111111111,\"#46039f\"],[0.2222222222222222,\"#7201a8\"],[0.3333333333333333,\"#9c179e\"],[0.4444444444444444,\"#bd3786\"],[0.5555555555555556,\"#d8576b\"],[0.6666666666666666,\"#ed7953\"],[0.7777777777777778,\"#fb9f3a\"],[0.8888888888888888,\"#fdca26\"],[1.0,\"#f0f921\"]],\"type\":\"histogram2d\"}],\"histogram2dcontour\":[{\"colorbar\":{\"outlinewidth\":0,\"ticks\":\"\"},\"colorscale\":[[0.0,\"#0d0887\"],[0.1111111111111111,\"#46039f\"],[0.2222222222222222,\"#7201a8\"],[0.3333333333333333,\"#9c179e\"],[0.4444444444444444,\"#bd3786\"],[0.5555555555555556,\"#d8576b\"],[0.6666666666666666,\"#ed7953\"],[0.7777777777777778,\"#fb9f3a\"],[0.8888888888888888,\"#fdca26\"],[1.0,\"#f0f921\"]],\"type\":\"histogram2dcontour\"}],\"mesh3d\":[{\"colorbar\":{\"outlinewidth\":0,\"ticks\":\"\"},\"type\":\"mesh3d\"}],\"parcoords\":[{\"line\":{\"colorbar\":{\"outlinewidth\":0,\"ticks\":\"\"}},\"type\":\"parcoords\"}],\"pie\":[{\"automargin\":true,\"type\":\"pie\"}],\"scatter\":[{\"marker\":{\"colorbar\":{\"outlinewidth\":0,\"ticks\":\"\"}},\"type\":\"scatter\"}],\"scatter3d\":[{\"line\":{\"colorbar\":{\"outlinewidth\":0,\"ticks\":\"\"}},\"marker\":{\"colorbar\":{\"outlinewidth\":0,\"ticks\":\"\"}},\"type\":\"scatter3d\"}],\"scattercarpet\":[{\"marker\":{\"colorbar\":{\"outlinewidth\":0,\"ticks\":\"\"}},\"type\":\"scattercarpet\"}],\"scattergeo\":[{\"marker\":{\"colorbar\":{\"outlinewidth\":0,\"ticks\":\"\"}},\"type\":\"scattergeo\"}],\"scattergl\":[{\"marker\":{\"colorbar\":{\"outlinewidth\":0,\"ticks\":\"\"}},\"type\":\"scattergl\"}],\"scattermapbox\":[{\"marker\":{\"colorbar\":{\"outlinewidth\":0,\"ticks\":\"\"}},\"type\":\"scattermapbox\"}],\"scatterpolar\":[{\"marker\":{\"colorbar\":{\"outlinewidth\":0,\"ticks\":\"\"}},\"type\":\"scatterpolar\"}],\"scatterpolargl\":[{\"marker\":{\"colorbar\":{\"outlinewidth\":0,\"ticks\":\"\"}},\"type\":\"scatterpolargl\"}],\"scatterternary\":[{\"marker\":{\"colorbar\":{\"outlinewidth\":0,\"ticks\":\"\"}},\"type\":\"scatterternary\"}],\"surface\":[{\"colorbar\":{\"outlinewidth\":0,\"ticks\":\"\"},\"colorscale\":[[0.0,\"#0d0887\"],[0.1111111111111111,\"#46039f\"],[0.2222222222222222,\"#7201a8\"],[0.3333333333333333,\"#9c179e\"],[0.4444444444444444,\"#bd3786\"],[0.5555555555555556,\"#d8576b\"],[0.6666666666666666,\"#ed7953\"],[0.7777777777777778,\"#fb9f3a\"],[0.8888888888888888,\"#fdca26\"],[1.0,\"#f0f921\"]],\"type\":\"surface\"}],\"table\":[{\"cells\":{\"fill\":{\"color\":\"#EBF0F8\"},\"line\":{\"color\":\"white\"}},\"header\":{\"fill\":{\"color\":\"#C8D4E3\"},\"line\":{\"color\":\"white\"}},\"type\":\"table\"}]},\"layout\":{\"annotationdefaults\":{\"arrowcolor\":\"#2a3f5f\",\"arrowhead\":0,\"arrowwidth\":1},\"autotypenumbers\":\"strict\",\"coloraxis\":{\"colorbar\":{\"outlinewidth\":0,\"ticks\":\"\"}},\"colorscale\":{\"diverging\":[[0,\"#8e0152\"],[0.1,\"#c51b7d\"],[0.2,\"#de77ae\"],[0.3,\"#f1b6da\"],[0.4,\"#fde0ef\"],[0.5,\"#f7f7f7\"],[0.6,\"#e6f5d0\"],[0.7,\"#b8e186\"],[0.8,\"#7fbc41\"],[0.9,\"#4d9221\"],[1,\"#276419\"]],\"sequential\":[[0.0,\"#0d0887\"],[0.1111111111111111,\"#46039f\"],[0.2222222222222222,\"#7201a8\"],[0.3333333333333333,\"#9c179e\"],[0.4444444444444444,\"#bd3786\"],[0.5555555555555556,\"#d8576b\"],[0.6666666666666666,\"#ed7953\"],[0.7777777777777778,\"#fb9f3a\"],[0.8888888888888888,\"#fdca26\"],[1.0,\"#f0f921\"]],\"sequentialminus\":[[0.0,\"#0d0887\"],[0.1111111111111111,\"#46039f\"],[0.2222222222222222,\"#7201a8\"],[0.3333333333333333,\"#9c179e\"],[0.4444444444444444,\"#bd3786\"],[0.5555555555555556,\"#d8576b\"],[0.6666666666666666,\"#ed7953\"],[0.7777777777777778,\"#fb9f3a\"],[0.8888888888888888,\"#fdca26\"],[1.0,\"#f0f921\"]]},\"colorway\":[\"#636efa\",\"#EF553B\",\"#00cc96\",\"#ab63fa\",\"#FFA15A\",\"#19d3f3\",\"#FF6692\",\"#B6E880\",\"#FF97FF\",\"#FECB52\"],\"font\":{\"color\":\"#2a3f5f\"},\"geo\":{\"bgcolor\":\"white\",\"lakecolor\":\"white\",\"landcolor\":\"#E5ECF6\",\"showlakes\":true,\"showland\":true,\"subunitcolor\":\"white\"},\"hoverlabel\":{\"align\":\"left\"},\"hovermode\":\"closest\",\"mapbox\":{\"style\":\"light\"},\"paper_bgcolor\":\"white\",\"plot_bgcolor\":\"#E5ECF6\",\"polar\":{\"angularaxis\":{\"gridcolor\":\"white\",\"linecolor\":\"white\",\"ticks\":\"\"},\"bgcolor\":\"#E5ECF6\",\"radialaxis\":{\"gridcolor\":\"white\",\"linecolor\":\"white\",\"ticks\":\"\"}},\"scene\":{\"xaxis\":{\"backgroundcolor\":\"#E5ECF6\",\"gridcolor\":\"white\",\"gridwidth\":2,\"linecolor\":\"white\",\"showbackground\":true,\"ticks\":\"\",\"zerolinecolor\":\"white\"},\"yaxis\":{\"backgroundcolor\":\"#E5ECF6\",\"gridcolor\":\"white\",\"gridwidth\":2,\"linecolor\":\"white\",\"showbackground\":true,\"ticks\":\"\",\"zerolinecolor\":\"white\"},\"zaxis\":{\"backgroundcolor\":\"#E5ECF6\",\"gridcolor\":\"white\",\"gridwidth\":2,\"linecolor\":\"white\",\"showbackground\":true,\"ticks\":\"\",\"zerolinecolor\":\"white\"}},\"shapedefaults\":{\"line\":{\"color\":\"#2a3f5f\"}},\"ternary\":{\"aaxis\":{\"gridcolor\":\"white\",\"linecolor\":\"white\",\"ticks\":\"\"},\"baxis\":{\"gridcolor\":\"white\",\"linecolor\":\"white\",\"ticks\":\"\"},\"bgcolor\":\"#E5ECF6\",\"caxis\":{\"gridcolor\":\"white\",\"linecolor\":\"white\",\"ticks\":\"\"}},\"title\":{\"x\":0.05},\"xaxis\":{\"automargin\":true,\"gridcolor\":\"white\",\"linecolor\":\"white\",\"ticks\":\"\",\"title\":{\"standoff\":15},\"zerolinecolor\":\"white\",\"zerolinewidth\":2},\"yaxis\":{\"automargin\":true,\"gridcolor\":\"white\",\"linecolor\":\"white\",\"ticks\":\"\",\"title\":{\"standoff\":15},\"zerolinecolor\":\"white\",\"zerolinewidth\":2}}},\"barmode\":\"group\"},                        {\"responsive\": true}                    ).then(function(){\n",
       "                            \n",
       "var gd = document.getElementById('998424d0-7356-4949-b73e-38374a770e0a');\n",
       "var x = new MutationObserver(function (mutations, observer) {{\n",
       "        var display = window.getComputedStyle(gd).display;\n",
       "        if (!display || display === 'none') {{\n",
       "            console.log([gd, 'removed!']);\n",
       "            Plotly.purge(gd);\n",
       "            observer.disconnect();\n",
       "        }}\n",
       "}});\n",
       "\n",
       "// Listen for the removal of the full notebook cells\n",
       "var notebookContainer = gd.closest('#notebook-container');\n",
       "if (notebookContainer) {{\n",
       "    x.observe(notebookContainer, {childList: true});\n",
       "}}\n",
       "\n",
       "// Listen for the clearing of the current output cell\n",
       "var outputEl = gd.closest('.output');\n",
       "if (outputEl) {{\n",
       "    x.observe(outputEl, {childList: true});\n",
       "}}\n",
       "\n",
       "                        })                };                });            </script>        </div>"
      ]
     },
     "metadata": {},
     "output_type": "display_data"
    }
   ],
   "source": [
    "dangerous_data = (f_sorted_df.percentage > .013)\n",
    "y = round(f_sorted_df[dangerous_data]['percentage']*100)\n",
    "x = list(f_sorted_df[dangerous_data]['station'])\n",
    "y_2 = round(sorted_df[sorted_df.station.isin(x)]['percentage']*100)\n",
    "\n",
    "fig = go.Figure(data=[\n",
    "    go.Bar(name='Sex-related offenses against women', x=y, y=x, orientation='h',marker_color=\"#c43152\"),\n",
    "    go.Bar(name='Total offenses', x=y_2, y=x, orientation='h',marker_color=\"#6ccfb2\")\n",
    "],layout=go.Layout(title=go.layout.Title(text=\"The Most Dangerous Subway Stations\"),xaxis = dict(\n",
    "      title=\"Complaints per thousand subway entries\")))\n",
    "                \n",
    "fig.update_layout(barmode='group')\n",
    "fig.show()"
   ]
  },
  {
   "cell_type": "markdown",
   "id": "47516dc1",
   "metadata": {},
   "source": [
    "There is very little difference, station by station, between sex-related crimes against women and crimes reported generally; as one category increases, the other does as well, in direct proportion. Broad Channel is the exception. Both categories are unusually bad, but the proportion of sex-related crimes is lower. Let's see what kinds of crimes are being reported there."
   ]
  },
  {
   "cell_type": "code",
   "execution_count": 275,
   "id": "1677b2dd",
   "metadata": {},
   "outputs": [
    {
     "data": {
      "text/html": [
       "<div>\n",
       "<style scoped>\n",
       "    .dataframe tbody tr th:only-of-type {\n",
       "        vertical-align: middle;\n",
       "    }\n",
       "\n",
       "    .dataframe tbody tr th {\n",
       "        vertical-align: top;\n",
       "    }\n",
       "\n",
       "    .dataframe thead th {\n",
       "        text-align: right;\n",
       "    }\n",
       "</style>\n",
       "<table border=\"1\" class=\"dataframe\">\n",
       "  <thead>\n",
       "    <tr style=\"text-align: right;\">\n",
       "      <th></th>\n",
       "      <th>ofns_desc</th>\n",
       "      <th>count</th>\n",
       "    </tr>\n",
       "  </thead>\n",
       "  <tbody>\n",
       "    <tr>\n",
       "      <th>0</th>\n",
       "      <td>CRIMINAL MISCHIEF &amp; RELATED OF</td>\n",
       "      <td>51</td>\n",
       "    </tr>\n",
       "    <tr>\n",
       "      <th>1</th>\n",
       "      <td>ASSAULT 3 &amp; RELATED OFFENSES</td>\n",
       "      <td>30</td>\n",
       "    </tr>\n",
       "    <tr>\n",
       "      <th>2</th>\n",
       "      <td>GRAND LARCENY</td>\n",
       "      <td>27</td>\n",
       "    </tr>\n",
       "    <tr>\n",
       "      <th>3</th>\n",
       "      <td>DANGEROUS WEAPONS</td>\n",
       "      <td>26</td>\n",
       "    </tr>\n",
       "    <tr>\n",
       "      <th>4</th>\n",
       "      <td>OFFENSES AGAINST PUBLIC ADMINI</td>\n",
       "      <td>26</td>\n",
       "    </tr>\n",
       "    <tr>\n",
       "      <th>5</th>\n",
       "      <td>PETIT LARCENY</td>\n",
       "      <td>25</td>\n",
       "    </tr>\n",
       "    <tr>\n",
       "      <th>6</th>\n",
       "      <td>HARRASSMENT 2</td>\n",
       "      <td>24</td>\n",
       "    </tr>\n",
       "    <tr>\n",
       "      <th>7</th>\n",
       "      <td>DANGEROUS DRUGS</td>\n",
       "      <td>17</td>\n",
       "    </tr>\n",
       "    <tr>\n",
       "      <th>8</th>\n",
       "      <td>FELONY ASSAULT</td>\n",
       "      <td>16</td>\n",
       "    </tr>\n",
       "    <tr>\n",
       "      <th>9</th>\n",
       "      <td>ROBBERY</td>\n",
       "      <td>14</td>\n",
       "    </tr>\n",
       "    <tr>\n",
       "      <th>10</th>\n",
       "      <td>OFF. AGNST PUB ORD SENSBLTY &amp;</td>\n",
       "      <td>9</td>\n",
       "    </tr>\n",
       "    <tr>\n",
       "      <th>11</th>\n",
       "      <td>MISCELLANEOUS PENAL LAW</td>\n",
       "      <td>5</td>\n",
       "    </tr>\n",
       "    <tr>\n",
       "      <th>12</th>\n",
       "      <td>SEX CRIMES</td>\n",
       "      <td>5</td>\n",
       "    </tr>\n",
       "    <tr>\n",
       "      <th>13</th>\n",
       "      <td>FORGERY</td>\n",
       "      <td>2</td>\n",
       "    </tr>\n",
       "    <tr>\n",
       "      <th>14</th>\n",
       "      <td>POSSESSION OF STOLEN PROPERTY</td>\n",
       "      <td>2</td>\n",
       "    </tr>\n",
       "    <tr>\n",
       "      <th>15</th>\n",
       "      <td>FRAUDS</td>\n",
       "      <td>1</td>\n",
       "    </tr>\n",
       "    <tr>\n",
       "      <th>16</th>\n",
       "      <td>OFFENSES AGAINST PUBLIC SAFETY</td>\n",
       "      <td>1</td>\n",
       "    </tr>\n",
       "    <tr>\n",
       "      <th>17</th>\n",
       "      <td>OFFENSES AGAINST THE PERSON</td>\n",
       "      <td>1</td>\n",
       "    </tr>\n",
       "    <tr>\n",
       "      <th>18</th>\n",
       "      <td>OFFENSES INVOLVING FRAUD</td>\n",
       "      <td>1</td>\n",
       "    </tr>\n",
       "    <tr>\n",
       "      <th>19</th>\n",
       "      <td>DISORDERLY CONDUCT</td>\n",
       "      <td>1</td>\n",
       "    </tr>\n",
       "    <tr>\n",
       "      <th>20</th>\n",
       "      <td>CRIMINAL TRESPASS</td>\n",
       "      <td>1</td>\n",
       "    </tr>\n",
       "    <tr>\n",
       "      <th>21</th>\n",
       "      <td>ADMINISTRATIVE CODE</td>\n",
       "      <td>1</td>\n",
       "    </tr>\n",
       "  </tbody>\n",
       "</table>\n",
       "</div>"
      ],
      "text/plain": [
       "                         ofns_desc  count\n",
       "0   CRIMINAL MISCHIEF & RELATED OF     51\n",
       "1     ASSAULT 3 & RELATED OFFENSES     30\n",
       "2                    GRAND LARCENY     27\n",
       "3                DANGEROUS WEAPONS     26\n",
       "4   OFFENSES AGAINST PUBLIC ADMINI     26\n",
       "5                    PETIT LARCENY     25\n",
       "6                    HARRASSMENT 2     24\n",
       "7                  DANGEROUS DRUGS     17\n",
       "8                   FELONY ASSAULT     16\n",
       "9                          ROBBERY     14\n",
       "10   OFF. AGNST PUB ORD SENSBLTY &      9\n",
       "11         MISCELLANEOUS PENAL LAW      5\n",
       "12                      SEX CRIMES      5\n",
       "13                         FORGERY      2\n",
       "14   POSSESSION OF STOLEN PROPERTY      2\n",
       "15                          FRAUDS      1\n",
       "16  OFFENSES AGAINST PUBLIC SAFETY      1\n",
       "17     OFFENSES AGAINST THE PERSON      1\n",
       "18        OFFENSES INVOLVING FRAUD      1\n",
       "19              DISORDERLY CONDUCT      1\n",
       "20               CRIMINAL TRESPASS      1\n",
       "21             ADMINISTRATIVE CODE      1"
      ]
     },
     "execution_count": 275,
     "metadata": {},
     "output_type": "execute_result"
    }
   ],
   "source": [
    "broad_df = comp_w[comp_w.station == \"BROAD CHANNEL\"][['ofns_desc']].copy()\n",
    "broad_df['count'] = 1\n",
    "broad_offenses = broad_df.groupby('ofns_desc').sum('count').sort_values('count', ascending=False).reset_index()\n",
    "broad_offenses"
   ]
  },
  {
   "cell_type": "code",
   "execution_count": 323,
   "id": "41e9185b",
   "metadata": {},
   "outputs": [
    {
     "data": {
      "application/vnd.plotly.v1+json": {
       "config": {
        "plotlyServerURL": "https://plot.ly"
       },
       "data": [
        {
         "marker": {
          "color": "#639fc0"
         },
         "type": "bar",
         "x": [
          "CRIMINAL MISCHIEF & RELATED OF",
          "ASSAULT 3 & RELATED OFFENSES",
          "GRAND LARCENY",
          "DANGEROUS WEAPONS",
          "OFFENSES AGAINST PUBLIC ADMINI",
          "PETIT LARCENY",
          "HARRASSMENT 2",
          "DANGEROUS DRUGS",
          "FELONY ASSAULT",
          "ROBBERY",
          "OFF. AGNST PUB ORD SENSBLTY &",
          "MISCELLANEOUS PENAL LAW",
          "SEX CRIMES",
          "FORGERY",
          "POSSESSION OF STOLEN PROPERTY",
          "FRAUDS",
          "OFFENSES AGAINST PUBLIC SAFETY",
          "OFFENSES AGAINST THE PERSON",
          "OFFENSES INVOLVING FRAUD",
          "DISORDERLY CONDUCT",
          "CRIMINAL TRESPASS",
          "ADMINISTRATIVE CODE"
         ],
         "y": [
          51,
          30,
          27,
          26,
          26,
          25,
          24,
          17,
          16,
          14,
          9,
          5,
          5,
          2,
          2,
          1,
          1,
          1,
          1,
          1,
          1,
          1
         ]
        }
       ],
       "layout": {
        "barmode": "group",
        "template": {
         "data": {
          "bar": [
           {
            "error_x": {
             "color": "#2a3f5f"
            },
            "error_y": {
             "color": "#2a3f5f"
            },
            "marker": {
             "line": {
              "color": "#E5ECF6",
              "width": 0.5
             },
             "pattern": {
              "fillmode": "overlay",
              "size": 10,
              "solidity": 0.2
             }
            },
            "type": "bar"
           }
          ],
          "barpolar": [
           {
            "marker": {
             "line": {
              "color": "#E5ECF6",
              "width": 0.5
             },
             "pattern": {
              "fillmode": "overlay",
              "size": 10,
              "solidity": 0.2
             }
            },
            "type": "barpolar"
           }
          ],
          "carpet": [
           {
            "aaxis": {
             "endlinecolor": "#2a3f5f",
             "gridcolor": "white",
             "linecolor": "white",
             "minorgridcolor": "white",
             "startlinecolor": "#2a3f5f"
            },
            "baxis": {
             "endlinecolor": "#2a3f5f",
             "gridcolor": "white",
             "linecolor": "white",
             "minorgridcolor": "white",
             "startlinecolor": "#2a3f5f"
            },
            "type": "carpet"
           }
          ],
          "choropleth": [
           {
            "colorbar": {
             "outlinewidth": 0,
             "ticks": ""
            },
            "type": "choropleth"
           }
          ],
          "contour": [
           {
            "colorbar": {
             "outlinewidth": 0,
             "ticks": ""
            },
            "colorscale": [
             [
              0,
              "#0d0887"
             ],
             [
              0.1111111111111111,
              "#46039f"
             ],
             [
              0.2222222222222222,
              "#7201a8"
             ],
             [
              0.3333333333333333,
              "#9c179e"
             ],
             [
              0.4444444444444444,
              "#bd3786"
             ],
             [
              0.5555555555555556,
              "#d8576b"
             ],
             [
              0.6666666666666666,
              "#ed7953"
             ],
             [
              0.7777777777777778,
              "#fb9f3a"
             ],
             [
              0.8888888888888888,
              "#fdca26"
             ],
             [
              1,
              "#f0f921"
             ]
            ],
            "type": "contour"
           }
          ],
          "contourcarpet": [
           {
            "colorbar": {
             "outlinewidth": 0,
             "ticks": ""
            },
            "type": "contourcarpet"
           }
          ],
          "heatmap": [
           {
            "colorbar": {
             "outlinewidth": 0,
             "ticks": ""
            },
            "colorscale": [
             [
              0,
              "#0d0887"
             ],
             [
              0.1111111111111111,
              "#46039f"
             ],
             [
              0.2222222222222222,
              "#7201a8"
             ],
             [
              0.3333333333333333,
              "#9c179e"
             ],
             [
              0.4444444444444444,
              "#bd3786"
             ],
             [
              0.5555555555555556,
              "#d8576b"
             ],
             [
              0.6666666666666666,
              "#ed7953"
             ],
             [
              0.7777777777777778,
              "#fb9f3a"
             ],
             [
              0.8888888888888888,
              "#fdca26"
             ],
             [
              1,
              "#f0f921"
             ]
            ],
            "type": "heatmap"
           }
          ],
          "heatmapgl": [
           {
            "colorbar": {
             "outlinewidth": 0,
             "ticks": ""
            },
            "colorscale": [
             [
              0,
              "#0d0887"
             ],
             [
              0.1111111111111111,
              "#46039f"
             ],
             [
              0.2222222222222222,
              "#7201a8"
             ],
             [
              0.3333333333333333,
              "#9c179e"
             ],
             [
              0.4444444444444444,
              "#bd3786"
             ],
             [
              0.5555555555555556,
              "#d8576b"
             ],
             [
              0.6666666666666666,
              "#ed7953"
             ],
             [
              0.7777777777777778,
              "#fb9f3a"
             ],
             [
              0.8888888888888888,
              "#fdca26"
             ],
             [
              1,
              "#f0f921"
             ]
            ],
            "type": "heatmapgl"
           }
          ],
          "histogram": [
           {
            "marker": {
             "pattern": {
              "fillmode": "overlay",
              "size": 10,
              "solidity": 0.2
             }
            },
            "type": "histogram"
           }
          ],
          "histogram2d": [
           {
            "colorbar": {
             "outlinewidth": 0,
             "ticks": ""
            },
            "colorscale": [
             [
              0,
              "#0d0887"
             ],
             [
              0.1111111111111111,
              "#46039f"
             ],
             [
              0.2222222222222222,
              "#7201a8"
             ],
             [
              0.3333333333333333,
              "#9c179e"
             ],
             [
              0.4444444444444444,
              "#bd3786"
             ],
             [
              0.5555555555555556,
              "#d8576b"
             ],
             [
              0.6666666666666666,
              "#ed7953"
             ],
             [
              0.7777777777777778,
              "#fb9f3a"
             ],
             [
              0.8888888888888888,
              "#fdca26"
             ],
             [
              1,
              "#f0f921"
             ]
            ],
            "type": "histogram2d"
           }
          ],
          "histogram2dcontour": [
           {
            "colorbar": {
             "outlinewidth": 0,
             "ticks": ""
            },
            "colorscale": [
             [
              0,
              "#0d0887"
             ],
             [
              0.1111111111111111,
              "#46039f"
             ],
             [
              0.2222222222222222,
              "#7201a8"
             ],
             [
              0.3333333333333333,
              "#9c179e"
             ],
             [
              0.4444444444444444,
              "#bd3786"
             ],
             [
              0.5555555555555556,
              "#d8576b"
             ],
             [
              0.6666666666666666,
              "#ed7953"
             ],
             [
              0.7777777777777778,
              "#fb9f3a"
             ],
             [
              0.8888888888888888,
              "#fdca26"
             ],
             [
              1,
              "#f0f921"
             ]
            ],
            "type": "histogram2dcontour"
           }
          ],
          "mesh3d": [
           {
            "colorbar": {
             "outlinewidth": 0,
             "ticks": ""
            },
            "type": "mesh3d"
           }
          ],
          "parcoords": [
           {
            "line": {
             "colorbar": {
              "outlinewidth": 0,
              "ticks": ""
             }
            },
            "type": "parcoords"
           }
          ],
          "pie": [
           {
            "automargin": true,
            "type": "pie"
           }
          ],
          "scatter": [
           {
            "marker": {
             "colorbar": {
              "outlinewidth": 0,
              "ticks": ""
             }
            },
            "type": "scatter"
           }
          ],
          "scatter3d": [
           {
            "line": {
             "colorbar": {
              "outlinewidth": 0,
              "ticks": ""
             }
            },
            "marker": {
             "colorbar": {
              "outlinewidth": 0,
              "ticks": ""
             }
            },
            "type": "scatter3d"
           }
          ],
          "scattercarpet": [
           {
            "marker": {
             "colorbar": {
              "outlinewidth": 0,
              "ticks": ""
             }
            },
            "type": "scattercarpet"
           }
          ],
          "scattergeo": [
           {
            "marker": {
             "colorbar": {
              "outlinewidth": 0,
              "ticks": ""
             }
            },
            "type": "scattergeo"
           }
          ],
          "scattergl": [
           {
            "marker": {
             "colorbar": {
              "outlinewidth": 0,
              "ticks": ""
             }
            },
            "type": "scattergl"
           }
          ],
          "scattermapbox": [
           {
            "marker": {
             "colorbar": {
              "outlinewidth": 0,
              "ticks": ""
             }
            },
            "type": "scattermapbox"
           }
          ],
          "scatterpolar": [
           {
            "marker": {
             "colorbar": {
              "outlinewidth": 0,
              "ticks": ""
             }
            },
            "type": "scatterpolar"
           }
          ],
          "scatterpolargl": [
           {
            "marker": {
             "colorbar": {
              "outlinewidth": 0,
              "ticks": ""
             }
            },
            "type": "scatterpolargl"
           }
          ],
          "scatterternary": [
           {
            "marker": {
             "colorbar": {
              "outlinewidth": 0,
              "ticks": ""
             }
            },
            "type": "scatterternary"
           }
          ],
          "surface": [
           {
            "colorbar": {
             "outlinewidth": 0,
             "ticks": ""
            },
            "colorscale": [
             [
              0,
              "#0d0887"
             ],
             [
              0.1111111111111111,
              "#46039f"
             ],
             [
              0.2222222222222222,
              "#7201a8"
             ],
             [
              0.3333333333333333,
              "#9c179e"
             ],
             [
              0.4444444444444444,
              "#bd3786"
             ],
             [
              0.5555555555555556,
              "#d8576b"
             ],
             [
              0.6666666666666666,
              "#ed7953"
             ],
             [
              0.7777777777777778,
              "#fb9f3a"
             ],
             [
              0.8888888888888888,
              "#fdca26"
             ],
             [
              1,
              "#f0f921"
             ]
            ],
            "type": "surface"
           }
          ],
          "table": [
           {
            "cells": {
             "fill": {
              "color": "#EBF0F8"
             },
             "line": {
              "color": "white"
             }
            },
            "header": {
             "fill": {
              "color": "#C8D4E3"
             },
             "line": {
              "color": "white"
             }
            },
            "type": "table"
           }
          ]
         },
         "layout": {
          "annotationdefaults": {
           "arrowcolor": "#2a3f5f",
           "arrowhead": 0,
           "arrowwidth": 1
          },
          "autotypenumbers": "strict",
          "coloraxis": {
           "colorbar": {
            "outlinewidth": 0,
            "ticks": ""
           }
          },
          "colorscale": {
           "diverging": [
            [
             0,
             "#8e0152"
            ],
            [
             0.1,
             "#c51b7d"
            ],
            [
             0.2,
             "#de77ae"
            ],
            [
             0.3,
             "#f1b6da"
            ],
            [
             0.4,
             "#fde0ef"
            ],
            [
             0.5,
             "#f7f7f7"
            ],
            [
             0.6,
             "#e6f5d0"
            ],
            [
             0.7,
             "#b8e186"
            ],
            [
             0.8,
             "#7fbc41"
            ],
            [
             0.9,
             "#4d9221"
            ],
            [
             1,
             "#276419"
            ]
           ],
           "sequential": [
            [
             0,
             "#0d0887"
            ],
            [
             0.1111111111111111,
             "#46039f"
            ],
            [
             0.2222222222222222,
             "#7201a8"
            ],
            [
             0.3333333333333333,
             "#9c179e"
            ],
            [
             0.4444444444444444,
             "#bd3786"
            ],
            [
             0.5555555555555556,
             "#d8576b"
            ],
            [
             0.6666666666666666,
             "#ed7953"
            ],
            [
             0.7777777777777778,
             "#fb9f3a"
            ],
            [
             0.8888888888888888,
             "#fdca26"
            ],
            [
             1,
             "#f0f921"
            ]
           ],
           "sequentialminus": [
            [
             0,
             "#0d0887"
            ],
            [
             0.1111111111111111,
             "#46039f"
            ],
            [
             0.2222222222222222,
             "#7201a8"
            ],
            [
             0.3333333333333333,
             "#9c179e"
            ],
            [
             0.4444444444444444,
             "#bd3786"
            ],
            [
             0.5555555555555556,
             "#d8576b"
            ],
            [
             0.6666666666666666,
             "#ed7953"
            ],
            [
             0.7777777777777778,
             "#fb9f3a"
            ],
            [
             0.8888888888888888,
             "#fdca26"
            ],
            [
             1,
             "#f0f921"
            ]
           ]
          },
          "colorway": [
           "#636efa",
           "#EF553B",
           "#00cc96",
           "#ab63fa",
           "#FFA15A",
           "#19d3f3",
           "#FF6692",
           "#B6E880",
           "#FF97FF",
           "#FECB52"
          ],
          "font": {
           "color": "#2a3f5f"
          },
          "geo": {
           "bgcolor": "white",
           "lakecolor": "white",
           "landcolor": "#E5ECF6",
           "showlakes": true,
           "showland": true,
           "subunitcolor": "white"
          },
          "hoverlabel": {
           "align": "left"
          },
          "hovermode": "closest",
          "mapbox": {
           "style": "light"
          },
          "paper_bgcolor": "white",
          "plot_bgcolor": "#E5ECF6",
          "polar": {
           "angularaxis": {
            "gridcolor": "white",
            "linecolor": "white",
            "ticks": ""
           },
           "bgcolor": "#E5ECF6",
           "radialaxis": {
            "gridcolor": "white",
            "linecolor": "white",
            "ticks": ""
           }
          },
          "scene": {
           "xaxis": {
            "backgroundcolor": "#E5ECF6",
            "gridcolor": "white",
            "gridwidth": 2,
            "linecolor": "white",
            "showbackground": true,
            "ticks": "",
            "zerolinecolor": "white"
           },
           "yaxis": {
            "backgroundcolor": "#E5ECF6",
            "gridcolor": "white",
            "gridwidth": 2,
            "linecolor": "white",
            "showbackground": true,
            "ticks": "",
            "zerolinecolor": "white"
           },
           "zaxis": {
            "backgroundcolor": "#E5ECF6",
            "gridcolor": "white",
            "gridwidth": 2,
            "linecolor": "white",
            "showbackground": true,
            "ticks": "",
            "zerolinecolor": "white"
           }
          },
          "shapedefaults": {
           "line": {
            "color": "#2a3f5f"
           }
          },
          "ternary": {
           "aaxis": {
            "gridcolor": "white",
            "linecolor": "white",
            "ticks": ""
           },
           "baxis": {
            "gridcolor": "white",
            "linecolor": "white",
            "ticks": ""
           },
           "bgcolor": "#E5ECF6",
           "caxis": {
            "gridcolor": "white",
            "linecolor": "white",
            "ticks": ""
           }
          },
          "title": {
           "x": 0.05
          },
          "xaxis": {
           "automargin": true,
           "gridcolor": "white",
           "linecolor": "white",
           "ticks": "",
           "title": {
            "standoff": 15
           },
           "zerolinecolor": "white",
           "zerolinewidth": 2
          },
          "yaxis": {
           "automargin": true,
           "gridcolor": "white",
           "linecolor": "white",
           "ticks": "",
           "title": {
            "standoff": 15
           },
           "zerolinecolor": "white",
           "zerolinewidth": 2
          }
         }
        },
        "title": {
         "text": "What's happening at Broad Channel?"
        },
        "xaxis": {
         "title": {
          "text": "Offense descriptions"
         }
        },
        "yaxis": {
         "title": {
          "text": "Number of complaints 9/19 - 11/19"
         }
        }
       }
      },
      "text/html": [
       "<div>                            <div id=\"b7909dad-3e23-48db-be15-1749011821eb\" class=\"plotly-graph-div\" style=\"height:525px; width:100%;\"></div>            <script type=\"text/javascript\">                require([\"plotly\"], function(Plotly) {                    window.PLOTLYENV=window.PLOTLYENV || {};                                    if (document.getElementById(\"b7909dad-3e23-48db-be15-1749011821eb\")) {                    Plotly.newPlot(                        \"b7909dad-3e23-48db-be15-1749011821eb\",                        [{\"marker\":{\"color\":\"#639fc0\"},\"x\":[\"CRIMINAL MISCHIEF & RELATED OF\",\"ASSAULT 3 & RELATED OFFENSES\",\"GRAND LARCENY\",\"DANGEROUS WEAPONS\",\"OFFENSES AGAINST PUBLIC ADMINI\",\"PETIT LARCENY\",\"HARRASSMENT 2\",\"DANGEROUS DRUGS\",\"FELONY ASSAULT\",\"ROBBERY\",\"OFF. AGNST PUB ORD SENSBLTY &\",\"MISCELLANEOUS PENAL LAW\",\"SEX CRIMES\",\"FORGERY\",\"POSSESSION OF STOLEN PROPERTY\",\"FRAUDS\",\"OFFENSES AGAINST PUBLIC SAFETY\",\"OFFENSES AGAINST THE PERSON\",\"OFFENSES INVOLVING FRAUD\",\"DISORDERLY CONDUCT\",\"CRIMINAL TRESPASS\",\"ADMINISTRATIVE CODE\"],\"y\":[51,30,27,26,26,25,24,17,16,14,9,5,5,2,2,1,1,1,1,1,1,1],\"type\":\"bar\"}],                        {\"title\":{\"text\":\"What's happening at Broad Channel?\"},\"xaxis\":{\"title\":{\"text\":\"Offense descriptions\"}},\"yaxis\":{\"title\":{\"text\":\"Number of complaints 9/19 - 11/19\"}},\"template\":{\"data\":{\"bar\":[{\"error_x\":{\"color\":\"#2a3f5f\"},\"error_y\":{\"color\":\"#2a3f5f\"},\"marker\":{\"line\":{\"color\":\"#E5ECF6\",\"width\":0.5},\"pattern\":{\"fillmode\":\"overlay\",\"size\":10,\"solidity\":0.2}},\"type\":\"bar\"}],\"barpolar\":[{\"marker\":{\"line\":{\"color\":\"#E5ECF6\",\"width\":0.5},\"pattern\":{\"fillmode\":\"overlay\",\"size\":10,\"solidity\":0.2}},\"type\":\"barpolar\"}],\"carpet\":[{\"aaxis\":{\"endlinecolor\":\"#2a3f5f\",\"gridcolor\":\"white\",\"linecolor\":\"white\",\"minorgridcolor\":\"white\",\"startlinecolor\":\"#2a3f5f\"},\"baxis\":{\"endlinecolor\":\"#2a3f5f\",\"gridcolor\":\"white\",\"linecolor\":\"white\",\"minorgridcolor\":\"white\",\"startlinecolor\":\"#2a3f5f\"},\"type\":\"carpet\"}],\"choropleth\":[{\"colorbar\":{\"outlinewidth\":0,\"ticks\":\"\"},\"type\":\"choropleth\"}],\"contour\":[{\"colorbar\":{\"outlinewidth\":0,\"ticks\":\"\"},\"colorscale\":[[0.0,\"#0d0887\"],[0.1111111111111111,\"#46039f\"],[0.2222222222222222,\"#7201a8\"],[0.3333333333333333,\"#9c179e\"],[0.4444444444444444,\"#bd3786\"],[0.5555555555555556,\"#d8576b\"],[0.6666666666666666,\"#ed7953\"],[0.7777777777777778,\"#fb9f3a\"],[0.8888888888888888,\"#fdca26\"],[1.0,\"#f0f921\"]],\"type\":\"contour\"}],\"contourcarpet\":[{\"colorbar\":{\"outlinewidth\":0,\"ticks\":\"\"},\"type\":\"contourcarpet\"}],\"heatmap\":[{\"colorbar\":{\"outlinewidth\":0,\"ticks\":\"\"},\"colorscale\":[[0.0,\"#0d0887\"],[0.1111111111111111,\"#46039f\"],[0.2222222222222222,\"#7201a8\"],[0.3333333333333333,\"#9c179e\"],[0.4444444444444444,\"#bd3786\"],[0.5555555555555556,\"#d8576b\"],[0.6666666666666666,\"#ed7953\"],[0.7777777777777778,\"#fb9f3a\"],[0.8888888888888888,\"#fdca26\"],[1.0,\"#f0f921\"]],\"type\":\"heatmap\"}],\"heatmapgl\":[{\"colorbar\":{\"outlinewidth\":0,\"ticks\":\"\"},\"colorscale\":[[0.0,\"#0d0887\"],[0.1111111111111111,\"#46039f\"],[0.2222222222222222,\"#7201a8\"],[0.3333333333333333,\"#9c179e\"],[0.4444444444444444,\"#bd3786\"],[0.5555555555555556,\"#d8576b\"],[0.6666666666666666,\"#ed7953\"],[0.7777777777777778,\"#fb9f3a\"],[0.8888888888888888,\"#fdca26\"],[1.0,\"#f0f921\"]],\"type\":\"heatmapgl\"}],\"histogram\":[{\"marker\":{\"pattern\":{\"fillmode\":\"overlay\",\"size\":10,\"solidity\":0.2}},\"type\":\"histogram\"}],\"histogram2d\":[{\"colorbar\":{\"outlinewidth\":0,\"ticks\":\"\"},\"colorscale\":[[0.0,\"#0d0887\"],[0.1111111111111111,\"#46039f\"],[0.2222222222222222,\"#7201a8\"],[0.3333333333333333,\"#9c179e\"],[0.4444444444444444,\"#bd3786\"],[0.5555555555555556,\"#d8576b\"],[0.6666666666666666,\"#ed7953\"],[0.7777777777777778,\"#fb9f3a\"],[0.8888888888888888,\"#fdca26\"],[1.0,\"#f0f921\"]],\"type\":\"histogram2d\"}],\"histogram2dcontour\":[{\"colorbar\":{\"outlinewidth\":0,\"ticks\":\"\"},\"colorscale\":[[0.0,\"#0d0887\"],[0.1111111111111111,\"#46039f\"],[0.2222222222222222,\"#7201a8\"],[0.3333333333333333,\"#9c179e\"],[0.4444444444444444,\"#bd3786\"],[0.5555555555555556,\"#d8576b\"],[0.6666666666666666,\"#ed7953\"],[0.7777777777777778,\"#fb9f3a\"],[0.8888888888888888,\"#fdca26\"],[1.0,\"#f0f921\"]],\"type\":\"histogram2dcontour\"}],\"mesh3d\":[{\"colorbar\":{\"outlinewidth\":0,\"ticks\":\"\"},\"type\":\"mesh3d\"}],\"parcoords\":[{\"line\":{\"colorbar\":{\"outlinewidth\":0,\"ticks\":\"\"}},\"type\":\"parcoords\"}],\"pie\":[{\"automargin\":true,\"type\":\"pie\"}],\"scatter\":[{\"marker\":{\"colorbar\":{\"outlinewidth\":0,\"ticks\":\"\"}},\"type\":\"scatter\"}],\"scatter3d\":[{\"line\":{\"colorbar\":{\"outlinewidth\":0,\"ticks\":\"\"}},\"marker\":{\"colorbar\":{\"outlinewidth\":0,\"ticks\":\"\"}},\"type\":\"scatter3d\"}],\"scattercarpet\":[{\"marker\":{\"colorbar\":{\"outlinewidth\":0,\"ticks\":\"\"}},\"type\":\"scattercarpet\"}],\"scattergeo\":[{\"marker\":{\"colorbar\":{\"outlinewidth\":0,\"ticks\":\"\"}},\"type\":\"scattergeo\"}],\"scattergl\":[{\"marker\":{\"colorbar\":{\"outlinewidth\":0,\"ticks\":\"\"}},\"type\":\"scattergl\"}],\"scattermapbox\":[{\"marker\":{\"colorbar\":{\"outlinewidth\":0,\"ticks\":\"\"}},\"type\":\"scattermapbox\"}],\"scatterpolar\":[{\"marker\":{\"colorbar\":{\"outlinewidth\":0,\"ticks\":\"\"}},\"type\":\"scatterpolar\"}],\"scatterpolargl\":[{\"marker\":{\"colorbar\":{\"outlinewidth\":0,\"ticks\":\"\"}},\"type\":\"scatterpolargl\"}],\"scatterternary\":[{\"marker\":{\"colorbar\":{\"outlinewidth\":0,\"ticks\":\"\"}},\"type\":\"scatterternary\"}],\"surface\":[{\"colorbar\":{\"outlinewidth\":0,\"ticks\":\"\"},\"colorscale\":[[0.0,\"#0d0887\"],[0.1111111111111111,\"#46039f\"],[0.2222222222222222,\"#7201a8\"],[0.3333333333333333,\"#9c179e\"],[0.4444444444444444,\"#bd3786\"],[0.5555555555555556,\"#d8576b\"],[0.6666666666666666,\"#ed7953\"],[0.7777777777777778,\"#fb9f3a\"],[0.8888888888888888,\"#fdca26\"],[1.0,\"#f0f921\"]],\"type\":\"surface\"}],\"table\":[{\"cells\":{\"fill\":{\"color\":\"#EBF0F8\"},\"line\":{\"color\":\"white\"}},\"header\":{\"fill\":{\"color\":\"#C8D4E3\"},\"line\":{\"color\":\"white\"}},\"type\":\"table\"}]},\"layout\":{\"annotationdefaults\":{\"arrowcolor\":\"#2a3f5f\",\"arrowhead\":0,\"arrowwidth\":1},\"autotypenumbers\":\"strict\",\"coloraxis\":{\"colorbar\":{\"outlinewidth\":0,\"ticks\":\"\"}},\"colorscale\":{\"diverging\":[[0,\"#8e0152\"],[0.1,\"#c51b7d\"],[0.2,\"#de77ae\"],[0.3,\"#f1b6da\"],[0.4,\"#fde0ef\"],[0.5,\"#f7f7f7\"],[0.6,\"#e6f5d0\"],[0.7,\"#b8e186\"],[0.8,\"#7fbc41\"],[0.9,\"#4d9221\"],[1,\"#276419\"]],\"sequential\":[[0.0,\"#0d0887\"],[0.1111111111111111,\"#46039f\"],[0.2222222222222222,\"#7201a8\"],[0.3333333333333333,\"#9c179e\"],[0.4444444444444444,\"#bd3786\"],[0.5555555555555556,\"#d8576b\"],[0.6666666666666666,\"#ed7953\"],[0.7777777777777778,\"#fb9f3a\"],[0.8888888888888888,\"#fdca26\"],[1.0,\"#f0f921\"]],\"sequentialminus\":[[0.0,\"#0d0887\"],[0.1111111111111111,\"#46039f\"],[0.2222222222222222,\"#7201a8\"],[0.3333333333333333,\"#9c179e\"],[0.4444444444444444,\"#bd3786\"],[0.5555555555555556,\"#d8576b\"],[0.6666666666666666,\"#ed7953\"],[0.7777777777777778,\"#fb9f3a\"],[0.8888888888888888,\"#fdca26\"],[1.0,\"#f0f921\"]]},\"colorway\":[\"#636efa\",\"#EF553B\",\"#00cc96\",\"#ab63fa\",\"#FFA15A\",\"#19d3f3\",\"#FF6692\",\"#B6E880\",\"#FF97FF\",\"#FECB52\"],\"font\":{\"color\":\"#2a3f5f\"},\"geo\":{\"bgcolor\":\"white\",\"lakecolor\":\"white\",\"landcolor\":\"#E5ECF6\",\"showlakes\":true,\"showland\":true,\"subunitcolor\":\"white\"},\"hoverlabel\":{\"align\":\"left\"},\"hovermode\":\"closest\",\"mapbox\":{\"style\":\"light\"},\"paper_bgcolor\":\"white\",\"plot_bgcolor\":\"#E5ECF6\",\"polar\":{\"angularaxis\":{\"gridcolor\":\"white\",\"linecolor\":\"white\",\"ticks\":\"\"},\"bgcolor\":\"#E5ECF6\",\"radialaxis\":{\"gridcolor\":\"white\",\"linecolor\":\"white\",\"ticks\":\"\"}},\"scene\":{\"xaxis\":{\"backgroundcolor\":\"#E5ECF6\",\"gridcolor\":\"white\",\"gridwidth\":2,\"linecolor\":\"white\",\"showbackground\":true,\"ticks\":\"\",\"zerolinecolor\":\"white\"},\"yaxis\":{\"backgroundcolor\":\"#E5ECF6\",\"gridcolor\":\"white\",\"gridwidth\":2,\"linecolor\":\"white\",\"showbackground\":true,\"ticks\":\"\",\"zerolinecolor\":\"white\"},\"zaxis\":{\"backgroundcolor\":\"#E5ECF6\",\"gridcolor\":\"white\",\"gridwidth\":2,\"linecolor\":\"white\",\"showbackground\":true,\"ticks\":\"\",\"zerolinecolor\":\"white\"}},\"shapedefaults\":{\"line\":{\"color\":\"#2a3f5f\"}},\"ternary\":{\"aaxis\":{\"gridcolor\":\"white\",\"linecolor\":\"white\",\"ticks\":\"\"},\"baxis\":{\"gridcolor\":\"white\",\"linecolor\":\"white\",\"ticks\":\"\"},\"bgcolor\":\"#E5ECF6\",\"caxis\":{\"gridcolor\":\"white\",\"linecolor\":\"white\",\"ticks\":\"\"}},\"title\":{\"x\":0.05},\"xaxis\":{\"automargin\":true,\"gridcolor\":\"white\",\"linecolor\":\"white\",\"ticks\":\"\",\"title\":{\"standoff\":15},\"zerolinecolor\":\"white\",\"zerolinewidth\":2},\"yaxis\":{\"automargin\":true,\"gridcolor\":\"white\",\"linecolor\":\"white\",\"ticks\":\"\",\"title\":{\"standoff\":15},\"zerolinecolor\":\"white\",\"zerolinewidth\":2}}},\"barmode\":\"group\"},                        {\"responsive\": true}                    ).then(function(){\n",
       "                            \n",
       "var gd = document.getElementById('b7909dad-3e23-48db-be15-1749011821eb');\n",
       "var x = new MutationObserver(function (mutations, observer) {{\n",
       "        var display = window.getComputedStyle(gd).display;\n",
       "        if (!display || display === 'none') {{\n",
       "            console.log([gd, 'removed!']);\n",
       "            Plotly.purge(gd);\n",
       "            observer.disconnect();\n",
       "        }}\n",
       "}});\n",
       "\n",
       "// Listen for the removal of the full notebook cells\n",
       "var notebookContainer = gd.closest('#notebook-container');\n",
       "if (notebookContainer) {{\n",
       "    x.observe(notebookContainer, {childList: true});\n",
       "}}\n",
       "\n",
       "// Listen for the clearing of the current output cell\n",
       "var outputEl = gd.closest('.output');\n",
       "if (outputEl) {{\n",
       "    x.observe(outputEl, {childList: true});\n",
       "}}\n",
       "\n",
       "                        })                };                });            </script>        </div>"
      ]
     },
     "metadata": {},
     "output_type": "display_data"
    }
   ],
   "source": [
    "x = list(broad_offenses.ofns_desc)\n",
    "y = list(broad_offenses['count'])\n",
    "\n",
    "fig = go.Figure(data=[\n",
    "    go.Bar(x=x, y=y,marker_color='#639fc0'),\n",
    "],layout=go.Layout(title=go.layout.Title(text=\"What's happening at Broad Channel?\"),xaxis = dict(\n",
    "      title=\"Offense descriptions\"),yaxis = dict(\n",
    "      title=\"Number of complaints 9/19 - 11/19\")))\n",
    "                \n",
    "fig.update_layout(barmode='group')\n",
    "fig.show()"
   ]
  },
  {
   "cell_type": "markdown",
   "id": "4780060e",
   "metadata": {},
   "source": [
    "We'll be able to see what's going on more easily without Broad Station."
   ]
  },
  {
   "cell_type": "code",
   "execution_count": 325,
   "id": "cb14230c",
   "metadata": {},
   "outputs": [
    {
     "data": {
      "application/vnd.plotly.v1+json": {
       "config": {
        "plotlyServerURL": "https://plot.ly"
       },
       "data": [
        {
         "marker": {
          "color": "#c43152"
         },
         "name": "Sex-related offenses against women",
         "orientation": "h",
         "type": "bar",
         "x": [
          5,
          4,
          3,
          2,
          2,
          2,
          2,
          2,
          2,
          2,
          2,
          2,
          2,
          2,
          1,
          1,
          1,
          1,
          1,
          1,
          1
         ],
         "y": [
          "74 ST-BROADWAY",
          "BEACH 98 ST",
          "149 ST-GRAND CONCOURSE",
          "BEACH 90 ST",
          "138 ST-GRAND CONCOURSE",
          "14 ST",
          "WEST 8 ST-NY AQUARIUM",
          "ALABAMA AV",
          "BOTANIC GARDEN",
          "HOYT-SCHERMERHORN",
          "42 ST-GRAND CENTRAL",
          "BROOKLYN BRIDGE-CITY HALL",
          "BEACH 60 ST",
          "LIBERTY AV",
          "JACKSON AV",
          "QUEENS PLAZA",
          "BEACH 67 ST",
          "BOROUGH HALL",
          "QUEENSBORO PLZ",
          "72 ST",
          "BEACH 25 ST"
         ]
        },
        {
         "marker": {
          "color": "#6ccfb2"
         },
         "name": "Total offenses",
         "orientation": "h",
         "type": "bar",
         "x": [
          17.67781380797966,
          15.812862946099948,
          12.5503043301496,
          10.111170975333518,
          9.461699168767502,
          9.381817359753134,
          8.988925643607077,
          8.521500728862284,
          8.042854987173683,
          8.034778351859439,
          7.8532647682909325,
          7.601388610812297,
          7.29141797041938,
          7.249996684452737,
          6.9746333540343,
          6.273677098665638,
          5.15883014219358,
          3.8535149507295183,
          3.253258553570748,
          2.6320447214354545,
          2.514640923077022
         ],
         "y": [
          "74 ST-BROADWAY",
          "BEACH 98 ST",
          "149 ST-GRAND CONCOURSE",
          "BEACH 90 ST",
          "138 ST-GRAND CONCOURSE",
          "14 ST",
          "WEST 8 ST-NY AQUARIUM",
          "ALABAMA AV",
          "BOTANIC GARDEN",
          "HOYT-SCHERMERHORN",
          "42 ST-GRAND CENTRAL",
          "BROOKLYN BRIDGE-CITY HALL",
          "BEACH 60 ST",
          "LIBERTY AV",
          "JACKSON AV",
          "QUEENS PLAZA",
          "BEACH 67 ST",
          "BOROUGH HALL",
          "QUEENSBORO PLZ",
          "72 ST",
          "BEACH 25 ST"
         ]
        }
       ],
       "layout": {
        "barmode": "group",
        "template": {
         "data": {
          "bar": [
           {
            "error_x": {
             "color": "#2a3f5f"
            },
            "error_y": {
             "color": "#2a3f5f"
            },
            "marker": {
             "line": {
              "color": "#E5ECF6",
              "width": 0.5
             },
             "pattern": {
              "fillmode": "overlay",
              "size": 10,
              "solidity": 0.2
             }
            },
            "type": "bar"
           }
          ],
          "barpolar": [
           {
            "marker": {
             "line": {
              "color": "#E5ECF6",
              "width": 0.5
             },
             "pattern": {
              "fillmode": "overlay",
              "size": 10,
              "solidity": 0.2
             }
            },
            "type": "barpolar"
           }
          ],
          "carpet": [
           {
            "aaxis": {
             "endlinecolor": "#2a3f5f",
             "gridcolor": "white",
             "linecolor": "white",
             "minorgridcolor": "white",
             "startlinecolor": "#2a3f5f"
            },
            "baxis": {
             "endlinecolor": "#2a3f5f",
             "gridcolor": "white",
             "linecolor": "white",
             "minorgridcolor": "white",
             "startlinecolor": "#2a3f5f"
            },
            "type": "carpet"
           }
          ],
          "choropleth": [
           {
            "colorbar": {
             "outlinewidth": 0,
             "ticks": ""
            },
            "type": "choropleth"
           }
          ],
          "contour": [
           {
            "colorbar": {
             "outlinewidth": 0,
             "ticks": ""
            },
            "colorscale": [
             [
              0,
              "#0d0887"
             ],
             [
              0.1111111111111111,
              "#46039f"
             ],
             [
              0.2222222222222222,
              "#7201a8"
             ],
             [
              0.3333333333333333,
              "#9c179e"
             ],
             [
              0.4444444444444444,
              "#bd3786"
             ],
             [
              0.5555555555555556,
              "#d8576b"
             ],
             [
              0.6666666666666666,
              "#ed7953"
             ],
             [
              0.7777777777777778,
              "#fb9f3a"
             ],
             [
              0.8888888888888888,
              "#fdca26"
             ],
             [
              1,
              "#f0f921"
             ]
            ],
            "type": "contour"
           }
          ],
          "contourcarpet": [
           {
            "colorbar": {
             "outlinewidth": 0,
             "ticks": ""
            },
            "type": "contourcarpet"
           }
          ],
          "heatmap": [
           {
            "colorbar": {
             "outlinewidth": 0,
             "ticks": ""
            },
            "colorscale": [
             [
              0,
              "#0d0887"
             ],
             [
              0.1111111111111111,
              "#46039f"
             ],
             [
              0.2222222222222222,
              "#7201a8"
             ],
             [
              0.3333333333333333,
              "#9c179e"
             ],
             [
              0.4444444444444444,
              "#bd3786"
             ],
             [
              0.5555555555555556,
              "#d8576b"
             ],
             [
              0.6666666666666666,
              "#ed7953"
             ],
             [
              0.7777777777777778,
              "#fb9f3a"
             ],
             [
              0.8888888888888888,
              "#fdca26"
             ],
             [
              1,
              "#f0f921"
             ]
            ],
            "type": "heatmap"
           }
          ],
          "heatmapgl": [
           {
            "colorbar": {
             "outlinewidth": 0,
             "ticks": ""
            },
            "colorscale": [
             [
              0,
              "#0d0887"
             ],
             [
              0.1111111111111111,
              "#46039f"
             ],
             [
              0.2222222222222222,
              "#7201a8"
             ],
             [
              0.3333333333333333,
              "#9c179e"
             ],
             [
              0.4444444444444444,
              "#bd3786"
             ],
             [
              0.5555555555555556,
              "#d8576b"
             ],
             [
              0.6666666666666666,
              "#ed7953"
             ],
             [
              0.7777777777777778,
              "#fb9f3a"
             ],
             [
              0.8888888888888888,
              "#fdca26"
             ],
             [
              1,
              "#f0f921"
             ]
            ],
            "type": "heatmapgl"
           }
          ],
          "histogram": [
           {
            "marker": {
             "pattern": {
              "fillmode": "overlay",
              "size": 10,
              "solidity": 0.2
             }
            },
            "type": "histogram"
           }
          ],
          "histogram2d": [
           {
            "colorbar": {
             "outlinewidth": 0,
             "ticks": ""
            },
            "colorscale": [
             [
              0,
              "#0d0887"
             ],
             [
              0.1111111111111111,
              "#46039f"
             ],
             [
              0.2222222222222222,
              "#7201a8"
             ],
             [
              0.3333333333333333,
              "#9c179e"
             ],
             [
              0.4444444444444444,
              "#bd3786"
             ],
             [
              0.5555555555555556,
              "#d8576b"
             ],
             [
              0.6666666666666666,
              "#ed7953"
             ],
             [
              0.7777777777777778,
              "#fb9f3a"
             ],
             [
              0.8888888888888888,
              "#fdca26"
             ],
             [
              1,
              "#f0f921"
             ]
            ],
            "type": "histogram2d"
           }
          ],
          "histogram2dcontour": [
           {
            "colorbar": {
             "outlinewidth": 0,
             "ticks": ""
            },
            "colorscale": [
             [
              0,
              "#0d0887"
             ],
             [
              0.1111111111111111,
              "#46039f"
             ],
             [
              0.2222222222222222,
              "#7201a8"
             ],
             [
              0.3333333333333333,
              "#9c179e"
             ],
             [
              0.4444444444444444,
              "#bd3786"
             ],
             [
              0.5555555555555556,
              "#d8576b"
             ],
             [
              0.6666666666666666,
              "#ed7953"
             ],
             [
              0.7777777777777778,
              "#fb9f3a"
             ],
             [
              0.8888888888888888,
              "#fdca26"
             ],
             [
              1,
              "#f0f921"
             ]
            ],
            "type": "histogram2dcontour"
           }
          ],
          "mesh3d": [
           {
            "colorbar": {
             "outlinewidth": 0,
             "ticks": ""
            },
            "type": "mesh3d"
           }
          ],
          "parcoords": [
           {
            "line": {
             "colorbar": {
              "outlinewidth": 0,
              "ticks": ""
             }
            },
            "type": "parcoords"
           }
          ],
          "pie": [
           {
            "automargin": true,
            "type": "pie"
           }
          ],
          "scatter": [
           {
            "marker": {
             "colorbar": {
              "outlinewidth": 0,
              "ticks": ""
             }
            },
            "type": "scatter"
           }
          ],
          "scatter3d": [
           {
            "line": {
             "colorbar": {
              "outlinewidth": 0,
              "ticks": ""
             }
            },
            "marker": {
             "colorbar": {
              "outlinewidth": 0,
              "ticks": ""
             }
            },
            "type": "scatter3d"
           }
          ],
          "scattercarpet": [
           {
            "marker": {
             "colorbar": {
              "outlinewidth": 0,
              "ticks": ""
             }
            },
            "type": "scattercarpet"
           }
          ],
          "scattergeo": [
           {
            "marker": {
             "colorbar": {
              "outlinewidth": 0,
              "ticks": ""
             }
            },
            "type": "scattergeo"
           }
          ],
          "scattergl": [
           {
            "marker": {
             "colorbar": {
              "outlinewidth": 0,
              "ticks": ""
             }
            },
            "type": "scattergl"
           }
          ],
          "scattermapbox": [
           {
            "marker": {
             "colorbar": {
              "outlinewidth": 0,
              "ticks": ""
             }
            },
            "type": "scattermapbox"
           }
          ],
          "scatterpolar": [
           {
            "marker": {
             "colorbar": {
              "outlinewidth": 0,
              "ticks": ""
             }
            },
            "type": "scatterpolar"
           }
          ],
          "scatterpolargl": [
           {
            "marker": {
             "colorbar": {
              "outlinewidth": 0,
              "ticks": ""
             }
            },
            "type": "scatterpolargl"
           }
          ],
          "scatterternary": [
           {
            "marker": {
             "colorbar": {
              "outlinewidth": 0,
              "ticks": ""
             }
            },
            "type": "scatterternary"
           }
          ],
          "surface": [
           {
            "colorbar": {
             "outlinewidth": 0,
             "ticks": ""
            },
            "colorscale": [
             [
              0,
              "#0d0887"
             ],
             [
              0.1111111111111111,
              "#46039f"
             ],
             [
              0.2222222222222222,
              "#7201a8"
             ],
             [
              0.3333333333333333,
              "#9c179e"
             ],
             [
              0.4444444444444444,
              "#bd3786"
             ],
             [
              0.5555555555555556,
              "#d8576b"
             ],
             [
              0.6666666666666666,
              "#ed7953"
             ],
             [
              0.7777777777777778,
              "#fb9f3a"
             ],
             [
              0.8888888888888888,
              "#fdca26"
             ],
             [
              1,
              "#f0f921"
             ]
            ],
            "type": "surface"
           }
          ],
          "table": [
           {
            "cells": {
             "fill": {
              "color": "#EBF0F8"
             },
             "line": {
              "color": "white"
             }
            },
            "header": {
             "fill": {
              "color": "#C8D4E3"
             },
             "line": {
              "color": "white"
             }
            },
            "type": "table"
           }
          ]
         },
         "layout": {
          "annotationdefaults": {
           "arrowcolor": "#2a3f5f",
           "arrowhead": 0,
           "arrowwidth": 1
          },
          "autotypenumbers": "strict",
          "coloraxis": {
           "colorbar": {
            "outlinewidth": 0,
            "ticks": ""
           }
          },
          "colorscale": {
           "diverging": [
            [
             0,
             "#8e0152"
            ],
            [
             0.1,
             "#c51b7d"
            ],
            [
             0.2,
             "#de77ae"
            ],
            [
             0.3,
             "#f1b6da"
            ],
            [
             0.4,
             "#fde0ef"
            ],
            [
             0.5,
             "#f7f7f7"
            ],
            [
             0.6,
             "#e6f5d0"
            ],
            [
             0.7,
             "#b8e186"
            ],
            [
             0.8,
             "#7fbc41"
            ],
            [
             0.9,
             "#4d9221"
            ],
            [
             1,
             "#276419"
            ]
           ],
           "sequential": [
            [
             0,
             "#0d0887"
            ],
            [
             0.1111111111111111,
             "#46039f"
            ],
            [
             0.2222222222222222,
             "#7201a8"
            ],
            [
             0.3333333333333333,
             "#9c179e"
            ],
            [
             0.4444444444444444,
             "#bd3786"
            ],
            [
             0.5555555555555556,
             "#d8576b"
            ],
            [
             0.6666666666666666,
             "#ed7953"
            ],
            [
             0.7777777777777778,
             "#fb9f3a"
            ],
            [
             0.8888888888888888,
             "#fdca26"
            ],
            [
             1,
             "#f0f921"
            ]
           ],
           "sequentialminus": [
            [
             0,
             "#0d0887"
            ],
            [
             0.1111111111111111,
             "#46039f"
            ],
            [
             0.2222222222222222,
             "#7201a8"
            ],
            [
             0.3333333333333333,
             "#9c179e"
            ],
            [
             0.4444444444444444,
             "#bd3786"
            ],
            [
             0.5555555555555556,
             "#d8576b"
            ],
            [
             0.6666666666666666,
             "#ed7953"
            ],
            [
             0.7777777777777778,
             "#fb9f3a"
            ],
            [
             0.8888888888888888,
             "#fdca26"
            ],
            [
             1,
             "#f0f921"
            ]
           ]
          },
          "colorway": [
           "#636efa",
           "#EF553B",
           "#00cc96",
           "#ab63fa",
           "#FFA15A",
           "#19d3f3",
           "#FF6692",
           "#B6E880",
           "#FF97FF",
           "#FECB52"
          ],
          "font": {
           "color": "#2a3f5f"
          },
          "geo": {
           "bgcolor": "white",
           "lakecolor": "white",
           "landcolor": "#E5ECF6",
           "showlakes": true,
           "showland": true,
           "subunitcolor": "white"
          },
          "hoverlabel": {
           "align": "left"
          },
          "hovermode": "closest",
          "mapbox": {
           "style": "light"
          },
          "paper_bgcolor": "white",
          "plot_bgcolor": "#E5ECF6",
          "polar": {
           "angularaxis": {
            "gridcolor": "white",
            "linecolor": "white",
            "ticks": ""
           },
           "bgcolor": "#E5ECF6",
           "radialaxis": {
            "gridcolor": "white",
            "linecolor": "white",
            "ticks": ""
           }
          },
          "scene": {
           "xaxis": {
            "backgroundcolor": "#E5ECF6",
            "gridcolor": "white",
            "gridwidth": 2,
            "linecolor": "white",
            "showbackground": true,
            "ticks": "",
            "zerolinecolor": "white"
           },
           "yaxis": {
            "backgroundcolor": "#E5ECF6",
            "gridcolor": "white",
            "gridwidth": 2,
            "linecolor": "white",
            "showbackground": true,
            "ticks": "",
            "zerolinecolor": "white"
           },
           "zaxis": {
            "backgroundcolor": "#E5ECF6",
            "gridcolor": "white",
            "gridwidth": 2,
            "linecolor": "white",
            "showbackground": true,
            "ticks": "",
            "zerolinecolor": "white"
           }
          },
          "shapedefaults": {
           "line": {
            "color": "#2a3f5f"
           }
          },
          "ternary": {
           "aaxis": {
            "gridcolor": "white",
            "linecolor": "white",
            "ticks": ""
           },
           "baxis": {
            "gridcolor": "white",
            "linecolor": "white",
            "ticks": ""
           },
           "bgcolor": "#E5ECF6",
           "caxis": {
            "gridcolor": "white",
            "linecolor": "white",
            "ticks": ""
           }
          },
          "title": {
           "x": 0.05
          },
          "xaxis": {
           "automargin": true,
           "gridcolor": "white",
           "linecolor": "white",
           "ticks": "",
           "title": {
            "standoff": 15
           },
           "zerolinecolor": "white",
           "zerolinewidth": 2
          },
          "yaxis": {
           "automargin": true,
           "gridcolor": "white",
           "linecolor": "white",
           "ticks": "",
           "title": {
            "standoff": 15
           },
           "zerolinecolor": "white",
           "zerolinewidth": 2
          }
         }
        },
        "title": {
         "text": "The Most Dangerous Subway Stations"
        },
        "xaxis": {
         "title": {
          "text": "Complaints per thousand subway entries"
         }
        }
       }
      },
      "text/html": [
       "<div>                            <div id=\"3dc56147-da07-4e6b-bdcc-4148974973cf\" class=\"plotly-graph-div\" style=\"height:525px; width:100%;\"></div>            <script type=\"text/javascript\">                require([\"plotly\"], function(Plotly) {                    window.PLOTLYENV=window.PLOTLYENV || {};                                    if (document.getElementById(\"3dc56147-da07-4e6b-bdcc-4148974973cf\")) {                    Plotly.newPlot(                        \"3dc56147-da07-4e6b-bdcc-4148974973cf\",                        [{\"marker\":{\"color\":\"#c43152\"},\"name\":\"Sex-related offenses against women\",\"orientation\":\"h\",\"x\":[5.0,4.0,3.0,2.0,2.0,2.0,2.0,2.0,2.0,2.0,2.0,2.0,2.0,2.0,1.0,1.0,1.0,1.0,1.0,1.0,1.0],\"y\":[\"74 ST-BROADWAY\",\"BEACH 98 ST\",\"149 ST-GRAND CONCOURSE\",\"BEACH 90 ST\",\"138 ST-GRAND CONCOURSE\",\"14 ST\",\"WEST 8 ST-NY AQUARIUM\",\"ALABAMA AV\",\"BOTANIC GARDEN\",\"HOYT-SCHERMERHORN\",\"42 ST-GRAND CENTRAL\",\"BROOKLYN BRIDGE-CITY HALL\",\"BEACH 60 ST\",\"LIBERTY AV\",\"JACKSON AV\",\"QUEENS PLAZA\",\"BEACH 67 ST\",\"BOROUGH HALL\",\"QUEENSBORO PLZ\",\"72 ST\",\"BEACH 25 ST\"],\"type\":\"bar\"},{\"marker\":{\"color\":\"#6ccfb2\"},\"name\":\"Total offenses\",\"orientation\":\"h\",\"x\":[17.67781380797966,15.812862946099948,12.5503043301496,10.111170975333518,9.461699168767502,9.381817359753134,8.988925643607077,8.521500728862284,8.042854987173683,8.034778351859439,7.8532647682909325,7.601388610812297,7.29141797041938,7.249996684452737,6.9746333540343,6.273677098665638,5.15883014219358,3.8535149507295183,3.253258553570748,2.6320447214354545,2.514640923077022],\"y\":[\"74 ST-BROADWAY\",\"BEACH 98 ST\",\"149 ST-GRAND CONCOURSE\",\"BEACH 90 ST\",\"138 ST-GRAND CONCOURSE\",\"14 ST\",\"WEST 8 ST-NY AQUARIUM\",\"ALABAMA AV\",\"BOTANIC GARDEN\",\"HOYT-SCHERMERHORN\",\"42 ST-GRAND CENTRAL\",\"BROOKLYN BRIDGE-CITY HALL\",\"BEACH 60 ST\",\"LIBERTY AV\",\"JACKSON AV\",\"QUEENS PLAZA\",\"BEACH 67 ST\",\"BOROUGH HALL\",\"QUEENSBORO PLZ\",\"72 ST\",\"BEACH 25 ST\"],\"type\":\"bar\"}],                        {\"title\":{\"text\":\"The Most Dangerous Subway Stations\"},\"xaxis\":{\"title\":{\"text\":\"Complaints per thousand subway entries\"}},\"template\":{\"data\":{\"bar\":[{\"error_x\":{\"color\":\"#2a3f5f\"},\"error_y\":{\"color\":\"#2a3f5f\"},\"marker\":{\"line\":{\"color\":\"#E5ECF6\",\"width\":0.5},\"pattern\":{\"fillmode\":\"overlay\",\"size\":10,\"solidity\":0.2}},\"type\":\"bar\"}],\"barpolar\":[{\"marker\":{\"line\":{\"color\":\"#E5ECF6\",\"width\":0.5},\"pattern\":{\"fillmode\":\"overlay\",\"size\":10,\"solidity\":0.2}},\"type\":\"barpolar\"}],\"carpet\":[{\"aaxis\":{\"endlinecolor\":\"#2a3f5f\",\"gridcolor\":\"white\",\"linecolor\":\"white\",\"minorgridcolor\":\"white\",\"startlinecolor\":\"#2a3f5f\"},\"baxis\":{\"endlinecolor\":\"#2a3f5f\",\"gridcolor\":\"white\",\"linecolor\":\"white\",\"minorgridcolor\":\"white\",\"startlinecolor\":\"#2a3f5f\"},\"type\":\"carpet\"}],\"choropleth\":[{\"colorbar\":{\"outlinewidth\":0,\"ticks\":\"\"},\"type\":\"choropleth\"}],\"contour\":[{\"colorbar\":{\"outlinewidth\":0,\"ticks\":\"\"},\"colorscale\":[[0.0,\"#0d0887\"],[0.1111111111111111,\"#46039f\"],[0.2222222222222222,\"#7201a8\"],[0.3333333333333333,\"#9c179e\"],[0.4444444444444444,\"#bd3786\"],[0.5555555555555556,\"#d8576b\"],[0.6666666666666666,\"#ed7953\"],[0.7777777777777778,\"#fb9f3a\"],[0.8888888888888888,\"#fdca26\"],[1.0,\"#f0f921\"]],\"type\":\"contour\"}],\"contourcarpet\":[{\"colorbar\":{\"outlinewidth\":0,\"ticks\":\"\"},\"type\":\"contourcarpet\"}],\"heatmap\":[{\"colorbar\":{\"outlinewidth\":0,\"ticks\":\"\"},\"colorscale\":[[0.0,\"#0d0887\"],[0.1111111111111111,\"#46039f\"],[0.2222222222222222,\"#7201a8\"],[0.3333333333333333,\"#9c179e\"],[0.4444444444444444,\"#bd3786\"],[0.5555555555555556,\"#d8576b\"],[0.6666666666666666,\"#ed7953\"],[0.7777777777777778,\"#fb9f3a\"],[0.8888888888888888,\"#fdca26\"],[1.0,\"#f0f921\"]],\"type\":\"heatmap\"}],\"heatmapgl\":[{\"colorbar\":{\"outlinewidth\":0,\"ticks\":\"\"},\"colorscale\":[[0.0,\"#0d0887\"],[0.1111111111111111,\"#46039f\"],[0.2222222222222222,\"#7201a8\"],[0.3333333333333333,\"#9c179e\"],[0.4444444444444444,\"#bd3786\"],[0.5555555555555556,\"#d8576b\"],[0.6666666666666666,\"#ed7953\"],[0.7777777777777778,\"#fb9f3a\"],[0.8888888888888888,\"#fdca26\"],[1.0,\"#f0f921\"]],\"type\":\"heatmapgl\"}],\"histogram\":[{\"marker\":{\"pattern\":{\"fillmode\":\"overlay\",\"size\":10,\"solidity\":0.2}},\"type\":\"histogram\"}],\"histogram2d\":[{\"colorbar\":{\"outlinewidth\":0,\"ticks\":\"\"},\"colorscale\":[[0.0,\"#0d0887\"],[0.1111111111111111,\"#46039f\"],[0.2222222222222222,\"#7201a8\"],[0.3333333333333333,\"#9c179e\"],[0.4444444444444444,\"#bd3786\"],[0.5555555555555556,\"#d8576b\"],[0.6666666666666666,\"#ed7953\"],[0.7777777777777778,\"#fb9f3a\"],[0.8888888888888888,\"#fdca26\"],[1.0,\"#f0f921\"]],\"type\":\"histogram2d\"}],\"histogram2dcontour\":[{\"colorbar\":{\"outlinewidth\":0,\"ticks\":\"\"},\"colorscale\":[[0.0,\"#0d0887\"],[0.1111111111111111,\"#46039f\"],[0.2222222222222222,\"#7201a8\"],[0.3333333333333333,\"#9c179e\"],[0.4444444444444444,\"#bd3786\"],[0.5555555555555556,\"#d8576b\"],[0.6666666666666666,\"#ed7953\"],[0.7777777777777778,\"#fb9f3a\"],[0.8888888888888888,\"#fdca26\"],[1.0,\"#f0f921\"]],\"type\":\"histogram2dcontour\"}],\"mesh3d\":[{\"colorbar\":{\"outlinewidth\":0,\"ticks\":\"\"},\"type\":\"mesh3d\"}],\"parcoords\":[{\"line\":{\"colorbar\":{\"outlinewidth\":0,\"ticks\":\"\"}},\"type\":\"parcoords\"}],\"pie\":[{\"automargin\":true,\"type\":\"pie\"}],\"scatter\":[{\"marker\":{\"colorbar\":{\"outlinewidth\":0,\"ticks\":\"\"}},\"type\":\"scatter\"}],\"scatter3d\":[{\"line\":{\"colorbar\":{\"outlinewidth\":0,\"ticks\":\"\"}},\"marker\":{\"colorbar\":{\"outlinewidth\":0,\"ticks\":\"\"}},\"type\":\"scatter3d\"}],\"scattercarpet\":[{\"marker\":{\"colorbar\":{\"outlinewidth\":0,\"ticks\":\"\"}},\"type\":\"scattercarpet\"}],\"scattergeo\":[{\"marker\":{\"colorbar\":{\"outlinewidth\":0,\"ticks\":\"\"}},\"type\":\"scattergeo\"}],\"scattergl\":[{\"marker\":{\"colorbar\":{\"outlinewidth\":0,\"ticks\":\"\"}},\"type\":\"scattergl\"}],\"scattermapbox\":[{\"marker\":{\"colorbar\":{\"outlinewidth\":0,\"ticks\":\"\"}},\"type\":\"scattermapbox\"}],\"scatterpolar\":[{\"marker\":{\"colorbar\":{\"outlinewidth\":0,\"ticks\":\"\"}},\"type\":\"scatterpolar\"}],\"scatterpolargl\":[{\"marker\":{\"colorbar\":{\"outlinewidth\":0,\"ticks\":\"\"}},\"type\":\"scatterpolargl\"}],\"scatterternary\":[{\"marker\":{\"colorbar\":{\"outlinewidth\":0,\"ticks\":\"\"}},\"type\":\"scatterternary\"}],\"surface\":[{\"colorbar\":{\"outlinewidth\":0,\"ticks\":\"\"},\"colorscale\":[[0.0,\"#0d0887\"],[0.1111111111111111,\"#46039f\"],[0.2222222222222222,\"#7201a8\"],[0.3333333333333333,\"#9c179e\"],[0.4444444444444444,\"#bd3786\"],[0.5555555555555556,\"#d8576b\"],[0.6666666666666666,\"#ed7953\"],[0.7777777777777778,\"#fb9f3a\"],[0.8888888888888888,\"#fdca26\"],[1.0,\"#f0f921\"]],\"type\":\"surface\"}],\"table\":[{\"cells\":{\"fill\":{\"color\":\"#EBF0F8\"},\"line\":{\"color\":\"white\"}},\"header\":{\"fill\":{\"color\":\"#C8D4E3\"},\"line\":{\"color\":\"white\"}},\"type\":\"table\"}]},\"layout\":{\"annotationdefaults\":{\"arrowcolor\":\"#2a3f5f\",\"arrowhead\":0,\"arrowwidth\":1},\"autotypenumbers\":\"strict\",\"coloraxis\":{\"colorbar\":{\"outlinewidth\":0,\"ticks\":\"\"}},\"colorscale\":{\"diverging\":[[0,\"#8e0152\"],[0.1,\"#c51b7d\"],[0.2,\"#de77ae\"],[0.3,\"#f1b6da\"],[0.4,\"#fde0ef\"],[0.5,\"#f7f7f7\"],[0.6,\"#e6f5d0\"],[0.7,\"#b8e186\"],[0.8,\"#7fbc41\"],[0.9,\"#4d9221\"],[1,\"#276419\"]],\"sequential\":[[0.0,\"#0d0887\"],[0.1111111111111111,\"#46039f\"],[0.2222222222222222,\"#7201a8\"],[0.3333333333333333,\"#9c179e\"],[0.4444444444444444,\"#bd3786\"],[0.5555555555555556,\"#d8576b\"],[0.6666666666666666,\"#ed7953\"],[0.7777777777777778,\"#fb9f3a\"],[0.8888888888888888,\"#fdca26\"],[1.0,\"#f0f921\"]],\"sequentialminus\":[[0.0,\"#0d0887\"],[0.1111111111111111,\"#46039f\"],[0.2222222222222222,\"#7201a8\"],[0.3333333333333333,\"#9c179e\"],[0.4444444444444444,\"#bd3786\"],[0.5555555555555556,\"#d8576b\"],[0.6666666666666666,\"#ed7953\"],[0.7777777777777778,\"#fb9f3a\"],[0.8888888888888888,\"#fdca26\"],[1.0,\"#f0f921\"]]},\"colorway\":[\"#636efa\",\"#EF553B\",\"#00cc96\",\"#ab63fa\",\"#FFA15A\",\"#19d3f3\",\"#FF6692\",\"#B6E880\",\"#FF97FF\",\"#FECB52\"],\"font\":{\"color\":\"#2a3f5f\"},\"geo\":{\"bgcolor\":\"white\",\"lakecolor\":\"white\",\"landcolor\":\"#E5ECF6\",\"showlakes\":true,\"showland\":true,\"subunitcolor\":\"white\"},\"hoverlabel\":{\"align\":\"left\"},\"hovermode\":\"closest\",\"mapbox\":{\"style\":\"light\"},\"paper_bgcolor\":\"white\",\"plot_bgcolor\":\"#E5ECF6\",\"polar\":{\"angularaxis\":{\"gridcolor\":\"white\",\"linecolor\":\"white\",\"ticks\":\"\"},\"bgcolor\":\"#E5ECF6\",\"radialaxis\":{\"gridcolor\":\"white\",\"linecolor\":\"white\",\"ticks\":\"\"}},\"scene\":{\"xaxis\":{\"backgroundcolor\":\"#E5ECF6\",\"gridcolor\":\"white\",\"gridwidth\":2,\"linecolor\":\"white\",\"showbackground\":true,\"ticks\":\"\",\"zerolinecolor\":\"white\"},\"yaxis\":{\"backgroundcolor\":\"#E5ECF6\",\"gridcolor\":\"white\",\"gridwidth\":2,\"linecolor\":\"white\",\"showbackground\":true,\"ticks\":\"\",\"zerolinecolor\":\"white\"},\"zaxis\":{\"backgroundcolor\":\"#E5ECF6\",\"gridcolor\":\"white\",\"gridwidth\":2,\"linecolor\":\"white\",\"showbackground\":true,\"ticks\":\"\",\"zerolinecolor\":\"white\"}},\"shapedefaults\":{\"line\":{\"color\":\"#2a3f5f\"}},\"ternary\":{\"aaxis\":{\"gridcolor\":\"white\",\"linecolor\":\"white\",\"ticks\":\"\"},\"baxis\":{\"gridcolor\":\"white\",\"linecolor\":\"white\",\"ticks\":\"\"},\"bgcolor\":\"#E5ECF6\",\"caxis\":{\"gridcolor\":\"white\",\"linecolor\":\"white\",\"ticks\":\"\"}},\"title\":{\"x\":0.05},\"xaxis\":{\"automargin\":true,\"gridcolor\":\"white\",\"linecolor\":\"white\",\"ticks\":\"\",\"title\":{\"standoff\":15},\"zerolinecolor\":\"white\",\"zerolinewidth\":2},\"yaxis\":{\"automargin\":true,\"gridcolor\":\"white\",\"linecolor\":\"white\",\"ticks\":\"\",\"title\":{\"standoff\":15},\"zerolinecolor\":\"white\",\"zerolinewidth\":2}}},\"barmode\":\"group\"},                        {\"responsive\": true}                    ).then(function(){\n",
       "                            \n",
       "var gd = document.getElementById('3dc56147-da07-4e6b-bdcc-4148974973cf');\n",
       "var x = new MutationObserver(function (mutations, observer) {{\n",
       "        var display = window.getComputedStyle(gd).display;\n",
       "        if (!display || display === 'none') {{\n",
       "            console.log([gd, 'removed!']);\n",
       "            Plotly.purge(gd);\n",
       "            observer.disconnect();\n",
       "        }}\n",
       "}});\n",
       "\n",
       "// Listen for the removal of the full notebook cells\n",
       "var notebookContainer = gd.closest('#notebook-container');\n",
       "if (notebookContainer) {{\n",
       "    x.observe(notebookContainer, {childList: true});\n",
       "}}\n",
       "\n",
       "// Listen for the clearing of the current output cell\n",
       "var outputEl = gd.closest('.output');\n",
       "if (outputEl) {{\n",
       "    x.observe(outputEl, {childList: true});\n",
       "}}\n",
       "\n",
       "                        })                };                });            </script>        </div>"
      ]
     },
     "metadata": {},
     "output_type": "display_data"
    }
   ],
   "source": [
    "dangerous_data = (f_sorted_df.percentage > .013)&(f_sorted_df.percentage < .1)\n",
    "y = round(f_sorted_df[dangerous_data]['percentage']*100)\n",
    "x = list(f_sorted_df[dangerous_data]['station'])\n",
    "y_2 = sorted_df[sorted_df.station.isin(x)]['percentage']*100\n",
    "\n",
    "fig = go.Figure(data=[\n",
    "    go.Bar(name='Sex-related offenses against women', x=y, y=x, orientation='h',marker_color=\"#c43152\"),\n",
    "    go.Bar(name='Total offenses', x=y_2, y=x, orientation='h',marker_color=\"#6ccfb2\")\n",
    "],layout=go.Layout(title=go.layout.Title(text=\"The Most Dangerous Subway Stations\"),xaxis = dict(\n",
    "      title=\"Complaints per thousand subway entries\")))\n",
    "                \n",
    "fig.update_layout(barmode='group')\n",
    "fig.show()"
   ]
  },
  {
   "cell_type": "markdown",
   "id": "fdb5b6f0",
   "metadata": {},
   "source": [
    "Just for fun, let's see how the stations would be ranked if we were only looking at raw complaint numbers, without factoring in traffic. (It's about what you'd expect!)"
   ]
  },
  {
   "cell_type": "code",
   "execution_count": 547,
   "id": "554671c7",
   "metadata": {},
   "outputs": [
    {
     "data": {
      "text/html": [
       "<div>\n",
       "<style scoped>\n",
       "    .dataframe tbody tr th:only-of-type {\n",
       "        vertical-align: middle;\n",
       "    }\n",
       "\n",
       "    .dataframe tbody tr th {\n",
       "        vertical-align: top;\n",
       "    }\n",
       "\n",
       "    .dataframe thead th {\n",
       "        text-align: right;\n",
       "    }\n",
       "</style>\n",
       "<table border=\"1\" class=\"dataframe\">\n",
       "  <thead>\n",
       "    <tr style=\"text-align: right;\">\n",
       "      <th></th>\n",
       "      <th>station</th>\n",
       "      <th>complaint_counts</th>\n",
       "      <th>daily_entries</th>\n",
       "      <th>percentage</th>\n",
       "    </tr>\n",
       "  </thead>\n",
       "  <tbody>\n",
       "    <tr>\n",
       "      <th>30</th>\n",
       "      <td>42 ST-GRAND CENTRAL</td>\n",
       "      <td>1125</td>\n",
       "      <td>12463012.0</td>\n",
       "      <td>0.009027</td>\n",
       "    </tr>\n",
       "    <tr>\n",
       "      <th>6</th>\n",
       "      <td>14 ST</td>\n",
       "      <td>752</td>\n",
       "      <td>6203183.0</td>\n",
       "      <td>0.012123</td>\n",
       "    </tr>\n",
       "    <tr>\n",
       "      <th>32</th>\n",
       "      <td>42 ST-TIMES SQUARE</td>\n",
       "      <td>393</td>\n",
       "      <td>8106409.0</td>\n",
       "      <td>0.004848</td>\n",
       "    </tr>\n",
       "    <tr>\n",
       "      <th>40</th>\n",
       "      <td>72 ST</td>\n",
       "      <td>299</td>\n",
       "      <td>4373026.0</td>\n",
       "      <td>0.006837</td>\n",
       "    </tr>\n",
       "    <tr>\n",
       "      <th>7</th>\n",
       "      <td>14 ST-UNION SQUARE</td>\n",
       "      <td>263</td>\n",
       "      <td>8168533.0</td>\n",
       "      <td>0.003220</td>\n",
       "    </tr>\n",
       "    <tr>\n",
       "      <th>34</th>\n",
       "      <td>59 ST-COLUMBUS CIRCLE</td>\n",
       "      <td>247</td>\n",
       "      <td>7392924.0</td>\n",
       "      <td>0.003341</td>\n",
       "    </tr>\n",
       "    <tr>\n",
       "      <th>61</th>\n",
       "      <td>BOROUGH HALL</td>\n",
       "      <td>187</td>\n",
       "      <td>2650800.0</td>\n",
       "      <td>0.007054</td>\n",
       "    </tr>\n",
       "    <tr>\n",
       "      <th>9</th>\n",
       "      <td>149 ST-GRAND CONCOURSE</td>\n",
       "      <td>176</td>\n",
       "      <td>1058499.0</td>\n",
       "      <td>0.016627</td>\n",
       "    </tr>\n",
       "    <tr>\n",
       "      <th>27</th>\n",
       "      <td>34 ST-PENN STATION</td>\n",
       "      <td>175</td>\n",
       "      <td>13268516.0</td>\n",
       "      <td>0.001319</td>\n",
       "    </tr>\n",
       "    <tr>\n",
       "      <th>31</th>\n",
       "      <td>42 ST-PORT AUTH</td>\n",
       "      <td>162</td>\n",
       "      <td>8333713.0</td>\n",
       "      <td>0.001944</td>\n",
       "    </tr>\n",
       "    <tr>\n",
       "      <th>11</th>\n",
       "      <td>161 ST-YANKEE STADIUM</td>\n",
       "      <td>143</td>\n",
       "      <td>2351049.0</td>\n",
       "      <td>0.006082</td>\n",
       "    </tr>\n",
       "    <tr>\n",
       "      <th>20</th>\n",
       "      <td>23 ST</td>\n",
       "      <td>135</td>\n",
       "      <td>11213115.0</td>\n",
       "      <td>0.001204</td>\n",
       "    </tr>\n",
       "    <tr>\n",
       "      <th>68</th>\n",
       "      <td>BROOKLYN BRIDGE-CITY HALL</td>\n",
       "      <td>133</td>\n",
       "      <td>1504217.0</td>\n",
       "      <td>0.008842</td>\n",
       "    </tr>\n",
       "    <tr>\n",
       "      <th>38</th>\n",
       "      <td>68 ST-HUNTER COLLEGE</td>\n",
       "      <td>127</td>\n",
       "      <td>1915359.0</td>\n",
       "      <td>0.006631</td>\n",
       "    </tr>\n",
       "    <tr>\n",
       "      <th>50</th>\n",
       "      <td>ATLANTIC AV</td>\n",
       "      <td>113</td>\n",
       "      <td>3822836.0</td>\n",
       "      <td>0.002956</td>\n",
       "    </tr>\n",
       "    <tr>\n",
       "      <th>113</th>\n",
       "      <td>W 4 ST-WASH SQ</td>\n",
       "      <td>93</td>\n",
       "      <td>4451116.0</td>\n",
       "      <td>0.002089</td>\n",
       "    </tr>\n",
       "    <tr>\n",
       "      <th>87</th>\n",
       "      <td>HOYT-SCHERMERHORN</td>\n",
       "      <td>92</td>\n",
       "      <td>963291.0</td>\n",
       "      <td>0.009551</td>\n",
       "    </tr>\n",
       "    <tr>\n",
       "      <th>103</th>\n",
       "      <td>QUEENSBORO PLZ</td>\n",
       "      <td>92</td>\n",
       "      <td>1320872.0</td>\n",
       "      <td>0.006965</td>\n",
       "    </tr>\n",
       "    <tr>\n",
       "      <th>102</th>\n",
       "      <td>QUEENS PLAZA</td>\n",
       "      <td>89</td>\n",
       "      <td>1180355.0</td>\n",
       "      <td>0.007540</td>\n",
       "    </tr>\n",
       "    <tr>\n",
       "      <th>25</th>\n",
       "      <td>33 ST</td>\n",
       "      <td>89</td>\n",
       "      <td>4371297.0</td>\n",
       "      <td>0.002036</td>\n",
       "    </tr>\n",
       "  </tbody>\n",
       "</table>\n",
       "</div>"
      ],
      "text/plain": [
       "                       station  complaint_counts  daily_entries  percentage\n",
       "30         42 ST-GRAND CENTRAL              1125     12463012.0    0.009027\n",
       "6                        14 ST               752      6203183.0    0.012123\n",
       "32          42 ST-TIMES SQUARE               393      8106409.0    0.004848\n",
       "40                       72 ST               299      4373026.0    0.006837\n",
       "7           14 ST-UNION SQUARE               263      8168533.0    0.003220\n",
       "34       59 ST-COLUMBUS CIRCLE               247      7392924.0    0.003341\n",
       "61                BOROUGH HALL               187      2650800.0    0.007054\n",
       "9       149 ST-GRAND CONCOURSE               176      1058499.0    0.016627\n",
       "27          34 ST-PENN STATION               175     13268516.0    0.001319\n",
       "31             42 ST-PORT AUTH               162      8333713.0    0.001944\n",
       "11       161 ST-YANKEE STADIUM               143      2351049.0    0.006082\n",
       "20                       23 ST               135     11213115.0    0.001204\n",
       "68   BROOKLYN BRIDGE-CITY HALL               133      1504217.0    0.008842\n",
       "38        68 ST-HUNTER COLLEGE               127      1915359.0    0.006631\n",
       "50                 ATLANTIC AV               113      3822836.0    0.002956\n",
       "113             W 4 ST-WASH SQ                93      4451116.0    0.002089\n",
       "87           HOYT-SCHERMERHORN                92       963291.0    0.009551\n",
       "103             QUEENSBORO PLZ                92      1320872.0    0.006965\n",
       "102               QUEENS PLAZA                89      1180355.0    0.007540\n",
       "25                       33 ST                89      4371297.0    0.002036"
      ]
     },
     "execution_count": 547,
     "metadata": {},
     "output_type": "execute_result"
    }
   ],
   "source": [
    "merged_df.sort_values(['complaint_counts'],ascending=False).head(20)"
   ]
  },
  {
   "cell_type": "code",
   "execution_count": null,
   "id": "c39fb868",
   "metadata": {},
   "outputs": [],
   "source": []
  }
 ],
 "metadata": {
  "kernelspec": {
   "display_name": "Python 3",
   "language": "python",
   "name": "python3"
  },
  "language_info": {
   "codemirror_mode": {
    "name": "ipython",
    "version": 3
   },
   "file_extension": ".py",
   "mimetype": "text/x-python",
   "name": "python",
   "nbconvert_exporter": "python",
   "pygments_lexer": "ipython3",
   "version": "3.8.8"
  }
 },
 "nbformat": 4,
 "nbformat_minor": 5
}
